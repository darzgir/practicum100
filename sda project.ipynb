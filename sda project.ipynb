{
 "cells": [
  {
   "cell_type": "markdown",
   "metadata": {},
   "source": [
    "<div style=\"border:solid green 2px; padding: 20px\"> <h1 style=\"color:green; margin-bottom:20px\">Reviewer's comment v1</h1>\n",
    "\n",
    "Hello Kaveh, my name is Dmitrii. I'm going to review your project! Nice to meet you! 🙌\n",
    "\n",
    "You can find my comments under the heading **«Review»**. I will categorize my comments in green, blue or red boxes like this:\n",
    "\n",
    "<div class=\"alert alert-success\">\n",
    "    <b>Success:</b> if everything is done successfully\n",
    "</div>\n",
    "<div class=\"alert alert-warning\">\n",
    "    <b>Remarks:</b> if I can give some recommendations or ways to improve the project\n",
    "</div>\n",
    "<div class=\"alert alert-danger\">\n",
    "    <b>Needs fixing:</b> if the block requires some corrections. Work can't be accepted with the red comments\n",
    "</div>\n",
    "\n",
    "Please don't remove my comments :) If you have any questions don't hesitate to respond to my comments in a different section. \n",
    "<div class=\"alert alert-info\"> <b>Student comments:</b> For example like this</div>    \n"
   ]
  },
  {
   "cell_type": "markdown",
   "metadata": {},
   "source": [
    "<div style=\"border:solid green 2px; padding: 20px\">\n",
    "<b>Reviewer's comment v1</b>\n",
    "    \n",
    "<b>Overall Feedback</b> \n",
    "    \n",
    "Overall well done! I can see that a lot of effort has been made! Your project already looks really good and you accomplished impressive results.\n",
    "\n",
    "And there is only one comments/areas left to fix that will help you to make your project even better:\n",
    "\n",
    "- Extend a little bit your overall conclusions (answer main question of the project).\n",
    "\n",
    "And of course, if you have any questions along the way, remember that you can always reach out to your tutor for any clarification.\n",
    "</div>"
   ]
  },
  {
   "cell_type": "markdown",
   "metadata": {},
   "source": [
    "<div style=\"border:solid Chocolate 2px; padding: 40px\">\n",
    "<font color='Purple'>\n",
    "Hi Dmitrii! first of all, thank you for your kind and encouraging comments! I tried to correct my code in the places where it was necessary according to your instructions. for personal future references I didn't delete my previous code, I just commented it out. I hope my work meets your standards this time, and if not, I would be more than happy to hear from you again.\n",
    "\n",
    "p.s.: I accidentally deleted one of your recommendations for adding titles to my histograms and didn't know how to bring it back.sorry about that. anyhow, I added the titles wherever they needed."
   ]
  },
  {
   "cell_type": "markdown",
   "metadata": {},
   "source": [
    "<div style=\"border:solid green 2px; padding: 20px\">\n",
    "<b>Reviewer's comment v2:</b>\n",
    "    \n",
    "<b>Overall Feedback</b> \n",
    "    \n",
    "Hi Kaveh, no worries about comments and thank you for submitting your project with all corrections! \n",
    "- Now everything is perfect. No critial issues left, so your project has been accepted! \n",
    "- Wish you cool projects in the next sprints! ☘️\n",
    "    \n",
    "PS: As a last thing, I can recommend cool lectures on stat analysis here: https://www.youtube.com/playlist?list=PL2SOU6wwxB0uwwH80KTQ6ht66KWxbzTIo 🙌\n",
    "\n",
    "</div>"
   ]
  },
  {
   "cell_type": "markdown",
   "metadata": {},
   "source": [
    "**Megaline is asking us to analyze the available raw data and is waiting for our expertise to decide which of their prepaid plans is more profitable and when and where they should allocate their resources for expansion. In this project, we will use standard data analysis tools and methods and a little out-of-the-box thinking to present and share our ideas. We hope that the combination of necessary explanations and step-by-step construction of the project will help them make the right decisions for their business.**"
   ]
  },
  {
   "cell_type": "markdown",
   "metadata": {},
   "source": [
    "# Description of the data\n",
    "Megaline rounds seconds up to minutes, and megabytes to gigabytes. For calls, each individual call is rounded up: even if the call lasted just one second, it will be counted as one minute. For web traffic, individual web sessions are not rounded up. Instead, the total for the month is rounded up.\n",
    "\n",
    "**The users table (data on users):**\n",
    "\n",
    "   - `user_id` — unique user identifier\n",
    "   - `first_name` — user's name\n",
    "   - `last_name` — user's last name\n",
    "   - `age` — user's age (years)\n",
    "   - `reg_date` — subscription date (dd, mm, yy)\n",
    "   - `churn_date` — the date the user stopped using the service\n",
    "   - `city` — user's city of residence\n",
    "   - `plan` — calling plan name\n",
    "\n",
    " **The calls table (data on calls):**\n",
    "\n",
    "   - `id` — unique call identifier\n",
    "   - `call_date` — call date\n",
    "   - `duration` — call duration (in minutes)\n",
    "   - `user_id` — the identifier of the user making the call\n",
    "\n",
    " **The messages table (data on texts):**\n",
    "\n",
    "   - `id` — unique text message identifier\n",
    "   - `message_date` — text message date\n",
    "   - `user_id` — the identifier of the user sending the text\n",
    "\n",
    " **The internet table (data on web sessions):**\n",
    "\n",
    "  - `id` — unique session identifier\n",
    "  - `mb_used` — the volume of data spent during the session (in megabytes)\n",
    "  - `session_date` — web session date\n",
    "  - `user_id` — user identifier\n",
    "\n",
    " **The plans table (data on the plans):**\n",
    "\n",
    "  - `plan_name` — calling plan name\n",
    "  - `usd_monthly_fee` — monthly charge in US dollars\n",
    "  - `minutes_included` — monthly minute allowance\n",
    "  - `messages_included` — monthly text allowance\n",
    "  - `mb_per_month_included` — data volume allowance (in megabytes)\n",
    "  - `usd_per_minute` — price per minute after exceeding the package limits\n",
    "  - `usd_per_message` — price per text after exceeding the package limits\n",
    "  - `usd_per_gb` — price per extra gigabyte of data after exceeding the package limits (1 GB = 1024 megabytes)"
   ]
  },
  {
   "cell_type": "markdown",
   "metadata": {},
   "source": [
    "<div class=\"alert alert-block alert-success\">\n",
    "<b>Reviewer's comment v1</b>\n",
    " \n",
    "- Great that you added additional information about the project goal and tasks. It gives an overview of what you are going to achieve in this project. \n",
    "- Also, this introduction potentially can be used as a Readme file in your portfolio on Github. One example of a nice introduction for a data analysis project can be found here: https://github.com/CICIFLY/Data-Analytics-Projects/blob/master/AB%20Testing%20Result%20Analyze/readme.md\n",
    "</div>"
   ]
  },
  {
   "cell_type": "markdown",
   "metadata": {},
   "source": [
    "update the library"
   ]
  },
  {
   "cell_type": "code",
   "execution_count": 1,
   "metadata": {},
   "outputs": [
    {
     "name": "stdout",
     "output_type": "stream",
     "text": [
      "Defaulting to user installation because normal site-packages is not writeable\n",
      "Collecting seaborn\n",
      "  Downloading seaborn-0.11.2-py3-none-any.whl (292 kB)\n",
      "\u001b[K     |████████████████████████████████| 292 kB 1.1 MB/s eta 0:00:01\n",
      "\u001b[?25hRequirement already satisfied, skipping upgrade: numpy>=1.15 in /opt/conda/lib/python3.7/site-packages (from seaborn) (1.19.5)\n",
      "Requirement already satisfied, skipping upgrade: scipy>=1.0 in /opt/conda/lib/python3.7/site-packages (from seaborn) (1.4.1)\n",
      "Requirement already satisfied, skipping upgrade: matplotlib>=2.2 in /opt/conda/lib/python3.7/site-packages (from seaborn) (3.1.0)\n",
      "Requirement already satisfied, skipping upgrade: pandas>=0.23 in /opt/conda/lib/python3.7/site-packages (from seaborn) (0.25.1)\n",
      "Requirement already satisfied, skipping upgrade: python-dateutil>=2.1 in /opt/conda/lib/python3.7/site-packages (from matplotlib>=2.2->seaborn) (2.8.1)\n",
      "Requirement already satisfied, skipping upgrade: cycler>=0.10 in /opt/conda/lib/python3.7/site-packages (from matplotlib>=2.2->seaborn) (0.10.0)\n",
      "Requirement already satisfied, skipping upgrade: pyparsing!=2.0.4,!=2.1.2,!=2.1.6,>=2.0.1 in /opt/conda/lib/python3.7/site-packages (from matplotlib>=2.2->seaborn) (2.4.7)\n",
      "Requirement already satisfied, skipping upgrade: kiwisolver>=1.0.1 in /opt/conda/lib/python3.7/site-packages (from matplotlib>=2.2->seaborn) (1.3.1)\n",
      "Requirement already satisfied, skipping upgrade: pytz>=2017.2 in /opt/conda/lib/python3.7/site-packages (from pandas>=0.23->seaborn) (2021.1)\n",
      "Requirement already satisfied, skipping upgrade: six>=1.5 in /opt/conda/lib/python3.7/site-packages (from python-dateutil>=2.1->matplotlib>=2.2->seaborn) (1.15.0)\n",
      "Installing collected packages: seaborn\n",
      "Successfully installed seaborn-0.11.2\n",
      "Note: you may need to restart the kernel to use updated packages.\n"
     ]
    }
   ],
   "source": [
    "pip install -U seaborn"
   ]
  },
  {
   "cell_type": "code",
   "execution_count": 2,
   "metadata": {},
   "outputs": [],
   "source": [
    "# needed libraries\n",
    "import pandas as pd\n",
    "import matplotlib.pyplot as plt\n",
    "import numpy as np    \n",
    "import seaborn as sns\n",
    "\n",
    "plt.style.use('seaborn')"
   ]
  },
  {
   "cell_type": "code",
   "execution_count": 3,
   "metadata": {},
   "outputs": [],
   "source": [
    "#reading the data frames\n",
    "df_plans = pd.read_csv('/datasets/megaline_plans.csv')\n",
    "df_users = pd.read_csv('/datasets/megaline_users.csv')\n",
    "df_calls = pd.read_csv('/datasets/megaline_calls.csv') \n",
    "df_internet = pd.read_csv('/datasets/megaline_internet.csv') \n",
    "df_messages = pd.read_csv('/datasets/megaline_messages.csv') "
   ]
  },
  {
   "cell_type": "markdown",
   "metadata": {},
   "source": [
    "<div class=\"alert alert-block alert-success\">\n",
    "<b>Reviewer's comment v1:</b>\n",
    "    \n",
    "Great that all imports and data load are grouped in different cells before the project and you applied try/except."
   ]
  },
  {
   "cell_type": "code",
   "execution_count": 4,
   "metadata": {},
   "outputs": [
    {
     "data": {
      "text/html": [
       "<div>\n",
       "<style scoped>\n",
       "    .dataframe tbody tr th:only-of-type {\n",
       "        vertical-align: middle;\n",
       "    }\n",
       "\n",
       "    .dataframe tbody tr th {\n",
       "        vertical-align: top;\n",
       "    }\n",
       "\n",
       "    .dataframe thead th {\n",
       "        text-align: right;\n",
       "    }\n",
       "</style>\n",
       "<table border=\"1\" class=\"dataframe\">\n",
       "  <thead>\n",
       "    <tr style=\"text-align: right;\">\n",
       "      <th></th>\n",
       "      <th>messages_included</th>\n",
       "      <th>mb_per_month_included</th>\n",
       "      <th>minutes_included</th>\n",
       "      <th>usd_monthly_pay</th>\n",
       "      <th>usd_per_gb</th>\n",
       "      <th>usd_per_message</th>\n",
       "      <th>usd_per_minute</th>\n",
       "      <th>plan_name</th>\n",
       "    </tr>\n",
       "  </thead>\n",
       "  <tbody>\n",
       "    <tr>\n",
       "      <td>0</td>\n",
       "      <td>50</td>\n",
       "      <td>15360</td>\n",
       "      <td>500</td>\n",
       "      <td>20</td>\n",
       "      <td>10</td>\n",
       "      <td>0.03</td>\n",
       "      <td>0.03</td>\n",
       "      <td>surf</td>\n",
       "    </tr>\n",
       "    <tr>\n",
       "      <td>1</td>\n",
       "      <td>1000</td>\n",
       "      <td>30720</td>\n",
       "      <td>3000</td>\n",
       "      <td>70</td>\n",
       "      <td>7</td>\n",
       "      <td>0.01</td>\n",
       "      <td>0.01</td>\n",
       "      <td>ultimate</td>\n",
       "    </tr>\n",
       "  </tbody>\n",
       "</table>\n",
       "</div>"
      ],
      "text/plain": [
       "   messages_included  mb_per_month_included  minutes_included  \\\n",
       "0                 50                  15360               500   \n",
       "1               1000                  30720              3000   \n",
       "\n",
       "   usd_monthly_pay  usd_per_gb  usd_per_message  usd_per_minute plan_name  \n",
       "0               20          10             0.03            0.03      surf  \n",
       "1               70           7             0.01            0.01  ultimate  "
      ]
     },
     "execution_count": 4,
     "metadata": {},
     "output_type": "execute_result"
    }
   ],
   "source": [
    "#general info of the first data file\n",
    "df_plans.head()"
   ]
  },
  {
   "cell_type": "code",
   "execution_count": 5,
   "metadata": {},
   "outputs": [
    {
     "name": "stdout",
     "output_type": "stream",
     "text": [
      "<class 'pandas.core.frame.DataFrame'>\n",
      "RangeIndex: 2 entries, 0 to 1\n",
      "Data columns (total 8 columns):\n",
      "messages_included        2 non-null int64\n",
      "mb_per_month_included    2 non-null int64\n",
      "minutes_included         2 non-null int64\n",
      "usd_monthly_pay          2 non-null int64\n",
      "usd_per_gb               2 non-null int64\n",
      "usd_per_message          2 non-null float64\n",
      "usd_per_minute           2 non-null float64\n",
      "plan_name                2 non-null object\n",
      "dtypes: float64(2), int64(5), object(1)\n",
      "memory usage: 256.0+ bytes\n"
     ]
    }
   ],
   "source": [
    "df_plans.info()"
   ]
  },
  {
   "cell_type": "markdown",
   "metadata": {},
   "source": [
    "***We will not use this data set directly. Instead, we will later use the data from this table to create a function that will help us calculate the monthly turnover.***"
   ]
  },
  {
   "cell_type": "code",
   "execution_count": 6,
   "metadata": {},
   "outputs": [
    {
     "data": {
      "text/html": [
       "<div>\n",
       "<style scoped>\n",
       "    .dataframe tbody tr th:only-of-type {\n",
       "        vertical-align: middle;\n",
       "    }\n",
       "\n",
       "    .dataframe tbody tr th {\n",
       "        vertical-align: top;\n",
       "    }\n",
       "\n",
       "    .dataframe thead th {\n",
       "        text-align: right;\n",
       "    }\n",
       "</style>\n",
       "<table border=\"1\" class=\"dataframe\">\n",
       "  <thead>\n",
       "    <tr style=\"text-align: right;\">\n",
       "      <th></th>\n",
       "      <th>user_id</th>\n",
       "      <th>first_name</th>\n",
       "      <th>last_name</th>\n",
       "      <th>age</th>\n",
       "      <th>city</th>\n",
       "      <th>reg_date</th>\n",
       "      <th>plan</th>\n",
       "      <th>churn_date</th>\n",
       "    </tr>\n",
       "  </thead>\n",
       "  <tbody>\n",
       "    <tr>\n",
       "      <td>0</td>\n",
       "      <td>1000</td>\n",
       "      <td>Anamaria</td>\n",
       "      <td>Bauer</td>\n",
       "      <td>45</td>\n",
       "      <td>Atlanta-Sandy Springs-Roswell, GA MSA</td>\n",
       "      <td>2018-12-24</td>\n",
       "      <td>ultimate</td>\n",
       "      <td>NaN</td>\n",
       "    </tr>\n",
       "    <tr>\n",
       "      <td>1</td>\n",
       "      <td>1001</td>\n",
       "      <td>Mickey</td>\n",
       "      <td>Wilkerson</td>\n",
       "      <td>28</td>\n",
       "      <td>Seattle-Tacoma-Bellevue, WA MSA</td>\n",
       "      <td>2018-08-13</td>\n",
       "      <td>surf</td>\n",
       "      <td>NaN</td>\n",
       "    </tr>\n",
       "    <tr>\n",
       "      <td>2</td>\n",
       "      <td>1002</td>\n",
       "      <td>Carlee</td>\n",
       "      <td>Hoffman</td>\n",
       "      <td>36</td>\n",
       "      <td>Las Vegas-Henderson-Paradise, NV MSA</td>\n",
       "      <td>2018-10-21</td>\n",
       "      <td>surf</td>\n",
       "      <td>NaN</td>\n",
       "    </tr>\n",
       "    <tr>\n",
       "      <td>3</td>\n",
       "      <td>1003</td>\n",
       "      <td>Reynaldo</td>\n",
       "      <td>Jenkins</td>\n",
       "      <td>52</td>\n",
       "      <td>Tulsa, OK MSA</td>\n",
       "      <td>2018-01-28</td>\n",
       "      <td>surf</td>\n",
       "      <td>NaN</td>\n",
       "    </tr>\n",
       "    <tr>\n",
       "      <td>4</td>\n",
       "      <td>1004</td>\n",
       "      <td>Leonila</td>\n",
       "      <td>Thompson</td>\n",
       "      <td>40</td>\n",
       "      <td>Seattle-Tacoma-Bellevue, WA MSA</td>\n",
       "      <td>2018-05-23</td>\n",
       "      <td>surf</td>\n",
       "      <td>NaN</td>\n",
       "    </tr>\n",
       "  </tbody>\n",
       "</table>\n",
       "</div>"
      ],
      "text/plain": [
       "   user_id first_name  last_name  age                                   city  \\\n",
       "0     1000   Anamaria      Bauer   45  Atlanta-Sandy Springs-Roswell, GA MSA   \n",
       "1     1001     Mickey  Wilkerson   28        Seattle-Tacoma-Bellevue, WA MSA   \n",
       "2     1002     Carlee    Hoffman   36   Las Vegas-Henderson-Paradise, NV MSA   \n",
       "3     1003   Reynaldo    Jenkins   52                          Tulsa, OK MSA   \n",
       "4     1004    Leonila   Thompson   40        Seattle-Tacoma-Bellevue, WA MSA   \n",
       "\n",
       "     reg_date      plan churn_date  \n",
       "0  2018-12-24  ultimate        NaN  \n",
       "1  2018-08-13      surf        NaN  \n",
       "2  2018-10-21      surf        NaN  \n",
       "3  2018-01-28      surf        NaN  \n",
       "4  2018-05-23      surf        NaN  "
      ]
     },
     "execution_count": 6,
     "metadata": {},
     "output_type": "execute_result"
    }
   ],
   "source": [
    "#general info of the second data file\n",
    "df_users.head()"
   ]
  },
  {
   "cell_type": "code",
   "execution_count": 7,
   "metadata": {},
   "outputs": [
    {
     "name": "stdout",
     "output_type": "stream",
     "text": [
      "<class 'pandas.core.frame.DataFrame'>\n",
      "RangeIndex: 500 entries, 0 to 499\n",
      "Data columns (total 8 columns):\n",
      "user_id       500 non-null int64\n",
      "first_name    500 non-null object\n",
      "last_name     500 non-null object\n",
      "age           500 non-null int64\n",
      "city          500 non-null object\n",
      "reg_date      500 non-null object\n",
      "plan          500 non-null object\n",
      "churn_date    34 non-null object\n",
      "dtypes: int64(2), object(6)\n",
      "memory usage: 31.4+ KB\n"
     ]
    }
   ],
   "source": [
    "df_users.info()"
   ]
  },
  {
   "cell_type": "code",
   "execution_count": 8,
   "metadata": {},
   "outputs": [],
   "source": [
    "#filling the missed data with a \"date_like\" string\n",
    "#since this column is irrelevant to our study, this substitution is harmless\n",
    "df_users['churn_date'] = df_users['churn_date'].fillna('2019-01-01')"
   ]
  },
  {
   "cell_type": "markdown",
   "metadata": {},
   "source": [
    "<div class=\"alert alert-block alert-warning\">\n",
    "<b>Reviewer's comment v1:</b>\n",
    "    \n",
    "I agree with your comment but would advise to either keep it as it is or transform it to the categorical column (0/1)."
   ]
  },
  {
   "cell_type": "markdown",
   "metadata": {},
   "source": [
    "<div style=\"border:solid Chocolate 2px; padding: 40px\">\n",
    "<font color='Purple'>\n",
    "As you suggested: Fill in the missing values in those two irrelevant date-like columns with a date-like string, then leave them as they were before without changing their types."
   ]
  },
  {
   "cell_type": "markdown",
   "metadata": {},
   "source": [
    "<div class=\"alert alert-block alert-success\">\n",
    "<b>Reviewer's comment v2</b>\n",
    "\n",
    "🙌"
   ]
  },
  {
   "cell_type": "code",
   "execution_count": 9,
   "metadata": {},
   "outputs": [],
   "source": [
    "#converting from \"object\" to \"datetime\"\n",
    "#df_users['reg_date'] = pd.to_datetime(df_users['reg_date'])"
   ]
  },
  {
   "cell_type": "code",
   "execution_count": 10,
   "metadata": {},
   "outputs": [],
   "source": [
    "#df_users['churn_date'] = pd.to_datetime(df_users['churn_date'])"
   ]
  },
  {
   "cell_type": "code",
   "execution_count": 11,
   "metadata": {},
   "outputs": [],
   "source": [
    "#checking the result\n",
    "#df_users.info()"
   ]
  },
  {
   "cell_type": "markdown",
   "metadata": {},
   "source": [
    "***Later, we will use the above data frame and its contents along with other data sets to create a larger, more useful one.***"
   ]
  },
  {
   "cell_type": "code",
   "execution_count": 12,
   "metadata": {},
   "outputs": [
    {
     "data": {
      "text/html": [
       "<div>\n",
       "<style scoped>\n",
       "    .dataframe tbody tr th:only-of-type {\n",
       "        vertical-align: middle;\n",
       "    }\n",
       "\n",
       "    .dataframe tbody tr th {\n",
       "        vertical-align: top;\n",
       "    }\n",
       "\n",
       "    .dataframe thead th {\n",
       "        text-align: right;\n",
       "    }\n",
       "</style>\n",
       "<table border=\"1\" class=\"dataframe\">\n",
       "  <thead>\n",
       "    <tr style=\"text-align: right;\">\n",
       "      <th></th>\n",
       "      <th>id</th>\n",
       "      <th>user_id</th>\n",
       "      <th>call_date</th>\n",
       "      <th>duration</th>\n",
       "    </tr>\n",
       "  </thead>\n",
       "  <tbody>\n",
       "    <tr>\n",
       "      <td>0</td>\n",
       "      <td>1000_93</td>\n",
       "      <td>1000</td>\n",
       "      <td>2018-12-27</td>\n",
       "      <td>8.52</td>\n",
       "    </tr>\n",
       "    <tr>\n",
       "      <td>1</td>\n",
       "      <td>1000_145</td>\n",
       "      <td>1000</td>\n",
       "      <td>2018-12-27</td>\n",
       "      <td>13.66</td>\n",
       "    </tr>\n",
       "    <tr>\n",
       "      <td>2</td>\n",
       "      <td>1000_247</td>\n",
       "      <td>1000</td>\n",
       "      <td>2018-12-27</td>\n",
       "      <td>14.48</td>\n",
       "    </tr>\n",
       "    <tr>\n",
       "      <td>3</td>\n",
       "      <td>1000_309</td>\n",
       "      <td>1000</td>\n",
       "      <td>2018-12-28</td>\n",
       "      <td>5.76</td>\n",
       "    </tr>\n",
       "    <tr>\n",
       "      <td>4</td>\n",
       "      <td>1000_380</td>\n",
       "      <td>1000</td>\n",
       "      <td>2018-12-30</td>\n",
       "      <td>4.22</td>\n",
       "    </tr>\n",
       "  </tbody>\n",
       "</table>\n",
       "</div>"
      ],
      "text/plain": [
       "         id  user_id   call_date  duration\n",
       "0   1000_93     1000  2018-12-27      8.52\n",
       "1  1000_145     1000  2018-12-27     13.66\n",
       "2  1000_247     1000  2018-12-27     14.48\n",
       "3  1000_309     1000  2018-12-28      5.76\n",
       "4  1000_380     1000  2018-12-30      4.22"
      ]
     },
     "execution_count": 12,
     "metadata": {},
     "output_type": "execute_result"
    }
   ],
   "source": [
    "#general info of the third data file\n",
    "df_calls.head()"
   ]
  },
  {
   "cell_type": "code",
   "execution_count": 13,
   "metadata": {},
   "outputs": [
    {
     "name": "stdout",
     "output_type": "stream",
     "text": [
      "<class 'pandas.core.frame.DataFrame'>\n",
      "RangeIndex: 137735 entries, 0 to 137734\n",
      "Data columns (total 4 columns):\n",
      "id           137735 non-null object\n",
      "user_id      137735 non-null int64\n",
      "call_date    137735 non-null object\n",
      "duration     137735 non-null float64\n",
      "dtypes: float64(1), int64(1), object(2)\n",
      "memory usage: 4.2+ MB\n"
     ]
    }
   ],
   "source": [
    "df_calls.info()"
   ]
  },
  {
   "cell_type": "code",
   "execution_count": 14,
   "metadata": {},
   "outputs": [],
   "source": [
    "#converting from \"object\" to \"datetime\"\n",
    "df_calls['call_date'] = pd.to_datetime(df_calls['call_date'])"
   ]
  },
  {
   "cell_type": "code",
   "execution_count": 15,
   "metadata": {},
   "outputs": [],
   "source": [
    "#adding the \"number\" of the \"month\" as a column \n",
    "df_calls['month'] = pd.DatetimeIndex(df_calls['call_date']).month"
   ]
  },
  {
   "cell_type": "markdown",
   "metadata": {},
   "source": [
    "<div class=\"alert alert-block alert-success\">\n",
    "<b>Reviewer's comment v1:</b>\n",
    "    \n",
    "- Everything is correct here but usually, it is always helpful to double-check whether we indeed have data within one year/time period. If not then selecting and aggregating data by the month number will cause an issue. So here it is safer to use `datetime64[M]` which provides a complete date."
   ]
  },
  {
   "cell_type": "code",
   "execution_count": 16,
   "metadata": {},
   "outputs": [
    {
     "data": {
      "text/html": [
       "<div>\n",
       "<style scoped>\n",
       "    .dataframe tbody tr th:only-of-type {\n",
       "        vertical-align: middle;\n",
       "    }\n",
       "\n",
       "    .dataframe tbody tr th {\n",
       "        vertical-align: top;\n",
       "    }\n",
       "\n",
       "    .dataframe thead th {\n",
       "        text-align: right;\n",
       "    }\n",
       "</style>\n",
       "<table border=\"1\" class=\"dataframe\">\n",
       "  <thead>\n",
       "    <tr style=\"text-align: right;\">\n",
       "      <th></th>\n",
       "      <th>id</th>\n",
       "      <th>user_id</th>\n",
       "      <th>call_date</th>\n",
       "      <th>duration</th>\n",
       "      <th>month</th>\n",
       "    </tr>\n",
       "  </thead>\n",
       "  <tbody>\n",
       "    <tr>\n",
       "      <td>0</td>\n",
       "      <td>1000_93</td>\n",
       "      <td>1000</td>\n",
       "      <td>2018-12-27</td>\n",
       "      <td>8.52</td>\n",
       "      <td>12</td>\n",
       "    </tr>\n",
       "    <tr>\n",
       "      <td>1</td>\n",
       "      <td>1000_145</td>\n",
       "      <td>1000</td>\n",
       "      <td>2018-12-27</td>\n",
       "      <td>13.66</td>\n",
       "      <td>12</td>\n",
       "    </tr>\n",
       "    <tr>\n",
       "      <td>2</td>\n",
       "      <td>1000_247</td>\n",
       "      <td>1000</td>\n",
       "      <td>2018-12-27</td>\n",
       "      <td>14.48</td>\n",
       "      <td>12</td>\n",
       "    </tr>\n",
       "    <tr>\n",
       "      <td>3</td>\n",
       "      <td>1000_309</td>\n",
       "      <td>1000</td>\n",
       "      <td>2018-12-28</td>\n",
       "      <td>5.76</td>\n",
       "      <td>12</td>\n",
       "    </tr>\n",
       "    <tr>\n",
       "      <td>4</td>\n",
       "      <td>1000_380</td>\n",
       "      <td>1000</td>\n",
       "      <td>2018-12-30</td>\n",
       "      <td>4.22</td>\n",
       "      <td>12</td>\n",
       "    </tr>\n",
       "  </tbody>\n",
       "</table>\n",
       "</div>"
      ],
      "text/plain": [
       "         id  user_id  call_date  duration  month\n",
       "0   1000_93     1000 2018-12-27      8.52     12\n",
       "1  1000_145     1000 2018-12-27     13.66     12\n",
       "2  1000_247     1000 2018-12-27     14.48     12\n",
       "3  1000_309     1000 2018-12-28      5.76     12\n",
       "4  1000_380     1000 2018-12-30      4.22     12"
      ]
     },
     "execution_count": 16,
     "metadata": {},
     "output_type": "execute_result"
    }
   ],
   "source": [
    "#checking\n",
    "df_calls.head()"
   ]
  },
  {
   "cell_type": "code",
   "execution_count": 17,
   "metadata": {},
   "outputs": [],
   "source": [
    "#rounding up the \"duration\" to the next integer. it is necessary to calculate the extra charges\n",
    "#df_calls['duration'] = df_calls['duration'].apply(np.ceil).astype(int)"
   ]
  },
  {
   "cell_type": "code",
   "execution_count": 18,
   "metadata": {},
   "outputs": [],
   "source": [
    "#rounding up the \"duration\" to the next integer. it is necessary to calculate the extra charges\n",
    "df_calls['duration'] = np.ceil(df_calls['duration'])"
   ]
  },
  {
   "cell_type": "markdown",
   "metadata": {},
   "source": [
    "<div class=\"alert alert-block alert-warning\">\n",
    "<b>Reviewer's comment v1:</b>\n",
    "    \n",
    "- Ok, great job! Good that you did not forget about data rounding. Also, great choice of np.ceil () function :)\n",
    "\n",
    "- This function by the way also works without `apply` which makes code shorter and faster.\n",
    "\n",
    "```\n",
    "calls['duration'] = np.ceil(calls['duration'])\n",
    "```"
   ]
  },
  {
   "cell_type": "markdown",
   "metadata": {},
   "source": [
    "<div style=\"border:solid Chocolate 2px; padding: 40px\">\n",
    "<font color='Purple'>\n",
    "thanks for the tip! done."
   ]
  },
  {
   "cell_type": "markdown",
   "metadata": {},
   "source": [
    "<div class=\"alert alert-block alert-success\">\n",
    "<b>Reviewer's comment v2</b>\n",
    "\n",
    "Great, thanks for updating that."
   ]
  },
  {
   "cell_type": "code",
   "execution_count": 19,
   "metadata": {},
   "outputs": [
    {
     "data": {
      "text/plain": [
       "0.0    26834\n",
       "6.0     7848\n",
       "5.0     7778\n",
       "7.0     7769\n",
       "8.0     7718\n",
       "Name: duration, dtype: int64"
      ]
     },
     "execution_count": 19,
     "metadata": {},
     "output_type": "execute_result"
    }
   ],
   "source": [
    "#checking\n",
    "df_calls['duration'].value_counts().head()"
   ]
  },
  {
   "cell_type": "markdown",
   "metadata": {},
   "source": [
    "**There are a suspicious number of calls whose duration is zero. dropping them is not an option because, firstly, we would lose a large part of our data and, secondly, and more importantly, we must not forget that this whole project is about maximizing 'revenue' and these calls with 'zero' duration are already paid for in the prepaid plans. therefore it would be a mistake to remove them. we are better off leaving them as they are.**"
   ]
  },
  {
   "cell_type": "code",
   "execution_count": 20,
   "metadata": {},
   "outputs": [
    {
     "data": {
      "text/html": [
       "<div>\n",
       "<style scoped>\n",
       "    .dataframe tbody tr th:only-of-type {\n",
       "        vertical-align: middle;\n",
       "    }\n",
       "\n",
       "    .dataframe tbody tr th {\n",
       "        vertical-align: top;\n",
       "    }\n",
       "\n",
       "    .dataframe thead th {\n",
       "        text-align: right;\n",
       "    }\n",
       "</style>\n",
       "<table border=\"1\" class=\"dataframe\">\n",
       "  <thead>\n",
       "    <tr style=\"text-align: right;\">\n",
       "      <th></th>\n",
       "      <th>id</th>\n",
       "      <th>user_id</th>\n",
       "      <th>call_date</th>\n",
       "      <th>duration</th>\n",
       "      <th>month</th>\n",
       "    </tr>\n",
       "  </thead>\n",
       "  <tbody>\n",
       "    <tr>\n",
       "      <td>0</td>\n",
       "      <td>1000_93</td>\n",
       "      <td>1000</td>\n",
       "      <td>2018-12-27</td>\n",
       "      <td>9.0</td>\n",
       "      <td>12</td>\n",
       "    </tr>\n",
       "    <tr>\n",
       "      <td>1</td>\n",
       "      <td>1000_145</td>\n",
       "      <td>1000</td>\n",
       "      <td>2018-12-27</td>\n",
       "      <td>14.0</td>\n",
       "      <td>12</td>\n",
       "    </tr>\n",
       "    <tr>\n",
       "      <td>2</td>\n",
       "      <td>1000_247</td>\n",
       "      <td>1000</td>\n",
       "      <td>2018-12-27</td>\n",
       "      <td>15.0</td>\n",
       "      <td>12</td>\n",
       "    </tr>\n",
       "    <tr>\n",
       "      <td>3</td>\n",
       "      <td>1000_309</td>\n",
       "      <td>1000</td>\n",
       "      <td>2018-12-28</td>\n",
       "      <td>6.0</td>\n",
       "      <td>12</td>\n",
       "    </tr>\n",
       "    <tr>\n",
       "      <td>4</td>\n",
       "      <td>1000_380</td>\n",
       "      <td>1000</td>\n",
       "      <td>2018-12-30</td>\n",
       "      <td>5.0</td>\n",
       "      <td>12</td>\n",
       "    </tr>\n",
       "  </tbody>\n",
       "</table>\n",
       "</div>"
      ],
      "text/plain": [
       "         id  user_id  call_date  duration  month\n",
       "0   1000_93     1000 2018-12-27       9.0     12\n",
       "1  1000_145     1000 2018-12-27      14.0     12\n",
       "2  1000_247     1000 2018-12-27      15.0     12\n",
       "3  1000_309     1000 2018-12-28       6.0     12\n",
       "4  1000_380     1000 2018-12-30       5.0     12"
      ]
     },
     "execution_count": 20,
     "metadata": {},
     "output_type": "execute_result"
    }
   ],
   "source": [
    "df_calls.head()"
   ]
  },
  {
   "cell_type": "code",
   "execution_count": 21,
   "metadata": {},
   "outputs": [],
   "source": [
    "#creating a group to add two columns: number of the calls and their duration for each user per month\n",
    "G_calls = df_calls.groupby(['user_id', 'month'])['duration'].agg(['count', 'sum']).add_suffix('_per_month').reset_index()"
   ]
  },
  {
   "cell_type": "code",
   "execution_count": 22,
   "metadata": {},
   "outputs": [],
   "source": [
    "#renaming columns\n",
    "G_calls = G_calls.rename(columns ={'sum_per_month' : 'min_per_month', 'count_per_month' : 'call_per_month'})"
   ]
  },
  {
   "cell_type": "code",
   "execution_count": 23,
   "metadata": {},
   "outputs": [
    {
     "data": {
      "text/html": [
       "<div>\n",
       "<style scoped>\n",
       "    .dataframe tbody tr th:only-of-type {\n",
       "        vertical-align: middle;\n",
       "    }\n",
       "\n",
       "    .dataframe tbody tr th {\n",
       "        vertical-align: top;\n",
       "    }\n",
       "\n",
       "    .dataframe thead th {\n",
       "        text-align: right;\n",
       "    }\n",
       "</style>\n",
       "<table border=\"1\" class=\"dataframe\">\n",
       "  <thead>\n",
       "    <tr style=\"text-align: right;\">\n",
       "      <th></th>\n",
       "      <th>user_id</th>\n",
       "      <th>month</th>\n",
       "      <th>call_per_month</th>\n",
       "      <th>min_per_month</th>\n",
       "    </tr>\n",
       "  </thead>\n",
       "  <tbody>\n",
       "    <tr>\n",
       "      <td>0</td>\n",
       "      <td>1000</td>\n",
       "      <td>12</td>\n",
       "      <td>16</td>\n",
       "      <td>124.0</td>\n",
       "    </tr>\n",
       "    <tr>\n",
       "      <td>1</td>\n",
       "      <td>1001</td>\n",
       "      <td>8</td>\n",
       "      <td>27</td>\n",
       "      <td>182.0</td>\n",
       "    </tr>\n",
       "    <tr>\n",
       "      <td>2</td>\n",
       "      <td>1001</td>\n",
       "      <td>9</td>\n",
       "      <td>49</td>\n",
       "      <td>315.0</td>\n",
       "    </tr>\n",
       "    <tr>\n",
       "      <td>3</td>\n",
       "      <td>1001</td>\n",
       "      <td>10</td>\n",
       "      <td>65</td>\n",
       "      <td>393.0</td>\n",
       "    </tr>\n",
       "    <tr>\n",
       "      <td>4</td>\n",
       "      <td>1001</td>\n",
       "      <td>11</td>\n",
       "      <td>64</td>\n",
       "      <td>426.0</td>\n",
       "    </tr>\n",
       "  </tbody>\n",
       "</table>\n",
       "</div>"
      ],
      "text/plain": [
       "   user_id  month  call_per_month  min_per_month\n",
       "0     1000     12              16          124.0\n",
       "1     1001      8              27          182.0\n",
       "2     1001      9              49          315.0\n",
       "3     1001     10              65          393.0\n",
       "4     1001     11              64          426.0"
      ]
     },
     "execution_count": 23,
     "metadata": {},
     "output_type": "execute_result"
    }
   ],
   "source": [
    "#checking\n",
    "G_calls.head()"
   ]
  },
  {
   "cell_type": "markdown",
   "metadata": {},
   "source": [
    "***Here is our second record, which can be merged with the others once they too are ready. Anything we need to know about customer \"calling\" behaviour (e.g., the number or duration of calls, or the month in which they occurred) can be found here.***"
   ]
  },
  {
   "cell_type": "code",
   "execution_count": 24,
   "metadata": {},
   "outputs": [
    {
     "data": {
      "text/html": [
       "<div>\n",
       "<style scoped>\n",
       "    .dataframe tbody tr th:only-of-type {\n",
       "        vertical-align: middle;\n",
       "    }\n",
       "\n",
       "    .dataframe tbody tr th {\n",
       "        vertical-align: top;\n",
       "    }\n",
       "\n",
       "    .dataframe thead th {\n",
       "        text-align: right;\n",
       "    }\n",
       "</style>\n",
       "<table border=\"1\" class=\"dataframe\">\n",
       "  <thead>\n",
       "    <tr style=\"text-align: right;\">\n",
       "      <th></th>\n",
       "      <th>id</th>\n",
       "      <th>user_id</th>\n",
       "      <th>session_date</th>\n",
       "      <th>mb_used</th>\n",
       "    </tr>\n",
       "  </thead>\n",
       "  <tbody>\n",
       "    <tr>\n",
       "      <td>0</td>\n",
       "      <td>1000_13</td>\n",
       "      <td>1000</td>\n",
       "      <td>2018-12-29</td>\n",
       "      <td>89.86</td>\n",
       "    </tr>\n",
       "    <tr>\n",
       "      <td>1</td>\n",
       "      <td>1000_204</td>\n",
       "      <td>1000</td>\n",
       "      <td>2018-12-31</td>\n",
       "      <td>0.00</td>\n",
       "    </tr>\n",
       "    <tr>\n",
       "      <td>2</td>\n",
       "      <td>1000_379</td>\n",
       "      <td>1000</td>\n",
       "      <td>2018-12-28</td>\n",
       "      <td>660.40</td>\n",
       "    </tr>\n",
       "    <tr>\n",
       "      <td>3</td>\n",
       "      <td>1000_413</td>\n",
       "      <td>1000</td>\n",
       "      <td>2018-12-26</td>\n",
       "      <td>270.99</td>\n",
       "    </tr>\n",
       "    <tr>\n",
       "      <td>4</td>\n",
       "      <td>1000_442</td>\n",
       "      <td>1000</td>\n",
       "      <td>2018-12-27</td>\n",
       "      <td>880.22</td>\n",
       "    </tr>\n",
       "  </tbody>\n",
       "</table>\n",
       "</div>"
      ],
      "text/plain": [
       "         id  user_id session_date  mb_used\n",
       "0   1000_13     1000   2018-12-29    89.86\n",
       "1  1000_204     1000   2018-12-31     0.00\n",
       "2  1000_379     1000   2018-12-28   660.40\n",
       "3  1000_413     1000   2018-12-26   270.99\n",
       "4  1000_442     1000   2018-12-27   880.22"
      ]
     },
     "execution_count": 24,
     "metadata": {},
     "output_type": "execute_result"
    }
   ],
   "source": [
    "#general info of the forth data file\n",
    "df_internet.head()"
   ]
  },
  {
   "cell_type": "code",
   "execution_count": 25,
   "metadata": {},
   "outputs": [
    {
     "name": "stdout",
     "output_type": "stream",
     "text": [
      "<class 'pandas.core.frame.DataFrame'>\n",
      "RangeIndex: 104825 entries, 0 to 104824\n",
      "Data columns (total 4 columns):\n",
      "id              104825 non-null object\n",
      "user_id         104825 non-null int64\n",
      "session_date    104825 non-null object\n",
      "mb_used         104825 non-null float64\n",
      "dtypes: float64(1), int64(1), object(2)\n",
      "memory usage: 3.2+ MB\n"
     ]
    }
   ],
   "source": [
    "df_internet.info()"
   ]
  },
  {
   "cell_type": "code",
   "execution_count": 26,
   "metadata": {},
   "outputs": [],
   "source": [
    "#converting from \"object\" to \"datetime\"\n",
    "df_internet['session_date'] = pd.to_datetime(df_internet['session_date'])"
   ]
  },
  {
   "cell_type": "code",
   "execution_count": 27,
   "metadata": {},
   "outputs": [],
   "source": [
    "#adding the \"number\" of the \"month\" as a column\n",
    "df_internet['month'] = pd.DatetimeIndex(df_internet['session_date']).month"
   ]
  },
  {
   "cell_type": "code",
   "execution_count": 28,
   "metadata": {},
   "outputs": [
    {
     "data": {
      "text/html": [
       "<div>\n",
       "<style scoped>\n",
       "    .dataframe tbody tr th:only-of-type {\n",
       "        vertical-align: middle;\n",
       "    }\n",
       "\n",
       "    .dataframe tbody tr th {\n",
       "        vertical-align: top;\n",
       "    }\n",
       "\n",
       "    .dataframe thead th {\n",
       "        text-align: right;\n",
       "    }\n",
       "</style>\n",
       "<table border=\"1\" class=\"dataframe\">\n",
       "  <thead>\n",
       "    <tr style=\"text-align: right;\">\n",
       "      <th></th>\n",
       "      <th>id</th>\n",
       "      <th>user_id</th>\n",
       "      <th>session_date</th>\n",
       "      <th>mb_used</th>\n",
       "      <th>month</th>\n",
       "    </tr>\n",
       "  </thead>\n",
       "  <tbody>\n",
       "    <tr>\n",
       "      <td>0</td>\n",
       "      <td>1000_13</td>\n",
       "      <td>1000</td>\n",
       "      <td>2018-12-29</td>\n",
       "      <td>89.86</td>\n",
       "      <td>12</td>\n",
       "    </tr>\n",
       "    <tr>\n",
       "      <td>1</td>\n",
       "      <td>1000_204</td>\n",
       "      <td>1000</td>\n",
       "      <td>2018-12-31</td>\n",
       "      <td>0.00</td>\n",
       "      <td>12</td>\n",
       "    </tr>\n",
       "    <tr>\n",
       "      <td>2</td>\n",
       "      <td>1000_379</td>\n",
       "      <td>1000</td>\n",
       "      <td>2018-12-28</td>\n",
       "      <td>660.40</td>\n",
       "      <td>12</td>\n",
       "    </tr>\n",
       "    <tr>\n",
       "      <td>3</td>\n",
       "      <td>1000_413</td>\n",
       "      <td>1000</td>\n",
       "      <td>2018-12-26</td>\n",
       "      <td>270.99</td>\n",
       "      <td>12</td>\n",
       "    </tr>\n",
       "    <tr>\n",
       "      <td>4</td>\n",
       "      <td>1000_442</td>\n",
       "      <td>1000</td>\n",
       "      <td>2018-12-27</td>\n",
       "      <td>880.22</td>\n",
       "      <td>12</td>\n",
       "    </tr>\n",
       "  </tbody>\n",
       "</table>\n",
       "</div>"
      ],
      "text/plain": [
       "         id  user_id session_date  mb_used  month\n",
       "0   1000_13     1000   2018-12-29    89.86     12\n",
       "1  1000_204     1000   2018-12-31     0.00     12\n",
       "2  1000_379     1000   2018-12-28   660.40     12\n",
       "3  1000_413     1000   2018-12-26   270.99     12\n",
       "4  1000_442     1000   2018-12-27   880.22     12"
      ]
     },
     "execution_count": 28,
     "metadata": {},
     "output_type": "execute_result"
    }
   ],
   "source": [
    "#checking\n",
    "df_internet.head()"
   ]
  },
  {
   "cell_type": "code",
   "execution_count": 29,
   "metadata": {},
   "outputs": [
    {
     "data": {
      "text/plain": [
       "0.00      13747\n",
       "414.46        8\n",
       "435.77        8\n",
       "417.46        7\n",
       "313.79        7\n",
       "Name: mb_used, dtype: int64"
      ]
     },
     "execution_count": 29,
     "metadata": {},
     "output_type": "execute_result"
    }
   ],
   "source": [
    "#checking the unique values of the \"mb_used\"\n",
    "df_internet['mb_used'].value_counts().head()"
   ]
  },
  {
   "cell_type": "markdown",
   "metadata": {},
   "source": [
    "**The same logic for not removing zero-minute calls, is applicable here. for exact same reasons, we wont  remove these zero-megabyte consumers of our data set.**"
   ]
  },
  {
   "cell_type": "code",
   "execution_count": 30,
   "metadata": {},
   "outputs": [],
   "source": [
    "#creating a group to add two columns: number of the sessions and their volume for each user per month\n",
    "G_internet = df_internet.groupby(['user_id', 'month'])['mb_used'].agg(['count', 'sum']).add_suffix('_per_month').reset_index()"
   ]
  },
  {
   "cell_type": "code",
   "execution_count": 31,
   "metadata": {},
   "outputs": [
    {
     "data": {
      "text/html": [
       "<div>\n",
       "<style scoped>\n",
       "    .dataframe tbody tr th:only-of-type {\n",
       "        vertical-align: middle;\n",
       "    }\n",
       "\n",
       "    .dataframe tbody tr th {\n",
       "        vertical-align: top;\n",
       "    }\n",
       "\n",
       "    .dataframe thead th {\n",
       "        text-align: right;\n",
       "    }\n",
       "</style>\n",
       "<table border=\"1\" class=\"dataframe\">\n",
       "  <thead>\n",
       "    <tr style=\"text-align: right;\">\n",
       "      <th></th>\n",
       "      <th>user_id</th>\n",
       "      <th>month</th>\n",
       "      <th>count_per_month</th>\n",
       "      <th>sum_per_month</th>\n",
       "    </tr>\n",
       "  </thead>\n",
       "  <tbody>\n",
       "    <tr>\n",
       "      <td>0</td>\n",
       "      <td>1000</td>\n",
       "      <td>12</td>\n",
       "      <td>5</td>\n",
       "      <td>1901.47</td>\n",
       "    </tr>\n",
       "    <tr>\n",
       "      <td>1</td>\n",
       "      <td>1001</td>\n",
       "      <td>8</td>\n",
       "      <td>25</td>\n",
       "      <td>6919.15</td>\n",
       "    </tr>\n",
       "    <tr>\n",
       "      <td>2</td>\n",
       "      <td>1001</td>\n",
       "      <td>9</td>\n",
       "      <td>53</td>\n",
       "      <td>13314.82</td>\n",
       "    </tr>\n",
       "    <tr>\n",
       "      <td>3</td>\n",
       "      <td>1001</td>\n",
       "      <td>10</td>\n",
       "      <td>56</td>\n",
       "      <td>22330.49</td>\n",
       "    </tr>\n",
       "    <tr>\n",
       "      <td>4</td>\n",
       "      <td>1001</td>\n",
       "      <td>11</td>\n",
       "      <td>51</td>\n",
       "      <td>18504.30</td>\n",
       "    </tr>\n",
       "  </tbody>\n",
       "</table>\n",
       "</div>"
      ],
      "text/plain": [
       "   user_id  month  count_per_month  sum_per_month\n",
       "0     1000     12                5        1901.47\n",
       "1     1001      8               25        6919.15\n",
       "2     1001      9               53       13314.82\n",
       "3     1001     10               56       22330.49\n",
       "4     1001     11               51       18504.30"
      ]
     },
     "execution_count": 31,
     "metadata": {},
     "output_type": "execute_result"
    }
   ],
   "source": [
    "#checking\n",
    "G_internet.head()"
   ]
  },
  {
   "cell_type": "code",
   "execution_count": 32,
   "metadata": {},
   "outputs": [],
   "source": [
    "# converting mb to gb and rounding up the result to the next integer.it is necessary to calculate the extra charges\n",
    "#G_internet['sum_per_month'] = (G_internet['sum_per_month'] / 1024).apply(np.ceil).astype(int)"
   ]
  },
  {
   "cell_type": "code",
   "execution_count": 33,
   "metadata": {},
   "outputs": [],
   "source": [
    "# converting mb to gb and rounding up the result to the next integer.it is necessary to calculate the extra charges\n",
    "G_internet['sum_per_month'] = np.ceil(G_internet['sum_per_month'] / 1024)"
   ]
  },
  {
   "cell_type": "code",
   "execution_count": 34,
   "metadata": {},
   "outputs": [],
   "source": [
    "#renaming\n",
    "G_internet = G_internet.rename(columns ={'sum_per_month' : 'giga_per_month', 'count_per_month' : 'session_per_month'})"
   ]
  },
  {
   "cell_type": "code",
   "execution_count": 35,
   "metadata": {},
   "outputs": [
    {
     "data": {
      "text/html": [
       "<div>\n",
       "<style scoped>\n",
       "    .dataframe tbody tr th:only-of-type {\n",
       "        vertical-align: middle;\n",
       "    }\n",
       "\n",
       "    .dataframe tbody tr th {\n",
       "        vertical-align: top;\n",
       "    }\n",
       "\n",
       "    .dataframe thead th {\n",
       "        text-align: right;\n",
       "    }\n",
       "</style>\n",
       "<table border=\"1\" class=\"dataframe\">\n",
       "  <thead>\n",
       "    <tr style=\"text-align: right;\">\n",
       "      <th></th>\n",
       "      <th>user_id</th>\n",
       "      <th>month</th>\n",
       "      <th>session_per_month</th>\n",
       "      <th>giga_per_month</th>\n",
       "    </tr>\n",
       "  </thead>\n",
       "  <tbody>\n",
       "    <tr>\n",
       "      <td>0</td>\n",
       "      <td>1000</td>\n",
       "      <td>12</td>\n",
       "      <td>5</td>\n",
       "      <td>2.0</td>\n",
       "    </tr>\n",
       "    <tr>\n",
       "      <td>1</td>\n",
       "      <td>1001</td>\n",
       "      <td>8</td>\n",
       "      <td>25</td>\n",
       "      <td>7.0</td>\n",
       "    </tr>\n",
       "    <tr>\n",
       "      <td>2</td>\n",
       "      <td>1001</td>\n",
       "      <td>9</td>\n",
       "      <td>53</td>\n",
       "      <td>14.0</td>\n",
       "    </tr>\n",
       "    <tr>\n",
       "      <td>3</td>\n",
       "      <td>1001</td>\n",
       "      <td>10</td>\n",
       "      <td>56</td>\n",
       "      <td>22.0</td>\n",
       "    </tr>\n",
       "    <tr>\n",
       "      <td>4</td>\n",
       "      <td>1001</td>\n",
       "      <td>11</td>\n",
       "      <td>51</td>\n",
       "      <td>19.0</td>\n",
       "    </tr>\n",
       "  </tbody>\n",
       "</table>\n",
       "</div>"
      ],
      "text/plain": [
       "   user_id  month  session_per_month  giga_per_month\n",
       "0     1000     12                  5             2.0\n",
       "1     1001      8                 25             7.0\n",
       "2     1001      9                 53            14.0\n",
       "3     1001     10                 56            22.0\n",
       "4     1001     11                 51            19.0"
      ]
     },
     "execution_count": 35,
     "metadata": {},
     "output_type": "execute_result"
    }
   ],
   "source": [
    "#checking\n",
    "G_internet.head()"
   ]
  },
  {
   "cell_type": "markdown",
   "metadata": {},
   "source": [
    "<div class=\"alert alert-block alert-warning\">\n",
    "<b>Reviewer's comment v1:</b>\n",
    "    \n",
    "It would be great to double-check the data with calls and internet traffic - are there any strange things (missing/zero values, for example)? It is very useful to always check the numerical data. Sometimes it is difficult due to a large amount of data, but after that, we have an idea of the data quality and existent issues with the data. You can easily check this data, for example, by creating histograms."
   ]
  },
  {
   "cell_type": "markdown",
   "metadata": {},
   "source": [
    "<div style=\"border:solid Chocolate 2px; padding: 40px\">\n",
    "<font color='Purple'>\n",
    "I added two Markdown cells right after checking the info() for calls and internet teraffic, and explained why I treated the 0 values the way I did, and not like odds or errors that need to be corrected or deleted."
   ]
  },
  {
   "cell_type": "markdown",
   "metadata": {},
   "source": [
    "<div class=\"alert alert-success\">\n",
    "<b>Reviewer's comment v2:</b>\n",
    "    \n",
    "Great that you've added a solution for zero-based sessions.\n",
    "\n",
    "On a real project, of course, you can always find out the reason for such zeros. But in this case, it is enough to consider the alternatives and the impact of each decision.\n",
    "    \n",
    "But overall it is very useful to always check the numerical data. Sometimes it is difficult due to a large amount of data, but after that, we have an idea of the data quality and existent issues with the data. You can easily check this data, for example, by creating histograms."
   ]
  },
  {
   "cell_type": "markdown",
   "metadata": {},
   "source": [
    "***This is our third one. Everything we need to know about our web surfers is here: when they surfed and how many gigabytes they used in a month.***"
   ]
  },
  {
   "cell_type": "code",
   "execution_count": 36,
   "metadata": {},
   "outputs": [
    {
     "data": {
      "text/html": [
       "<div>\n",
       "<style scoped>\n",
       "    .dataframe tbody tr th:only-of-type {\n",
       "        vertical-align: middle;\n",
       "    }\n",
       "\n",
       "    .dataframe tbody tr th {\n",
       "        vertical-align: top;\n",
       "    }\n",
       "\n",
       "    .dataframe thead th {\n",
       "        text-align: right;\n",
       "    }\n",
       "</style>\n",
       "<table border=\"1\" class=\"dataframe\">\n",
       "  <thead>\n",
       "    <tr style=\"text-align: right;\">\n",
       "      <th></th>\n",
       "      <th>id</th>\n",
       "      <th>user_id</th>\n",
       "      <th>message_date</th>\n",
       "    </tr>\n",
       "  </thead>\n",
       "  <tbody>\n",
       "    <tr>\n",
       "      <td>0</td>\n",
       "      <td>1000_125</td>\n",
       "      <td>1000</td>\n",
       "      <td>2018-12-27</td>\n",
       "    </tr>\n",
       "    <tr>\n",
       "      <td>1</td>\n",
       "      <td>1000_160</td>\n",
       "      <td>1000</td>\n",
       "      <td>2018-12-31</td>\n",
       "    </tr>\n",
       "    <tr>\n",
       "      <td>2</td>\n",
       "      <td>1000_223</td>\n",
       "      <td>1000</td>\n",
       "      <td>2018-12-31</td>\n",
       "    </tr>\n",
       "    <tr>\n",
       "      <td>3</td>\n",
       "      <td>1000_251</td>\n",
       "      <td>1000</td>\n",
       "      <td>2018-12-27</td>\n",
       "    </tr>\n",
       "    <tr>\n",
       "      <td>4</td>\n",
       "      <td>1000_255</td>\n",
       "      <td>1000</td>\n",
       "      <td>2018-12-26</td>\n",
       "    </tr>\n",
       "  </tbody>\n",
       "</table>\n",
       "</div>"
      ],
      "text/plain": [
       "         id  user_id message_date\n",
       "0  1000_125     1000   2018-12-27\n",
       "1  1000_160     1000   2018-12-31\n",
       "2  1000_223     1000   2018-12-31\n",
       "3  1000_251     1000   2018-12-27\n",
       "4  1000_255     1000   2018-12-26"
      ]
     },
     "execution_count": 36,
     "metadata": {},
     "output_type": "execute_result"
    }
   ],
   "source": [
    "##general info of the last data file\n",
    "df_messages.head()"
   ]
  },
  {
   "cell_type": "code",
   "execution_count": 37,
   "metadata": {},
   "outputs": [],
   "source": [
    "#converting from \"object\" to \"datetime\"\n",
    "df_messages['message_date'] = pd.to_datetime(df_messages['message_date'])"
   ]
  },
  {
   "cell_type": "code",
   "execution_count": 38,
   "metadata": {},
   "outputs": [],
   "source": [
    "#adding the \"number\" of the \"month\" as a column\n",
    "df_messages['month'] = pd.DatetimeIndex(df_messages['message_date']).month"
   ]
  },
  {
   "cell_type": "code",
   "execution_count": 39,
   "metadata": {},
   "outputs": [
    {
     "data": {
      "text/html": [
       "<div>\n",
       "<style scoped>\n",
       "    .dataframe tbody tr th:only-of-type {\n",
       "        vertical-align: middle;\n",
       "    }\n",
       "\n",
       "    .dataframe tbody tr th {\n",
       "        vertical-align: top;\n",
       "    }\n",
       "\n",
       "    .dataframe thead th {\n",
       "        text-align: right;\n",
       "    }\n",
       "</style>\n",
       "<table border=\"1\" class=\"dataframe\">\n",
       "  <thead>\n",
       "    <tr style=\"text-align: right;\">\n",
       "      <th></th>\n",
       "      <th>id</th>\n",
       "      <th>user_id</th>\n",
       "      <th>message_date</th>\n",
       "      <th>month</th>\n",
       "    </tr>\n",
       "  </thead>\n",
       "  <tbody>\n",
       "    <tr>\n",
       "      <td>0</td>\n",
       "      <td>1000_125</td>\n",
       "      <td>1000</td>\n",
       "      <td>2018-12-27</td>\n",
       "      <td>12</td>\n",
       "    </tr>\n",
       "    <tr>\n",
       "      <td>1</td>\n",
       "      <td>1000_160</td>\n",
       "      <td>1000</td>\n",
       "      <td>2018-12-31</td>\n",
       "      <td>12</td>\n",
       "    </tr>\n",
       "    <tr>\n",
       "      <td>2</td>\n",
       "      <td>1000_223</td>\n",
       "      <td>1000</td>\n",
       "      <td>2018-12-31</td>\n",
       "      <td>12</td>\n",
       "    </tr>\n",
       "    <tr>\n",
       "      <td>3</td>\n",
       "      <td>1000_251</td>\n",
       "      <td>1000</td>\n",
       "      <td>2018-12-27</td>\n",
       "      <td>12</td>\n",
       "    </tr>\n",
       "    <tr>\n",
       "      <td>4</td>\n",
       "      <td>1000_255</td>\n",
       "      <td>1000</td>\n",
       "      <td>2018-12-26</td>\n",
       "      <td>12</td>\n",
       "    </tr>\n",
       "  </tbody>\n",
       "</table>\n",
       "</div>"
      ],
      "text/plain": [
       "         id  user_id message_date  month\n",
       "0  1000_125     1000   2018-12-27     12\n",
       "1  1000_160     1000   2018-12-31     12\n",
       "2  1000_223     1000   2018-12-31     12\n",
       "3  1000_251     1000   2018-12-27     12\n",
       "4  1000_255     1000   2018-12-26     12"
      ]
     },
     "execution_count": 39,
     "metadata": {},
     "output_type": "execute_result"
    }
   ],
   "source": [
    "#checking\n",
    "df_messages.head()"
   ]
  },
  {
   "cell_type": "code",
   "execution_count": 40,
   "metadata": {},
   "outputs": [],
   "source": [
    "#creating a group to add a column: number of the messages for each user per month\n",
    "G_messages = df_messages.groupby(['user_id', 'month']).agg('count').reset_index()"
   ]
  },
  {
   "cell_type": "code",
   "execution_count": 41,
   "metadata": {},
   "outputs": [],
   "source": [
    "#dropping the \"id\" column\n",
    "G_messages.drop('id', axis = 1, inplace = True)"
   ]
  },
  {
   "cell_type": "code",
   "execution_count": 42,
   "metadata": {},
   "outputs": [],
   "source": [
    "#renaming\n",
    "G_messages = G_messages.rename(columns ={'message_date' : 'message_per_month'})"
   ]
  },
  {
   "cell_type": "code",
   "execution_count": 43,
   "metadata": {},
   "outputs": [
    {
     "data": {
      "text/html": [
       "<div>\n",
       "<style scoped>\n",
       "    .dataframe tbody tr th:only-of-type {\n",
       "        vertical-align: middle;\n",
       "    }\n",
       "\n",
       "    .dataframe tbody tr th {\n",
       "        vertical-align: top;\n",
       "    }\n",
       "\n",
       "    .dataframe thead th {\n",
       "        text-align: right;\n",
       "    }\n",
       "</style>\n",
       "<table border=\"1\" class=\"dataframe\">\n",
       "  <thead>\n",
       "    <tr style=\"text-align: right;\">\n",
       "      <th></th>\n",
       "      <th>user_id</th>\n",
       "      <th>month</th>\n",
       "      <th>message_per_month</th>\n",
       "    </tr>\n",
       "  </thead>\n",
       "  <tbody>\n",
       "    <tr>\n",
       "      <td>0</td>\n",
       "      <td>1000</td>\n",
       "      <td>12</td>\n",
       "      <td>11</td>\n",
       "    </tr>\n",
       "    <tr>\n",
       "      <td>1</td>\n",
       "      <td>1001</td>\n",
       "      <td>8</td>\n",
       "      <td>30</td>\n",
       "    </tr>\n",
       "    <tr>\n",
       "      <td>2</td>\n",
       "      <td>1001</td>\n",
       "      <td>9</td>\n",
       "      <td>44</td>\n",
       "    </tr>\n",
       "    <tr>\n",
       "      <td>3</td>\n",
       "      <td>1001</td>\n",
       "      <td>10</td>\n",
       "      <td>53</td>\n",
       "    </tr>\n",
       "    <tr>\n",
       "      <td>4</td>\n",
       "      <td>1001</td>\n",
       "      <td>11</td>\n",
       "      <td>36</td>\n",
       "    </tr>\n",
       "  </tbody>\n",
       "</table>\n",
       "</div>"
      ],
      "text/plain": [
       "   user_id  month  message_per_month\n",
       "0     1000     12                 11\n",
       "1     1001      8                 30\n",
       "2     1001      9                 44\n",
       "3     1001     10                 53\n",
       "4     1001     11                 36"
      ]
     },
     "execution_count": 43,
     "metadata": {},
     "output_type": "execute_result"
    }
   ],
   "source": [
    "#checking\n",
    "G_messages.head()"
   ]
  },
  {
   "cell_type": "markdown",
   "metadata": {},
   "source": [
    "***And finally the data we need to know about the `messages`. how many were sent and when. that would be enough for us to continue our mission. well, it's time for us to do some merging***"
   ]
  },
  {
   "cell_type": "code",
   "execution_count": 44,
   "metadata": {},
   "outputs": [],
   "source": [
    "#importing the needed method\n",
    "from functools import reduce"
   ]
  },
  {
   "cell_type": "code",
   "execution_count": 45,
   "metadata": {},
   "outputs": [],
   "source": [
    "#merging three data frames into one and replacing missing values with \"0\"s\n",
    "dfs = [G_calls, G_internet, G_messages]\n",
    "df = reduce(lambda  left,right: pd.merge(left,right,on=['user_id', 'month'], how='outer'), dfs).fillna(0)"
   ]
  },
  {
   "cell_type": "markdown",
   "metadata": {},
   "source": [
    "<div class=\"alert alert-block alert-success\">\n",
    "<b>Reviewer's comment v1:</b>\n",
    "    \n",
    "Everything has been correctly aggregated and `how = 'outer' can be used here to prevent data loss.\n",
    "    "
   ]
  },
  {
   "cell_type": "code",
   "execution_count": 46,
   "metadata": {},
   "outputs": [
    {
     "data": {
      "text/html": [
       "<div>\n",
       "<style scoped>\n",
       "    .dataframe tbody tr th:only-of-type {\n",
       "        vertical-align: middle;\n",
       "    }\n",
       "\n",
       "    .dataframe tbody tr th {\n",
       "        vertical-align: top;\n",
       "    }\n",
       "\n",
       "    .dataframe thead th {\n",
       "        text-align: right;\n",
       "    }\n",
       "</style>\n",
       "<table border=\"1\" class=\"dataframe\">\n",
       "  <thead>\n",
       "    <tr style=\"text-align: right;\">\n",
       "      <th></th>\n",
       "      <th>user_id</th>\n",
       "      <th>month</th>\n",
       "      <th>call_per_month</th>\n",
       "      <th>min_per_month</th>\n",
       "      <th>session_per_month</th>\n",
       "      <th>giga_per_month</th>\n",
       "      <th>message_per_month</th>\n",
       "    </tr>\n",
       "  </thead>\n",
       "  <tbody>\n",
       "    <tr>\n",
       "      <td>0</td>\n",
       "      <td>1000</td>\n",
       "      <td>12</td>\n",
       "      <td>16.0</td>\n",
       "      <td>124.0</td>\n",
       "      <td>5.0</td>\n",
       "      <td>2.0</td>\n",
       "      <td>11.0</td>\n",
       "    </tr>\n",
       "    <tr>\n",
       "      <td>1</td>\n",
       "      <td>1001</td>\n",
       "      <td>8</td>\n",
       "      <td>27.0</td>\n",
       "      <td>182.0</td>\n",
       "      <td>25.0</td>\n",
       "      <td>7.0</td>\n",
       "      <td>30.0</td>\n",
       "    </tr>\n",
       "    <tr>\n",
       "      <td>2</td>\n",
       "      <td>1001</td>\n",
       "      <td>9</td>\n",
       "      <td>49.0</td>\n",
       "      <td>315.0</td>\n",
       "      <td>53.0</td>\n",
       "      <td>14.0</td>\n",
       "      <td>44.0</td>\n",
       "    </tr>\n",
       "    <tr>\n",
       "      <td>3</td>\n",
       "      <td>1001</td>\n",
       "      <td>10</td>\n",
       "      <td>65.0</td>\n",
       "      <td>393.0</td>\n",
       "      <td>56.0</td>\n",
       "      <td>22.0</td>\n",
       "      <td>53.0</td>\n",
       "    </tr>\n",
       "    <tr>\n",
       "      <td>4</td>\n",
       "      <td>1001</td>\n",
       "      <td>11</td>\n",
       "      <td>64.0</td>\n",
       "      <td>426.0</td>\n",
       "      <td>51.0</td>\n",
       "      <td>19.0</td>\n",
       "      <td>36.0</td>\n",
       "    </tr>\n",
       "  </tbody>\n",
       "</table>\n",
       "</div>"
      ],
      "text/plain": [
       "   user_id  month  call_per_month  min_per_month  session_per_month  \\\n",
       "0     1000     12            16.0          124.0                5.0   \n",
       "1     1001      8            27.0          182.0               25.0   \n",
       "2     1001      9            49.0          315.0               53.0   \n",
       "3     1001     10            65.0          393.0               56.0   \n",
       "4     1001     11            64.0          426.0               51.0   \n",
       "\n",
       "   giga_per_month  message_per_month  \n",
       "0             2.0               11.0  \n",
       "1             7.0               30.0  \n",
       "2            14.0               44.0  \n",
       "3            22.0               53.0  \n",
       "4            19.0               36.0  "
      ]
     },
     "execution_count": 46,
     "metadata": {},
     "output_type": "execute_result"
    }
   ],
   "source": [
    "#checking the new data frame\n",
    "df.head()"
   ]
  },
  {
   "cell_type": "code",
   "execution_count": 47,
   "metadata": {},
   "outputs": [
    {
     "name": "stdout",
     "output_type": "stream",
     "text": [
      "<class 'pandas.core.frame.DataFrame'>\n",
      "Int64Index: 2293 entries, 0 to 2292\n",
      "Data columns (total 7 columns):\n",
      "user_id              2293 non-null int64\n",
      "month                2293 non-null int64\n",
      "call_per_month       2293 non-null float64\n",
      "min_per_month        2293 non-null float64\n",
      "session_per_month    2293 non-null float64\n",
      "giga_per_month       2293 non-null float64\n",
      "message_per_month    2293 non-null float64\n",
      "dtypes: float64(5), int64(2)\n",
      "memory usage: 143.3 KB\n"
     ]
    }
   ],
   "source": [
    "df.info()"
   ]
  },
  {
   "cell_type": "code",
   "execution_count": 48,
   "metadata": {},
   "outputs": [],
   "source": [
    "#merging the new df with the \"df_users\" and replacing the missing values with \"0\"s\n",
    "data = pd.merge(left = df, right = df_users, how='outer',on='user_id').fillna(0)"
   ]
  },
  {
   "cell_type": "code",
   "execution_count": 49,
   "metadata": {},
   "outputs": [
    {
     "name": "stdout",
     "output_type": "stream",
     "text": [
      "<class 'pandas.core.frame.DataFrame'>\n",
      "Int64Index: 2303 entries, 0 to 2302\n",
      "Data columns (total 14 columns):\n",
      "user_id              2303 non-null int64\n",
      "month                2303 non-null float64\n",
      "call_per_month       2303 non-null float64\n",
      "min_per_month        2303 non-null float64\n",
      "session_per_month    2303 non-null float64\n",
      "giga_per_month       2303 non-null float64\n",
      "message_per_month    2303 non-null float64\n",
      "first_name           2303 non-null object\n",
      "last_name            2303 non-null object\n",
      "age                  2303 non-null int64\n",
      "city                 2303 non-null object\n",
      "reg_date             2303 non-null object\n",
      "plan                 2303 non-null object\n",
      "churn_date           2303 non-null object\n",
      "dtypes: float64(6), int64(2), object(6)\n",
      "memory usage: 269.9+ KB\n"
     ]
    }
   ],
   "source": [
    "#checking the final data frame\n",
    "data.info()"
   ]
  },
  {
   "cell_type": "code",
   "execution_count": 50,
   "metadata": {},
   "outputs": [
    {
     "data": {
      "text/html": [
       "<div>\n",
       "<style scoped>\n",
       "    .dataframe tbody tr th:only-of-type {\n",
       "        vertical-align: middle;\n",
       "    }\n",
       "\n",
       "    .dataframe tbody tr th {\n",
       "        vertical-align: top;\n",
       "    }\n",
       "\n",
       "    .dataframe thead th {\n",
       "        text-align: right;\n",
       "    }\n",
       "</style>\n",
       "<table border=\"1\" class=\"dataframe\">\n",
       "  <thead>\n",
       "    <tr style=\"text-align: right;\">\n",
       "      <th></th>\n",
       "      <th>user_id</th>\n",
       "      <th>month</th>\n",
       "      <th>call_per_month</th>\n",
       "      <th>min_per_month</th>\n",
       "      <th>session_per_month</th>\n",
       "      <th>giga_per_month</th>\n",
       "      <th>message_per_month</th>\n",
       "      <th>first_name</th>\n",
       "      <th>last_name</th>\n",
       "      <th>age</th>\n",
       "      <th>city</th>\n",
       "      <th>reg_date</th>\n",
       "      <th>plan</th>\n",
       "      <th>churn_date</th>\n",
       "    </tr>\n",
       "  </thead>\n",
       "  <tbody>\n",
       "    <tr>\n",
       "      <td>0</td>\n",
       "      <td>1000</td>\n",
       "      <td>12.0</td>\n",
       "      <td>16.0</td>\n",
       "      <td>124.0</td>\n",
       "      <td>5.0</td>\n",
       "      <td>2.0</td>\n",
       "      <td>11.0</td>\n",
       "      <td>Anamaria</td>\n",
       "      <td>Bauer</td>\n",
       "      <td>45</td>\n",
       "      <td>Atlanta-Sandy Springs-Roswell, GA MSA</td>\n",
       "      <td>2018-12-24</td>\n",
       "      <td>ultimate</td>\n",
       "      <td>2019-01-01</td>\n",
       "    </tr>\n",
       "    <tr>\n",
       "      <td>1</td>\n",
       "      <td>1001</td>\n",
       "      <td>8.0</td>\n",
       "      <td>27.0</td>\n",
       "      <td>182.0</td>\n",
       "      <td>25.0</td>\n",
       "      <td>7.0</td>\n",
       "      <td>30.0</td>\n",
       "      <td>Mickey</td>\n",
       "      <td>Wilkerson</td>\n",
       "      <td>28</td>\n",
       "      <td>Seattle-Tacoma-Bellevue, WA MSA</td>\n",
       "      <td>2018-08-13</td>\n",
       "      <td>surf</td>\n",
       "      <td>2019-01-01</td>\n",
       "    </tr>\n",
       "    <tr>\n",
       "      <td>2</td>\n",
       "      <td>1001</td>\n",
       "      <td>9.0</td>\n",
       "      <td>49.0</td>\n",
       "      <td>315.0</td>\n",
       "      <td>53.0</td>\n",
       "      <td>14.0</td>\n",
       "      <td>44.0</td>\n",
       "      <td>Mickey</td>\n",
       "      <td>Wilkerson</td>\n",
       "      <td>28</td>\n",
       "      <td>Seattle-Tacoma-Bellevue, WA MSA</td>\n",
       "      <td>2018-08-13</td>\n",
       "      <td>surf</td>\n",
       "      <td>2019-01-01</td>\n",
       "    </tr>\n",
       "    <tr>\n",
       "      <td>3</td>\n",
       "      <td>1001</td>\n",
       "      <td>10.0</td>\n",
       "      <td>65.0</td>\n",
       "      <td>393.0</td>\n",
       "      <td>56.0</td>\n",
       "      <td>22.0</td>\n",
       "      <td>53.0</td>\n",
       "      <td>Mickey</td>\n",
       "      <td>Wilkerson</td>\n",
       "      <td>28</td>\n",
       "      <td>Seattle-Tacoma-Bellevue, WA MSA</td>\n",
       "      <td>2018-08-13</td>\n",
       "      <td>surf</td>\n",
       "      <td>2019-01-01</td>\n",
       "    </tr>\n",
       "    <tr>\n",
       "      <td>4</td>\n",
       "      <td>1001</td>\n",
       "      <td>11.0</td>\n",
       "      <td>64.0</td>\n",
       "      <td>426.0</td>\n",
       "      <td>51.0</td>\n",
       "      <td>19.0</td>\n",
       "      <td>36.0</td>\n",
       "      <td>Mickey</td>\n",
       "      <td>Wilkerson</td>\n",
       "      <td>28</td>\n",
       "      <td>Seattle-Tacoma-Bellevue, WA MSA</td>\n",
       "      <td>2018-08-13</td>\n",
       "      <td>surf</td>\n",
       "      <td>2019-01-01</td>\n",
       "    </tr>\n",
       "  </tbody>\n",
       "</table>\n",
       "</div>"
      ],
      "text/plain": [
       "   user_id  month  call_per_month  min_per_month  session_per_month  \\\n",
       "0     1000   12.0            16.0          124.0                5.0   \n",
       "1     1001    8.0            27.0          182.0               25.0   \n",
       "2     1001    9.0            49.0          315.0               53.0   \n",
       "3     1001   10.0            65.0          393.0               56.0   \n",
       "4     1001   11.0            64.0          426.0               51.0   \n",
       "\n",
       "   giga_per_month  message_per_month first_name  last_name  age  \\\n",
       "0             2.0               11.0   Anamaria      Bauer   45   \n",
       "1             7.0               30.0     Mickey  Wilkerson   28   \n",
       "2            14.0               44.0     Mickey  Wilkerson   28   \n",
       "3            22.0               53.0     Mickey  Wilkerson   28   \n",
       "4            19.0               36.0     Mickey  Wilkerson   28   \n",
       "\n",
       "                                    city    reg_date      plan  churn_date  \n",
       "0  Atlanta-Sandy Springs-Roswell, GA MSA  2018-12-24  ultimate  2019-01-01  \n",
       "1        Seattle-Tacoma-Bellevue, WA MSA  2018-08-13      surf  2019-01-01  \n",
       "2        Seattle-Tacoma-Bellevue, WA MSA  2018-08-13      surf  2019-01-01  \n",
       "3        Seattle-Tacoma-Bellevue, WA MSA  2018-08-13      surf  2019-01-01  \n",
       "4        Seattle-Tacoma-Bellevue, WA MSA  2018-08-13      surf  2019-01-01  "
      ]
     },
     "execution_count": 50,
     "metadata": {},
     "output_type": "execute_result"
    }
   ],
   "source": [
    "data.head()"
   ]
  },
  {
   "cell_type": "code",
   "execution_count": 51,
   "metadata": {},
   "outputs": [],
   "source": [
    "#writing a function to calculate the price of every possible scenario for each customer \n",
    "#according to the description of the project\n",
    "def charge(row):\n",
    "    plans = row['plan']\n",
    "    mins = row['min_per_month']\n",
    "    gigs = row['giga_per_month']\n",
    "    mess = row['message_per_month']\n",
    "    if plans == 'surf':\n",
    "        if mins <= 500:\n",
    "            if gigs <= 15:\n",
    "                if mess <= 50:\n",
    "                    monthly_charge = 20\n",
    "                else:\n",
    "                    monthly_charge = 20 + (mess - 50) * 0.03\n",
    "            else:\n",
    "                if mess <= 50:\n",
    "                    monthly_charge = 20 + (gigs - 15) * 10\n",
    "                else:\n",
    "                    monthly_charge = 20 + (gigs - 15) * 10 + (mess - 50) * 0.03\n",
    "        else:\n",
    "            if gigs <= 15:\n",
    "                if mess <= 50:\n",
    "                    monthly_charge = 20 + (mins - 500) * 0.03\n",
    "                else:\n",
    "                    monthly_charge = 20 + (mins - 500) * 0.03 + (mess - 50) * 0.03\n",
    "            else:\n",
    "                if mess <= 50:\n",
    "                    monthly_charge = 20 + (mins - 500) * 0.03 + (gigs - 15) * 10\n",
    "                else:\n",
    "                    monthly_charge = 20 + (mins - 500) * 0.03 + (gigs - 15) * 10 + (mess - 50) * 0.03\n",
    "    else:\n",
    "        if mins <= 3000:\n",
    "            if gigs <= 30:\n",
    "                if mess <= 1000:\n",
    "                    monthly_charge = 70\n",
    "                else:\n",
    "                    monthly_charge = 70 + (mess - 1000) * 0.01\n",
    "            else:\n",
    "                if mess <= 1000:\n",
    "                    monthly_charge = 70 + (gigs - 30) * 7\n",
    "                else:\n",
    "                    monthly_charge = 70 + (gigs - 30) * 7 + (mess - 1000) * 0.01\n",
    "        else:\n",
    "            if gigs <= 30:\n",
    "                if mess <= 1000:\n",
    "                    monthly_charge = 70 + (mins - 3000) * 0.01\n",
    "                else:\n",
    "                    monthly_charge = 70 + (mins - 3000) * 0.01 + (mess - 1000) * 0.01\n",
    "            else:\n",
    "                if mess <= 1000:\n",
    "                    monthly_charge = 70 + (mins - 3000) * 0.01 + (gigs - 30) * 7\n",
    "                else:\n",
    "                    monthly_charge = 70 + (mins - 3000) * 0.01 + (gigs - 30) * 7 + (mess - 1000) * 0.01\n",
    "    return monthly_charge       "
   ]
  },
  {
   "cell_type": "code",
   "execution_count": 52,
   "metadata": {},
   "outputs": [],
   "source": [
    "#addind the result as a column to data frame\n",
    "data['monthly_charge'] = data.apply(charge,axis=1)"
   ]
  },
  {
   "cell_type": "code",
   "execution_count": 53,
   "metadata": {
    "scrolled": true
   },
   "outputs": [
    {
     "data": {
      "text/html": [
       "<div>\n",
       "<style scoped>\n",
       "    .dataframe tbody tr th:only-of-type {\n",
       "        vertical-align: middle;\n",
       "    }\n",
       "\n",
       "    .dataframe tbody tr th {\n",
       "        vertical-align: top;\n",
       "    }\n",
       "\n",
       "    .dataframe thead th {\n",
       "        text-align: right;\n",
       "    }\n",
       "</style>\n",
       "<table border=\"1\" class=\"dataframe\">\n",
       "  <thead>\n",
       "    <tr style=\"text-align: right;\">\n",
       "      <th></th>\n",
       "      <th>user_id</th>\n",
       "      <th>month</th>\n",
       "      <th>call_per_month</th>\n",
       "      <th>min_per_month</th>\n",
       "      <th>session_per_month</th>\n",
       "      <th>giga_per_month</th>\n",
       "      <th>message_per_month</th>\n",
       "      <th>first_name</th>\n",
       "      <th>last_name</th>\n",
       "      <th>age</th>\n",
       "      <th>city</th>\n",
       "      <th>reg_date</th>\n",
       "      <th>plan</th>\n",
       "      <th>churn_date</th>\n",
       "      <th>monthly_charge</th>\n",
       "    </tr>\n",
       "  </thead>\n",
       "  <tbody>\n",
       "    <tr>\n",
       "      <td>0</td>\n",
       "      <td>1000</td>\n",
       "      <td>12.0</td>\n",
       "      <td>16.0</td>\n",
       "      <td>124.0</td>\n",
       "      <td>5.0</td>\n",
       "      <td>2.0</td>\n",
       "      <td>11.0</td>\n",
       "      <td>Anamaria</td>\n",
       "      <td>Bauer</td>\n",
       "      <td>45</td>\n",
       "      <td>Atlanta-Sandy Springs-Roswell, GA MSA</td>\n",
       "      <td>2018-12-24</td>\n",
       "      <td>ultimate</td>\n",
       "      <td>2019-01-01</td>\n",
       "      <td>70.00</td>\n",
       "    </tr>\n",
       "    <tr>\n",
       "      <td>1</td>\n",
       "      <td>1001</td>\n",
       "      <td>8.0</td>\n",
       "      <td>27.0</td>\n",
       "      <td>182.0</td>\n",
       "      <td>25.0</td>\n",
       "      <td>7.0</td>\n",
       "      <td>30.0</td>\n",
       "      <td>Mickey</td>\n",
       "      <td>Wilkerson</td>\n",
       "      <td>28</td>\n",
       "      <td>Seattle-Tacoma-Bellevue, WA MSA</td>\n",
       "      <td>2018-08-13</td>\n",
       "      <td>surf</td>\n",
       "      <td>2019-01-01</td>\n",
       "      <td>20.00</td>\n",
       "    </tr>\n",
       "    <tr>\n",
       "      <td>2</td>\n",
       "      <td>1001</td>\n",
       "      <td>9.0</td>\n",
       "      <td>49.0</td>\n",
       "      <td>315.0</td>\n",
       "      <td>53.0</td>\n",
       "      <td>14.0</td>\n",
       "      <td>44.0</td>\n",
       "      <td>Mickey</td>\n",
       "      <td>Wilkerson</td>\n",
       "      <td>28</td>\n",
       "      <td>Seattle-Tacoma-Bellevue, WA MSA</td>\n",
       "      <td>2018-08-13</td>\n",
       "      <td>surf</td>\n",
       "      <td>2019-01-01</td>\n",
       "      <td>20.00</td>\n",
       "    </tr>\n",
       "    <tr>\n",
       "      <td>3</td>\n",
       "      <td>1001</td>\n",
       "      <td>10.0</td>\n",
       "      <td>65.0</td>\n",
       "      <td>393.0</td>\n",
       "      <td>56.0</td>\n",
       "      <td>22.0</td>\n",
       "      <td>53.0</td>\n",
       "      <td>Mickey</td>\n",
       "      <td>Wilkerson</td>\n",
       "      <td>28</td>\n",
       "      <td>Seattle-Tacoma-Bellevue, WA MSA</td>\n",
       "      <td>2018-08-13</td>\n",
       "      <td>surf</td>\n",
       "      <td>2019-01-01</td>\n",
       "      <td>90.09</td>\n",
       "    </tr>\n",
       "    <tr>\n",
       "      <td>4</td>\n",
       "      <td>1001</td>\n",
       "      <td>11.0</td>\n",
       "      <td>64.0</td>\n",
       "      <td>426.0</td>\n",
       "      <td>51.0</td>\n",
       "      <td>19.0</td>\n",
       "      <td>36.0</td>\n",
       "      <td>Mickey</td>\n",
       "      <td>Wilkerson</td>\n",
       "      <td>28</td>\n",
       "      <td>Seattle-Tacoma-Bellevue, WA MSA</td>\n",
       "      <td>2018-08-13</td>\n",
       "      <td>surf</td>\n",
       "      <td>2019-01-01</td>\n",
       "      <td>60.00</td>\n",
       "    </tr>\n",
       "  </tbody>\n",
       "</table>\n",
       "</div>"
      ],
      "text/plain": [
       "   user_id  month  call_per_month  min_per_month  session_per_month  \\\n",
       "0     1000   12.0            16.0          124.0                5.0   \n",
       "1     1001    8.0            27.0          182.0               25.0   \n",
       "2     1001    9.0            49.0          315.0               53.0   \n",
       "3     1001   10.0            65.0          393.0               56.0   \n",
       "4     1001   11.0            64.0          426.0               51.0   \n",
       "\n",
       "   giga_per_month  message_per_month first_name  last_name  age  \\\n",
       "0             2.0               11.0   Anamaria      Bauer   45   \n",
       "1             7.0               30.0     Mickey  Wilkerson   28   \n",
       "2            14.0               44.0     Mickey  Wilkerson   28   \n",
       "3            22.0               53.0     Mickey  Wilkerson   28   \n",
       "4            19.0               36.0     Mickey  Wilkerson   28   \n",
       "\n",
       "                                    city    reg_date      plan  churn_date  \\\n",
       "0  Atlanta-Sandy Springs-Roswell, GA MSA  2018-12-24  ultimate  2019-01-01   \n",
       "1        Seattle-Tacoma-Bellevue, WA MSA  2018-08-13      surf  2019-01-01   \n",
       "2        Seattle-Tacoma-Bellevue, WA MSA  2018-08-13      surf  2019-01-01   \n",
       "3        Seattle-Tacoma-Bellevue, WA MSA  2018-08-13      surf  2019-01-01   \n",
       "4        Seattle-Tacoma-Bellevue, WA MSA  2018-08-13      surf  2019-01-01   \n",
       "\n",
       "   monthly_charge  \n",
       "0           70.00  \n",
       "1           20.00  \n",
       "2           20.00  \n",
       "3           90.09  \n",
       "4           60.00  "
      ]
     },
     "execution_count": 53,
     "metadata": {},
     "output_type": "execute_result"
    }
   ],
   "source": [
    "#checking\n",
    "data.head()"
   ]
  },
  {
   "cell_type": "markdown",
   "metadata": {},
   "source": [
    "<div class=\"alert alert-block alert-success\">\n",
    "<b>Reviewer's comment v1:</b>\n",
    "    \n",
    "Everything is correct here! Great, that you created a function to calculate revenue.\n",
    "\n",
    "Btw it is also possible to make the calculation of revenue a little bit shorter / easier using np.where - [https://numpy.org/doc/stable/reference/generated/numpy.where.html](https://numpy.org/doc/stable/reference/generated/numpy.where.html)\n",
    "\n",
    "```\n",
    "  np.where ('condition: if exceeding the package limit', 'multiply the difference by the price of additional services', '0')\n",
    "```\n",
    "\n",
    "Also, it is better to avoid hard-coding in your functions of all values from the data plans. These values could be frequently updated and it will be annoyingly inconvenient to update them once again in the function. I would recommend to use an actual table with values or create a separate data dictionary - https://towardsdatascience.com/12-examples-to-master-python-dictionaries-5a8bcd688c6d"
   ]
  },
  {
   "cell_type": "markdown",
   "metadata": {},
   "source": [
    "**Ok, we have used our four data files (three directly and one indirectly in the form of a function) and some manipulations to create a new relevant, clean data set that will hopefully help us achieve our goal. after preparing the data, it is time to understand it.**\n",
    "**In other words, it's time to do some math and make some graphs. Our focus is on the `money-related` columns.**"
   ]
  },
  {
   "cell_type": "markdown",
   "metadata": {},
   "source": [
    "**We have four of them and in the next part of the project we will use exactly the same techniques and methods to extract the hidden information they conceal. and will use these new findings to reach a conclusion.**"
   ]
  },
  {
   "cell_type": "code",
   "execution_count": 54,
   "metadata": {},
   "outputs": [
    {
     "data": {
      "text/plain": [
       "count    2303.000000\n",
       "mean      427.419453\n",
       "std       237.490294\n",
       "min         0.000000\n",
       "25%       262.500000\n",
       "50%       424.000000\n",
       "75%       571.500000\n",
       "max      1510.000000\n",
       "Name: min_per_month, dtype: float64"
      ]
     },
     "execution_count": 54,
     "metadata": {},
     "output_type": "execute_result"
    }
   ],
   "source": [
    "#statistical data about duration of calls\n",
    "data['min_per_month'].describe()"
   ]
  },
  {
   "cell_type": "code",
   "execution_count": 55,
   "metadata": {},
   "outputs": [
    {
     "data": {
      "text/html": [
       "<div>\n",
       "<style scoped>\n",
       "    .dataframe tbody tr th:only-of-type {\n",
       "        vertical-align: middle;\n",
       "    }\n",
       "\n",
       "    .dataframe tbody tr th {\n",
       "        vertical-align: top;\n",
       "    }\n",
       "\n",
       "    .dataframe thead th {\n",
       "        text-align: right;\n",
       "    }\n",
       "</style>\n",
       "<table border=\"1\" class=\"dataframe\">\n",
       "  <thead>\n",
       "    <tr style=\"text-align: right;\">\n",
       "      <th></th>\n",
       "      <th>count</th>\n",
       "      <th>mean</th>\n",
       "      <th>std</th>\n",
       "      <th>min</th>\n",
       "      <th>25%</th>\n",
       "      <th>50%</th>\n",
       "      <th>75%</th>\n",
       "      <th>max</th>\n",
       "    </tr>\n",
       "    <tr>\n",
       "      <th>plan</th>\n",
       "      <th></th>\n",
       "      <th></th>\n",
       "      <th></th>\n",
       "      <th></th>\n",
       "      <th></th>\n",
       "      <th></th>\n",
       "      <th></th>\n",
       "      <th></th>\n",
       "    </tr>\n",
       "  </thead>\n",
       "  <tbody>\n",
       "    <tr>\n",
       "      <td>surf</td>\n",
       "      <td>1579.0</td>\n",
       "      <td>427.120329</td>\n",
       "      <td>235.490079</td>\n",
       "      <td>0.0</td>\n",
       "      <td>269.00</td>\n",
       "      <td>424.0</td>\n",
       "      <td>576.00</td>\n",
       "      <td>1510.0</td>\n",
       "    </tr>\n",
       "    <tr>\n",
       "      <td>ultimate</td>\n",
       "      <td>724.0</td>\n",
       "      <td>428.071823</td>\n",
       "      <td>241.958423</td>\n",
       "      <td>0.0</td>\n",
       "      <td>258.75</td>\n",
       "      <td>421.5</td>\n",
       "      <td>564.25</td>\n",
       "      <td>1369.0</td>\n",
       "    </tr>\n",
       "  </tbody>\n",
       "</table>\n",
       "</div>"
      ],
      "text/plain": [
       "           count        mean         std  min     25%    50%     75%     max\n",
       "plan                                                                        \n",
       "surf      1579.0  427.120329  235.490079  0.0  269.00  424.0  576.00  1510.0\n",
       "ultimate   724.0  428.071823  241.958423  0.0  258.75  421.5  564.25  1369.0"
      ]
     },
     "execution_count": 55,
     "metadata": {},
     "output_type": "execute_result"
    }
   ],
   "source": [
    "#statistical data about duration of calls for each plan\n",
    "data.groupby(['plan'])['min_per_month'].describe()"
   ]
  },
  {
   "cell_type": "code",
   "execution_count": 56,
   "metadata": {},
   "outputs": [
    {
     "data": {
      "image/png": "[encoded data removed]",
      "text/plain": [
       "<Figure size 576x396 with 1 Axes>"
      ]
     },
     "metadata": {},
     "output_type": "display_data"
    }
   ],
   "source": [
    "data.min_per_month.hist()\n",
    "plt.title('minutes per month')\n",
    "plt.show()"
   ]
  },
  {
   "cell_type": "code",
   "execution_count": 57,
   "metadata": {},
   "outputs": [
    {
     "data": {
      "image/png": "[encoded data removed]",
      "text/plain": [
       "<Figure size 576x396 with 2 Axes>"
      ]
     },
     "metadata": {},
     "output_type": "display_data"
    }
   ],
   "source": [
    "#visualizing the data about duration of calls for each plan\n",
    "data.min_per_month.hist(by=data['plan'])\n",
    "plt.show()"
   ]
  },
  {
   "cell_type": "code",
   "execution_count": 58,
   "metadata": {},
   "outputs": [
    {
     "data": {
      "image/png": "[encoded data removed]",
      "text/plain": [
       "<Figure size 576x396 with 1 Axes>"
      ]
     },
     "metadata": {},
     "output_type": "display_data"
    }
   ],
   "source": [
    "sns.boxplot(data=data, x='plan', y='min_per_month')\n",
    "plt.show()"
   ]
  },
  {
   "cell_type": "code",
   "execution_count": 59,
   "metadata": {},
   "outputs": [
    {
     "data": {
      "image/png": "[encoded data removed]",
      "text/plain": [
       "<Figure size 576x396 with 1 Axes>"
      ]
     },
     "metadata": {},
     "output_type": "display_data"
    }
   ],
   "source": [
    "sns.histplot(data, x='min_per_month', hue='plan')\n",
    "plt.show()"
   ]
  },
  {
   "cell_type": "markdown",
   "metadata": {},
   "source": [
    "***The data suggest that there is no obvious difference between the two company plans. The statistical characteristics and, moreover, their visual form, i.e., the graphs and charts, indicate that members of both plans behave practicaly the same when it comes to customer calling patterns. Therefore, it is not possible to draw a conclusion on the question \"Which plan is more profitable for the company?\" based on this parameter alone.***"
   ]
  },
  {
   "cell_type": "code",
   "execution_count": 60,
   "metadata": {},
   "outputs": [
    {
     "data": {
      "text/plain": [
       "count    2303.000000\n",
       "mean       16.797221\n",
       "std         7.857946\n",
       "min         0.000000\n",
       "25%        12.000000\n",
       "50%        17.000000\n",
       "75%        21.000000\n",
       "max        70.000000\n",
       "Name: giga_per_month, dtype: float64"
      ]
     },
     "execution_count": 60,
     "metadata": {},
     "output_type": "execute_result"
    }
   ],
   "source": [
    "data['giga_per_month'].describe()"
   ]
  },
  {
   "cell_type": "code",
   "execution_count": 61,
   "metadata": {},
   "outputs": [
    {
     "data": {
      "text/html": [
       "<div>\n",
       "<style scoped>\n",
       "    .dataframe tbody tr th:only-of-type {\n",
       "        vertical-align: middle;\n",
       "    }\n",
       "\n",
       "    .dataframe tbody tr th {\n",
       "        vertical-align: top;\n",
       "    }\n",
       "\n",
       "    .dataframe thead th {\n",
       "        text-align: right;\n",
       "    }\n",
       "</style>\n",
       "<table border=\"1\" class=\"dataframe\">\n",
       "  <thead>\n",
       "    <tr style=\"text-align: right;\">\n",
       "      <th></th>\n",
       "      <th>count</th>\n",
       "      <th>mean</th>\n",
       "      <th>std</th>\n",
       "      <th>min</th>\n",
       "      <th>25%</th>\n",
       "      <th>50%</th>\n",
       "      <th>75%</th>\n",
       "      <th>max</th>\n",
       "    </tr>\n",
       "    <tr>\n",
       "      <th>plan</th>\n",
       "      <th></th>\n",
       "      <th></th>\n",
       "      <th></th>\n",
       "      <th></th>\n",
       "      <th></th>\n",
       "      <th></th>\n",
       "      <th></th>\n",
       "      <th></th>\n",
       "    </tr>\n",
       "  </thead>\n",
       "  <tbody>\n",
       "    <tr>\n",
       "      <td>surf</td>\n",
       "      <td>1579.0</td>\n",
       "      <td>16.607346</td>\n",
       "      <td>7.899502</td>\n",
       "      <td>0.0</td>\n",
       "      <td>12.0</td>\n",
       "      <td>17.0</td>\n",
       "      <td>21.0</td>\n",
       "      <td>70.0</td>\n",
       "    </tr>\n",
       "    <tr>\n",
       "      <td>ultimate</td>\n",
       "      <td>724.0</td>\n",
       "      <td>17.211326</td>\n",
       "      <td>7.755841</td>\n",
       "      <td>0.0</td>\n",
       "      <td>13.0</td>\n",
       "      <td>17.0</td>\n",
       "      <td>21.0</td>\n",
       "      <td>46.0</td>\n",
       "    </tr>\n",
       "  </tbody>\n",
       "</table>\n",
       "</div>"
      ],
      "text/plain": [
       "           count       mean       std  min   25%   50%   75%   max\n",
       "plan                                                              \n",
       "surf      1579.0  16.607346  7.899502  0.0  12.0  17.0  21.0  70.0\n",
       "ultimate   724.0  17.211326  7.755841  0.0  13.0  17.0  21.0  46.0"
      ]
     },
     "execution_count": 61,
     "metadata": {},
     "output_type": "execute_result"
    }
   ],
   "source": [
    "data.groupby(['plan'])['giga_per_month'].describe()"
   ]
  },
  {
   "cell_type": "code",
   "execution_count": 62,
   "metadata": {},
   "outputs": [
    {
     "data": {
      "image/png": "[encoded data removed]",
      "text/plain": [
       "<Figure size 576x396 with 1 Axes>"
      ]
     },
     "metadata": {},
     "output_type": "display_data"
    }
   ],
   "source": [
    "data.giga_per_month.hist()\n",
    "plt.title('gigabytes per month')\n",
    "plt.show()"
   ]
  },
  {
   "cell_type": "code",
   "execution_count": 63,
   "metadata": {},
   "outputs": [
    {
     "data": {
      "image/png": "[encoded data removed]",
      "text/plain": [
       "<Figure size 576x396 with 2 Axes>"
      ]
     },
     "metadata": {},
     "output_type": "display_data"
    }
   ],
   "source": [
    "data.giga_per_month.hist(by=data['plan'])\n",
    "plt.show()"
   ]
  },
  {
   "cell_type": "code",
   "execution_count": 64,
   "metadata": {},
   "outputs": [
    {
     "data": {
      "image/png": "[encoded data removed]",
      "text/plain": [
       "<Figure size 576x396 with 1 Axes>"
      ]
     },
     "metadata": {},
     "output_type": "display_data"
    }
   ],
   "source": [
    "sns.boxplot(data=data, x='plan', y='giga_per_month')\n",
    "plt.show()"
   ]
  },
  {
   "cell_type": "code",
   "execution_count": 65,
   "metadata": {},
   "outputs": [
    {
     "data": {
      "image/png": "[encoded data removed]",
      "text/plain": [
       "<Figure size 576x396 with 1 Axes>"
      ]
     },
     "metadata": {},
     "output_type": "display_data"
    }
   ],
   "source": [
    "sns.histplot(data, x='giga_per_month', hue='plan')\n",
    "plt.show()"
   ]
  },
  {
   "cell_type": "markdown",
   "metadata": {},
   "source": [
    "***Again, the comparison between the two rates shows no obvious difference. It appears  that members of both tariffs behave in the same way with regard to surfing the Internet.***"
   ]
  },
  {
   "cell_type": "code",
   "execution_count": 66,
   "metadata": {},
   "outputs": [
    {
     "data": {
      "text/plain": [
       "count    2303.000000\n",
       "mean       33.022579\n",
       "std        34.065907\n",
       "min         0.000000\n",
       "25%         3.000000\n",
       "50%        25.000000\n",
       "75%        51.000000\n",
       "max       266.000000\n",
       "Name: message_per_month, dtype: float64"
      ]
     },
     "execution_count": 66,
     "metadata": {},
     "output_type": "execute_result"
    }
   ],
   "source": [
    "data['message_per_month'].describe()"
   ]
  },
  {
   "cell_type": "code",
   "execution_count": 67,
   "metadata": {},
   "outputs": [
    {
     "data": {
      "text/html": [
       "<div>\n",
       "<style scoped>\n",
       "    .dataframe tbody tr th:only-of-type {\n",
       "        vertical-align: middle;\n",
       "    }\n",
       "\n",
       "    .dataframe tbody tr th {\n",
       "        vertical-align: top;\n",
       "    }\n",
       "\n",
       "    .dataframe thead th {\n",
       "        text-align: right;\n",
       "    }\n",
       "</style>\n",
       "<table border=\"1\" class=\"dataframe\">\n",
       "  <thead>\n",
       "    <tr style=\"text-align: right;\">\n",
       "      <th></th>\n",
       "      <th>count</th>\n",
       "      <th>mean</th>\n",
       "      <th>std</th>\n",
       "      <th>min</th>\n",
       "      <th>25%</th>\n",
       "      <th>50%</th>\n",
       "      <th>75%</th>\n",
       "      <th>max</th>\n",
       "    </tr>\n",
       "    <tr>\n",
       "      <th>plan</th>\n",
       "      <th></th>\n",
       "      <th></th>\n",
       "      <th></th>\n",
       "      <th></th>\n",
       "      <th></th>\n",
       "      <th></th>\n",
       "      <th></th>\n",
       "      <th></th>\n",
       "    </tr>\n",
       "  </thead>\n",
       "  <tbody>\n",
       "    <tr>\n",
       "      <td>surf</td>\n",
       "      <td>1579.0</td>\n",
       "      <td>31.041165</td>\n",
       "      <td>33.557683</td>\n",
       "      <td>0.0</td>\n",
       "      <td>3.0</td>\n",
       "      <td>24.0</td>\n",
       "      <td>47.00</td>\n",
       "      <td>266.0</td>\n",
       "    </tr>\n",
       "    <tr>\n",
       "      <td>ultimate</td>\n",
       "      <td>724.0</td>\n",
       "      <td>37.343923</td>\n",
       "      <td>34.782576</td>\n",
       "      <td>0.0</td>\n",
       "      <td>6.0</td>\n",
       "      <td>30.0</td>\n",
       "      <td>60.25</td>\n",
       "      <td>166.0</td>\n",
       "    </tr>\n",
       "  </tbody>\n",
       "</table>\n",
       "</div>"
      ],
      "text/plain": [
       "           count       mean        std  min  25%   50%    75%    max\n",
       "plan                                                                \n",
       "surf      1579.0  31.041165  33.557683  0.0  3.0  24.0  47.00  266.0\n",
       "ultimate   724.0  37.343923  34.782576  0.0  6.0  30.0  60.25  166.0"
      ]
     },
     "execution_count": 67,
     "metadata": {},
     "output_type": "execute_result"
    }
   ],
   "source": [
    "data.groupby(['plan'])['message_per_month'].describe()"
   ]
  },
  {
   "cell_type": "code",
   "execution_count": 68,
   "metadata": {},
   "outputs": [
    {
     "data": {
      "image/png": "[encoded data removed]",
      "text/plain": [
       "<Figure size 576x396 with 1 Axes>"
      ]
     },
     "metadata": {},
     "output_type": "display_data"
    }
   ],
   "source": [
    "data.message_per_month.hist()\n",
    "plt.title('messages per month')\n",
    "plt.show()"
   ]
  },
  {
   "cell_type": "code",
   "execution_count": 69,
   "metadata": {},
   "outputs": [
    {
     "data": {
      "image/png": "[encoded data removed]",
      "text/plain": [
       "<Figure size 576x396 with 2 Axes>"
      ]
     },
     "metadata": {},
     "output_type": "display_data"
    }
   ],
   "source": [
    "data.message_per_month.hist(by=data['plan'])\n",
    "plt.show()"
   ]
  },
  {
   "cell_type": "code",
   "execution_count": 70,
   "metadata": {},
   "outputs": [
    {
     "data": {
      "image/png": "[encoded data removed]",
      "text/plain": [
       "<Figure size 576x396 with 1 Axes>"
      ]
     },
     "metadata": {},
     "output_type": "display_data"
    }
   ],
   "source": [
    "sns.boxplot(data=data, x='plan', y='message_per_month')\n",
    "plt.show()"
   ]
  },
  {
   "cell_type": "code",
   "execution_count": 71,
   "metadata": {},
   "outputs": [
    {
     "data": {
      "image/png": "[encoded data removed]",
      "text/plain": [
       "<Figure size 576x396 with 1 Axes>"
      ]
     },
     "metadata": {},
     "output_type": "display_data"
    }
   ],
   "source": [
    "sns.histplot(data, x='message_per_month', hue='plan')\n",
    "plt.show()"
   ]
  },
  {
   "cell_type": "markdown",
   "metadata": {},
   "source": [
    "***In the `messages` there is a slight difference between the two plans. But it is not wise to develop the future strategies of the company on the basis of this tiny difference and this insignificant (in terms of \"revenue\") parameter.***"
   ]
  },
  {
   "cell_type": "code",
   "execution_count": 72,
   "metadata": {},
   "outputs": [
    {
     "data": {
      "text/plain": [
       "count    2303.000000\n",
       "mean       64.245410\n",
       "std        46.579107\n",
       "min        20.000000\n",
       "25%        23.390000\n",
       "50%        70.000000\n",
       "75%        70.000000\n",
       "max       590.370000\n",
       "Name: monthly_charge, dtype: float64"
      ]
     },
     "execution_count": 72,
     "metadata": {},
     "output_type": "execute_result"
    }
   ],
   "source": [
    "data['monthly_charge'].describe()"
   ]
  },
  {
   "cell_type": "code",
   "execution_count": 73,
   "metadata": {},
   "outputs": [
    {
     "data": {
      "text/html": [
       "<div>\n",
       "<style scoped>\n",
       "    .dataframe tbody tr th:only-of-type {\n",
       "        vertical-align: middle;\n",
       "    }\n",
       "\n",
       "    .dataframe tbody tr th {\n",
       "        vertical-align: top;\n",
       "    }\n",
       "\n",
       "    .dataframe thead th {\n",
       "        text-align: right;\n",
       "    }\n",
       "</style>\n",
       "<table border=\"1\" class=\"dataframe\">\n",
       "  <thead>\n",
       "    <tr style=\"text-align: right;\">\n",
       "      <th></th>\n",
       "      <th>count</th>\n",
       "      <th>mean</th>\n",
       "      <th>std</th>\n",
       "      <th>min</th>\n",
       "      <th>25%</th>\n",
       "      <th>50%</th>\n",
       "      <th>75%</th>\n",
       "      <th>max</th>\n",
       "    </tr>\n",
       "    <tr>\n",
       "      <th>plan</th>\n",
       "      <th></th>\n",
       "      <th></th>\n",
       "      <th></th>\n",
       "      <th></th>\n",
       "      <th></th>\n",
       "      <th></th>\n",
       "      <th></th>\n",
       "      <th></th>\n",
       "    </tr>\n",
       "  </thead>\n",
       "  <tbody>\n",
       "    <tr>\n",
       "      <td>surf</td>\n",
       "      <td>1579.0</td>\n",
       "      <td>60.551729</td>\n",
       "      <td>55.339379</td>\n",
       "      <td>20.0</td>\n",
       "      <td>20.0</td>\n",
       "      <td>40.18</td>\n",
       "      <td>80.315</td>\n",
       "      <td>590.37</td>\n",
       "    </tr>\n",
       "    <tr>\n",
       "      <td>ultimate</td>\n",
       "      <td>724.0</td>\n",
       "      <td>72.301105</td>\n",
       "      <td>11.364839</td>\n",
       "      <td>70.0</td>\n",
       "      <td>70.0</td>\n",
       "      <td>70.00</td>\n",
       "      <td>70.000</td>\n",
       "      <td>182.00</td>\n",
       "    </tr>\n",
       "  </tbody>\n",
       "</table>\n",
       "</div>"
      ],
      "text/plain": [
       "           count       mean        std   min   25%    50%     75%     max\n",
       "plan                                                                     \n",
       "surf      1579.0  60.551729  55.339379  20.0  20.0  40.18  80.315  590.37\n",
       "ultimate   724.0  72.301105  11.364839  70.0  70.0  70.00  70.000  182.00"
      ]
     },
     "execution_count": 73,
     "metadata": {},
     "output_type": "execute_result"
    }
   ],
   "source": [
    "data.groupby(['plan'])['monthly_charge'].describe()"
   ]
  },
  {
   "cell_type": "code",
   "execution_count": 74,
   "metadata": {},
   "outputs": [
    {
     "data": {
      "image/png": "[encoded data removed]",
      "text/plain": [
       "<Figure size 576x396 with 1 Axes>"
      ]
     },
     "metadata": {},
     "output_type": "display_data"
    }
   ],
   "source": [
    "data.monthly_charge.hist()\n",
    "plt.show()"
   ]
  },
  {
   "cell_type": "code",
   "execution_count": 75,
   "metadata": {},
   "outputs": [
    {
     "data": {
      "image/png": "[encoded data removed]",
      "text/plain": [
       "<Figure size 576x396 with 2 Axes>"
      ]
     },
     "metadata": {},
     "output_type": "display_data"
    }
   ],
   "source": [
    "data.monthly_charge.hist(by=data['plan'])\n",
    "plt.show()"
   ]
  },
  {
   "cell_type": "code",
   "execution_count": 76,
   "metadata": {},
   "outputs": [
    {
     "data": {
      "image/png": "[encoded data removed]",
      "text/plain": [
       "<Figure size 576x396 with 1 Axes>"
      ]
     },
     "metadata": {},
     "output_type": "display_data"
    }
   ],
   "source": [
    "sns.boxplot(data=data, x='plan', y='monthly_charge')\n",
    "plt.show()"
   ]
  },
  {
   "cell_type": "code",
   "execution_count": 77,
   "metadata": {},
   "outputs": [
    {
     "data": {
      "image/png": "[encoded data removed]",
      "text/plain": [
       "<Figure size 576x396 with 1 Axes>"
      ]
     },
     "metadata": {},
     "output_type": "display_data"
    }
   ],
   "source": [
    "sns.histplot(data, x='monthly_charge', hue='plan')\n",
    "plt.show()"
   ]
  },
  {
   "cell_type": "markdown",
   "metadata": {},
   "source": [
    "***And finally, the most important column: `monthly_charge`. When we talk about money, we talk about this parameter. And surprisingly, numbers and graphs have something interesting to tell us here: there 'is' an obvious and measurable difference between the two plans in this category.***"
   ]
  },
  {
   "cell_type": "markdown",
   "metadata": {},
   "source": [
    "**So here is the problem: although there is a difference between `Surf` and `Ultimate` plans in monthly revenue, there is no indication that any of the money-making columns are the reason for that difference. That's odd. We should look into this more.**"
   ]
  },
  {
   "cell_type": "markdown",
   "metadata": {},
   "source": [
    "**Let us deepen our statistical journey. This time we will examine the \"average of averages\" (or the \"mean of means,\" if you will) and force the data to tell us more. Perhaps by creating a more\" normalised\" model of our data, we can figure out the key element responsible for the difference between two plans.**"
   ]
  },
  {
   "cell_type": "code",
   "execution_count": 78,
   "metadata": {},
   "outputs": [],
   "source": [
    "#creating a group about every \"money-related\" column and the connection between them and each user and his/her plan\n",
    "G_charge = data.groupby(['user_id', 'plan'])['min_per_month', 'giga_per_month', 'message_per_month', 'monthly_charge'].mean().add_suffix('_mean').reset_index()"
   ]
  },
  {
   "cell_type": "code",
   "execution_count": 79,
   "metadata": {},
   "outputs": [
    {
     "data": {
      "text/html": [
       "<div>\n",
       "<style scoped>\n",
       "    .dataframe tbody tr th:only-of-type {\n",
       "        vertical-align: middle;\n",
       "    }\n",
       "\n",
       "    .dataframe tbody tr th {\n",
       "        vertical-align: top;\n",
       "    }\n",
       "\n",
       "    .dataframe thead th {\n",
       "        text-align: right;\n",
       "    }\n",
       "</style>\n",
       "<table border=\"1\" class=\"dataframe\">\n",
       "  <thead>\n",
       "    <tr style=\"text-align: right;\">\n",
       "      <th></th>\n",
       "      <th>user_id</th>\n",
       "      <th>plan</th>\n",
       "      <th>min_per_month_mean</th>\n",
       "      <th>giga_per_month_mean</th>\n",
       "      <th>message_per_month_mean</th>\n",
       "      <th>monthly_charge_mean</th>\n",
       "    </tr>\n",
       "  </thead>\n",
       "  <tbody>\n",
       "    <tr>\n",
       "      <td>0</td>\n",
       "      <td>1000</td>\n",
       "      <td>ultimate</td>\n",
       "      <td>124.000000</td>\n",
       "      <td>2.000000</td>\n",
       "      <td>11.000000</td>\n",
       "      <td>70.000000</td>\n",
       "    </tr>\n",
       "    <tr>\n",
       "      <td>1</td>\n",
       "      <td>1001</td>\n",
       "      <td>surf</td>\n",
       "      <td>345.600000</td>\n",
       "      <td>16.200000</td>\n",
       "      <td>41.400000</td>\n",
       "      <td>50.018000</td>\n",
       "    </tr>\n",
       "    <tr>\n",
       "      <td>2</td>\n",
       "      <td>1002</td>\n",
       "      <td>surf</td>\n",
       "      <td>276.333333</td>\n",
       "      <td>13.666667</td>\n",
       "      <td>29.333333</td>\n",
       "      <td>33.333333</td>\n",
       "    </tr>\n",
       "    <tr>\n",
       "      <td>3</td>\n",
       "      <td>1003</td>\n",
       "      <td>surf</td>\n",
       "      <td>1104.000000</td>\n",
       "      <td>27.000000</td>\n",
       "      <td>50.000000</td>\n",
       "      <td>158.120000</td>\n",
       "    </tr>\n",
       "    <tr>\n",
       "      <td>4</td>\n",
       "      <td>1004</td>\n",
       "      <td>surf</td>\n",
       "      <td>346.500000</td>\n",
       "      <td>19.625000</td>\n",
       "      <td>22.125000</td>\n",
       "      <td>76.250000</td>\n",
       "    </tr>\n",
       "  </tbody>\n",
       "</table>\n",
       "</div>"
      ],
      "text/plain": [
       "   user_id      plan  min_per_month_mean  giga_per_month_mean  \\\n",
       "0     1000  ultimate          124.000000             2.000000   \n",
       "1     1001      surf          345.600000            16.200000   \n",
       "2     1002      surf          276.333333            13.666667   \n",
       "3     1003      surf         1104.000000            27.000000   \n",
       "4     1004      surf          346.500000            19.625000   \n",
       "\n",
       "   message_per_month_mean  monthly_charge_mean  \n",
       "0               11.000000            70.000000  \n",
       "1               41.400000            50.018000  \n",
       "2               29.333333            33.333333  \n",
       "3               50.000000           158.120000  \n",
       "4               22.125000            76.250000  "
      ]
     },
     "execution_count": 79,
     "metadata": {},
     "output_type": "execute_result"
    }
   ],
   "source": [
    "#checking\n",
    "G_charge.head()"
   ]
  },
  {
   "cell_type": "code",
   "execution_count": 80,
   "metadata": {},
   "outputs": [],
   "source": [
    "#creating a function to visualize the statistical aspects of our new group and print out some useful info's about them\n",
    "def G_charge_stats(used):\n",
    "    fig, ax = plt.subplots(figsize=(8,7))\n",
    "    ax = sns.histplot(G_charge, x=used, hue='plan')\n",
    "    mean = G_charge[used].mean()\n",
    "    std = G_charge[used].std()\n",
    "    var = G_charge[used].var()\n",
    "    cv = std / mean\n",
    "    plt.show()\n",
    "    print('Average is:', mean)\n",
    "    print(G_charge.groupby(['plan'])[used].mean())\n",
    "    if cv > 1:\n",
    "        print('Varies a lot')\n",
    "    else:\n",
    "        print('Centered around average')"
   ]
  },
  {
   "cell_type": "code",
   "execution_count": 81,
   "metadata": {},
   "outputs": [
    {
     "data": {
      "image/png": "[encoded data removed]",
      "text/plain": [
       "<Figure size 576x504 with 1 Axes>"
      ]
     },
     "metadata": {},
     "output_type": "display_data"
    },
    {
     "name": "stdout",
     "output_type": "stream",
     "text": [
      "Average is: 400.31826854256855\n",
      "plan\n",
      "surf        401.502754\n",
      "ultimate    397.824227\n",
      "Name: min_per_month_mean, dtype: float64\n",
      "Centered around average\n"
     ]
    }
   ],
   "source": [
    "G_charge_stats('min_per_month_mean')"
   ]
  },
  {
   "cell_type": "code",
   "execution_count": 82,
   "metadata": {},
   "outputs": [
    {
     "data": {
      "image/png": "[encoded data removed]",
      "text/plain": [
       "<Figure size 576x504 with 1 Axes>"
      ]
     },
     "metadata": {},
     "output_type": "display_data"
    },
    {
     "name": "stdout",
     "output_type": "stream",
     "text": [
      "Average is: 15.726600577200577\n",
      "plan\n",
      "surf        15.713833\n",
      "ultimate    15.753484\n",
      "Name: giga_per_month_mean, dtype: float64\n",
      "Centered around average\n"
     ]
    }
   ],
   "source": [
    "G_charge_stats('giga_per_month_mean')"
   ]
  },
  {
   "cell_type": "code",
   "execution_count": 83,
   "metadata": {},
   "outputs": [
    {
     "data": {
      "image/png": "[encoded data removed]",
      "text/plain": [
       "<Figure size 576x504 with 1 Axes>"
      ]
     },
     "metadata": {},
     "output_type": "display_data"
    },
    {
     "name": "stdout",
     "output_type": "stream",
     "text": [
      "Average is: 33.66440901875902\n",
      "plan\n",
      "surf        31.835321\n",
      "ultimate    37.515718\n",
      "Name: message_per_month_mean, dtype: float64\n",
      "Centered around average\n"
     ]
    }
   ],
   "source": [
    "G_charge_stats('message_per_month_mean')"
   ]
  },
  {
   "cell_type": "code",
   "execution_count": 84,
   "metadata": {},
   "outputs": [
    {
     "data": {
      "image/png": "[encoded data removed]",
      "text/plain": [
       "<Figure size 576x504 with 1 Axes>"
      ]
     },
     "metadata": {},
     "output_type": "display_data"
    },
    {
     "name": "stdout",
     "output_type": "stream",
     "text": [
      "Average is: 62.109944484848484\n",
      "plan\n",
      "surf        57.518338\n",
      "ultimate    71.777985\n",
      "Name: monthly_charge_mean, dtype: float64\n",
      "Centered around average\n"
     ]
    }
   ],
   "source": [
    "G_charge_stats('monthly_charge_mean')"
   ]
  },
  {
   "cell_type": "markdown",
   "metadata": {},
   "source": [
    "<div class=\"alert alert-block alert-success\">\n",
    "<b>Reviewer's comment v1:</b>\n",
    "    \n",
    "I will write overall thoughts about the data analysis section:\n",
    "- Overall very nice visualisation of the data and logical conclusions.\n",
    "- Great that you combined both plans on one distribution for comparison and used functions to create graphs.\n",
    "- Very good that you applied multiple types of graph to check your hypotheses.\n",
    "- If you have time and willing to practice, you can display two charts (histogram and a boxplot) using a two-column subplot.\n",
    "\n",
    "```\n",
    "    # Create one row with 2 columns\n",
    "\t  fig, axes = plt.subplots(1, 2, figsize=(16, 5))\n",
    "\n",
    "\t  # Create a histogram for the surf plan\n",
    "\t  sns.distplot(... ax=axes[0])\n",
    "\t  # Create a histogram for the second plan\n",
    "\t  sns.distplot(... ax=axes[0])\n",
    "\t\n",
    "\t  # Create a boxplot for both plans\n",
    "\t  sns.boxplot(... ax=axes[1])\n",
    "```"
   ]
  },
  {
   "cell_type": "markdown",
   "metadata": {},
   "source": [
    "**It is hard to admit, but the fact is that we have made no progress at all. The result of examining the \"averrage off averrages\" is exactly the same as before: three \"money-making\" parameters are practically the same in both plans, but the \"income\" somehow is not. Time to bring out the big guns: Let us examine the \"null hypothesis\".**"
   ]
  },
  {
   "cell_type": "code",
   "execution_count": 85,
   "metadata": {},
   "outputs": [],
   "source": [
    "#dividing the main data frame into two according to different \"plan\"s. these two will be our \"sample\"s later\n",
    "surf = data.query('plan==\"surf\"')\n",
    "ultimate = data.query('plan==\"ultimate\"')"
   ]
  },
  {
   "cell_type": "markdown",
   "metadata": {},
   "source": [
    "**In our case, the null hypothesis is formulated as follows: \"H0: The average revenues of users of Ultimate and Surf calling plans are the same.\" If we manage to find enough evidence to refute this hypothesis, we can consider the alternative: \"H1: One of these plans makes more money for the company than the other\".**"
   ]
  },
  {
   "cell_type": "code",
   "execution_count": 86,
   "metadata": {},
   "outputs": [],
   "source": [
    "#importing the needed method\n",
    "from scipy import stats"
   ]
  },
  {
   "cell_type": "code",
   "execution_count": 87,
   "metadata": {},
   "outputs": [],
   "source": [
    "#creating a function to test the H0. we choose the standard business value for alpha: 0.05\n",
    "def t_test(sample1, sample2, alpha=0.05):\n",
    "    p_value_levene = stats.levene(sample1, sample2).pvalue\n",
    "    if p_value_levene < alpha:\n",
    "        option_var = False\n",
    "    else:\n",
    "        option_var = True\n",
    "    p_value = stats.ttest_ind(sample1, sample2, nan_policy = 'omit', equal_var = option_var).pvalue\n",
    "    print('p_value_levene = ' ,p_value_levene)\n",
    "    print('p_value = ' ,p_value)\n",
    "\n",
    "    if p_value < alpha:\n",
    "        print('Reject H0 : Enough evidence to say the averages of two samples are not the same')\n",
    "        \n",
    "    else:\n",
    "        print('Fail to reject H0 : Not enough evidence to say the averages of two samples are not the same')"
   ]
  },
  {
   "cell_type": "code",
   "execution_count": 88,
   "metadata": {},
   "outputs": [
    {
     "name": "stdout",
     "output_type": "stream",
     "text": [
      "Result for : call_per_month\n",
      "p_value_levene =  0.3291756585860618\n",
      "p_value =  0.6288308023160908\n",
      "Fail to reject H0 : Not enough evidence to say the averages of two samples are not the same\n",
      "--------------------------------\n",
      "Result for : min_per_month\n",
      "p_value_levene =  0.7322123772552792\n",
      "p_value =  0.9288956196176321\n",
      "Fail to reject H0 : Not enough evidence to say the averages of two samples are not the same\n",
      "--------------------------------\n",
      "Result for : session_per_month\n",
      "p_value_levene =  0.012832349968221283\n",
      "p_value =  0.504560917814906\n",
      "Fail to reject H0 : Not enough evidence to say the averages of two samples are not the same\n",
      "--------------------------------\n",
      "Result for : giga_per_month\n",
      "p_value_levene =  0.5962065161438024\n",
      "p_value =  0.0868097375771433\n",
      "Fail to reject H0 : Not enough evidence to say the averages of two samples are not the same\n",
      "--------------------------------\n",
      "Result for : message_per_month\n",
      "p_value_levene =  0.0030964819211228597\n",
      "p_value =  4.728131867996157e-05\n",
      "Reject H0 : Enough evidence to say the averages of two samples are not the same\n",
      "--------------------------------\n",
      "Result for : monthly_charge\n",
      "p_value_levene =  3.070976609395645e-83\n",
      "p_value =  1.2184115852123163e-15\n",
      "Reject H0 : Enough evidence to say the averages of two samples are not the same\n",
      "--------------------------------\n"
     ]
    }
   ],
   "source": [
    "#and a loop to add the function to every column in our samples\n",
    "for i in data.columns:\n",
    "    if i in ['user_id','month','first_name', 'last_name', 'age', 'city', 'reg_date', 'plan', 'churn_date']:\n",
    "        continue\n",
    "    else:\n",
    "        print('Result for :' ,i)\n",
    "        t_test(surf[i], ultimate[i], alpha = 0.05)\n",
    "        print('--------------------------------')"
   ]
  },
  {
   "cell_type": "markdown",
   "metadata": {},
   "source": [
    "**The result of the test is consistent with our previous conclusions. there is a relatively large difference between two tariffs in terms of monthly income, but this difference has no basis in  the \"statistical\" carachteristics of \"calling\" or \"surfing\" in our sample groups. and yes, there is a weak dependence between \"messaging\" and income, but this is not enough to explain the difference in revenue. there must be another reason. to find this reason, we look at the correlation matrix of our quantitative data.**"
   ]
  },
  {
   "cell_type": "code",
   "execution_count": 89,
   "metadata": {},
   "outputs": [
    {
     "data": {
      "text/html": [
       "<div>\n",
       "<style scoped>\n",
       "    .dataframe tbody tr th:only-of-type {\n",
       "        vertical-align: middle;\n",
       "    }\n",
       "\n",
       "    .dataframe tbody tr th {\n",
       "        vertical-align: top;\n",
       "    }\n",
       "\n",
       "    .dataframe thead th {\n",
       "        text-align: right;\n",
       "    }\n",
       "</style>\n",
       "<table border=\"1\" class=\"dataframe\">\n",
       "  <thead>\n",
       "    <tr style=\"text-align: right;\">\n",
       "      <th></th>\n",
       "      <th>user_id</th>\n",
       "      <th>month</th>\n",
       "      <th>call_per_month</th>\n",
       "      <th>min_per_month</th>\n",
       "      <th>session_per_month</th>\n",
       "      <th>giga_per_month</th>\n",
       "      <th>message_per_month</th>\n",
       "      <th>age</th>\n",
       "      <th>monthly_charge</th>\n",
       "    </tr>\n",
       "  </thead>\n",
       "  <tbody>\n",
       "    <tr>\n",
       "      <td>user_id</td>\n",
       "      <td>1.000000</td>\n",
       "      <td>0.041443</td>\n",
       "      <td>0.018532</td>\n",
       "      <td>0.016968</td>\n",
       "      <td>-0.059863</td>\n",
       "      <td>-0.058512</td>\n",
       "      <td>-0.001642</td>\n",
       "      <td>-0.012919</td>\n",
       "      <td>-0.017833</td>\n",
       "    </tr>\n",
       "    <tr>\n",
       "      <td>month</td>\n",
       "      <td>0.041443</td>\n",
       "      <td>1.000000</td>\n",
       "      <td>0.134690</td>\n",
       "      <td>0.135074</td>\n",
       "      <td>0.188396</td>\n",
       "      <td>0.158150</td>\n",
       "      <td>0.170708</td>\n",
       "      <td>-0.013890</td>\n",
       "      <td>0.099184</td>\n",
       "    </tr>\n",
       "    <tr>\n",
       "      <td>call_per_month</td>\n",
       "      <td>0.018532</td>\n",
       "      <td>0.134690</td>\n",
       "      <td>1.000000</td>\n",
       "      <td>0.981821</td>\n",
       "      <td>0.313992</td>\n",
       "      <td>0.341558</td>\n",
       "      <td>0.247941</td>\n",
       "      <td>0.004281</td>\n",
       "      <td>0.233536</td>\n",
       "    </tr>\n",
       "    <tr>\n",
       "      <td>min_per_month</td>\n",
       "      <td>0.016968</td>\n",
       "      <td>0.135074</td>\n",
       "      <td>0.981821</td>\n",
       "      <td>1.000000</td>\n",
       "      <td>0.305655</td>\n",
       "      <td>0.331980</td>\n",
       "      <td>0.247203</td>\n",
       "      <td>-0.000603</td>\n",
       "      <td>0.224890</td>\n",
       "    </tr>\n",
       "    <tr>\n",
       "      <td>session_per_month</td>\n",
       "      <td>-0.059863</td>\n",
       "      <td>0.188396</td>\n",
       "      <td>0.313992</td>\n",
       "      <td>0.305655</td>\n",
       "      <td>1.000000</td>\n",
       "      <td>0.855765</td>\n",
       "      <td>0.094060</td>\n",
       "      <td>0.027890</td>\n",
       "      <td>0.577614</td>\n",
       "    </tr>\n",
       "    <tr>\n",
       "      <td>giga_per_month</td>\n",
       "      <td>-0.058512</td>\n",
       "      <td>0.158150</td>\n",
       "      <td>0.341558</td>\n",
       "      <td>0.331980</td>\n",
       "      <td>0.855765</td>\n",
       "      <td>1.000000</td>\n",
       "      <td>0.225449</td>\n",
       "      <td>0.020444</td>\n",
       "      <td>0.774914</td>\n",
       "    </tr>\n",
       "    <tr>\n",
       "      <td>message_per_month</td>\n",
       "      <td>-0.001642</td>\n",
       "      <td>0.170708</td>\n",
       "      <td>0.247941</td>\n",
       "      <td>0.247203</td>\n",
       "      <td>0.094060</td>\n",
       "      <td>0.225449</td>\n",
       "      <td>1.000000</td>\n",
       "      <td>-0.001970</td>\n",
       "      <td>0.159334</td>\n",
       "    </tr>\n",
       "    <tr>\n",
       "      <td>age</td>\n",
       "      <td>-0.012919</td>\n",
       "      <td>-0.013890</td>\n",
       "      <td>0.004281</td>\n",
       "      <td>-0.000603</td>\n",
       "      <td>0.027890</td>\n",
       "      <td>0.020444</td>\n",
       "      <td>-0.001970</td>\n",
       "      <td>1.000000</td>\n",
       "      <td>0.037319</td>\n",
       "    </tr>\n",
       "    <tr>\n",
       "      <td>monthly_charge</td>\n",
       "      <td>-0.017833</td>\n",
       "      <td>0.099184</td>\n",
       "      <td>0.233536</td>\n",
       "      <td>0.224890</td>\n",
       "      <td>0.577614</td>\n",
       "      <td>0.774914</td>\n",
       "      <td>0.159334</td>\n",
       "      <td>0.037319</td>\n",
       "      <td>1.000000</td>\n",
       "    </tr>\n",
       "  </tbody>\n",
       "</table>\n",
       "</div>"
      ],
      "text/plain": [
       "                    user_id     month  call_per_month  min_per_month  \\\n",
       "user_id            1.000000  0.041443        0.018532       0.016968   \n",
       "month              0.041443  1.000000        0.134690       0.135074   \n",
       "call_per_month     0.018532  0.134690        1.000000       0.981821   \n",
       "min_per_month      0.016968  0.135074        0.981821       1.000000   \n",
       "session_per_month -0.059863  0.188396        0.313992       0.305655   \n",
       "giga_per_month    -0.058512  0.158150        0.341558       0.331980   \n",
       "message_per_month -0.001642  0.170708        0.247941       0.247203   \n",
       "age               -0.012919 -0.013890        0.004281      -0.000603   \n",
       "monthly_charge    -0.017833  0.099184        0.233536       0.224890   \n",
       "\n",
       "                   session_per_month  giga_per_month  message_per_month  \\\n",
       "user_id                    -0.059863       -0.058512          -0.001642   \n",
       "month                       0.188396        0.158150           0.170708   \n",
       "call_per_month              0.313992        0.341558           0.247941   \n",
       "min_per_month               0.305655        0.331980           0.247203   \n",
       "session_per_month           1.000000        0.855765           0.094060   \n",
       "giga_per_month              0.855765        1.000000           0.225449   \n",
       "message_per_month           0.094060        0.225449           1.000000   \n",
       "age                         0.027890        0.020444          -0.001970   \n",
       "monthly_charge              0.577614        0.774914           0.159334   \n",
       "\n",
       "                        age  monthly_charge  \n",
       "user_id           -0.012919       -0.017833  \n",
       "month             -0.013890        0.099184  \n",
       "call_per_month     0.004281        0.233536  \n",
       "min_per_month     -0.000603        0.224890  \n",
       "session_per_month  0.027890        0.577614  \n",
       "giga_per_month     0.020444        0.774914  \n",
       "message_per_month -0.001970        0.159334  \n",
       "age                1.000000        0.037319  \n",
       "monthly_charge     0.037319        1.000000  "
      ]
     },
     "execution_count": 89,
     "metadata": {},
     "output_type": "execute_result"
    }
   ],
   "source": [
    "#checking the correlation matrix of quantitive data\n",
    "data.corr()"
   ]
  },
  {
   "cell_type": "markdown",
   "metadata": {},
   "source": [
    "**OK, according to our matrix, the monthly_charge has a strong correlation with the \"giga_per_month\". We have already seen that the nature of this dependence is not \"statistical\" (let us not forget all those similarities between means and medians and stds and plots and...). so what's going on here? the answer is based on extra_gigabytes and their prices in our samples. some simple calculations will show us the share of these expensive gigabytes in the monthly revenue. spoiler alert: its huge!**"
   ]
  },
  {
   "cell_type": "code",
   "execution_count": 90,
   "metadata": {},
   "outputs": [
    {
     "data": {
      "text/plain": [
       "38684.0"
      ]
     },
     "execution_count": 90,
     "metadata": {},
     "output_type": "execute_result"
    }
   ],
   "source": [
    "data['giga_per_month'].sum()"
   ]
  },
  {
   "cell_type": "code",
   "execution_count": 91,
   "metadata": {},
   "outputs": [
    {
     "data": {
      "text/plain": [
       "147957.18000000002"
      ]
     },
     "execution_count": 91,
     "metadata": {},
     "output_type": "execute_result"
    }
   ],
   "source": [
    "#revenue \n",
    "data['monthly_charge'].sum()"
   ]
  },
  {
   "cell_type": "code",
   "execution_count": 92,
   "metadata": {},
   "outputs": [
    {
     "data": {
      "text/plain": [
       "surf        1579\n",
       "ultimate     724\n",
       "Name: plan, dtype: int64"
      ]
     },
     "execution_count": 92,
     "metadata": {},
     "output_type": "execute_result"
    }
   ],
   "source": [
    "#number of customers of each plan\n",
    "data['plan'].value_counts()"
   ]
  },
  {
   "cell_type": "code",
   "execution_count": 93,
   "metadata": {},
   "outputs": [],
   "source": [
    "Q0 = data.query('plan==\"surf\"')"
   ]
  },
  {
   "cell_type": "code",
   "execution_count": 94,
   "metadata": {},
   "outputs": [
    {
     "data": {
      "text/plain": [
       "1579"
      ]
     },
     "execution_count": 94,
     "metadata": {},
     "output_type": "execute_result"
    }
   ],
   "source": [
    "len(Q0)"
   ]
  },
  {
   "cell_type": "code",
   "execution_count": 95,
   "metadata": {},
   "outputs": [
    {
     "data": {
      "text/plain": [
       "95611.18"
      ]
     },
     "execution_count": 95,
     "metadata": {},
     "output_type": "execute_result"
    }
   ],
   "source": [
    "Q0['monthly_charge'].sum()"
   ]
  },
  {
   "cell_type": "code",
   "execution_count": 96,
   "metadata": {},
   "outputs": [
    {
     "data": {
      "text/plain": [
       "339"
      ]
     },
     "execution_count": 96,
     "metadata": {},
     "output_type": "execute_result"
    }
   ],
   "source": [
    "len(Q0['user_id'].unique())"
   ]
  },
  {
   "cell_type": "code",
   "execution_count": 97,
   "metadata": {},
   "outputs": [],
   "source": [
    "#sessions when customers in plan surf exceeded their internet package\n",
    "Q1 = data.query(('plan==\"surf\"') and ('giga_per_month > 15'))"
   ]
  },
  {
   "cell_type": "code",
   "execution_count": 98,
   "metadata": {},
   "outputs": [
    {
     "data": {
      "text/plain": [
       "1345"
      ]
     },
     "execution_count": 98,
     "metadata": {},
     "output_type": "execute_result"
    }
   ],
   "source": [
    "len(Q1)"
   ]
  },
  {
   "cell_type": "code",
   "execution_count": 99,
   "metadata": {},
   "outputs": [
    {
     "data": {
      "text/plain": [
       "382"
      ]
     },
     "execution_count": 99,
     "metadata": {},
     "output_type": "execute_result"
    }
   ],
   "source": [
    "#number of costumers of plan surf who exceeded their internet package\n",
    "len(Q1['user_id'].value_counts())"
   ]
  },
  {
   "cell_type": "code",
   "execution_count": 100,
   "metadata": {},
   "outputs": [
    {
     "data": {
      "text/plain": [
       "90570.0"
      ]
     },
     "execution_count": 100,
     "metadata": {},
     "output_type": "execute_result"
    }
   ],
   "source": [
    "(Q1['giga_per_month'].sum() - len(Q1)*15)*10 "
   ]
  },
  {
   "cell_type": "code",
   "execution_count": 101,
   "metadata": {},
   "outputs": [],
   "source": [
    "Q2 = data.query('plan==\"ultimate\"' and 'giga_per_month>30')"
   ]
  },
  {
   "cell_type": "code",
   "execution_count": 102,
   "metadata": {},
   "outputs": [
    {
     "data": {
      "text/plain": [
       "105"
      ]
     },
     "execution_count": 102,
     "metadata": {},
     "output_type": "execute_result"
    }
   ],
   "source": [
    "len(Q2)"
   ]
  },
  {
   "cell_type": "code",
   "execution_count": 103,
   "metadata": {},
   "outputs": [
    {
     "data": {
      "text/plain": [
       "4739.0"
      ]
     },
     "execution_count": 103,
     "metadata": {},
     "output_type": "execute_result"
    }
   ],
   "source": [
    "(Q2['giga_per_month'].sum() - len(Q2)*30)*7"
   ]
  },
  {
   "cell_type": "markdown",
   "metadata": {},
   "source": [
    "- **CONCLUSION: \n",
    "There is indeed a difference in average revenue between users of Ultimate and Surf plans. There is a strong tendency among customers on the Surf plan to consume more data than they have on their prepaid plan. We recommend that Megaline focus most of its resources on this plan. and all future strategies of the company must include a well-described guide to the behavioural patterns of these customers .**"
   ]
  },
  {
   "cell_type": "markdown",
   "metadata": {},
   "source": [
    "**There's still another question we need to answer: \"Does the average revenue of users in the NY-NJ region differ from that of users from other regions, or not?\" let's get on with it. Technically, finding the answer requires the same steps we took to solve the \"Surf\" and \"Ultimatom\" plans. Only this time, our calculations and diagrams must refer to the \"NY_NJ \" and \"NOT-NY-NJ\" groups.**"
   ]
  },
  {
   "cell_type": "code",
   "execution_count": 104,
   "metadata": {},
   "outputs": [
    {
     "data": {
      "text/plain": [
       "New York-Newark-Jersey City, NY-NJ-PA MSA          378\n",
       "Los Angeles-Long Beach-Anaheim, CA MSA             132\n",
       "Chicago-Naperville-Elgin, IL-IN-WI MSA              94\n",
       "Dallas-Fort Worth-Arlington, TX MSA                 89\n",
       "Philadelphia-Camden-Wilmington, PA-NJ-DE-MD MSA     82\n",
       "                                                  ... \n",
       "Omaha-Council Bluffs, NE-IA MSA                      3\n",
       "Jacksonville, FL MSA                                 2\n",
       "Raleigh-Cary, NC MSA                                 2\n",
       "El Paso, TX MSA                                      2\n",
       "Cape Coral-Fort Myers, FL MSA                        1\n",
       "Name: city, Length: 73, dtype: int64"
      ]
     },
     "execution_count": 104,
     "metadata": {},
     "output_type": "execute_result"
    }
   ],
   "source": [
    "#finding the number of customers in NY_NJ\n",
    "data['city'].value_counts()"
   ]
  },
  {
   "cell_type": "code",
   "execution_count": 105,
   "metadata": {},
   "outputs": [],
   "source": [
    "#adding a column to the data frame based on whether the customer lives in NY_NJ or not\n",
    "data['NY_or_not'] = np.where(data['city'] == 'New York-Newark-Jersey City, NY-NJ-PA MSA', 1, 0)"
   ]
  },
  {
   "cell_type": "code",
   "execution_count": 106,
   "metadata": {},
   "outputs": [
    {
     "data": {
      "text/html": [
       "<div>\n",
       "<style scoped>\n",
       "    .dataframe tbody tr th:only-of-type {\n",
       "        vertical-align: middle;\n",
       "    }\n",
       "\n",
       "    .dataframe tbody tr th {\n",
       "        vertical-align: top;\n",
       "    }\n",
       "\n",
       "    .dataframe thead th {\n",
       "        text-align: right;\n",
       "    }\n",
       "</style>\n",
       "<table border=\"1\" class=\"dataframe\">\n",
       "  <thead>\n",
       "    <tr style=\"text-align: right;\">\n",
       "      <th></th>\n",
       "      <th>count</th>\n",
       "      <th>mean</th>\n",
       "      <th>std</th>\n",
       "      <th>min</th>\n",
       "      <th>25%</th>\n",
       "      <th>50%</th>\n",
       "      <th>75%</th>\n",
       "      <th>max</th>\n",
       "    </tr>\n",
       "    <tr>\n",
       "      <th>NY_or_not</th>\n",
       "      <th></th>\n",
       "      <th></th>\n",
       "      <th></th>\n",
       "      <th></th>\n",
       "      <th></th>\n",
       "      <th></th>\n",
       "      <th></th>\n",
       "      <th></th>\n",
       "    </tr>\n",
       "  </thead>\n",
       "  <tbody>\n",
       "    <tr>\n",
       "      <td>0</td>\n",
       "      <td>1925.0</td>\n",
       "      <td>65.089262</td>\n",
       "      <td>47.127860</td>\n",
       "      <td>20.0</td>\n",
       "      <td>24.44</td>\n",
       "      <td>70.000</td>\n",
       "      <td>70.000</td>\n",
       "      <td>590.37</td>\n",
       "    </tr>\n",
       "    <tr>\n",
       "      <td>1</td>\n",
       "      <td>378.0</td>\n",
       "      <td>59.948016</td>\n",
       "      <td>43.483174</td>\n",
       "      <td>20.0</td>\n",
       "      <td>20.00</td>\n",
       "      <td>51.845</td>\n",
       "      <td>72.115</td>\n",
       "      <td>280.00</td>\n",
       "    </tr>\n",
       "  </tbody>\n",
       "</table>\n",
       "</div>"
      ],
      "text/plain": [
       "            count       mean        std   min    25%     50%     75%     max\n",
       "NY_or_not                                                                   \n",
       "0          1925.0  65.089262  47.127860  20.0  24.44  70.000  70.000  590.37\n",
       "1           378.0  59.948016  43.483174  20.0  20.00  51.845  72.115  280.00"
      ]
     },
     "execution_count": 106,
     "metadata": {},
     "output_type": "execute_result"
    }
   ],
   "source": [
    "#statistics about the data group of NY NJ customers and their monthly payments\n",
    "data.groupby(['NY_or_not'])['monthly_charge'].describe()"
   ]
  },
  {
   "cell_type": "code",
   "execution_count": 107,
   "metadata": {},
   "outputs": [
    {
     "data": {
      "image/png": "[encoded data removed]",
      "text/plain": [
       "<Figure size 576x396 with 2 Axes>"
      ]
     },
     "metadata": {},
     "output_type": "display_data"
    }
   ],
   "source": [
    "#visualaizing the relation between NY_NJ customers and their monthly payments\n",
    "data.monthly_charge.hist(by=data['NY_or_not'])\n",
    "plt.show()"
   ]
  },
  {
   "cell_type": "code",
   "execution_count": 108,
   "metadata": {},
   "outputs": [
    {
     "data": {
      "image/png": "[encoded data removed]",
      "text/plain": [
       "<Figure size 576x396 with 1 Axes>"
      ]
     },
     "metadata": {},
     "output_type": "display_data"
    }
   ],
   "source": [
    "sns.boxplot(data=data, x='NY_or_not', y='monthly_charge')\n",
    "plt.show()"
   ]
  },
  {
   "cell_type": "code",
   "execution_count": 109,
   "metadata": {},
   "outputs": [
    {
     "data": {
      "text/html": [
       "<div>\n",
       "<style scoped>\n",
       "    .dataframe tbody tr th:only-of-type {\n",
       "        vertical-align: middle;\n",
       "    }\n",
       "\n",
       "    .dataframe tbody tr th {\n",
       "        vertical-align: top;\n",
       "    }\n",
       "\n",
       "    .dataframe thead th {\n",
       "        text-align: right;\n",
       "    }\n",
       "</style>\n",
       "<table border=\"1\" class=\"dataframe\">\n",
       "  <thead>\n",
       "    <tr style=\"text-align: right;\">\n",
       "      <th></th>\n",
       "      <th>user_id</th>\n",
       "      <th>NY_or_not</th>\n",
       "      <th>monthly_charge_mean</th>\n",
       "    </tr>\n",
       "  </thead>\n",
       "  <tbody>\n",
       "    <tr>\n",
       "      <td>0</td>\n",
       "      <td>1000</td>\n",
       "      <td>0</td>\n",
       "      <td>70.000000</td>\n",
       "    </tr>\n",
       "    <tr>\n",
       "      <td>1</td>\n",
       "      <td>1001</td>\n",
       "      <td>0</td>\n",
       "      <td>50.018000</td>\n",
       "    </tr>\n",
       "    <tr>\n",
       "      <td>2</td>\n",
       "      <td>1002</td>\n",
       "      <td>0</td>\n",
       "      <td>33.333333</td>\n",
       "    </tr>\n",
       "    <tr>\n",
       "      <td>3</td>\n",
       "      <td>1003</td>\n",
       "      <td>0</td>\n",
       "      <td>158.120000</td>\n",
       "    </tr>\n",
       "    <tr>\n",
       "      <td>4</td>\n",
       "      <td>1004</td>\n",
       "      <td>0</td>\n",
       "      <td>76.250000</td>\n",
       "    </tr>\n",
       "  </tbody>\n",
       "</table>\n",
       "</div>"
      ],
      "text/plain": [
       "   user_id  NY_or_not  monthly_charge_mean\n",
       "0     1000          0            70.000000\n",
       "1     1001          0            50.018000\n",
       "2     1002          0            33.333333\n",
       "3     1003          0           158.120000\n",
       "4     1004          0            76.250000"
      ]
     },
     "execution_count": 109,
     "metadata": {},
     "output_type": "execute_result"
    }
   ],
   "source": [
    "#creating a group containing the information about each customer in NY_NJ and his/her average payment for a month\n",
    "G_NYorNOT_charge = data.groupby(['user_id', 'NY_or_not'])['monthly_charge'].mean().reset_index()\n",
    "#renaming\n",
    "G_NYorNOT_charge = G_NYorNOT_charge.rename(columns = {'monthly_charge':'monthly_charge_mean'})\n",
    "#checking\n",
    "G_NYorNOT_charge.head()"
   ]
  },
  {
   "cell_type": "code",
   "execution_count": 110,
   "metadata": {},
   "outputs": [],
   "source": [
    "#creating a function to visualize the statistical aspects of our new group and print out some useful info's about them\n",
    "def G_NYorNOT_charge_stats(used):\n",
    "    fig, ax = plt.subplots(figsize=(8,7))\n",
    "    ax = sns.histplot(G_NYorNOT_charge, x=used, hue='NY_or_not')\n",
    "    mean = G_NYorNOT_charge[used].mean()\n",
    "    std = G_NYorNOT_charge[used].std()\n",
    "    var = G_NYorNOT_charge[used].var()\n",
    "    cv = std / mean\n",
    "    plt.show()\n",
    "    print('Average is:', mean)\n",
    "    print(G_NYorNOT_charge.groupby(['NY_or_not'])[used].mean())\n",
    "    if cv > 1:\n",
    "        print('Varies a lot')\n",
    "    else:\n",
    "        print('Centered around average')"
   ]
  },
  {
   "cell_type": "code",
   "execution_count": 111,
   "metadata": {},
   "outputs": [
    {
     "data": {
      "image/png": "[encoded data removed]",
      "text/plain": [
       "<Figure size 576x504 with 1 Axes>"
      ]
     },
     "metadata": {},
     "output_type": "display_data"
    },
    {
     "name": "stdout",
     "output_type": "stream",
     "text": [
      "Average is: 62.109944484848484\n",
      "NY_or_not\n",
      "0    62.508781\n",
      "1    60.016051\n",
      "Name: monthly_charge_mean, dtype: float64\n",
      "Centered around average\n"
     ]
    }
   ],
   "source": [
    "G_NYorNOT_charge_stats('monthly_charge_mean')"
   ]
  },
  {
   "cell_type": "markdown",
   "metadata": {},
   "source": [
    "**Once again, the same problem: statistically everything looks the same in our two samples (\"NY\" and \"NOT NY\"). Time to formulate the null hypothesis. \"H0 : The average revenue from users in NY-NJ area is the same as that of the users from other regions\". which automatically defines the alternative as:\"H1: The average revenue from users in NY-NJ area is different from that of the users from other regions\".**"
   ]
  },
  {
   "cell_type": "code",
   "execution_count": 112,
   "metadata": {},
   "outputs": [],
   "source": [
    "#dividing the main data frame based on whether the customer lives in NY_NJ or not. these two will be our \"sample\"s later\n",
    "NY_NJ = data.query('NY_or_not==True')\n",
    "THE_REST = data.query('NY_or_not==False')"
   ]
  },
  {
   "cell_type": "code",
   "execution_count": 113,
   "metadata": {},
   "outputs": [
    {
     "name": "stdout",
     "output_type": "stream",
     "text": [
      "p_value_levene =  0.13166997048838908\n",
      "p_value =  0.049745282774076104\n",
      "Reject H0 : Enough evidence to say the averages of two samples are not the same\n"
     ]
    }
   ],
   "source": [
    "#testing H0 using the previously created function\n",
    "t_test(NY_NJ['monthly_charge'], THE_REST['monthly_charge'], alpha = 0.05)"
   ]
  },
  {
   "cell_type": "markdown",
   "metadata": {},
   "source": [
    "**OK , from an academic point of view, we \"must\" reject the null hypothesis if alpha is greater than statistical significance. But note that in our case, the difference between alpha and the p-value is zero (0.00025) in almost any real practical situation. This means that if there are differences between avarage revenues in our samples (and that is a very big \"if\" indeed), it is almost impossible to find a reliable \"cause and effect\" relationship between our available data and that. nevertheless, for academic reasons, we will try our best.**"
   ]
  },
  {
   "cell_type": "markdown",
   "metadata": {},
   "source": [
    "<div class=\"alert alert-block alert-success\">\n",
    "<b>Reviewer's comment v1:</b>\n",
    "    \n",
    "- Great job! Hypotheses have been formulated and tested correctly.\n",
    "- Great that you additionally checked data that has been used for the test.\n",
    "- Awesome that you also applied Levene test to check variance. "
   ]
  },
  {
   "cell_type": "code",
   "execution_count": 114,
   "metadata": {},
   "outputs": [
    {
     "data": {
      "text/html": [
       "<div>\n",
       "<style scoped>\n",
       "    .dataframe tbody tr th:only-of-type {\n",
       "        vertical-align: middle;\n",
       "    }\n",
       "\n",
       "    .dataframe tbody tr th {\n",
       "        vertical-align: top;\n",
       "    }\n",
       "\n",
       "    .dataframe thead th {\n",
       "        text-align: right;\n",
       "    }\n",
       "</style>\n",
       "<table border=\"1\" class=\"dataframe\">\n",
       "  <thead>\n",
       "    <tr style=\"text-align: right;\">\n",
       "      <th></th>\n",
       "      <th>user_id</th>\n",
       "      <th>month</th>\n",
       "      <th>call_per_month</th>\n",
       "      <th>min_per_month</th>\n",
       "      <th>session_per_month</th>\n",
       "      <th>giga_per_month</th>\n",
       "      <th>message_per_month</th>\n",
       "      <th>age</th>\n",
       "      <th>monthly_charge</th>\n",
       "      <th>NY_or_not</th>\n",
       "    </tr>\n",
       "  </thead>\n",
       "  <tbody>\n",
       "    <tr>\n",
       "      <td>user_id</td>\n",
       "      <td>1.000000</td>\n",
       "      <td>0.041443</td>\n",
       "      <td>0.018532</td>\n",
       "      <td>0.016968</td>\n",
       "      <td>-0.059863</td>\n",
       "      <td>-0.058512</td>\n",
       "      <td>-0.001642</td>\n",
       "      <td>-0.012919</td>\n",
       "      <td>-0.017833</td>\n",
       "      <td>-0.106491</td>\n",
       "    </tr>\n",
       "    <tr>\n",
       "      <td>month</td>\n",
       "      <td>0.041443</td>\n",
       "      <td>1.000000</td>\n",
       "      <td>0.134690</td>\n",
       "      <td>0.135074</td>\n",
       "      <td>0.188396</td>\n",
       "      <td>0.158150</td>\n",
       "      <td>0.170708</td>\n",
       "      <td>-0.013890</td>\n",
       "      <td>0.099184</td>\n",
       "      <td>-0.012913</td>\n",
       "    </tr>\n",
       "    <tr>\n",
       "      <td>call_per_month</td>\n",
       "      <td>0.018532</td>\n",
       "      <td>0.134690</td>\n",
       "      <td>1.000000</td>\n",
       "      <td>0.981821</td>\n",
       "      <td>0.313992</td>\n",
       "      <td>0.341558</td>\n",
       "      <td>0.247941</td>\n",
       "      <td>0.004281</td>\n",
       "      <td>0.233536</td>\n",
       "      <td>-0.004066</td>\n",
       "    </tr>\n",
       "    <tr>\n",
       "      <td>min_per_month</td>\n",
       "      <td>0.016968</td>\n",
       "      <td>0.135074</td>\n",
       "      <td>0.981821</td>\n",
       "      <td>1.000000</td>\n",
       "      <td>0.305655</td>\n",
       "      <td>0.331980</td>\n",
       "      <td>0.247203</td>\n",
       "      <td>-0.000603</td>\n",
       "      <td>0.224890</td>\n",
       "      <td>0.003167</td>\n",
       "    </tr>\n",
       "    <tr>\n",
       "      <td>session_per_month</td>\n",
       "      <td>-0.059863</td>\n",
       "      <td>0.188396</td>\n",
       "      <td>0.313992</td>\n",
       "      <td>0.305655</td>\n",
       "      <td>1.000000</td>\n",
       "      <td>0.855765</td>\n",
       "      <td>0.094060</td>\n",
       "      <td>0.027890</td>\n",
       "      <td>0.577614</td>\n",
       "      <td>0.018363</td>\n",
       "    </tr>\n",
       "    <tr>\n",
       "      <td>giga_per_month</td>\n",
       "      <td>-0.058512</td>\n",
       "      <td>0.158150</td>\n",
       "      <td>0.341558</td>\n",
       "      <td>0.331980</td>\n",
       "      <td>0.855765</td>\n",
       "      <td>1.000000</td>\n",
       "      <td>0.225449</td>\n",
       "      <td>0.020444</td>\n",
       "      <td>0.774914</td>\n",
       "      <td>0.002932</td>\n",
       "    </tr>\n",
       "    <tr>\n",
       "      <td>message_per_month</td>\n",
       "      <td>-0.001642</td>\n",
       "      <td>0.170708</td>\n",
       "      <td>0.247941</td>\n",
       "      <td>0.247203</td>\n",
       "      <td>0.094060</td>\n",
       "      <td>0.225449</td>\n",
       "      <td>1.000000</td>\n",
       "      <td>-0.001970</td>\n",
       "      <td>0.159334</td>\n",
       "      <td>-0.083074</td>\n",
       "    </tr>\n",
       "    <tr>\n",
       "      <td>age</td>\n",
       "      <td>-0.012919</td>\n",
       "      <td>-0.013890</td>\n",
       "      <td>0.004281</td>\n",
       "      <td>-0.000603</td>\n",
       "      <td>0.027890</td>\n",
       "      <td>0.020444</td>\n",
       "      <td>-0.001970</td>\n",
       "      <td>1.000000</td>\n",
       "      <td>0.037319</td>\n",
       "      <td>-0.024258</td>\n",
       "    </tr>\n",
       "    <tr>\n",
       "      <td>monthly_charge</td>\n",
       "      <td>-0.017833</td>\n",
       "      <td>0.099184</td>\n",
       "      <td>0.233536</td>\n",
       "      <td>0.224890</td>\n",
       "      <td>0.577614</td>\n",
       "      <td>0.774914</td>\n",
       "      <td>0.159334</td>\n",
       "      <td>0.037319</td>\n",
       "      <td>1.000000</td>\n",
       "      <td>-0.040892</td>\n",
       "    </tr>\n",
       "    <tr>\n",
       "      <td>NY_or_not</td>\n",
       "      <td>-0.106491</td>\n",
       "      <td>-0.012913</td>\n",
       "      <td>-0.004066</td>\n",
       "      <td>0.003167</td>\n",
       "      <td>0.018363</td>\n",
       "      <td>0.002932</td>\n",
       "      <td>-0.083074</td>\n",
       "      <td>-0.024258</td>\n",
       "      <td>-0.040892</td>\n",
       "      <td>1.000000</td>\n",
       "    </tr>\n",
       "  </tbody>\n",
       "</table>\n",
       "</div>"
      ],
      "text/plain": [
       "                    user_id     month  call_per_month  min_per_month  \\\n",
       "user_id            1.000000  0.041443        0.018532       0.016968   \n",
       "month              0.041443  1.000000        0.134690       0.135074   \n",
       "call_per_month     0.018532  0.134690        1.000000       0.981821   \n",
       "min_per_month      0.016968  0.135074        0.981821       1.000000   \n",
       "session_per_month -0.059863  0.188396        0.313992       0.305655   \n",
       "giga_per_month    -0.058512  0.158150        0.341558       0.331980   \n",
       "message_per_month -0.001642  0.170708        0.247941       0.247203   \n",
       "age               -0.012919 -0.013890        0.004281      -0.000603   \n",
       "monthly_charge    -0.017833  0.099184        0.233536       0.224890   \n",
       "NY_or_not         -0.106491 -0.012913       -0.004066       0.003167   \n",
       "\n",
       "                   session_per_month  giga_per_month  message_per_month  \\\n",
       "user_id                    -0.059863       -0.058512          -0.001642   \n",
       "month                       0.188396        0.158150           0.170708   \n",
       "call_per_month              0.313992        0.341558           0.247941   \n",
       "min_per_month               0.305655        0.331980           0.247203   \n",
       "session_per_month           1.000000        0.855765           0.094060   \n",
       "giga_per_month              0.855765        1.000000           0.225449   \n",
       "message_per_month           0.094060        0.225449           1.000000   \n",
       "age                         0.027890        0.020444          -0.001970   \n",
       "monthly_charge              0.577614        0.774914           0.159334   \n",
       "NY_or_not                   0.018363        0.002932          -0.083074   \n",
       "\n",
       "                        age  monthly_charge  NY_or_not  \n",
       "user_id           -0.012919       -0.017833  -0.106491  \n",
       "month             -0.013890        0.099184  -0.012913  \n",
       "call_per_month     0.004281        0.233536  -0.004066  \n",
       "min_per_month     -0.000603        0.224890   0.003167  \n",
       "session_per_month  0.027890        0.577614   0.018363  \n",
       "giga_per_month     0.020444        0.774914   0.002932  \n",
       "message_per_month -0.001970        0.159334  -0.083074  \n",
       "age                1.000000        0.037319  -0.024258  \n",
       "monthly_charge     0.037319        1.000000  -0.040892  \n",
       "NY_or_not         -0.024258       -0.040892   1.000000  "
      ]
     },
     "execution_count": 114,
     "metadata": {},
     "output_type": "execute_result"
    }
   ],
   "source": [
    "#checking the correlation matrix of quantitive data. now we have another quantitive column: \"NY_or_not\"\n",
    "data.corr()"
   ]
  },
  {
   "cell_type": "markdown",
   "metadata": {},
   "source": [
    "**So, according to the \"corr()\", there is no correlation between \"NY _or_not\" and any other quantitative element in our data set (the numbers in \"NY_or_not\" are really close to zero). i.e., if there is a real correlation (let us emphasize: \"IF\"), it must exist between \"NY _or_not\" and one of the categorical columns. the only candidate for this hypothetical correlation is \"plan\". we will test this far-fetched theory with a diagram.**"
   ]
  },
  {
   "cell_type": "code",
   "execution_count": 115,
   "metadata": {},
   "outputs": [
    {
     "data": {
      "text/plain": [
       "surf        312\n",
       "ultimate     66\n",
       "Name: plan, dtype: int64"
      ]
     },
     "execution_count": 115,
     "metadata": {},
     "output_type": "execute_result"
    }
   ],
   "source": [
    "#number of customers in each \"plan\" based on whether they live in NY_NJ or not\n",
    "NY_NJ['plan'].value_counts()"
   ]
  },
  {
   "cell_type": "code",
   "execution_count": 116,
   "metadata": {},
   "outputs": [
    {
     "data": {
      "text/plain": [
       "surf        1267\n",
       "ultimate     658\n",
       "Name: plan, dtype: int64"
      ]
     },
     "execution_count": 116,
     "metadata": {},
     "output_type": "execute_result"
    }
   ],
   "source": [
    "THE_REST['plan'].value_counts()"
   ]
  },
  {
   "cell_type": "code",
   "execution_count": 117,
   "metadata": {},
   "outputs": [
    {
     "data": {
      "image/png": "[encoded data removed]",
      "text/plain": [
       "<Figure size 576x396 with 1 Axes>"
      ]
     },
     "metadata": {},
     "output_type": "display_data"
    }
   ],
   "source": [
    "#visualizing the previous findings\n",
    "sns.histplot(data, x='NY_or_not', hue='plan')\n",
    "plt.show()"
   ]
  },
  {
   "cell_type": "markdown",
   "metadata": {},
   "source": [
    "**Well, as far as we are concerned, that is as good as it gets. It seems that, relatively speaking, there are more than twice as many \"surf\" customers in NY-NJ as in the other cities. Is that significant enough to reject the null hypothesis or is that once again the miraculous \"Surf\" plan in action? that's a good question.**"
   ]
  },
  {
   "cell_type": "markdown",
   "metadata": {},
   "source": [
    "- **CONCLUSION:\n",
    "There's not sufficient evidence to conclude that there is a difference between the revenues of NY-NJ and the revenues of the rest of the territories. no recommendation.**\n",
    "    "
   ]
  },
  {
   "cell_type": "markdown",
   "metadata": {},
   "source": [
    "**Now it is time to summarize the results of this research:**"
   ]
  },
  {
   "cell_type": "markdown",
   "metadata": {},
   "source": [
    "<div class=\"alert alert-danger\" role=\"alert\">\n",
    "<b>Reviewer's comment v1:</b>\n",
    "    \n",
    "Overall you conducted great research with correct interim findings, clean code and nice visualisation.\n",
    "    \n",
    "Nevertheless, general conclusions represent the overall work progress that you achieved. On a real project, this is probably the only thing the business stakeholders will read. Therefore, it is crucial to indicate in a structured way all conclusions that you made on each step in the project. It is also important to provide explanations and interpretations that will be interesting for business based on your analysis (a detailed description of the average user per each plan, which client group brings more additional revenue, which group brings more revenue in the total revenue)."
   ]
  },
  {
   "cell_type": "markdown",
   "metadata": {},
   "source": [
    "<div class=\"alert alert-info\">  <h1 style=\"margin-bottom:20px\">Final Conclution:</h1> \n",
    "<b> 1. With regard to \"revenue\", we didn't find any mentionable difference between the company's customers in the NY-NJ area and the rest.  after taking into consideration all the important statistical measures, the average \"revenue\" of both groups is practically the same. therefore, we have no recommendations to offer in this matter.<b>\n",
    "\n",
    "    \n",
    "<b> 2. A comparison between the company's two customer programs shows that the \"Surf\" plan has brought the company much more revenue.\n",
    "The main reason for this is the strong tendency of the customers of this program to exceed their prepaid Internet package and therefore pay a relatively high price (in this plan: $10 per gigabyte.half the price of the entire plan).\n",
    "\n",
    "We can verify this fact by studying the statistics of this plan: There are 1579 instances in this plan. 382 of them (24%) exceed their prepaid package (15 gigabytes). These are the \"mixed\" group of this plan, which means that some of them (to be precise: 43 of them or 2.7% of the total \"Surf\" plan) joined the other plan at some point during the period of our study: \"Ultimate\". let us call them the \"disloyal\" group. the other 339 instances (21.4%) are the \"loyal\" group. They never switched. Together (\"disloyal\" and \"loyal\"), they consumed an additional 9057 gigabytes ($10 each). Since the total sum of this parameter is 38684 gigabytes, the share of additional gigabytes of the plan \"Surf\" is a whopping 23.4%. \n",
    "        \n",
    "it becomes even more impressive if we convert these figures into dollars: $90570 out of $147957 (the total revenue of our study). In other words, 61%. In comparison, the share of additional gigabytes in the \"ultimate\" plan is jus $4739. or about 3%.\n",
    "Therefore, we strongly recommend that Megaline allocate most of its resources (advertising, staff, infrastructure, etc.) to promote this plan.\n",
    "\n",
    "the below chart shows the significance of plan \"Surf\" extra gigabytes:\n",
    "\n",
    "<b><div>\n"
   ]
  },
  {
   "cell_type": "code",
   "execution_count": 118,
   "metadata": {
    "scrolled": true
   },
   "outputs": [
    {
     "data": {
      "text/plain": [
       "<function matplotlib.pyplot.show(*args, **kw)>"
      ]
     },
     "execution_count": 118,
     "metadata": {},
     "output_type": "execute_result"
    },
    {
     "data": {
      "image/png": "[encoded data removed]",
      "text/plain": [
       "<Figure size 576x396 with 1 Axes>"
      ]
     },
     "metadata": {},
     "output_type": "display_data"
    }
   ],
   "source": [
    "labels = '\"Ultimate extra gigas\"', '\"Ultimate\"', '\"Surf\"', '\"Surf\" extra gigas'\n",
    "sizes = [4739, 47607, 5041.18, 90570]\n",
    "colors = ['gold', 'yellowgreen', 'lightcoral', 'lightskyblue']\n",
    "explode = (0, 0, 0, 0.1)\n",
    "plt.pie(sizes, explode=explode, labels=labels, colors=colors,\n",
    "autopct='%1.1f%%', shadow=True, startangle=40)\n",
    "plt.axis('equal')\n",
    "plt.show"
   ]
  },
  {
   "cell_type": "markdown",
   "metadata": {},
   "source": [
    "<div class=\"alert alert-block alert-success\">\n",
    "<b>Reviewer's comment v2</b>\n",
    " \n",
    "Thank you for extending your conclusions and adding valuable insights and recommendations. That is indeed very important in the data analyst role."
   ]
  }
 ],
 "metadata": {
  "ExecuteTimeLog": [
   {
    "duration": 1981,
    "start_time": "2021-11-13T10:32:43.935Z"
   },
   {
    "duration": 197,
    "start_time": "2021-11-13T10:32:49.279Z"
   },
   {
    "duration": 371,
    "start_time": "2021-11-13T10:35:08.914Z"
   },
   {
    "duration": 24,
    "start_time": "2021-11-13T10:35:18.695Z"
   },
   {
    "duration": 16,
    "start_time": "2021-11-13T10:36:02.617Z"
   },
   {
    "duration": 18,
    "start_time": "2021-11-13T10:36:21.330Z"
   },
   {
    "duration": 12,
    "start_time": "2021-11-13T10:36:35.881Z"
   },
   {
    "duration": 25,
    "start_time": "2021-11-13T10:37:04.584Z"
   },
   {
    "duration": 26,
    "start_time": "2021-11-13T11:13:35.649Z"
   },
   {
    "duration": 16,
    "start_time": "2021-11-13T11:22:40.473Z"
   },
   {
    "duration": 15,
    "start_time": "2021-11-13T11:22:54.932Z"
   },
   {
    "duration": 22,
    "start_time": "2021-11-13T11:23:17.988Z"
   },
   {
    "duration": 12,
    "start_time": "2021-11-13T11:23:39.571Z"
   },
   {
    "duration": 14,
    "start_time": "2021-11-13T11:24:12.884Z"
   },
   {
    "duration": 16,
    "start_time": "2021-11-13T11:24:27.446Z"
   },
   {
    "duration": 15,
    "start_time": "2021-11-13T11:25:29.699Z"
   },
   {
    "duration": 17,
    "start_time": "2021-11-13T11:25:55.532Z"
   },
   {
    "duration": 16,
    "start_time": "2021-11-13T11:26:22.721Z"
   },
   {
    "duration": 9297,
    "start_time": "2021-11-13T12:04:34.716Z"
   },
   {
    "duration": 10,
    "start_time": "2021-11-13T12:13:27.871Z"
   },
   {
    "duration": 30,
    "start_time": "2021-11-13T12:13:45.471Z"
   },
   {
    "duration": 9178,
    "start_time": "2021-11-13T12:14:15.781Z"
   },
   {
    "duration": 149,
    "start_time": "2021-11-13T12:15:37.921Z"
   },
   {
    "duration": 41,
    "start_time": "2021-11-13T12:16:09.151Z"
   },
   {
    "duration": 145,
    "start_time": "2021-11-13T12:16:56.788Z"
   },
   {
    "duration": 11,
    "start_time": "2021-11-13T12:17:51.696Z"
   },
   {
    "duration": 27,
    "start_time": "2021-11-13T12:25:45.950Z"
   },
   {
    "duration": 46,
    "start_time": "2021-11-13T12:26:35.638Z"
   },
   {
    "duration": 187,
    "start_time": "2021-11-13T12:27:41.176Z"
   },
   {
    "duration": 568,
    "start_time": "2021-11-13T12:33:08.259Z"
   },
   {
    "duration": 25,
    "start_time": "2021-11-13T12:33:36.989Z"
   },
   {
    "duration": 9,
    "start_time": "2021-11-13T12:38:27.171Z"
   },
   {
    "duration": 75,
    "start_time": "2021-11-13T12:38:29.519Z"
   },
   {
    "duration": 72,
    "start_time": "2021-11-13T12:39:09.325Z"
   },
   {
    "duration": 67,
    "start_time": "2021-11-13T12:39:13.270Z"
   },
   {
    "duration": 21,
    "start_time": "2021-11-13T12:39:27.723Z"
   },
   {
    "duration": 6,
    "start_time": "2021-11-13T13:13:54.966Z"
   },
   {
    "duration": 20,
    "start_time": "2021-11-13T13:15:15.657Z"
   },
   {
    "duration": 422,
    "start_time": "2021-11-13T13:15:27.255Z"
   },
   {
    "duration": 562,
    "start_time": "2021-11-13T13:16:25.854Z"
   },
   {
    "duration": 397,
    "start_time": "2021-11-13T13:16:42.934Z"
   },
   {
    "duration": 489,
    "start_time": "2021-11-13T13:17:10.055Z"
   },
   {
    "duration": 439,
    "start_time": "2021-11-13T13:17:40.796Z"
   },
   {
    "duration": 506,
    "start_time": "2021-11-13T13:17:54.324Z"
   },
   {
    "duration": 25,
    "start_time": "2021-11-13T13:22:05.284Z"
   },
   {
    "duration": 6,
    "start_time": "2021-11-13T13:24:35.555Z"
   },
   {
    "duration": 15,
    "start_time": "2021-11-13T13:24:37.793Z"
   },
   {
    "duration": 6,
    "start_time": "2021-11-13T13:28:52.223Z"
   },
   {
    "duration": 13,
    "start_time": "2021-11-13T13:28:54.677Z"
   },
   {
    "duration": 24,
    "start_time": "2021-11-13T13:30:06.382Z"
   },
   {
    "duration": 42,
    "start_time": "2021-11-13T13:34:02.960Z"
   },
   {
    "duration": 25,
    "start_time": "2021-11-13T13:34:57.213Z"
   },
   {
    "duration": 11,
    "start_time": "2021-11-13T13:38:09.578Z"
   },
   {
    "duration": 472,
    "start_time": "2021-11-13T14:00:20.653Z"
   },
   {
    "duration": 405,
    "start_time": "2021-11-13T14:07:21.943Z"
   },
   {
    "duration": 386,
    "start_time": "2021-11-13T14:15:50.336Z"
   },
   {
    "duration": 8,
    "start_time": "2021-11-13T14:17:07.148Z"
   },
   {
    "duration": 2250,
    "start_time": "2021-11-13T14:17:08.787Z"
   },
   {
    "duration": 392,
    "start_time": "2021-11-13T14:18:24.712Z"
   },
   {
    "duration": 393,
    "start_time": "2021-11-13T14:18:54.129Z"
   },
   {
    "duration": 1148,
    "start_time": "2021-11-13T14:18:57.496Z"
   },
   {
    "duration": 33,
    "start_time": "2021-11-13T14:21:46.855Z"
   },
   {
    "duration": 15,
    "start_time": "2021-11-13T14:21:55.376Z"
   },
   {
    "duration": 6,
    "start_time": "2021-11-13T14:22:10.576Z"
   },
   {
    "duration": 14,
    "start_time": "2021-11-13T14:22:21.410Z"
   },
   {
    "duration": 7,
    "start_time": "2021-11-13T14:28:25.496Z"
   },
   {
    "duration": 9,
    "start_time": "2021-11-13T14:37:29.842Z"
   },
   {
    "duration": 12,
    "start_time": "2021-11-13T14:37:47.573Z"
   },
   {
    "duration": 378,
    "start_time": "2021-11-13T14:40:17.016Z"
   },
   {
    "duration": 52,
    "start_time": "2021-11-13T14:40:34.777Z"
   },
   {
    "duration": 49,
    "start_time": "2021-11-13T14:40:55.401Z"
   },
   {
    "duration": 14,
    "start_time": "2021-11-13T14:40:57.947Z"
   },
   {
    "duration": 53,
    "start_time": "2021-11-13T14:41:35.872Z"
   },
   {
    "duration": 13,
    "start_time": "2021-11-13T14:41:38.314Z"
   },
   {
    "duration": 8,
    "start_time": "2021-11-13T14:42:19.502Z"
   },
   {
    "duration": 14,
    "start_time": "2021-11-13T14:42:22.671Z"
   },
   {
    "duration": 11,
    "start_time": "2021-11-13T14:43:15.769Z"
   },
   {
    "duration": 14,
    "start_time": "2021-11-13T14:43:18.086Z"
   },
   {
    "duration": 12,
    "start_time": "2021-11-13T14:43:34.542Z"
   },
   {
    "duration": 1518,
    "start_time": "2021-11-13T14:43:53.326Z"
   },
   {
    "duration": 466,
    "start_time": "2021-11-13T14:43:54.847Z"
   },
   {
    "duration": 15,
    "start_time": "2021-11-13T14:43:55.316Z"
   },
   {
    "duration": 25,
    "start_time": "2021-11-13T14:43:55.334Z"
   },
   {
    "duration": 46,
    "start_time": "2021-11-13T14:43:55.362Z"
   },
   {
    "duration": 226,
    "start_time": "2021-11-13T14:43:55.410Z"
   },
   {
    "duration": 46,
    "start_time": "2021-11-13T14:43:55.638Z"
   },
   {
    "duration": 23,
    "start_time": "2021-11-13T14:43:55.687Z"
   },
   {
    "duration": 13,
    "start_time": "2021-11-13T14:43:55.712Z"
   },
   {
    "duration": 36,
    "start_time": "2021-11-13T14:43:55.727Z"
   },
   {
    "duration": 13,
    "start_time": "2021-11-13T14:43:55.769Z"
   },
   {
    "duration": 29,
    "start_time": "2021-11-13T14:43:55.784Z"
   },
   {
    "duration": 16,
    "start_time": "2021-11-13T14:43:55.815Z"
   },
   {
    "duration": 56,
    "start_time": "2021-11-13T14:43:55.834Z"
   },
   {
    "duration": 29,
    "start_time": "2021-11-13T14:44:49.173Z"
   },
   {
    "duration": 32,
    "start_time": "2021-11-13T14:48:01.657Z"
   },
   {
    "duration": 523,
    "start_time": "2021-11-13T14:49:03.556Z"
   },
   {
    "duration": 34,
    "start_time": "2021-11-13T14:49:40.787Z"
   },
   {
    "duration": 29,
    "start_time": "2021-11-13T14:49:59.454Z"
   },
   {
    "duration": 24,
    "start_time": "2021-11-13T14:51:13.810Z"
   },
   {
    "duration": 34,
    "start_time": "2021-11-13T14:51:30.942Z"
   },
   {
    "duration": 36,
    "start_time": "2021-11-13T14:58:51.083Z"
   },
   {
    "duration": 508,
    "start_time": "2021-11-13T15:01:16.831Z"
   },
   {
    "duration": 32,
    "start_time": "2021-11-13T15:01:27.753Z"
   },
   {
    "duration": 25,
    "start_time": "2021-11-13T15:01:38.927Z"
   },
   {
    "duration": 26,
    "start_time": "2021-11-13T15:02:30.085Z"
   },
   {
    "duration": 34,
    "start_time": "2021-11-13T15:02:54.812Z"
   },
   {
    "duration": 35,
    "start_time": "2021-11-13T15:05:39.121Z"
   },
   {
    "duration": 38,
    "start_time": "2021-11-13T15:06:26.856Z"
   },
   {
    "duration": 24,
    "start_time": "2021-11-13T15:06:39.475Z"
   },
   {
    "duration": 35,
    "start_time": "2021-11-13T15:06:42.217Z"
   },
   {
    "duration": 49,
    "start_time": "2021-11-13T15:08:31.025Z"
   },
   {
    "duration": 27,
    "start_time": "2021-11-13T15:08:31.099Z"
   },
   {
    "duration": 47,
    "start_time": "2021-11-13T15:20:41.036Z"
   },
   {
    "duration": 35,
    "start_time": "2021-11-13T15:20:55.007Z"
   },
   {
    "duration": 36,
    "start_time": "2021-11-13T15:29:40.695Z"
   },
   {
    "duration": 32,
    "start_time": "2021-11-13T15:30:40.117Z"
   },
   {
    "duration": 33,
    "start_time": "2021-11-13T15:34:38.221Z"
   },
   {
    "duration": 1523,
    "start_time": "2021-11-13T15:41:56.525Z"
   },
   {
    "duration": 402,
    "start_time": "2021-11-13T15:41:58.050Z"
   },
   {
    "duration": 23,
    "start_time": "2021-11-13T15:41:58.455Z"
   },
   {
    "duration": 22,
    "start_time": "2021-11-13T15:41:58.481Z"
   },
   {
    "duration": 59,
    "start_time": "2021-11-13T15:41:58.505Z"
   },
   {
    "duration": 211,
    "start_time": "2021-11-13T15:41:58.566Z"
   },
   {
    "duration": 29,
    "start_time": "2021-11-13T15:41:58.780Z"
   },
   {
    "duration": 23,
    "start_time": "2021-11-13T15:41:58.812Z"
   },
   {
    "duration": 18,
    "start_time": "2021-11-13T15:41:58.863Z"
   },
   {
    "duration": 7,
    "start_time": "2021-11-13T15:41:58.884Z"
   },
   {
    "duration": 13,
    "start_time": "2021-11-13T15:41:58.893Z"
   },
   {
    "duration": 95,
    "start_time": "2021-11-13T15:41:58.909Z"
   },
   {
    "duration": 36,
    "start_time": "2021-11-13T15:42:52.770Z"
   },
   {
    "duration": 1725,
    "start_time": "2021-11-13T15:43:52.209Z"
   },
   {
    "duration": 402,
    "start_time": "2021-11-13T15:43:53.937Z"
   },
   {
    "duration": 15,
    "start_time": "2021-11-13T15:43:54.342Z"
   },
   {
    "duration": 35,
    "start_time": "2021-11-13T15:43:54.360Z"
   },
   {
    "duration": 38,
    "start_time": "2021-11-13T15:43:54.398Z"
   },
   {
    "duration": 212,
    "start_time": "2021-11-13T15:43:54.439Z"
   },
   {
    "duration": 41,
    "start_time": "2021-11-13T15:43:54.654Z"
   },
   {
    "duration": 22,
    "start_time": "2021-11-13T15:43:54.698Z"
   },
   {
    "duration": 36,
    "start_time": "2021-11-13T15:43:54.723Z"
   },
   {
    "duration": 11,
    "start_time": "2021-11-13T15:43:54.764Z"
   },
   {
    "duration": 14,
    "start_time": "2021-11-13T15:43:54.778Z"
   },
   {
    "duration": 65,
    "start_time": "2021-11-13T15:43:54.794Z"
   },
   {
    "duration": 19,
    "start_time": "2021-11-13T15:43:54.863Z"
   },
   {
    "duration": 1511,
    "start_time": "2021-11-13T15:44:27.221Z"
   },
   {
    "duration": 453,
    "start_time": "2021-11-13T15:44:28.735Z"
   },
   {
    "duration": 15,
    "start_time": "2021-11-13T15:44:29.192Z"
   },
   {
    "duration": 23,
    "start_time": "2021-11-13T15:44:29.210Z"
   },
   {
    "duration": 47,
    "start_time": "2021-11-13T15:44:29.235Z"
   },
   {
    "duration": 195,
    "start_time": "2021-11-13T15:44:29.285Z"
   },
   {
    "duration": 29,
    "start_time": "2021-11-13T15:44:29.483Z"
   },
   {
    "duration": 44,
    "start_time": "2021-11-13T15:44:29.515Z"
   },
   {
    "duration": 19,
    "start_time": "2021-11-13T15:44:29.563Z"
   },
   {
    "duration": 7,
    "start_time": "2021-11-13T15:44:29.585Z"
   },
   {
    "duration": 12,
    "start_time": "2021-11-13T15:44:29.595Z"
   },
   {
    "duration": 73,
    "start_time": "2021-11-13T15:44:29.610Z"
   },
   {
    "duration": 16,
    "start_time": "2021-11-13T15:44:29.686Z"
   },
   {
    "duration": 12,
    "start_time": "2021-11-13T15:44:29.704Z"
   },
   {
    "duration": 1592,
    "start_time": "2021-11-13T15:45:47.427Z"
   },
   {
    "duration": 1354,
    "start_time": "2021-11-13T15:45:49.022Z"
   },
   {
    "duration": 17,
    "start_time": "2021-11-13T15:45:50.380Z"
   },
   {
    "duration": 25,
    "start_time": "2021-11-13T15:45:50.400Z"
   },
   {
    "duration": 69,
    "start_time": "2021-11-13T15:45:50.427Z"
   },
   {
    "duration": 212,
    "start_time": "2021-11-13T15:45:50.498Z"
   },
   {
    "duration": 33,
    "start_time": "2021-11-13T15:45:50.712Z"
   },
   {
    "duration": 36,
    "start_time": "2021-11-13T15:45:50.748Z"
   },
   {
    "duration": 14,
    "start_time": "2021-11-13T15:45:50.789Z"
   },
   {
    "duration": 14,
    "start_time": "2021-11-13T15:45:50.806Z"
   },
   {
    "duration": 56,
    "start_time": "2021-11-13T15:45:50.823Z"
   },
   {
    "duration": 34,
    "start_time": "2021-11-13T15:45:50.883Z"
   },
   {
    "duration": 11,
    "start_time": "2021-11-13T15:45:50.919Z"
   },
   {
    "duration": 12,
    "start_time": "2021-11-13T15:53:10.671Z"
   },
   {
    "duration": 19,
    "start_time": "2021-11-13T15:53:47.435Z"
   },
   {
    "duration": 24,
    "start_time": "2021-11-13T16:40:04.125Z"
   },
   {
    "duration": 11124,
    "start_time": "2021-11-13T16:40:08.660Z"
   },
   {
    "duration": -661,
    "start_time": "2021-11-13T16:40:20.449Z"
   },
   {
    "duration": 21,
    "start_time": "2021-11-13T16:40:38.985Z"
   },
   {
    "duration": 14,
    "start_time": "2021-11-13T16:40:49.544Z"
   },
   {
    "duration": 24,
    "start_time": "2021-11-13T16:45:13.797Z"
   },
   {
    "duration": 11,
    "start_time": "2021-11-13T16:45:16.647Z"
   },
   {
    "duration": 7,
    "start_time": "2021-11-13T16:55:19.633Z"
   },
   {
    "duration": 12,
    "start_time": "2021-11-13T16:56:23.442Z"
   },
   {
    "duration": 15,
    "start_time": "2021-11-13T16:56:32.197Z"
   },
   {
    "duration": 7,
    "start_time": "2021-11-13T17:03:49.899Z"
   },
   {
    "duration": 11,
    "start_time": "2021-11-13T17:03:52.645Z"
   },
   {
    "duration": 6,
    "start_time": "2021-11-13T17:06:19.896Z"
   },
   {
    "duration": 15,
    "start_time": "2021-11-13T17:06:22.701Z"
   },
   {
    "duration": 6,
    "start_time": "2021-11-13T17:08:16.497Z"
   },
   {
    "duration": 11,
    "start_time": "2021-11-13T17:08:18.834Z"
   },
   {
    "duration": 1952,
    "start_time": "2021-11-13T17:08:33.540Z"
   },
   {
    "duration": 462,
    "start_time": "2021-11-13T17:08:35.496Z"
   },
   {
    "duration": 20,
    "start_time": "2021-11-13T17:08:35.963Z"
   },
   {
    "duration": 22,
    "start_time": "2021-11-13T17:08:35.986Z"
   },
   {
    "duration": 85,
    "start_time": "2021-11-13T17:08:36.012Z"
   },
   {
    "duration": 32,
    "start_time": "2021-11-13T17:08:36.100Z"
   },
   {
    "duration": 30,
    "start_time": "2021-11-13T17:08:36.135Z"
   },
   {
    "duration": 13,
    "start_time": "2021-11-13T17:08:36.169Z"
   },
   {
    "duration": 12,
    "start_time": "2021-11-13T17:08:36.186Z"
   },
   {
    "duration": 65,
    "start_time": "2021-11-13T17:08:36.201Z"
   },
   {
    "duration": 6,
    "start_time": "2021-11-13T17:08:36.269Z"
   },
   {
    "duration": 14,
    "start_time": "2021-11-13T17:08:36.278Z"
   },
   {
    "duration": 15,
    "start_time": "2021-11-13T17:08:36.295Z"
   },
   {
    "duration": 59,
    "start_time": "2021-11-13T17:08:36.312Z"
   },
   {
    "duration": 27,
    "start_time": "2021-11-13T17:08:36.375Z"
   },
   {
    "duration": 18,
    "start_time": "2021-11-13T17:08:36.405Z"
   },
   {
    "duration": 42,
    "start_time": "2021-11-13T17:08:36.426Z"
   },
   {
    "duration": 51,
    "start_time": "2021-11-13T17:08:36.471Z"
   },
   {
    "duration": 14,
    "start_time": "2021-11-13T17:08:36.525Z"
   },
   {
    "duration": 25,
    "start_time": "2021-11-13T17:08:36.542Z"
   },
   {
    "duration": 22,
    "start_time": "2021-11-13T17:08:36.570Z"
   },
   {
    "duration": 6,
    "start_time": "2021-11-13T17:10:58.026Z"
   },
   {
    "duration": 16,
    "start_time": "2021-11-13T17:11:00.557Z"
   },
   {
    "duration": 11,
    "start_time": "2021-11-13T17:19:39.740Z"
   },
   {
    "duration": 9,
    "start_time": "2021-11-13T17:26:50.997Z"
   },
   {
    "duration": 19,
    "start_time": "2021-11-13T17:27:18.915Z"
   },
   {
    "duration": 19,
    "start_time": "2021-11-13T17:27:55.420Z"
   },
   {
    "duration": 9,
    "start_time": "2021-11-13T17:28:21.913Z"
   },
   {
    "duration": 13,
    "start_time": "2021-11-13T17:34:38.623Z"
   },
   {
    "duration": 18,
    "start_time": "2021-11-13T17:36:09.472Z"
   },
   {
    "duration": 15,
    "start_time": "2021-11-13T17:36:52.479Z"
   },
   {
    "duration": 16,
    "start_time": "2021-11-13T17:37:16.234Z"
   },
   {
    "duration": 555,
    "start_time": "2021-11-13T17:43:13.278Z"
   },
   {
    "duration": 1519,
    "start_time": "2021-11-13T17:44:26.022Z"
   },
   {
    "duration": 408,
    "start_time": "2021-11-13T17:44:27.544Z"
   },
   {
    "duration": 23,
    "start_time": "2021-11-13T17:44:27.956Z"
   },
   {
    "duration": 23,
    "start_time": "2021-11-13T17:44:27.982Z"
   },
   {
    "duration": 31,
    "start_time": "2021-11-13T17:44:28.007Z"
   },
   {
    "duration": 45,
    "start_time": "2021-11-13T17:44:28.041Z"
   },
   {
    "duration": 12,
    "start_time": "2021-11-13T17:44:28.089Z"
   },
   {
    "duration": 7,
    "start_time": "2021-11-13T17:44:28.105Z"
   },
   {
    "duration": 55,
    "start_time": "2021-11-13T17:44:28.115Z"
   },
   {
    "duration": 15,
    "start_time": "2021-11-13T17:44:28.173Z"
   },
   {
    "duration": 32,
    "start_time": "2021-11-13T17:44:28.190Z"
   },
   {
    "duration": 5,
    "start_time": "2021-11-13T17:44:28.224Z"
   },
   {
    "duration": 12,
    "start_time": "2021-11-13T17:44:28.271Z"
   },
   {
    "duration": 17,
    "start_time": "2021-11-13T17:44:28.285Z"
   },
   {
    "duration": 18,
    "start_time": "2021-11-13T17:44:28.305Z"
   },
   {
    "duration": 52,
    "start_time": "2021-11-13T17:44:28.325Z"
   },
   {
    "duration": 19,
    "start_time": "2021-11-13T17:44:28.379Z"
   },
   {
    "duration": 12,
    "start_time": "2021-11-13T17:44:28.401Z"
   },
   {
    "duration": 49,
    "start_time": "2021-11-13T17:44:28.415Z"
   },
   {
    "duration": 23,
    "start_time": "2021-11-13T17:44:28.468Z"
   },
   {
    "duration": 10,
    "start_time": "2021-11-13T17:44:28.494Z"
   },
   {
    "duration": 15,
    "start_time": "2021-11-13T17:44:28.506Z"
   },
   {
    "duration": 6,
    "start_time": "2021-11-13T17:44:28.526Z"
   },
   {
    "duration": 17,
    "start_time": "2021-11-13T17:44:28.561Z"
   },
   {
    "duration": 13,
    "start_time": "2021-11-13T17:44:28.581Z"
   },
   {
    "duration": 19,
    "start_time": "2021-11-13T17:44:28.597Z"
   },
   {
    "duration": 60,
    "start_time": "2021-11-13T17:44:28.618Z"
   },
   {
    "duration": 13,
    "start_time": "2021-11-13T17:44:28.680Z"
   },
   {
    "duration": 14,
    "start_time": "2021-11-13T17:44:28.696Z"
   },
   {
    "duration": 12,
    "start_time": "2021-11-13T17:44:43.613Z"
   },
   {
    "duration": 8,
    "start_time": "2021-11-13T18:11:20.631Z"
   },
   {
    "duration": 10,
    "start_time": "2021-11-13T18:11:24.594Z"
   },
   {
    "duration": 22,
    "start_time": "2021-11-13T18:17:14.430Z"
   },
   {
    "duration": 16,
    "start_time": "2021-11-13T18:17:18.088Z"
   },
   {
    "duration": 19,
    "start_time": "2021-11-13T18:18:24.478Z"
   },
   {
    "duration": 20,
    "start_time": "2021-11-13T18:18:26.855Z"
   },
   {
    "duration": 11,
    "start_time": "2021-11-13T18:19:43.819Z"
   },
   {
    "duration": 545,
    "start_time": "2021-11-13T18:22:11.936Z"
   },
   {
    "duration": 383,
    "start_time": "2021-11-13T18:22:23.737Z"
   },
   {
    "duration": 6,
    "start_time": "2021-11-13T18:22:40.385Z"
   },
   {
    "duration": 5,
    "start_time": "2021-11-13T18:24:17.835Z"
   },
   {
    "duration": 10,
    "start_time": "2021-11-13T18:24:27.098Z"
   },
   {
    "duration": 12,
    "start_time": "2021-11-13T18:24:40.425Z"
   },
   {
    "duration": 1524,
    "start_time": "2021-11-13T18:25:30.595Z"
   },
   {
    "duration": 408,
    "start_time": "2021-11-13T18:25:32.122Z"
   },
   {
    "duration": 18,
    "start_time": "2021-11-13T18:25:32.534Z"
   },
   {
    "duration": 36,
    "start_time": "2021-11-13T18:25:32.555Z"
   },
   {
    "duration": 39,
    "start_time": "2021-11-13T18:25:32.595Z"
   },
   {
    "duration": 39,
    "start_time": "2021-11-13T18:25:32.637Z"
   },
   {
    "duration": 12,
    "start_time": "2021-11-13T18:25:32.679Z"
   },
   {
    "duration": 23,
    "start_time": "2021-11-13T18:25:32.695Z"
   },
   {
    "duration": 14,
    "start_time": "2021-11-13T18:25:32.722Z"
   },
   {
    "duration": 31,
    "start_time": "2021-11-13T18:25:32.739Z"
   },
   {
    "duration": 45,
    "start_time": "2021-11-13T18:25:32.775Z"
   },
   {
    "duration": 7,
    "start_time": "2021-11-13T18:25:32.822Z"
   },
   {
    "duration": 35,
    "start_time": "2021-11-13T18:25:32.831Z"
   },
   {
    "duration": 21,
    "start_time": "2021-11-13T18:25:32.870Z"
   },
   {
    "duration": 22,
    "start_time": "2021-11-13T18:25:32.893Z"
   },
   {
    "duration": 42,
    "start_time": "2021-11-13T18:25:32.917Z"
   },
   {
    "duration": 23,
    "start_time": "2021-11-13T18:25:32.963Z"
   },
   {
    "duration": 14,
    "start_time": "2021-11-13T18:25:32.989Z"
   },
   {
    "duration": 26,
    "start_time": "2021-11-13T18:25:33.007Z"
   },
   {
    "duration": 29,
    "start_time": "2021-11-13T18:25:33.063Z"
   },
   {
    "duration": 17,
    "start_time": "2021-11-13T18:25:33.094Z"
   },
   {
    "duration": 19,
    "start_time": "2021-11-13T18:25:33.113Z"
   },
   {
    "duration": 27,
    "start_time": "2021-11-13T18:25:33.136Z"
   },
   {
    "duration": 42,
    "start_time": "2021-11-13T18:25:33.167Z"
   },
   {
    "duration": 22,
    "start_time": "2021-11-13T18:25:33.212Z"
   },
   {
    "duration": 36,
    "start_time": "2021-11-13T18:25:33.236Z"
   },
   {
    "duration": 16,
    "start_time": "2021-11-13T18:25:33.276Z"
   },
   {
    "duration": 16,
    "start_time": "2021-11-13T18:25:33.294Z"
   },
   {
    "duration": 41,
    "start_time": "2021-11-13T18:25:33.313Z"
   },
   {
    "duration": 19,
    "start_time": "2021-11-13T18:25:33.357Z"
   },
   {
    "duration": 32,
    "start_time": "2021-11-13T18:25:33.378Z"
   },
   {
    "duration": 16,
    "start_time": "2021-11-13T18:25:33.412Z"
   },
   {
    "duration": 32,
    "start_time": "2021-11-13T18:25:33.431Z"
   },
   {
    "duration": 11,
    "start_time": "2021-11-13T18:26:35.131Z"
   },
   {
    "duration": 1565,
    "start_time": "2021-11-13T18:29:36.833Z"
   },
   {
    "duration": 392,
    "start_time": "2021-11-13T18:29:38.401Z"
   },
   {
    "duration": 15,
    "start_time": "2021-11-13T18:29:38.796Z"
   },
   {
    "duration": 21,
    "start_time": "2021-11-13T18:29:38.814Z"
   },
   {
    "duration": 37,
    "start_time": "2021-11-13T18:29:38.837Z"
   },
   {
    "duration": 22,
    "start_time": "2021-11-13T18:29:38.877Z"
   },
   {
    "duration": 13,
    "start_time": "2021-11-13T18:29:38.901Z"
   },
   {
    "duration": 8,
    "start_time": "2021-11-13T18:29:38.916Z"
   },
   {
    "duration": 42,
    "start_time": "2021-11-13T18:29:38.928Z"
   },
   {
    "duration": 16,
    "start_time": "2021-11-13T18:29:38.978Z"
   },
   {
    "duration": 36,
    "start_time": "2021-11-13T18:29:38.996Z"
   },
   {
    "duration": 28,
    "start_time": "2021-11-13T18:29:39.034Z"
   },
   {
    "duration": 16,
    "start_time": "2021-11-13T18:29:39.066Z"
   },
   {
    "duration": 14,
    "start_time": "2021-11-13T18:29:39.084Z"
   },
   {
    "duration": 18,
    "start_time": "2021-11-13T18:29:39.100Z"
   },
   {
    "duration": 59,
    "start_time": "2021-11-13T18:29:39.121Z"
   },
   {
    "duration": 18,
    "start_time": "2021-11-13T18:29:39.182Z"
   },
   {
    "duration": 11,
    "start_time": "2021-11-13T18:29:39.203Z"
   },
   {
    "duration": 42,
    "start_time": "2021-11-13T18:29:39.217Z"
   },
   {
    "duration": 28,
    "start_time": "2021-11-13T18:29:39.262Z"
   },
   {
    "duration": 13,
    "start_time": "2021-11-13T18:29:39.293Z"
   },
   {
    "duration": 12,
    "start_time": "2021-11-13T18:29:39.309Z"
   },
   {
    "duration": 43,
    "start_time": "2021-11-13T18:29:39.323Z"
   },
   {
    "duration": 20,
    "start_time": "2021-11-13T18:29:39.370Z"
   },
   {
    "duration": 14,
    "start_time": "2021-11-13T18:29:39.392Z"
   },
   {
    "duration": 20,
    "start_time": "2021-11-13T18:29:39.408Z"
   },
   {
    "duration": 43,
    "start_time": "2021-11-13T18:29:39.432Z"
   },
   {
    "duration": 12,
    "start_time": "2021-11-13T18:29:39.479Z"
   },
   {
    "duration": 23,
    "start_time": "2021-11-13T18:29:39.495Z"
   },
   {
    "duration": 42,
    "start_time": "2021-11-13T18:29:39.521Z"
   },
   {
    "duration": 6,
    "start_time": "2021-11-13T18:29:39.568Z"
   },
   {
    "duration": 14,
    "start_time": "2021-11-13T18:29:39.576Z"
   },
   {
    "duration": 3,
    "start_time": "2021-11-13T18:35:22.777Z"
   },
   {
    "duration": 27,
    "start_time": "2021-11-13T18:40:50.961Z"
   },
   {
    "duration": 32,
    "start_time": "2021-11-13T18:41:05.887Z"
   },
   {
    "duration": 19,
    "start_time": "2021-11-13T18:42:22.877Z"
   },
   {
    "duration": 21,
    "start_time": "2021-11-13T18:42:25.491Z"
   },
   {
    "duration": 21,
    "start_time": "2021-11-13T18:43:34.224Z"
   },
   {
    "duration": 14,
    "start_time": "2021-11-13T18:43:36.313Z"
   },
   {
    "duration": 12,
    "start_time": "2021-11-13T18:57:48.104Z"
   },
   {
    "duration": 23,
    "start_time": "2021-11-13T19:04:37.580Z"
   },
   {
    "duration": 21,
    "start_time": "2021-11-13T19:15:57.185Z"
   },
   {
    "duration": 20,
    "start_time": "2021-11-13T19:17:09.050Z"
   },
   {
    "duration": 9,
    "start_time": "2021-11-13T19:17:37.331Z"
   },
   {
    "duration": 532,
    "start_time": "2021-11-13T19:19:56.296Z"
   },
   {
    "duration": 1576,
    "start_time": "2021-11-13T19:20:12.771Z"
   },
   {
    "duration": 392,
    "start_time": "2021-11-13T19:20:14.350Z"
   },
   {
    "duration": 20,
    "start_time": "2021-11-13T19:20:14.745Z"
   },
   {
    "duration": 38,
    "start_time": "2021-11-13T19:20:14.769Z"
   },
   {
    "duration": 27,
    "start_time": "2021-11-13T19:20:14.810Z"
   },
   {
    "duration": 46,
    "start_time": "2021-11-13T19:20:14.839Z"
   },
   {
    "duration": 37,
    "start_time": "2021-11-13T19:20:14.888Z"
   },
   {
    "duration": 35,
    "start_time": "2021-11-13T19:20:14.927Z"
   },
   {
    "duration": 27,
    "start_time": "2021-11-13T19:20:14.969Z"
   },
   {
    "duration": 14,
    "start_time": "2021-11-13T19:20:14.999Z"
   },
   {
    "duration": 32,
    "start_time": "2021-11-13T19:20:15.015Z"
   },
   {
    "duration": 24,
    "start_time": "2021-11-13T19:20:15.049Z"
   },
   {
    "duration": 19,
    "start_time": "2021-11-13T19:20:15.076Z"
   },
   {
    "duration": 40,
    "start_time": "2021-11-13T19:20:15.098Z"
   },
   {
    "duration": 19,
    "start_time": "2021-11-13T19:20:15.140Z"
   },
   {
    "duration": 26,
    "start_time": "2021-11-13T19:20:15.163Z"
   },
   {
    "duration": 14,
    "start_time": "2021-11-13T19:20:15.192Z"
   },
   {
    "duration": 21,
    "start_time": "2021-11-13T19:20:15.208Z"
   },
   {
    "duration": 61,
    "start_time": "2021-11-13T19:20:15.232Z"
   },
   {
    "duration": 18,
    "start_time": "2021-11-13T19:20:15.295Z"
   },
   {
    "duration": 12,
    "start_time": "2021-11-13T19:20:15.315Z"
   },
   {
    "duration": 49,
    "start_time": "2021-11-13T19:20:15.330Z"
   },
   {
    "duration": 22,
    "start_time": "2021-11-13T19:20:15.381Z"
   },
   {
    "duration": 11,
    "start_time": "2021-11-13T19:20:15.405Z"
   },
   {
    "duration": 41,
    "start_time": "2021-11-13T19:20:15.419Z"
   },
   {
    "duration": 16,
    "start_time": "2021-11-13T19:20:15.464Z"
   },
   {
    "duration": 10,
    "start_time": "2021-11-13T19:20:15.485Z"
   },
   {
    "duration": 16,
    "start_time": "2021-11-13T19:20:15.497Z"
   },
   {
    "duration": 21,
    "start_time": "2021-11-13T19:20:15.515Z"
   },
   {
    "duration": 37,
    "start_time": "2021-11-13T19:20:15.538Z"
   },
   {
    "duration": 24,
    "start_time": "2021-11-13T19:20:15.579Z"
   },
   {
    "duration": 41,
    "start_time": "2021-11-13T19:20:15.605Z"
   },
   {
    "duration": 14,
    "start_time": "2021-11-13T19:20:15.648Z"
   },
   {
    "duration": 32,
    "start_time": "2021-11-13T19:20:15.665Z"
   },
   {
    "duration": 20,
    "start_time": "2021-11-13T19:20:15.699Z"
   },
   {
    "duration": 17,
    "start_time": "2021-11-13T19:20:15.721Z"
   },
   {
    "duration": 57,
    "start_time": "2021-11-13T19:20:15.740Z"
   },
   {
    "duration": 28,
    "start_time": "2021-11-13T19:20:15.799Z"
   },
   {
    "duration": 11098,
    "start_time": "2021-11-13T19:24:08.228Z"
   },
   {
    "duration": 1087,
    "start_time": "2021-11-13T19:26:04.820Z"
   },
   {
    "duration": 6,
    "start_time": "2021-11-13T19:27:53.322Z"
   },
   {
    "duration": 7,
    "start_time": "2021-11-13T19:27:56.142Z"
   },
   {
    "duration": 9,
    "start_time": "2021-11-13T19:28:10.543Z"
   },
   {
    "duration": 10,
    "start_time": "2021-11-13T19:34:51.595Z"
   },
   {
    "duration": 9,
    "start_time": "2021-11-13T19:35:50.044Z"
   },
   {
    "duration": 8,
    "start_time": "2021-11-13T19:36:01.925Z"
   },
   {
    "duration": 17,
    "start_time": "2021-11-13T19:36:08.057Z"
   },
   {
    "duration": 15,
    "start_time": "2021-11-13T19:36:28.385Z"
   },
   {
    "duration": 1499,
    "start_time": "2021-11-13T19:36:53.314Z"
   },
   {
    "duration": 402,
    "start_time": "2021-11-13T19:36:54.816Z"
   },
   {
    "duration": 19,
    "start_time": "2021-11-13T19:36:55.221Z"
   },
   {
    "duration": 12,
    "start_time": "2021-11-13T19:36:55.243Z"
   },
   {
    "duration": 22,
    "start_time": "2021-11-13T19:36:55.258Z"
   },
   {
    "duration": 11,
    "start_time": "2021-11-13T19:36:55.282Z"
   },
   {
    "duration": 8,
    "start_time": "2021-11-13T19:36:55.295Z"
   },
   {
    "duration": 9,
    "start_time": "2021-11-13T19:36:55.305Z"
   },
   {
    "duration": 10,
    "start_time": "2021-11-13T19:36:55.318Z"
   },
   {
    "duration": 56,
    "start_time": "2021-11-13T19:36:55.331Z"
   },
   {
    "duration": 12,
    "start_time": "2021-11-13T19:36:55.390Z"
   },
   {
    "duration": 22,
    "start_time": "2021-11-13T19:36:55.404Z"
   },
   {
    "duration": 64,
    "start_time": "2021-11-13T19:36:55.428Z"
   },
   {
    "duration": 22,
    "start_time": "2021-11-13T19:36:55.495Z"
   },
   {
    "duration": 13,
    "start_time": "2021-11-13T19:36:55.519Z"
   },
   {
    "duration": 13,
    "start_time": "2021-11-13T19:36:55.560Z"
   },
   {
    "duration": 11,
    "start_time": "2021-11-13T19:36:55.576Z"
   },
   {
    "duration": 12,
    "start_time": "2021-11-13T19:36:55.590Z"
   },
   {
    "duration": 72,
    "start_time": "2021-11-13T19:36:55.604Z"
   },
   {
    "duration": 5,
    "start_time": "2021-11-13T19:36:55.679Z"
   },
   {
    "duration": 14,
    "start_time": "2021-11-13T19:36:55.686Z"
   },
   {
    "duration": 13,
    "start_time": "2021-11-13T19:36:55.702Z"
   },
   {
    "duration": 57,
    "start_time": "2021-11-13T19:36:55.717Z"
   },
   {
    "duration": 22,
    "start_time": "2021-11-13T19:36:55.777Z"
   },
   {
    "duration": 18,
    "start_time": "2021-11-13T19:36:55.802Z"
   },
   {
    "duration": 12,
    "start_time": "2021-11-13T19:36:55.823Z"
   },
   {
    "duration": 21,
    "start_time": "2021-11-13T19:36:55.870Z"
   },
   {
    "duration": 22,
    "start_time": "2021-11-13T19:36:55.894Z"
   },
   {
    "duration": 10,
    "start_time": "2021-11-13T19:36:55.919Z"
   },
   {
    "duration": 39,
    "start_time": "2021-11-13T19:36:55.931Z"
   },
   {
    "duration": 12,
    "start_time": "2021-11-13T19:36:55.973Z"
   },
   {
    "duration": 21,
    "start_time": "2021-11-13T19:36:55.988Z"
   },
   {
    "duration": 12,
    "start_time": "2021-11-13T19:36:56.011Z"
   },
   {
    "duration": 58,
    "start_time": "2021-11-13T19:36:56.025Z"
   },
   {
    "duration": 18,
    "start_time": "2021-11-13T19:36:56.086Z"
   },
   {
    "duration": 11,
    "start_time": "2021-11-13T19:36:56.107Z"
   },
   {
    "duration": 56,
    "start_time": "2021-11-13T19:36:56.121Z"
   },
   {
    "duration": 6,
    "start_time": "2021-11-13T19:36:56.180Z"
   },
   {
    "duration": 10,
    "start_time": "2021-11-13T19:36:56.188Z"
   },
   {
    "duration": 14,
    "start_time": "2021-11-13T19:36:56.200Z"
   },
   {
    "duration": 3,
    "start_time": "2021-11-13T19:36:56.217Z"
   },
   {
    "duration": 55,
    "start_time": "2021-11-13T19:36:56.223Z"
   },
   {
    "duration": 14,
    "start_time": "2021-11-13T19:36:56.281Z"
   },
   {
    "duration": 25,
    "start_time": "2021-11-13T19:43:53.211Z"
   },
   {
    "duration": 1672,
    "start_time": "2021-11-13T19:45:35.857Z"
   },
   {
    "duration": 416,
    "start_time": "2021-11-13T19:45:37.532Z"
   },
   {
    "duration": 30,
    "start_time": "2021-11-13T19:45:37.952Z"
   },
   {
    "duration": 14,
    "start_time": "2021-11-13T19:45:37.987Z"
   },
   {
    "duration": 16,
    "start_time": "2021-11-13T19:45:38.004Z"
   },
   {
    "duration": 15,
    "start_time": "2021-11-13T19:45:38.023Z"
   },
   {
    "duration": 38,
    "start_time": "2021-11-13T19:45:38.059Z"
   },
   {
    "duration": 8,
    "start_time": "2021-11-13T19:45:38.103Z"
   },
   {
    "duration": 16,
    "start_time": "2021-11-13T19:45:38.114Z"
   },
   {
    "duration": 33,
    "start_time": "2021-11-13T19:45:38.133Z"
   },
   {
    "duration": 39,
    "start_time": "2021-11-13T19:45:38.170Z"
   },
   {
    "duration": 29,
    "start_time": "2021-11-13T19:45:38.212Z"
   },
   {
    "duration": 42,
    "start_time": "2021-11-13T19:45:38.244Z"
   },
   {
    "duration": 45,
    "start_time": "2021-11-13T19:45:38.288Z"
   },
   {
    "duration": 42,
    "start_time": "2021-11-13T19:45:38.335Z"
   },
   {
    "duration": 13,
    "start_time": "2021-11-13T19:45:38.380Z"
   },
   {
    "duration": 19,
    "start_time": "2021-11-13T19:45:38.395Z"
   },
   {
    "duration": 16,
    "start_time": "2021-11-13T19:45:38.417Z"
   },
   {
    "duration": 39,
    "start_time": "2021-11-13T19:45:38.436Z"
   },
   {
    "duration": 43,
    "start_time": "2021-11-13T19:45:38.479Z"
   },
   {
    "duration": 6,
    "start_time": "2021-11-13T19:45:38.524Z"
   },
   {
    "duration": 42,
    "start_time": "2021-11-13T19:45:38.532Z"
   },
   {
    "duration": 15,
    "start_time": "2021-11-13T19:45:38.580Z"
   },
   {
    "duration": 24,
    "start_time": "2021-11-13T19:45:38.599Z"
   },
   {
    "duration": 47,
    "start_time": "2021-11-13T19:45:38.626Z"
   },
   {
    "duration": 21,
    "start_time": "2021-11-13T19:45:38.676Z"
   },
   {
    "duration": 14,
    "start_time": "2021-11-13T19:45:38.699Z"
   },
   {
    "duration": 48,
    "start_time": "2021-11-13T19:45:38.716Z"
   },
   {
    "duration": 27,
    "start_time": "2021-11-13T19:45:38.769Z"
   },
   {
    "duration": 11,
    "start_time": "2021-11-13T19:45:38.798Z"
   },
   {
    "duration": 12,
    "start_time": "2021-11-13T19:45:38.812Z"
   },
   {
    "duration": 38,
    "start_time": "2021-11-13T19:45:38.826Z"
   },
   {
    "duration": 18,
    "start_time": "2021-11-13T19:45:38.867Z"
   },
   {
    "duration": 13,
    "start_time": "2021-11-13T19:45:38.887Z"
   },
   {
    "duration": 18,
    "start_time": "2021-11-13T19:45:38.903Z"
   },
   {
    "duration": 52,
    "start_time": "2021-11-13T19:45:38.923Z"
   },
   {
    "duration": 15,
    "start_time": "2021-11-13T19:45:38.980Z"
   },
   {
    "duration": 22,
    "start_time": "2021-11-13T19:45:38.998Z"
   },
   {
    "duration": 6,
    "start_time": "2021-11-13T19:45:39.022Z"
   },
   {
    "duration": 41,
    "start_time": "2021-11-13T19:45:39.030Z"
   },
   {
    "duration": 12,
    "start_time": "2021-11-13T19:45:39.074Z"
   },
   {
    "duration": 7,
    "start_time": "2021-11-13T19:45:39.088Z"
   },
   {
    "duration": 27,
    "start_time": "2021-11-13T19:45:39.097Z"
   },
   {
    "duration": 40,
    "start_time": "2021-11-13T19:45:39.127Z"
   },
   {
    "duration": 23,
    "start_time": "2021-11-13T19:46:44.250Z"
   },
   {
    "duration": 15,
    "start_time": "2021-11-13T19:47:03.522Z"
   },
   {
    "duration": 13,
    "start_time": "2021-11-13T20:08:50.631Z"
   },
   {
    "duration": 39,
    "start_time": "2021-11-13T20:08:58.900Z"
   },
   {
    "duration": 11,
    "start_time": "2021-11-13T20:11:30.018Z"
   },
   {
    "duration": 8,
    "start_time": "2021-11-13T20:11:58.184Z"
   },
   {
    "duration": 45,
    "start_time": "2021-11-13T20:13:31.048Z"
   },
   {
    "duration": 30,
    "start_time": "2021-11-13T20:14:09.850Z"
   },
   {
    "duration": 52,
    "start_time": "2021-11-13T20:15:53.243Z"
   },
   {
    "duration": 51,
    "start_time": "2021-11-13T20:16:03.371Z"
   },
   {
    "duration": 22,
    "start_time": "2021-11-13T20:17:36.700Z"
   },
   {
    "duration": 14,
    "start_time": "2021-11-13T20:18:17.487Z"
   },
   {
    "duration": 13,
    "start_time": "2021-11-13T20:18:20.510Z"
   },
   {
    "duration": 26,
    "start_time": "2021-11-13T20:18:30.601Z"
   },
   {
    "duration": 41,
    "start_time": "2021-11-13T20:19:07.361Z"
   },
   {
    "duration": 10,
    "start_time": "2021-11-13T20:19:42.373Z"
   },
   {
    "duration": 13,
    "start_time": "2021-11-13T20:23:11.688Z"
   },
   {
    "duration": 12,
    "start_time": "2021-11-13T20:23:14.035Z"
   },
   {
    "duration": 34,
    "start_time": "2021-11-13T20:23:36.371Z"
   },
   {
    "duration": 10,
    "start_time": "2021-11-13T20:25:36.706Z"
   },
   {
    "duration": 10,
    "start_time": "2021-11-13T20:38:03.690Z"
   },
   {
    "duration": 10,
    "start_time": "2021-11-13T20:38:31.976Z"
   },
   {
    "duration": 12,
    "start_time": "2021-11-13T20:39:10.482Z"
   },
   {
    "duration": 17,
    "start_time": "2021-11-13T20:40:27.958Z"
   },
   {
    "duration": 9,
    "start_time": "2021-11-13T20:41:10.215Z"
   },
   {
    "duration": 402,
    "start_time": "2021-11-13T20:45:40.335Z"
   },
   {
    "duration": 22,
    "start_time": "2021-11-13T20:49:35.413Z"
   },
   {
    "duration": 12,
    "start_time": "2021-11-13T20:49:37.511Z"
   },
   {
    "duration": 14,
    "start_time": "2021-11-13T20:49:44.144Z"
   },
   {
    "duration": 14,
    "start_time": "2021-11-13T20:49:53.859Z"
   },
   {
    "duration": 15,
    "start_time": "2021-11-13T20:50:57.475Z"
   },
   {
    "duration": 20,
    "start_time": "2021-11-13T20:51:09.150Z"
   },
   {
    "duration": 21,
    "start_time": "2021-11-13T20:51:29.591Z"
   },
   {
    "duration": 9,
    "start_time": "2021-11-13T20:52:55.641Z"
   },
   {
    "duration": 1614,
    "start_time": "2021-11-13T20:53:42.473Z"
   },
   {
    "duration": 414,
    "start_time": "2021-11-13T20:53:44.090Z"
   },
   {
    "duration": 19,
    "start_time": "2021-11-13T20:53:44.507Z"
   },
   {
    "duration": 12,
    "start_time": "2021-11-13T20:53:44.528Z"
   },
   {
    "duration": 6,
    "start_time": "2021-11-13T20:53:44.542Z"
   },
   {
    "duration": 6,
    "start_time": "2021-11-13T20:53:44.559Z"
   },
   {
    "duration": 19,
    "start_time": "2021-11-13T20:53:44.568Z"
   },
   {
    "duration": 13,
    "start_time": "2021-11-13T20:53:44.592Z"
   },
   {
    "duration": 13,
    "start_time": "2021-11-13T20:53:44.608Z"
   },
   {
    "duration": 63,
    "start_time": "2021-11-13T20:53:44.624Z"
   },
   {
    "duration": 29,
    "start_time": "2021-11-13T20:53:44.689Z"
   },
   {
    "duration": 41,
    "start_time": "2021-11-13T20:53:44.720Z"
   },
   {
    "duration": 16,
    "start_time": "2021-11-13T20:53:44.765Z"
   },
   {
    "duration": 9,
    "start_time": "2021-11-13T20:53:44.783Z"
   },
   {
    "duration": 12,
    "start_time": "2021-11-13T20:53:44.794Z"
   },
   {
    "duration": 59,
    "start_time": "2021-11-13T20:53:44.809Z"
   },
   {
    "duration": 35,
    "start_time": "2021-11-13T20:53:44.872Z"
   },
   {
    "duration": 5,
    "start_time": "2021-11-13T20:53:44.910Z"
   },
   {
    "duration": 11,
    "start_time": "2021-11-13T20:53:44.917Z"
   },
   {
    "duration": 32,
    "start_time": "2021-11-13T20:53:44.930Z"
   },
   {
    "duration": 32,
    "start_time": "2021-11-13T20:53:44.965Z"
   },
   {
    "duration": 23,
    "start_time": "2021-11-13T20:53:45.000Z"
   },
   {
    "duration": 48,
    "start_time": "2021-11-13T20:53:45.028Z"
   },
   {
    "duration": 13,
    "start_time": "2021-11-13T20:53:45.080Z"
   },
   {
    "duration": 24,
    "start_time": "2021-11-13T20:53:45.096Z"
   },
   {
    "duration": 58,
    "start_time": "2021-11-13T20:53:45.124Z"
   },
   {
    "duration": 13,
    "start_time": "2021-11-13T20:53:45.185Z"
   },
   {
    "duration": 13,
    "start_time": "2021-11-13T20:53:45.200Z"
   },
   {
    "duration": 7,
    "start_time": "2021-11-13T20:53:45.215Z"
   },
   {
    "duration": 49,
    "start_time": "2021-11-13T20:53:45.225Z"
   },
   {
    "duration": 11,
    "start_time": "2021-11-13T20:53:45.277Z"
   },
   {
    "duration": 17,
    "start_time": "2021-11-13T20:53:45.290Z"
   },
   {
    "duration": 14,
    "start_time": "2021-11-13T20:53:45.309Z"
   },
   {
    "duration": 55,
    "start_time": "2021-11-13T20:53:45.325Z"
   },
   {
    "duration": 20,
    "start_time": "2021-11-13T20:53:45.383Z"
   },
   {
    "duration": 6,
    "start_time": "2021-11-13T20:53:45.405Z"
   },
   {
    "duration": 7,
    "start_time": "2021-11-13T20:53:45.413Z"
   },
   {
    "duration": 45,
    "start_time": "2021-11-13T20:53:45.422Z"
   },
   {
    "duration": 9,
    "start_time": "2021-11-13T20:53:45.470Z"
   },
   {
    "duration": 20,
    "start_time": "2021-11-13T20:53:45.482Z"
   },
   {
    "duration": 15,
    "start_time": "2021-11-13T20:53:45.505Z"
   },
   {
    "duration": 52,
    "start_time": "2021-11-13T20:53:45.523Z"
   },
   {
    "duration": 18,
    "start_time": "2021-11-13T20:53:45.579Z"
   },
   {
    "duration": 10,
    "start_time": "2021-11-13T20:53:45.599Z"
   },
   {
    "duration": 59,
    "start_time": "2021-11-13T20:53:45.612Z"
   },
   {
    "duration": 9,
    "start_time": "2021-11-13T20:53:45.673Z"
   },
   {
    "duration": 156,
    "start_time": "2021-11-14T09:22:52.611Z"
   },
   {
    "duration": 146,
    "start_time": "2021-11-14T09:23:13.878Z"
   },
   {
    "duration": 13,
    "start_time": "2021-11-14T09:24:26.093Z"
   },
   {
    "duration": 1006,
    "start_time": "2021-11-14T09:28:31.230Z"
   },
   {
    "duration": 13,
    "start_time": "2021-11-14T09:31:51.303Z"
   },
   {
    "duration": 1026,
    "start_time": "2021-11-14T09:31:55.678Z"
   },
   {
    "duration": 14,
    "start_time": "2021-11-14T09:36:03.981Z"
   },
   {
    "duration": 146,
    "start_time": "2021-11-14T09:36:09.685Z"
   },
   {
    "duration": 45,
    "start_time": "2021-11-14T09:36:20.725Z"
   },
   {
    "duration": 23,
    "start_time": "2021-11-14T09:36:51.309Z"
   },
   {
    "duration": 6,
    "start_time": "2021-11-14T10:23:17.121Z"
   },
   {
    "duration": 340,
    "start_time": "2021-11-14T10:23:38.443Z"
   },
   {
    "duration": 802,
    "start_time": "2021-11-14T10:23:54.785Z"
   },
   {
    "duration": 333,
    "start_time": "2021-11-14T10:24:22.378Z"
   },
   {
    "duration": 353,
    "start_time": "2021-11-14T10:25:16.315Z"
   },
   {
    "duration": 468,
    "start_time": "2021-11-14T10:25:22.680Z"
   },
   {
    "duration": 6,
    "start_time": "2021-11-14T10:32:37.524Z"
   },
   {
    "duration": 6,
    "start_time": "2021-11-14T10:33:03.108Z"
   },
   {
    "duration": 5,
    "start_time": "2021-11-14T10:33:45.796Z"
   },
   {
    "duration": 6,
    "start_time": "2021-11-14T10:33:49.738Z"
   },
   {
    "duration": 5,
    "start_time": "2021-11-14T10:34:18.999Z"
   },
   {
    "duration": 8,
    "start_time": "2021-11-14T10:34:21.981Z"
   },
   {
    "duration": 419,
    "start_time": "2021-11-14T10:46:54.537Z"
   },
   {
    "duration": 628,
    "start_time": "2021-11-14T10:48:03.216Z"
   },
   {
    "duration": 532,
    "start_time": "2021-11-14T10:49:49.354Z"
   },
   {
    "duration": 548,
    "start_time": "2021-11-14T10:50:29.157Z"
   },
   {
    "duration": 28,
    "start_time": "2021-11-14T10:52:34.374Z"
   },
   {
    "duration": 27,
    "start_time": "2021-11-14T10:53:31.865Z"
   },
   {
    "duration": 16,
    "start_time": "2021-11-14T10:53:44.503Z"
   },
   {
    "duration": 482,
    "start_time": "2021-11-14T10:57:26.944Z"
   },
   {
    "duration": 4068,
    "start_time": "2021-11-14T11:10:13.281Z"
   },
   {
    "duration": 386,
    "start_time": "2021-11-14T11:10:44.600Z"
   },
   {
    "duration": 3877,
    "start_time": "2021-11-14T11:11:13.140Z"
   },
   {
    "duration": 1664,
    "start_time": "2021-11-14T11:11:17.020Z"
   },
   {
    "duration": 456,
    "start_time": "2021-11-14T11:11:18.689Z"
   },
   {
    "duration": 35,
    "start_time": "2021-11-14T11:11:19.148Z"
   },
   {
    "duration": 27,
    "start_time": "2021-11-14T11:11:19.187Z"
   },
   {
    "duration": 11,
    "start_time": "2021-11-14T11:11:19.216Z"
   },
   {
    "duration": 16,
    "start_time": "2021-11-14T11:11:19.229Z"
   },
   {
    "duration": 11,
    "start_time": "2021-11-14T11:11:19.250Z"
   },
   {
    "duration": 45,
    "start_time": "2021-11-14T11:11:19.268Z"
   },
   {
    "duration": 17,
    "start_time": "2021-11-14T11:11:19.316Z"
   },
   {
    "duration": 45,
    "start_time": "2021-11-14T11:11:19.335Z"
   },
   {
    "duration": 40,
    "start_time": "2021-11-14T11:11:19.383Z"
   },
   {
    "duration": 34,
    "start_time": "2021-11-14T11:11:19.426Z"
   },
   {
    "duration": 19,
    "start_time": "2021-11-14T11:11:19.462Z"
   },
   {
    "duration": 33,
    "start_time": "2021-11-14T11:11:19.484Z"
   },
   {
    "duration": 15,
    "start_time": "2021-11-14T11:11:19.520Z"
   },
   {
    "duration": 12,
    "start_time": "2021-11-14T11:11:19.538Z"
   },
   {
    "duration": 58,
    "start_time": "2021-11-14T11:11:19.563Z"
   },
   {
    "duration": 6,
    "start_time": "2021-11-14T11:11:19.623Z"
   },
   {
    "duration": 14,
    "start_time": "2021-11-14T11:11:19.631Z"
   },
   {
    "duration": 28,
    "start_time": "2021-11-14T11:11:19.647Z"
   },
   {
    "duration": 48,
    "start_time": "2021-11-14T11:11:19.678Z"
   },
   {
    "duration": 22,
    "start_time": "2021-11-14T11:11:19.732Z"
   },
   {
    "duration": 35,
    "start_time": "2021-11-14T11:11:19.757Z"
   },
   {
    "duration": 21,
    "start_time": "2021-11-14T11:11:19.795Z"
   },
   {
    "duration": 19,
    "start_time": "2021-11-14T11:11:19.818Z"
   },
   {
    "duration": 45,
    "start_time": "2021-11-14T11:11:19.839Z"
   },
   {
    "duration": 18,
    "start_time": "2021-11-14T11:11:19.888Z"
   },
   {
    "duration": 12,
    "start_time": "2021-11-14T11:11:19.909Z"
   },
   {
    "duration": 5,
    "start_time": "2021-11-14T11:11:19.923Z"
   },
   {
    "duration": 52,
    "start_time": "2021-11-14T11:11:19.931Z"
   },
   {
    "duration": 27,
    "start_time": "2021-11-14T11:11:19.986Z"
   },
   {
    "duration": 30,
    "start_time": "2021-11-14T11:11:20.015Z"
   },
   {
    "duration": 20,
    "start_time": "2021-11-14T11:11:20.047Z"
   },
   {
    "duration": 20,
    "start_time": "2021-11-14T11:11:20.070Z"
   },
   {
    "duration": 44,
    "start_time": "2021-11-14T11:11:20.092Z"
   },
   {
    "duration": 6,
    "start_time": "2021-11-14T11:11:20.138Z"
   },
   {
    "duration": 20,
    "start_time": "2021-11-14T11:11:20.146Z"
   },
   {
    "duration": 44,
    "start_time": "2021-11-14T11:11:20.172Z"
   },
   {
    "duration": 13,
    "start_time": "2021-11-14T11:11:20.218Z"
   },
   {
    "duration": 35,
    "start_time": "2021-11-14T11:11:20.233Z"
   },
   {
    "duration": 42,
    "start_time": "2021-11-14T11:11:20.271Z"
   },
   {
    "duration": 24,
    "start_time": "2021-11-14T11:11:20.316Z"
   },
   {
    "duration": 40,
    "start_time": "2021-11-14T11:11:20.343Z"
   },
   {
    "duration": 38,
    "start_time": "2021-11-14T11:11:20.386Z"
   },
   {
    "duration": 28,
    "start_time": "2021-11-14T11:11:20.426Z"
   },
   {
    "duration": 56,
    "start_time": "2021-11-14T11:11:20.456Z"
   },
   {
    "duration": 198,
    "start_time": "2021-11-14T11:11:20.514Z"
   },
   {
    "duration": 23,
    "start_time": "2021-11-14T11:11:20.714Z"
   },
   {
    "duration": 481,
    "start_time": "2021-11-14T11:11:20.739Z"
   },
   {
    "duration": 6,
    "start_time": "2021-11-14T11:11:21.223Z"
   },
   {
    "duration": 13,
    "start_time": "2021-11-14T11:11:21.231Z"
   },
   {
    "duration": 601,
    "start_time": "2021-11-14T11:11:21.246Z"
   },
   {
    "duration": 44,
    "start_time": "2021-11-14T11:11:21.850Z"
   },
   {
    "duration": 596,
    "start_time": "2021-11-14T11:11:21.897Z"
   },
   {
    "duration": -2363,
    "start_time": "2021-11-14T11:11:24.859Z"
   },
   {
    "duration": -2366,
    "start_time": "2021-11-14T11:11:24.864Z"
   },
   {
    "duration": -2374,
    "start_time": "2021-11-14T11:11:24.874Z"
   },
   {
    "duration": -2376,
    "start_time": "2021-11-14T11:11:24.879Z"
   },
   {
    "duration": -2380,
    "start_time": "2021-11-14T11:11:24.885Z"
   },
   {
    "duration": -2386,
    "start_time": "2021-11-14T11:11:24.894Z"
   },
   {
    "duration": -2389,
    "start_time": "2021-11-14T11:11:24.900Z"
   },
   {
    "duration": -2394,
    "start_time": "2021-11-14T11:11:24.909Z"
   },
   {
    "duration": -2437,
    "start_time": "2021-11-14T11:11:24.954Z"
   },
   {
    "duration": -2444,
    "start_time": "2021-11-14T11:11:24.962Z"
   },
   {
    "duration": 3320,
    "start_time": "2021-11-14T11:13:41.287Z"
   },
   {
    "duration": 3952,
    "start_time": "2021-11-14T11:14:03.125Z"
   },
   {
    "duration": 5404,
    "start_time": "2021-11-14T11:15:29.542Z"
   },
   {
    "duration": 422,
    "start_time": "2021-11-14T11:15:52.491Z"
   },
   {
    "duration": 4212,
    "start_time": "2021-11-14T11:16:07.147Z"
   },
   {
    "duration": 1667,
    "start_time": "2021-11-14T11:16:11.362Z"
   },
   {
    "duration": 424,
    "start_time": "2021-11-14T11:16:13.033Z"
   },
   {
    "duration": 37,
    "start_time": "2021-11-14T11:16:13.460Z"
   },
   {
    "duration": 10,
    "start_time": "2021-11-14T11:16:13.501Z"
   },
   {
    "duration": 7,
    "start_time": "2021-11-14T11:16:13.513Z"
   },
   {
    "duration": 12,
    "start_time": "2021-11-14T11:16:13.522Z"
   },
   {
    "duration": 41,
    "start_time": "2021-11-14T11:16:13.538Z"
   },
   {
    "duration": 24,
    "start_time": "2021-11-14T11:16:13.584Z"
   },
   {
    "duration": 17,
    "start_time": "2021-11-14T11:16:13.611Z"
   },
   {
    "duration": 33,
    "start_time": "2021-11-14T11:16:13.630Z"
   },
   {
    "duration": 43,
    "start_time": "2021-11-14T11:16:13.667Z"
   },
   {
    "duration": 22,
    "start_time": "2021-11-14T11:16:13.712Z"
   },
   {
    "duration": 38,
    "start_time": "2021-11-14T11:16:13.737Z"
   },
   {
    "duration": 28,
    "start_time": "2021-11-14T11:16:13.777Z"
   },
   {
    "duration": 18,
    "start_time": "2021-11-14T11:16:13.807Z"
   },
   {
    "duration": 12,
    "start_time": "2021-11-14T11:16:13.827Z"
   },
   {
    "duration": 56,
    "start_time": "2021-11-14T11:16:13.842Z"
   },
   {
    "duration": 7,
    "start_time": "2021-11-14T11:16:13.900Z"
   },
   {
    "duration": 16,
    "start_time": "2021-11-14T11:16:13.909Z"
   },
   {
    "duration": 43,
    "start_time": "2021-11-14T11:16:13.927Z"
   },
   {
    "duration": 49,
    "start_time": "2021-11-14T11:16:13.973Z"
   },
   {
    "duration": 33,
    "start_time": "2021-11-14T11:16:14.030Z"
   },
   {
    "duration": 25,
    "start_time": "2021-11-14T11:16:14.069Z"
   },
   {
    "duration": 24,
    "start_time": "2021-11-14T11:16:14.097Z"
   },
   {
    "duration": 29,
    "start_time": "2021-11-14T11:16:14.123Z"
   },
   {
    "duration": 34,
    "start_time": "2021-11-14T11:16:14.167Z"
   },
   {
    "duration": 12,
    "start_time": "2021-11-14T11:16:14.204Z"
   },
   {
    "duration": 11,
    "start_time": "2021-11-14T11:16:14.218Z"
   },
   {
    "duration": 6,
    "start_time": "2021-11-14T11:16:14.231Z"
   },
   {
    "duration": 15,
    "start_time": "2021-11-14T11:16:14.269Z"
   },
   {
    "duration": 18,
    "start_time": "2021-11-14T11:16:14.288Z"
   },
   {
    "duration": 22,
    "start_time": "2021-11-14T11:16:14.309Z"
   },
   {
    "duration": 38,
    "start_time": "2021-11-14T11:16:14.333Z"
   },
   {
    "duration": 17,
    "start_time": "2021-11-14T11:16:14.375Z"
   },
   {
    "duration": 27,
    "start_time": "2021-11-14T11:16:14.395Z"
   },
   {
    "duration": 5,
    "start_time": "2021-11-14T11:16:14.424Z"
   },
   {
    "duration": 10,
    "start_time": "2021-11-14T11:16:14.460Z"
   },
   {
    "duration": 32,
    "start_time": "2021-11-14T11:16:14.472Z"
   },
   {
    "duration": 7,
    "start_time": "2021-11-14T11:16:14.506Z"
   },
   {
    "duration": 21,
    "start_time": "2021-11-14T11:16:14.516Z"
   },
   {
    "duration": 24,
    "start_time": "2021-11-14T11:16:14.540Z"
   },
   {
    "duration": 34,
    "start_time": "2021-11-14T11:16:14.566Z"
   },
   {
    "duration": 20,
    "start_time": "2021-11-14T11:16:14.603Z"
   },
   {
    "duration": 9,
    "start_time": "2021-11-14T11:16:14.625Z"
   },
   {
    "duration": 52,
    "start_time": "2021-11-14T11:16:14.636Z"
   },
   {
    "duration": 22,
    "start_time": "2021-11-14T11:16:14.690Z"
   },
   {
    "duration": 154,
    "start_time": "2021-11-14T11:16:14.715Z"
   },
   {
    "duration": 31,
    "start_time": "2021-11-14T11:16:14.872Z"
   },
   {
    "duration": 369,
    "start_time": "2021-11-14T11:16:14.905Z"
   },
   {
    "duration": 10,
    "start_time": "2021-11-14T11:16:15.277Z"
   },
   {
    "duration": 7,
    "start_time": "2021-11-14T11:16:15.290Z"
   },
   {
    "duration": 574,
    "start_time": "2021-11-14T11:16:15.302Z"
   },
   {
    "duration": 26,
    "start_time": "2021-11-14T11:16:15.879Z"
   },
   {
    "duration": 685,
    "start_time": "2021-11-14T11:16:15.908Z"
   },
   {
    "duration": 335,
    "start_time": "2021-11-14T11:16:16.596Z"
   },
   {
    "duration": 6,
    "start_time": "2021-11-14T11:16:16.933Z"
   },
   {
    "duration": 24,
    "start_time": "2021-11-14T11:16:16.942Z"
   },
   {
    "duration": 552,
    "start_time": "2021-11-14T11:16:16.968Z"
   },
   {
    "duration": 18,
    "start_time": "2021-11-14T11:16:17.522Z"
   },
   {
    "duration": 403,
    "start_time": "2021-11-14T11:16:17.559Z"
   },
   {
    "duration": 12,
    "start_time": "2021-11-14T11:16:17.970Z"
   },
   {
    "duration": 20,
    "start_time": "2021-11-14T11:16:17.990Z"
   },
   {
    "duration": 559,
    "start_time": "2021-11-14T11:16:18.014Z"
   },
   {
    "duration": 24,
    "start_time": "2021-11-14T11:16:18.576Z"
   },
   {
    "duration": 807,
    "start_time": "2021-11-14T11:19:35.275Z"
   },
   {
    "duration": 643,
    "start_time": "2021-11-14T11:20:32.199Z"
   },
   {
    "duration": 8,
    "start_time": "2021-11-14T11:27:05.747Z"
   },
   {
    "duration": 13,
    "start_time": "2021-11-14T11:36:47.598Z"
   },
   {
    "duration": 12,
    "start_time": "2021-11-14T11:38:20.417Z"
   },
   {
    "duration": 12,
    "start_time": "2021-11-14T11:39:00.841Z"
   },
   {
    "duration": 12,
    "start_time": "2021-11-14T12:23:59.451Z"
   },
   {
    "duration": 10,
    "start_time": "2021-11-14T12:24:02.879Z"
   },
   {
    "duration": 10,
    "start_time": "2021-11-14T12:24:06.785Z"
   },
   {
    "duration": 11,
    "start_time": "2021-11-14T12:24:11.773Z"
   },
   {
    "duration": 27,
    "start_time": "2021-11-14T12:32:00.689Z"
   },
   {
    "duration": 11,
    "start_time": "2021-11-14T12:37:58.881Z"
   },
   {
    "duration": 12,
    "start_time": "2021-11-14T12:38:08.044Z"
   },
   {
    "duration": 40,
    "start_time": "2021-11-14T12:38:09.328Z"
   },
   {
    "duration": 14,
    "start_time": "2021-11-14T12:38:19.327Z"
   },
   {
    "duration": 11,
    "start_time": "2021-11-14T12:38:56.372Z"
   },
   {
    "duration": 39,
    "start_time": "2021-11-14T12:38:58.875Z"
   },
   {
    "duration": 328,
    "start_time": "2021-11-14T12:38:58.930Z"
   },
   {
    "duration": 596,
    "start_time": "2021-11-14T12:39:00.741Z"
   },
   {
    "duration": 12,
    "start_time": "2021-11-14T12:39:08.092Z"
   },
   {
    "duration": 11,
    "start_time": "2021-11-14T12:39:21.182Z"
   },
   {
    "duration": 27,
    "start_time": "2021-11-14T12:39:21.995Z"
   },
   {
    "duration": 12,
    "start_time": "2021-11-14T12:40:31.433Z"
   },
   {
    "duration": 32,
    "start_time": "2021-11-14T12:41:07.840Z"
   },
   {
    "duration": 10,
    "start_time": "2021-11-14T12:43:55.342Z"
   },
   {
    "duration": 26,
    "start_time": "2021-11-14T12:44:20.125Z"
   },
   {
    "duration": 29,
    "start_time": "2021-11-14T12:46:12.098Z"
   },
   {
    "duration": 11,
    "start_time": "2021-11-14T22:57:51.355Z"
   },
   {
    "duration": 9,
    "start_time": "2021-11-14T22:58:20.803Z"
   },
   {
    "duration": 10,
    "start_time": "2021-11-14T22:59:46.750Z"
   },
   {
    "duration": 537,
    "start_time": "2021-11-15T07:14:01.192Z"
   },
   {
    "duration": 11,
    "start_time": "2021-11-15T07:15:32.920Z"
   },
   {
    "duration": 16,
    "start_time": "2021-11-15T07:15:59.935Z"
   },
   {
    "duration": 17,
    "start_time": "2021-11-15T07:21:52.165Z"
   },
   {
    "duration": 6,
    "start_time": "2021-11-15T07:36:29.809Z"
   },
   {
    "duration": 385,
    "start_time": "2021-11-15T07:37:06.082Z"
   },
   {
    "duration": 514,
    "start_time": "2021-11-15T07:37:27.773Z"
   },
   {
    "duration": 14,
    "start_time": "2021-11-15T07:50:13.085Z"
   },
   {
    "duration": 18,
    "start_time": "2021-11-15T07:50:31.593Z"
   },
   {
    "duration": 604,
    "start_time": "2021-11-15T07:51:15.099Z"
   },
   {
    "duration": 555,
    "start_time": "2021-11-15T07:51:47.853Z"
   },
   {
    "duration": 494,
    "start_time": "2021-11-15T07:52:13.027Z"
   },
   {
    "duration": 391,
    "start_time": "2021-11-15T09:52:33.496Z"
   },
   {
    "duration": 10,
    "start_time": "2021-11-15T09:52:58.277Z"
   },
   {
    "duration": 11,
    "start_time": "2021-11-15T10:02:42.687Z"
   },
   {
    "duration": 3,
    "start_time": "2021-11-15T10:02:45.749Z"
   },
   {
    "duration": 6,
    "start_time": "2021-11-15T10:02:49.246Z"
   },
   {
    "duration": 391,
    "start_time": "2021-11-15T10:02:53.132Z"
   },
   {
    "duration": 383,
    "start_time": "2021-11-15T10:04:08.073Z"
   },
   {
    "duration": 30,
    "start_time": "2021-11-15T10:05:18.403Z"
   },
   {
    "duration": 418,
    "start_time": "2021-11-15T11:40:01.258Z"
   },
   {
    "duration": 6,
    "start_time": "2021-11-15T11:45:00.345Z"
   },
   {
    "duration": 34,
    "start_time": "2021-11-15T11:45:03.831Z"
   },
   {
    "duration": 11,
    "start_time": "2021-11-15T11:45:46.679Z"
   },
   {
    "duration": 23,
    "start_time": "2021-11-15T11:45:50.238Z"
   },
   {
    "duration": 14,
    "start_time": "2021-11-15T11:46:11.673Z"
   },
   {
    "duration": 27,
    "start_time": "2021-11-15T11:46:15.230Z"
   },
   {
    "duration": 6,
    "start_time": "2021-11-15T11:46:57.983Z"
   },
   {
    "duration": 25,
    "start_time": "2021-11-15T11:47:00.931Z"
   },
   {
    "duration": 5,
    "start_time": "2021-11-15T11:49:39.744Z"
   },
   {
    "duration": 29,
    "start_time": "2021-11-15T11:49:42.392Z"
   },
   {
    "duration": 6,
    "start_time": "2021-11-15T11:50:21.986Z"
   },
   {
    "duration": 31,
    "start_time": "2021-11-15T11:50:24.358Z"
   },
   {
    "duration": 6,
    "start_time": "2021-11-15T11:56:08.903Z"
   },
   {
    "duration": 27,
    "start_time": "2021-11-15T11:56:11.563Z"
   },
   {
    "duration": 23,
    "start_time": "2021-11-15T11:58:42.758Z"
   },
   {
    "duration": 5,
    "start_time": "2021-11-15T11:59:52.691Z"
   },
   {
    "duration": 829,
    "start_time": "2021-11-15T11:59:56.184Z"
   },
   {
    "duration": 5,
    "start_time": "2021-11-15T12:00:33.184Z"
   },
   {
    "duration": 28,
    "start_time": "2021-11-15T12:00:35.846Z"
   },
   {
    "duration": 144,
    "start_time": "2021-11-15T12:02:12.025Z"
   },
   {
    "duration": 5,
    "start_time": "2021-11-15T12:02:56.730Z"
   },
   {
    "duration": 30,
    "start_time": "2021-11-15T12:02:59.769Z"
   },
   {
    "duration": 10,
    "start_time": "2021-11-15T12:19:24.740Z"
   },
   {
    "duration": 5,
    "start_time": "2021-11-15T12:21:07.011Z"
   },
   {
    "duration": 768,
    "start_time": "2021-11-15T12:21:11.257Z"
   },
   {
    "duration": 3,
    "start_time": "2021-11-15T12:22:06.523Z"
   },
   {
    "duration": 6,
    "start_time": "2021-11-15T12:22:07.806Z"
   },
   {
    "duration": 28,
    "start_time": "2021-11-15T12:22:10.208Z"
   },
   {
    "duration": 3526,
    "start_time": "2021-11-15T12:27:31.570Z"
   },
   {
    "duration": 3362,
    "start_time": "2021-11-15T12:27:56.938Z"
   },
   {
    "duration": 5,
    "start_time": "2021-11-15T12:30:22.394Z"
   },
   {
    "duration": 16,
    "start_time": "2021-11-15T12:39:50.294Z"
   },
   {
    "duration": 30,
    "start_time": "2021-11-15T12:39:55.584Z"
   },
   {
    "duration": 6,
    "start_time": "2021-11-15T12:41:18.860Z"
   },
   {
    "duration": 634,
    "start_time": "2021-11-15T12:42:02.844Z"
   },
   {
    "duration": 11,
    "start_time": "2021-11-15T12:47:56.546Z"
   },
   {
    "duration": 13,
    "start_time": "2021-11-15T12:49:00.893Z"
   },
   {
    "duration": 30,
    "start_time": "2021-11-15T12:49:19.248Z"
   },
   {
    "duration": 286,
    "start_time": "2021-11-15T12:50:34.110Z"
   },
   {
    "duration": 459,
    "start_time": "2021-11-15T12:51:26.998Z"
   },
   {
    "duration": 472,
    "start_time": "2021-11-15T12:52:47.168Z"
   },
   {
    "duration": 935,
    "start_time": "2021-11-15T12:53:07.374Z"
   },
   {
    "duration": 1612,
    "start_time": "2021-11-15T13:41:02.361Z"
   },
   {
    "duration": 2225,
    "start_time": "2021-11-15T13:41:57.903Z"
   },
   {
    "duration": 1533,
    "start_time": "2021-11-15T13:43:14.908Z"
   },
   {
    "duration": 1398,
    "start_time": "2021-11-15T13:45:51.063Z"
   },
   {
    "duration": 201,
    "start_time": "2021-11-15T13:48:37.781Z"
   },
   {
    "duration": 3591,
    "start_time": "2021-11-15T13:49:13.472Z"
   },
   {
    "duration": 1414,
    "start_time": "2021-11-15T13:49:17.066Z"
   },
   {
    "duration": 409,
    "start_time": "2021-11-15T13:49:18.483Z"
   },
   {
    "duration": 19,
    "start_time": "2021-11-15T13:49:18.895Z"
   },
   {
    "duration": 21,
    "start_time": "2021-11-15T13:49:18.916Z"
   },
   {
    "duration": 11,
    "start_time": "2021-11-15T13:49:18.939Z"
   },
   {
    "duration": 21,
    "start_time": "2021-11-15T13:49:18.952Z"
   },
   {
    "duration": 24,
    "start_time": "2021-11-15T13:49:18.977Z"
   },
   {
    "duration": 17,
    "start_time": "2021-11-15T13:49:19.005Z"
   },
   {
    "duration": 26,
    "start_time": "2021-11-15T13:49:19.025Z"
   },
   {
    "duration": 27,
    "start_time": "2021-11-15T13:49:19.055Z"
   },
   {
    "duration": 35,
    "start_time": "2021-11-15T13:49:19.085Z"
   },
   {
    "duration": 52,
    "start_time": "2021-11-15T13:49:19.122Z"
   },
   {
    "duration": 13,
    "start_time": "2021-11-15T13:49:19.176Z"
   },
   {
    "duration": 24,
    "start_time": "2021-11-15T13:49:19.192Z"
   },
   {
    "duration": 37,
    "start_time": "2021-11-15T13:49:19.219Z"
   },
   {
    "duration": 26,
    "start_time": "2021-11-15T13:49:19.258Z"
   },
   {
    "duration": 36,
    "start_time": "2021-11-15T13:49:19.287Z"
   },
   {
    "duration": 6,
    "start_time": "2021-11-15T13:49:19.326Z"
   },
   {
    "duration": 38,
    "start_time": "2021-11-15T13:49:19.335Z"
   },
   {
    "duration": 28,
    "start_time": "2021-11-15T13:49:19.376Z"
   },
   {
    "duration": 30,
    "start_time": "2021-11-15T13:49:19.406Z"
   },
   {
    "duration": 26,
    "start_time": "2021-11-15T13:49:19.442Z"
   },
   {
    "duration": 18,
    "start_time": "2021-11-15T13:49:19.472Z"
   },
   {
    "duration": 14,
    "start_time": "2021-11-15T13:49:19.493Z"
   },
   {
    "duration": 57,
    "start_time": "2021-11-15T13:49:19.509Z"
   },
   {
    "duration": 22,
    "start_time": "2021-11-15T13:49:19.568Z"
   },
   {
    "duration": 11,
    "start_time": "2021-11-15T13:49:19.592Z"
   },
   {
    "duration": 24,
    "start_time": "2021-11-15T13:49:19.605Z"
   },
   {
    "duration": 27,
    "start_time": "2021-11-15T13:49:19.632Z"
   },
   {
    "duration": 39,
    "start_time": "2021-11-15T13:49:19.662Z"
   },
   {
    "duration": 28,
    "start_time": "2021-11-15T13:49:19.703Z"
   },
   {
    "duration": 29,
    "start_time": "2021-11-15T13:49:19.733Z"
   },
   {
    "duration": 14,
    "start_time": "2021-11-15T13:49:19.765Z"
   },
   {
    "duration": 12,
    "start_time": "2021-11-15T13:49:19.782Z"
   },
   {
    "duration": 36,
    "start_time": "2021-11-15T13:49:19.797Z"
   },
   {
    "duration": 6,
    "start_time": "2021-11-15T13:49:19.860Z"
   },
   {
    "duration": 21,
    "start_time": "2021-11-15T13:49:19.868Z"
   },
   {
    "duration": 20,
    "start_time": "2021-11-15T13:49:19.892Z"
   },
   {
    "duration": 14,
    "start_time": "2021-11-15T13:49:19.916Z"
   },
   {
    "duration": 33,
    "start_time": "2021-11-15T13:49:19.933Z"
   },
   {
    "duration": 16,
    "start_time": "2021-11-15T13:49:19.969Z"
   },
   {
    "duration": 17,
    "start_time": "2021-11-15T13:49:19.989Z"
   },
   {
    "duration": 53,
    "start_time": "2021-11-15T13:49:20.009Z"
   },
   {
    "duration": 10,
    "start_time": "2021-11-15T13:49:20.065Z"
   },
   {
    "duration": 26,
    "start_time": "2021-11-15T13:49:20.077Z"
   },
   {
    "duration": 18,
    "start_time": "2021-11-15T13:49:20.106Z"
   },
   {
    "duration": 153,
    "start_time": "2021-11-15T13:49:20.159Z"
   },
   {
    "duration": 23,
    "start_time": "2021-11-15T13:49:20.315Z"
   },
   {
    "duration": 26,
    "start_time": "2021-11-15T13:49:20.340Z"
   },
   {
    "duration": 29,
    "start_time": "2021-11-15T13:49:20.369Z"
   },
   {
    "duration": 359,
    "start_time": "2021-11-15T13:49:20.400Z"
   },
   {
    "duration": 654,
    "start_time": "2021-11-15T13:49:20.762Z"
   },
   {
    "duration": 226,
    "start_time": "2021-11-15T13:49:21.419Z"
   },
   {
    "duration": 578,
    "start_time": "2021-11-15T13:49:21.659Z"
   },
   {
    "duration": 23,
    "start_time": "2021-11-15T13:49:22.239Z"
   },
   {
    "duration": 36,
    "start_time": "2021-11-15T13:49:22.264Z"
   },
   {
    "duration": 332,
    "start_time": "2021-11-15T13:49:22.302Z"
   },
   {
    "duration": 552,
    "start_time": "2021-11-15T13:49:22.637Z"
   },
   {
    "duration": 694,
    "start_time": "2021-11-15T13:49:23.192Z"
   },
   {
    "duration": 11,
    "start_time": "2021-11-15T13:49:23.888Z"
   },
   {
    "duration": 59,
    "start_time": "2021-11-15T13:49:23.902Z"
   },
   {
    "duration": 287,
    "start_time": "2021-11-15T13:49:23.964Z"
   },
   {
    "duration": 502,
    "start_time": "2021-11-15T13:49:24.259Z"
   },
   {
    "duration": 608,
    "start_time": "2021-11-15T13:49:24.764Z"
   },
   {
    "duration": 15,
    "start_time": "2021-11-15T13:49:25.376Z"
   },
   {
    "duration": 70,
    "start_time": "2021-11-15T13:49:25.394Z"
   },
   {
    "duration": 313,
    "start_time": "2021-11-15T13:49:25.475Z"
   },
   {
    "duration": 615,
    "start_time": "2021-11-15T13:49:25.792Z"
   },
   {
    "duration": 966,
    "start_time": "2021-11-15T13:49:26.410Z"
   },
   {
    "duration": 12,
    "start_time": "2021-11-15T13:49:27.379Z"
   },
   {
    "duration": 27,
    "start_time": "2021-11-15T13:49:27.393Z"
   },
   {
    "duration": 38,
    "start_time": "2021-11-15T13:49:27.422Z"
   },
   {
    "duration": 505,
    "start_time": "2021-11-15T13:49:27.463Z"
   },
   {
    "duration": 598,
    "start_time": "2021-11-15T13:49:27.971Z"
   },
   {
    "duration": 554,
    "start_time": "2021-11-15T13:49:28.572Z"
   },
   {
    "duration": 644,
    "start_time": "2021-11-15T13:49:29.128Z"
   },
   {
    "duration": 13,
    "start_time": "2021-11-15T13:49:29.774Z"
   },
   {
    "duration": 12,
    "start_time": "2021-11-15T13:49:29.789Z"
   },
   {
    "duration": 15,
    "start_time": "2021-11-15T13:49:29.804Z"
   },
   {
    "duration": 60,
    "start_time": "2021-11-15T13:49:29.821Z"
   },
   {
    "duration": 514,
    "start_time": "2021-11-15T13:54:31.008Z"
   },
   {
    "duration": 215,
    "start_time": "2021-11-15T13:55:50.965Z"
   },
   {
    "duration": 142,
    "start_time": "2021-11-15T13:58:43.124Z"
   },
   {
    "duration": 473,
    "start_time": "2021-11-15T13:58:57.807Z"
   },
   {
    "duration": 296,
    "start_time": "2021-11-15T14:00:07.631Z"
   },
   {
    "duration": 5,
    "start_time": "2021-11-15T14:05:41.437Z"
   },
   {
    "duration": 3619,
    "start_time": "2021-11-15T14:05:50.741Z"
   },
   {
    "duration": 1413,
    "start_time": "2021-11-15T14:05:54.363Z"
   },
   {
    "duration": 455,
    "start_time": "2021-11-15T14:05:55.779Z"
   },
   {
    "duration": 31,
    "start_time": "2021-11-15T14:05:56.237Z"
   },
   {
    "duration": 13,
    "start_time": "2021-11-15T14:05:56.271Z"
   },
   {
    "duration": 9,
    "start_time": "2021-11-15T14:05:56.287Z"
   },
   {
    "duration": 21,
    "start_time": "2021-11-15T14:05:56.299Z"
   },
   {
    "duration": 13,
    "start_time": "2021-11-15T14:05:56.324Z"
   },
   {
    "duration": 23,
    "start_time": "2021-11-15T14:05:56.340Z"
   },
   {
    "duration": 20,
    "start_time": "2021-11-15T14:05:56.365Z"
   },
   {
    "duration": 22,
    "start_time": "2021-11-15T14:05:56.388Z"
   },
   {
    "duration": 71,
    "start_time": "2021-11-15T14:05:56.413Z"
   },
   {
    "duration": 24,
    "start_time": "2021-11-15T14:05:56.486Z"
   },
   {
    "duration": 13,
    "start_time": "2021-11-15T14:05:56.512Z"
   },
   {
    "duration": 33,
    "start_time": "2021-11-15T14:05:56.527Z"
   },
   {
    "duration": 16,
    "start_time": "2021-11-15T14:05:56.563Z"
   },
   {
    "duration": 12,
    "start_time": "2021-11-15T14:05:56.582Z"
   },
   {
    "duration": 71,
    "start_time": "2021-11-15T14:05:56.597Z"
   },
   {
    "duration": 6,
    "start_time": "2021-11-15T14:05:56.670Z"
   },
   {
    "duration": 17,
    "start_time": "2021-11-15T14:05:56.679Z"
   },
   {
    "duration": 18,
    "start_time": "2021-11-15T14:05:56.699Z"
   },
   {
    "duration": 54,
    "start_time": "2021-11-15T14:05:56.719Z"
   },
   {
    "duration": 26,
    "start_time": "2021-11-15T14:05:56.780Z"
   },
   {
    "duration": 53,
    "start_time": "2021-11-15T14:05:56.811Z"
   },
   {
    "duration": 12,
    "start_time": "2021-11-15T14:05:56.867Z"
   },
   {
    "duration": 29,
    "start_time": "2021-11-15T14:05:56.882Z"
   },
   {
    "duration": 54,
    "start_time": "2021-11-15T14:05:56.914Z"
   },
   {
    "duration": 11,
    "start_time": "2021-11-15T14:05:56.971Z"
   },
   {
    "duration": 32,
    "start_time": "2021-11-15T14:05:56.984Z"
   },
   {
    "duration": 7,
    "start_time": "2021-11-15T14:05:57.018Z"
   },
   {
    "duration": 15,
    "start_time": "2021-11-15T14:05:57.028Z"
   },
   {
    "duration": 10,
    "start_time": "2021-11-15T14:05:57.060Z"
   },
   {
    "duration": 18,
    "start_time": "2021-11-15T14:05:57.072Z"
   },
   {
    "duration": 14,
    "start_time": "2021-11-15T14:05:57.093Z"
   },
   {
    "duration": 52,
    "start_time": "2021-11-15T14:05:57.109Z"
   },
   {
    "duration": 24,
    "start_time": "2021-11-15T14:05:57.164Z"
   },
   {
    "duration": 5,
    "start_time": "2021-11-15T14:05:57.190Z"
   },
   {
    "duration": 8,
    "start_time": "2021-11-15T14:05:57.198Z"
   },
   {
    "duration": 52,
    "start_time": "2021-11-15T14:05:57.209Z"
   },
   {
    "duration": 6,
    "start_time": "2021-11-15T14:05:57.264Z"
   },
   {
    "duration": 22,
    "start_time": "2021-11-15T14:05:57.273Z"
   },
   {
    "duration": 14,
    "start_time": "2021-11-15T14:05:57.297Z"
   },
   {
    "duration": 46,
    "start_time": "2021-11-15T14:05:57.313Z"
   },
   {
    "duration": 16,
    "start_time": "2021-11-15T14:05:57.362Z"
   },
   {
    "duration": 11,
    "start_time": "2021-11-15T14:05:57.380Z"
   },
   {
    "duration": 20,
    "start_time": "2021-11-15T14:05:57.393Z"
   },
   {
    "duration": 13,
    "start_time": "2021-11-15T14:05:57.460Z"
   },
   {
    "duration": 148,
    "start_time": "2021-11-15T14:05:57.476Z"
   },
   {
    "duration": 32,
    "start_time": "2021-11-15T14:05:57.627Z"
   },
   {
    "duration": 10,
    "start_time": "2021-11-15T14:05:57.661Z"
   },
   {
    "duration": 28,
    "start_time": "2021-11-15T14:05:57.673Z"
   },
   {
    "duration": 355,
    "start_time": "2021-11-15T14:05:57.704Z"
   },
   {
    "duration": 523,
    "start_time": "2021-11-15T14:05:58.061Z"
   },
   {
    "duration": 262,
    "start_time": "2021-11-15T14:05:58.586Z"
   },
   {
    "duration": 653,
    "start_time": "2021-11-15T14:05:58.850Z"
   },
   {
    "duration": 11,
    "start_time": "2021-11-15T14:05:59.506Z"
   },
   {
    "duration": 60,
    "start_time": "2021-11-15T14:05:59.520Z"
   },
   {
    "duration": 327,
    "start_time": "2021-11-15T14:05:59.582Z"
   },
   {
    "duration": 594,
    "start_time": "2021-11-15T14:05:59.911Z"
   },
   {
    "duration": 258,
    "start_time": "2021-11-15T14:06:00.507Z"
   },
   {
    "duration": 771,
    "start_time": "2021-11-15T14:06:00.768Z"
   },
   {
    "duration": 21,
    "start_time": "2021-11-15T14:06:01.541Z"
   },
   {
    "duration": 37,
    "start_time": "2021-11-15T14:06:01.564Z"
   },
   {
    "duration": 337,
    "start_time": "2021-11-15T14:06:01.603Z"
   },
   {
    "duration": 546,
    "start_time": "2021-11-15T14:06:01.942Z"
   },
   {
    "duration": 617,
    "start_time": "2021-11-15T14:06:02.491Z"
   },
   {
    "duration": 11,
    "start_time": "2021-11-15T14:06:03.111Z"
   },
   {
    "duration": 51,
    "start_time": "2021-11-15T14:06:03.129Z"
   },
   {
    "duration": 332,
    "start_time": "2021-11-15T14:06:03.183Z"
   },
   {
    "duration": 565,
    "start_time": "2021-11-15T14:06:03.517Z"
   },
   {
    "duration": 1016,
    "start_time": "2021-11-15T14:06:04.084Z"
   },
   {
    "duration": 13,
    "start_time": "2021-11-15T14:06:05.103Z"
   },
   {
    "duration": 46,
    "start_time": "2021-11-15T14:06:05.118Z"
   },
   {
    "duration": 7,
    "start_time": "2021-11-15T14:06:05.167Z"
   },
   {
    "duration": 528,
    "start_time": "2021-11-15T14:06:05.177Z"
   },
   {
    "duration": 615,
    "start_time": "2021-11-15T14:06:05.708Z"
   },
   {
    "duration": 561,
    "start_time": "2021-11-15T14:06:06.326Z"
   },
   {
    "duration": 640,
    "start_time": "2021-11-15T14:06:06.889Z"
   },
   {
    "duration": 11,
    "start_time": "2021-11-15T14:06:07.532Z"
   },
   {
    "duration": 4,
    "start_time": "2021-11-15T14:06:07.560Z"
   },
   {
    "duration": 22,
    "start_time": "2021-11-15T14:06:07.566Z"
   },
   {
    "duration": 52,
    "start_time": "2021-11-15T14:06:07.590Z"
   },
   {
    "duration": 225,
    "start_time": "2021-11-15T14:07:23.095Z"
   },
   {
    "duration": 232,
    "start_time": "2021-11-15T14:08:29.749Z"
   },
   {
    "duration": 20,
    "start_time": "2021-11-15T14:24:26.300Z"
   },
   {
    "duration": 365,
    "start_time": "2021-11-15T14:33:03.236Z"
   },
   {
    "duration": 270,
    "start_time": "2021-11-15T14:34:08.518Z"
   },
   {
    "duration": 265,
    "start_time": "2021-11-15T14:35:14.627Z"
   },
   {
    "duration": 269,
    "start_time": "2021-11-15T15:00:11.995Z"
   },
   {
    "duration": 280,
    "start_time": "2021-11-15T15:00:51.610Z"
   },
   {
    "duration": 265,
    "start_time": "2021-11-15T15:01:23.583Z"
   },
   {
    "duration": 270,
    "start_time": "2021-11-15T15:02:10.936Z"
   },
   {
    "duration": 9,
    "start_time": "2021-11-15T15:26:07.439Z"
   },
   {
    "duration": 12,
    "start_time": "2021-11-15T15:27:37.848Z"
   },
   {
    "duration": 9,
    "start_time": "2021-11-15T15:28:27.701Z"
   },
   {
    "duration": 41,
    "start_time": "2021-11-15T15:32:32.756Z"
   },
   {
    "duration": 9,
    "start_time": "2021-11-15T15:32:59.134Z"
   },
   {
    "duration": 40,
    "start_time": "2021-11-15T15:33:48.210Z"
   },
   {
    "duration": 8,
    "start_time": "2021-11-15T15:34:27.561Z"
   },
   {
    "duration": 622,
    "start_time": "2021-11-15T15:41:34.442Z"
   },
   {
    "duration": 26,
    "start_time": "2021-11-15T15:42:17.901Z"
   },
   {
    "duration": 29,
    "start_time": "2021-11-15T15:45:56.215Z"
   },
   {
    "duration": 27,
    "start_time": "2021-11-15T15:49:49.181Z"
   },
   {
    "duration": 34,
    "start_time": "2021-11-15T16:08:16.021Z"
   },
   {
    "duration": 26,
    "start_time": "2021-11-15T16:10:57.782Z"
   },
   {
    "duration": 26,
    "start_time": "2021-11-15T16:15:30.209Z"
   },
   {
    "duration": 25,
    "start_time": "2021-11-15T16:16:54.072Z"
   },
   {
    "duration": 24,
    "start_time": "2021-11-15T16:17:27.986Z"
   },
   {
    "duration": 29,
    "start_time": "2021-11-15T16:28:26.800Z"
   },
   {
    "duration": 31,
    "start_time": "2021-11-15T16:30:08.534Z"
   },
   {
    "duration": 29,
    "start_time": "2021-11-15T16:30:31.966Z"
   },
   {
    "duration": 19,
    "start_time": "2021-11-15T16:31:36.317Z"
   },
   {
    "duration": 18,
    "start_time": "2021-11-15T16:32:36.631Z"
   },
   {
    "duration": 17,
    "start_time": "2021-11-15T16:38:03.378Z"
   },
   {
    "duration": 18,
    "start_time": "2021-11-15T16:38:21.465Z"
   },
   {
    "duration": 6,
    "start_time": "2021-11-15T16:39:52.514Z"
   },
   {
    "duration": 40,
    "start_time": "2021-11-15T16:40:33.400Z"
   },
   {
    "duration": 8,
    "start_time": "2021-11-15T16:42:21.455Z"
   },
   {
    "duration": 4,
    "start_time": "2021-11-15T16:43:46.487Z"
   },
   {
    "duration": 7,
    "start_time": "2021-11-15T16:44:05.822Z"
   },
   {
    "duration": 13,
    "start_time": "2021-11-15T16:50:30.720Z"
   },
   {
    "duration": 11,
    "start_time": "2021-11-15T16:50:39.281Z"
   },
   {
    "duration": 10,
    "start_time": "2021-11-15T16:51:58.714Z"
   },
   {
    "duration": 12,
    "start_time": "2021-11-15T16:53:51.662Z"
   },
   {
    "duration": 10,
    "start_time": "2021-11-15T16:55:10.268Z"
   },
   {
    "duration": 10,
    "start_time": "2021-11-15T16:56:27.758Z"
   },
   {
    "duration": 9,
    "start_time": "2021-11-15T16:56:32.816Z"
   },
   {
    "duration": 40,
    "start_time": "2021-11-15T17:02:23.648Z"
   },
   {
    "duration": 12,
    "start_time": "2021-11-15T17:06:04.373Z"
   },
   {
    "duration": 10,
    "start_time": "2021-11-15T17:06:16.629Z"
   },
   {
    "duration": 10,
    "start_time": "2021-11-15T17:08:08.361Z"
   },
   {
    "duration": 10,
    "start_time": "2021-11-15T17:08:23.189Z"
   },
   {
    "duration": 11,
    "start_time": "2021-11-15T17:08:26.255Z"
   },
   {
    "duration": 7,
    "start_time": "2021-11-15T17:09:04.803Z"
   },
   {
    "duration": 55,
    "start_time": "2021-11-15T17:09:29.185Z"
   },
   {
    "duration": 15,
    "start_time": "2021-11-15T17:11:03.540Z"
   },
   {
    "duration": 40,
    "start_time": "2021-11-15T17:11:28.972Z"
   },
   {
    "duration": 5,
    "start_time": "2021-11-15T17:12:26.663Z"
   },
   {
    "duration": 8,
    "start_time": "2021-11-15T17:12:33.100Z"
   },
   {
    "duration": 6,
    "start_time": "2021-11-15T17:13:12.955Z"
   },
   {
    "duration": 10,
    "start_time": "2021-11-15T17:14:52.609Z"
   },
   {
    "duration": 5,
    "start_time": "2021-11-15T17:15:53.056Z"
   },
   {
    "duration": 7,
    "start_time": "2021-11-15T17:16:29.739Z"
   },
   {
    "duration": 8,
    "start_time": "2021-11-15T17:16:52.026Z"
   },
   {
    "duration": 6,
    "start_time": "2021-11-15T17:17:16.044Z"
   },
   {
    "duration": 7,
    "start_time": "2021-11-15T17:18:12.318Z"
   },
   {
    "duration": 42,
    "start_time": "2021-11-15T17:22:59.439Z"
   },
   {
    "duration": 7,
    "start_time": "2021-11-15T17:28:19.655Z"
   },
   {
    "duration": 7,
    "start_time": "2021-11-15T17:29:24.182Z"
   },
   {
    "duration": 12,
    "start_time": "2021-11-15T17:32:08.157Z"
   },
   {
    "duration": 8,
    "start_time": "2021-11-15T17:34:21.426Z"
   },
   {
    "duration": 6,
    "start_time": "2021-11-15T17:40:54.531Z"
   },
   {
    "duration": 7,
    "start_time": "2021-11-15T17:41:56.056Z"
   },
   {
    "duration": 8,
    "start_time": "2021-11-15T17:42:17.904Z"
   },
   {
    "duration": 6,
    "start_time": "2021-11-15T17:44:55.395Z"
   },
   {
    "duration": 7,
    "start_time": "2021-11-15T17:45:00.434Z"
   },
   {
    "duration": 6,
    "start_time": "2021-11-15T17:45:28.218Z"
   },
   {
    "duration": 14,
    "start_time": "2021-11-15T17:45:41.167Z"
   },
   {
    "duration": 11,
    "start_time": "2021-11-15T17:47:25.843Z"
   },
   {
    "duration": 9,
    "start_time": "2021-11-15T17:47:45.018Z"
   },
   {
    "duration": 4165,
    "start_time": "2021-11-15T17:55:38.459Z"
   },
   {
    "duration": 1585,
    "start_time": "2021-11-15T17:55:42.627Z"
   },
   {
    "duration": 402,
    "start_time": "2021-11-15T17:55:44.215Z"
   },
   {
    "duration": 19,
    "start_time": "2021-11-15T17:55:44.620Z"
   },
   {
    "duration": 19,
    "start_time": "2021-11-15T17:55:44.641Z"
   },
   {
    "duration": 9,
    "start_time": "2021-11-15T17:55:44.664Z"
   },
   {
    "duration": 16,
    "start_time": "2021-11-15T17:55:44.676Z"
   },
   {
    "duration": 7,
    "start_time": "2021-11-15T17:55:44.695Z"
   },
   {
    "duration": 10,
    "start_time": "2021-11-15T17:55:44.705Z"
   },
   {
    "duration": 14,
    "start_time": "2021-11-15T17:55:44.717Z"
   },
   {
    "duration": 49,
    "start_time": "2021-11-15T17:55:44.733Z"
   },
   {
    "duration": 30,
    "start_time": "2021-11-15T17:55:44.785Z"
   },
   {
    "duration": 48,
    "start_time": "2021-11-15T17:55:44.818Z"
   },
   {
    "duration": 13,
    "start_time": "2021-11-15T17:55:44.869Z"
   },
   {
    "duration": 6,
    "start_time": "2021-11-15T17:55:44.885Z"
   },
   {
    "duration": 10,
    "start_time": "2021-11-15T17:55:44.893Z"
   },
   {
    "duration": 11,
    "start_time": "2021-11-15T17:55:44.905Z"
   },
   {
    "duration": 71,
    "start_time": "2021-11-15T17:55:44.918Z"
   },
   {
    "duration": 6,
    "start_time": "2021-11-15T17:55:44.991Z"
   },
   {
    "duration": 18,
    "start_time": "2021-11-15T17:55:44.999Z"
   },
   {
    "duration": 42,
    "start_time": "2021-11-15T17:55:45.019Z"
   },
   {
    "duration": 19,
    "start_time": "2021-11-15T17:55:45.063Z"
   },
   {
    "duration": 30,
    "start_time": "2021-11-15T17:55:45.089Z"
   },
   {
    "duration": 44,
    "start_time": "2021-11-15T17:55:45.123Z"
   },
   {
    "duration": 14,
    "start_time": "2021-11-15T17:55:45.170Z"
   },
   {
    "duration": 24,
    "start_time": "2021-11-15T17:55:45.187Z"
   },
   {
    "duration": 53,
    "start_time": "2021-11-15T17:55:45.214Z"
   },
   {
    "duration": 14,
    "start_time": "2021-11-15T17:55:45.270Z"
   },
   {
    "duration": 27,
    "start_time": "2021-11-15T17:55:45.287Z"
   },
   {
    "duration": 7,
    "start_time": "2021-11-15T17:55:45.317Z"
   },
   {
    "duration": 34,
    "start_time": "2021-11-15T17:55:45.327Z"
   },
   {
    "duration": 10,
    "start_time": "2021-11-15T17:55:45.365Z"
   },
   {
    "duration": 26,
    "start_time": "2021-11-15T17:55:45.378Z"
   },
   {
    "duration": 15,
    "start_time": "2021-11-15T17:55:45.406Z"
   },
   {
    "duration": 37,
    "start_time": "2021-11-15T17:55:45.424Z"
   },
   {
    "duration": 44,
    "start_time": "2021-11-15T17:55:45.464Z"
   },
   {
    "duration": 5,
    "start_time": "2021-11-15T17:55:45.510Z"
   },
   {
    "duration": 13,
    "start_time": "2021-11-15T17:55:45.518Z"
   },
   {
    "duration": 23,
    "start_time": "2021-11-15T17:55:45.534Z"
   },
   {
    "duration": 15,
    "start_time": "2021-11-15T17:55:45.560Z"
   },
   {
    "duration": 25,
    "start_time": "2021-11-15T17:55:45.577Z"
   },
   {
    "duration": 14,
    "start_time": "2021-11-15T17:55:45.605Z"
   },
   {
    "duration": 13,
    "start_time": "2021-11-15T17:55:45.621Z"
   },
   {
    "duration": 35,
    "start_time": "2021-11-15T17:55:45.637Z"
   },
   {
    "duration": 14,
    "start_time": "2021-11-15T17:55:45.674Z"
   },
   {
    "duration": 30,
    "start_time": "2021-11-15T17:55:45.691Z"
   },
   {
    "duration": 42,
    "start_time": "2021-11-15T17:55:45.723Z"
   },
   {
    "duration": 149,
    "start_time": "2021-11-15T17:55:45.768Z"
   },
   {
    "duration": 23,
    "start_time": "2021-11-15T17:55:45.920Z"
   },
   {
    "duration": 22,
    "start_time": "2021-11-15T17:55:45.946Z"
   },
   {
    "duration": 28,
    "start_time": "2021-11-15T17:55:45.971Z"
   },
   {
    "duration": 375,
    "start_time": "2021-11-15T17:55:46.002Z"
   },
   {
    "duration": 536,
    "start_time": "2021-11-15T17:55:46.380Z"
   },
   {
    "duration": 284,
    "start_time": "2021-11-15T17:55:46.918Z"
   },
   {
    "duration": 719,
    "start_time": "2021-11-15T17:55:47.205Z"
   },
   {
    "duration": 12,
    "start_time": "2021-11-15T17:55:47.927Z"
   },
   {
    "duration": 27,
    "start_time": "2021-11-15T17:55:47.959Z"
   },
   {
    "duration": 330,
    "start_time": "2021-11-15T17:55:47.989Z"
   },
   {
    "duration": 583,
    "start_time": "2021-11-15T17:55:48.321Z"
   },
   {
    "duration": 294,
    "start_time": "2021-11-15T17:55:48.907Z"
   },
   {
    "duration": 727,
    "start_time": "2021-11-15T17:55:49.204Z"
   },
   {
    "duration": 11,
    "start_time": "2021-11-15T17:55:49.933Z"
   },
   {
    "duration": 26,
    "start_time": "2021-11-15T17:55:49.960Z"
   },
   {
    "duration": 320,
    "start_time": "2021-11-15T17:55:49.988Z"
   },
   {
    "duration": 540,
    "start_time": "2021-11-15T17:55:50.311Z"
   },
   {
    "duration": 291,
    "start_time": "2021-11-15T17:55:50.853Z"
   },
   {
    "duration": 615,
    "start_time": "2021-11-15T17:55:51.146Z"
   },
   {
    "duration": 11,
    "start_time": "2021-11-15T17:55:51.769Z"
   },
   {
    "duration": 46,
    "start_time": "2021-11-15T17:55:51.783Z"
   },
   {
    "duration": 331,
    "start_time": "2021-11-15T17:55:51.831Z"
   },
   {
    "duration": 611,
    "start_time": "2021-11-15T17:55:52.164Z"
   },
   {
    "duration": 284,
    "start_time": "2021-11-15T17:55:52.778Z"
   },
   {
    "duration": 939,
    "start_time": "2021-11-15T17:55:53.064Z"
   },
   {
    "duration": 13,
    "start_time": "2021-11-15T17:55:54.006Z"
   },
   {
    "duration": 39,
    "start_time": "2021-11-15T17:55:54.022Z"
   },
   {
    "duration": 7,
    "start_time": "2021-11-15T17:55:54.064Z"
   },
   {
    "duration": 627,
    "start_time": "2021-11-15T17:55:54.073Z"
   },
   {
    "duration": 600,
    "start_time": "2021-11-15T17:55:54.702Z"
   },
   {
    "duration": 510,
    "start_time": "2021-11-15T17:55:55.304Z"
   },
   {
    "duration": 650,
    "start_time": "2021-11-15T17:55:55.817Z"
   },
   {
    "duration": 11,
    "start_time": "2021-11-15T17:55:56.469Z"
   },
   {
    "duration": 4,
    "start_time": "2021-11-15T17:55:56.483Z"
   },
   {
    "duration": 111,
    "start_time": "2021-11-15T17:55:56.490Z"
   },
   {
    "duration": 30,
    "start_time": "2021-11-15T17:55:56.604Z"
   },
   {
    "duration": 41,
    "start_time": "2021-11-15T17:55:56.637Z"
   },
   {
    "duration": 38,
    "start_time": "2021-11-15T17:55:56.681Z"
   },
   {
    "duration": 39,
    "start_time": "2021-11-15T17:55:56.721Z"
   },
   {
    "duration": 9,
    "start_time": "2021-11-15T17:55:56.762Z"
   },
   {
    "duration": 11,
    "start_time": "2021-11-15T17:55:56.773Z"
   },
   {
    "duration": 10,
    "start_time": "2021-11-15T17:55:56.786Z"
   },
   {
    "duration": 13,
    "start_time": "2021-11-15T17:55:56.798Z"
   },
   {
    "duration": 8,
    "start_time": "2021-11-15T17:55:56.814Z"
   },
   {
    "duration": 37,
    "start_time": "2021-11-15T17:55:56.824Z"
   },
   {
    "duration": 13,
    "start_time": "2021-11-15T17:55:56.864Z"
   },
   {
    "duration": 9,
    "start_time": "2021-11-15T17:55:56.880Z"
   },
   {
    "duration": 14,
    "start_time": "2021-11-15T17:55:56.892Z"
   },
   {
    "duration": 20,
    "start_time": "2021-11-15T18:04:41.725Z"
   },
   {
    "duration": 18,
    "start_time": "2021-11-15T18:05:10.446Z"
   },
   {
    "duration": 52,
    "start_time": "2021-11-15T19:20:50.251Z"
   },
   {
    "duration": 53,
    "start_time": "2021-11-15T19:21:30.486Z"
   },
   {
    "duration": 50,
    "start_time": "2021-11-15T19:22:12.200Z"
   },
   {
    "duration": 5,
    "start_time": "2021-11-15T19:23:27.695Z"
   },
   {
    "duration": 27,
    "start_time": "2021-11-15T19:27:57.130Z"
   },
   {
    "duration": 42,
    "start_time": "2021-11-15T19:29:15.455Z"
   },
   {
    "duration": 13,
    "start_time": "2021-11-15T19:41:24.732Z"
   },
   {
    "duration": 522,
    "start_time": "2021-11-15T19:42:38.487Z"
   },
   {
    "duration": 544,
    "start_time": "2021-11-15T19:43:42.439Z"
   },
   {
    "duration": 266,
    "start_time": "2021-11-15T19:44:48.393Z"
   },
   {
    "duration": 24,
    "start_time": "2021-11-15T19:48:46.584Z"
   },
   {
    "duration": 21,
    "start_time": "2021-11-15T19:54:44.375Z"
   },
   {
    "duration": 21,
    "start_time": "2021-11-15T19:55:18.509Z"
   },
   {
    "duration": 17,
    "start_time": "2021-11-15T19:55:36.686Z"
   },
   {
    "duration": 18,
    "start_time": "2021-11-15T19:57:59.733Z"
   },
   {
    "duration": 6,
    "start_time": "2021-11-15T20:01:11.021Z"
   },
   {
    "duration": 1031,
    "start_time": "2021-11-15T20:01:14.500Z"
   },
   {
    "duration": 7,
    "start_time": "2021-11-15T20:02:12.837Z"
   },
   {
    "duration": 1259,
    "start_time": "2021-11-15T20:02:15.284Z"
   },
   {
    "duration": 6,
    "start_time": "2021-11-15T20:03:39.587Z"
   },
   {
    "duration": 635,
    "start_time": "2021-11-15T20:03:42.158Z"
   },
   {
    "duration": 12,
    "start_time": "2021-11-15T20:14:49.267Z"
   },
   {
    "duration": 9637,
    "start_time": "2021-11-15T20:14:53.035Z"
   },
   {
    "duration": 368,
    "start_time": "2021-11-15T20:16:06.723Z"
   },
   {
    "duration": 10,
    "start_time": "2021-11-15T20:16:19.768Z"
   },
   {
    "duration": 12,
    "start_time": "2021-11-15T20:17:01.911Z"
   },
   {
    "duration": 679,
    "start_time": "2021-11-15T20:22:09.105Z"
   },
   {
    "duration": 129,
    "start_time": "2021-11-15T20:23:30.790Z"
   },
   {
    "duration": 981,
    "start_time": "2021-11-15T20:23:44.687Z"
   },
   {
    "duration": 5,
    "start_time": "2021-11-15T20:32:25.038Z"
   },
   {
    "duration": 5,
    "start_time": "2021-11-15T20:32:28.097Z"
   },
   {
    "duration": 27,
    "start_time": "2021-11-15T20:32:31.717Z"
   },
   {
    "duration": 604,
    "start_time": "2021-11-15T20:32:38.250Z"
   },
   {
    "duration": 277,
    "start_time": "2021-11-15T20:32:45.227Z"
   },
   {
    "duration": 18,
    "start_time": "2021-11-15T20:32:52.559Z"
   },
   {
    "duration": 6,
    "start_time": "2021-11-15T20:33:13.125Z"
   },
   {
    "duration": 608,
    "start_time": "2021-11-15T20:33:25.172Z"
   },
   {
    "duration": 13,
    "start_time": "2021-11-15T20:34:31.031Z"
   },
   {
    "duration": 9,
    "start_time": "2021-11-15T20:34:34.491Z"
   },
   {
    "duration": 22,
    "start_time": "2021-11-15T20:35:08.228Z"
   },
   {
    "duration": 11,
    "start_time": "2021-11-15T20:36:37.422Z"
   },
   {
    "duration": 407,
    "start_time": "2021-11-15T20:39:24.535Z"
   },
   {
    "duration": 7,
    "start_time": "2021-11-15T20:39:55.020Z"
   },
   {
    "duration": 8,
    "start_time": "2021-11-15T20:41:18.851Z"
   },
   {
    "duration": 30,
    "start_time": "2021-11-15T20:47:20.965Z"
   },
   {
    "duration": 18,
    "start_time": "2021-11-15T21:05:53.609Z"
   },
   {
    "duration": 24,
    "start_time": "2021-11-15T21:08:29.365Z"
   },
   {
    "duration": 378,
    "start_time": "2021-11-15T21:11:03.991Z"
   },
   {
    "duration": 29,
    "start_time": "2021-11-15T21:11:11.500Z"
   },
   {
    "duration": 433,
    "start_time": "2021-11-15T21:13:37.370Z"
   },
   {
    "duration": 26,
    "start_time": "2021-11-15T21:15:20.509Z"
   },
   {
    "duration": 17,
    "start_time": "2021-11-15T21:16:23.630Z"
   },
   {
    "duration": 26,
    "start_time": "2021-11-15T21:16:55.908Z"
   },
   {
    "duration": 44,
    "start_time": "2021-11-15T21:28:27.439Z"
   },
   {
    "duration": 27,
    "start_time": "2021-11-15T21:31:53.630Z"
   },
   {
    "duration": 28,
    "start_time": "2021-11-15T21:32:34.016Z"
   },
   {
    "duration": 378,
    "start_time": "2021-11-15T21:33:20.906Z"
   },
   {
    "duration": 582,
    "start_time": "2021-11-15T21:33:44.904Z"
   },
   {
    "duration": 28,
    "start_time": "2021-11-15T21:34:01.029Z"
   },
   {
    "duration": 31,
    "start_time": "2021-11-15T21:35:13.316Z"
   },
   {
    "duration": 30,
    "start_time": "2021-11-15T21:36:06.247Z"
   },
   {
    "duration": 31,
    "start_time": "2021-11-15T21:36:17.212Z"
   },
   {
    "duration": 397,
    "start_time": "2021-11-15T22:23:28.700Z"
   },
   {
    "duration": 373,
    "start_time": "2021-11-15T22:24:34.995Z"
   },
   {
    "duration": 368,
    "start_time": "2021-11-15T22:25:02.362Z"
   },
   {
    "duration": 391,
    "start_time": "2021-11-15T22:27:51.742Z"
   },
   {
    "duration": 286,
    "start_time": "2021-11-15T22:28:20.273Z"
   },
   {
    "duration": 378,
    "start_time": "2021-11-15T22:29:18.764Z"
   },
   {
    "duration": 288,
    "start_time": "2021-11-15T22:30:08.850Z"
   },
   {
    "duration": 284,
    "start_time": "2021-11-15T22:30:29.449Z"
   },
   {
    "duration": 1460,
    "start_time": "2021-11-15T22:35:02.053Z"
   },
   {
    "duration": 461,
    "start_time": "2021-11-15T22:37:29.667Z"
   },
   {
    "duration": 3588,
    "start_time": "2021-11-15T22:45:30.818Z"
   },
   {
    "duration": 1371,
    "start_time": "2021-11-15T22:45:34.409Z"
   },
   {
    "duration": 374,
    "start_time": "2021-11-15T22:45:35.783Z"
   },
   {
    "duration": 19,
    "start_time": "2021-11-15T22:45:36.159Z"
   },
   {
    "duration": 21,
    "start_time": "2021-11-15T22:45:36.180Z"
   },
   {
    "duration": 14,
    "start_time": "2021-11-15T22:45:36.203Z"
   },
   {
    "duration": 23,
    "start_time": "2021-11-15T22:45:36.219Z"
   },
   {
    "duration": 17,
    "start_time": "2021-11-15T22:45:36.246Z"
   },
   {
    "duration": 32,
    "start_time": "2021-11-15T22:45:36.265Z"
   },
   {
    "duration": 24,
    "start_time": "2021-11-15T22:45:36.300Z"
   },
   {
    "duration": 30,
    "start_time": "2021-11-15T22:45:36.327Z"
   },
   {
    "duration": 35,
    "start_time": "2021-11-15T22:45:36.360Z"
   },
   {
    "duration": 23,
    "start_time": "2021-11-15T22:45:36.397Z"
   },
   {
    "duration": 19,
    "start_time": "2021-11-15T22:45:36.422Z"
   },
   {
    "duration": 25,
    "start_time": "2021-11-15T22:45:36.444Z"
   },
   {
    "duration": 17,
    "start_time": "2021-11-15T22:45:36.472Z"
   },
   {
    "duration": 18,
    "start_time": "2021-11-15T22:45:36.492Z"
   },
   {
    "duration": 49,
    "start_time": "2021-11-15T22:45:36.512Z"
   },
   {
    "duration": 6,
    "start_time": "2021-11-15T22:45:36.563Z"
   },
   {
    "duration": 22,
    "start_time": "2021-11-15T22:45:36.571Z"
   },
   {
    "duration": 25,
    "start_time": "2021-11-15T22:45:36.596Z"
   },
   {
    "duration": 29,
    "start_time": "2021-11-15T22:45:36.624Z"
   },
   {
    "duration": 23,
    "start_time": "2021-11-15T22:45:36.666Z"
   },
   {
    "duration": 19,
    "start_time": "2021-11-15T22:45:36.695Z"
   },
   {
    "duration": 44,
    "start_time": "2021-11-15T22:45:36.717Z"
   },
   {
    "duration": 20,
    "start_time": "2021-11-15T22:45:36.764Z"
   },
   {
    "duration": 23,
    "start_time": "2021-11-15T22:45:36.787Z"
   },
   {
    "duration": 12,
    "start_time": "2021-11-15T22:45:36.813Z"
   },
   {
    "duration": 12,
    "start_time": "2021-11-15T22:45:36.860Z"
   },
   {
    "duration": 10,
    "start_time": "2021-11-15T22:45:36.874Z"
   },
   {
    "duration": 18,
    "start_time": "2021-11-15T22:45:36.886Z"
   },
   {
    "duration": 19,
    "start_time": "2021-11-15T22:45:36.906Z"
   },
   {
    "duration": 37,
    "start_time": "2021-11-15T22:45:36.928Z"
   },
   {
    "duration": 14,
    "start_time": "2021-11-15T22:45:36.967Z"
   },
   {
    "duration": 10,
    "start_time": "2021-11-15T22:45:36.984Z"
   },
   {
    "duration": 44,
    "start_time": "2021-11-15T22:45:36.996Z"
   },
   {
    "duration": 5,
    "start_time": "2021-11-15T22:45:37.043Z"
   },
   {
    "duration": 11,
    "start_time": "2021-11-15T22:45:37.059Z"
   },
   {
    "duration": 22,
    "start_time": "2021-11-15T22:45:37.072Z"
   },
   {
    "duration": 18,
    "start_time": "2021-11-15T22:45:37.097Z"
   },
   {
    "duration": 30,
    "start_time": "2021-11-15T22:45:37.117Z"
   },
   {
    "duration": 13,
    "start_time": "2021-11-15T22:45:37.149Z"
   },
   {
    "duration": 25,
    "start_time": "2021-11-15T22:45:37.165Z"
   },
   {
    "duration": 19,
    "start_time": "2021-11-15T22:45:37.193Z"
   },
   {
    "duration": 16,
    "start_time": "2021-11-15T22:45:37.214Z"
   },
   {
    "duration": 40,
    "start_time": "2021-11-15T22:45:37.232Z"
   },
   {
    "duration": 13,
    "start_time": "2021-11-15T22:45:37.275Z"
   },
   {
    "duration": 144,
    "start_time": "2021-11-15T22:45:37.291Z"
   },
   {
    "duration": 26,
    "start_time": "2021-11-15T22:45:37.437Z"
   },
   {
    "duration": 25,
    "start_time": "2021-11-15T22:45:37.466Z"
   },
   {
    "duration": 40,
    "start_time": "2021-11-15T22:45:37.494Z"
   },
   {
    "duration": 308,
    "start_time": "2021-11-15T22:45:37.537Z"
   },
   {
    "duration": 494,
    "start_time": "2021-11-15T22:45:37.848Z"
   },
   {
    "duration": 284,
    "start_time": "2021-11-15T22:45:38.344Z"
   },
   {
    "duration": 604,
    "start_time": "2021-11-15T22:45:38.631Z"
   },
   {
    "duration": 23,
    "start_time": "2021-11-15T22:45:39.238Z"
   },
   {
    "duration": 30,
    "start_time": "2021-11-15T22:45:39.263Z"
   },
   {
    "duration": 317,
    "start_time": "2021-11-15T22:45:39.295Z"
   },
   {
    "duration": 681,
    "start_time": "2021-11-15T22:45:39.614Z"
   },
   {
    "duration": 388,
    "start_time": "2021-11-15T22:45:40.297Z"
   },
   {
    "duration": 698,
    "start_time": "2021-11-15T22:45:40.688Z"
   },
   {
    "duration": 12,
    "start_time": "2021-11-15T22:45:41.388Z"
   },
   {
    "duration": 28,
    "start_time": "2021-11-15T22:45:41.402Z"
   },
   {
    "duration": 329,
    "start_time": "2021-11-15T22:45:41.432Z"
   },
   {
    "duration": 514,
    "start_time": "2021-11-15T22:45:41.764Z"
   },
   {
    "duration": 287,
    "start_time": "2021-11-15T22:45:42.281Z"
   },
   {
    "duration": 601,
    "start_time": "2021-11-15T22:45:42.570Z"
   },
   {
    "duration": 11,
    "start_time": "2021-11-15T22:45:43.179Z"
   },
   {
    "duration": 32,
    "start_time": "2021-11-15T22:45:43.193Z"
   },
   {
    "duration": 338,
    "start_time": "2021-11-15T22:45:43.228Z"
   },
   {
    "duration": 627,
    "start_time": "2021-11-15T22:45:43.568Z"
   },
   {
    "duration": 285,
    "start_time": "2021-11-15T22:45:44.197Z"
   },
   {
    "duration": 979,
    "start_time": "2021-11-15T22:45:44.484Z"
   },
   {
    "duration": 14,
    "start_time": "2021-11-15T22:45:45.465Z"
   },
   {
    "duration": 18,
    "start_time": "2021-11-15T22:45:45.481Z"
   },
   {
    "duration": 10,
    "start_time": "2021-11-15T22:45:45.501Z"
   },
   {
    "duration": 556,
    "start_time": "2021-11-15T22:45:45.513Z"
   },
   {
    "duration": 559,
    "start_time": "2021-11-15T22:45:46.071Z"
   },
   {
    "duration": 490,
    "start_time": "2021-11-15T22:45:46.633Z"
   },
   {
    "duration": 605,
    "start_time": "2021-11-15T22:45:47.125Z"
   },
   {
    "duration": 29,
    "start_time": "2021-11-15T22:45:47.732Z"
   },
   {
    "duration": 5,
    "start_time": "2021-11-15T22:45:47.763Z"
   },
   {
    "duration": 96,
    "start_time": "2021-11-15T22:45:47.770Z"
   },
   {
    "duration": 32,
    "start_time": "2021-11-15T22:45:47.869Z"
   },
   {
    "duration": 21,
    "start_time": "2021-11-15T22:45:47.904Z"
   },
   {
    "duration": 40,
    "start_time": "2021-11-15T22:45:47.927Z"
   },
   {
    "duration": 8,
    "start_time": "2021-11-15T22:45:47.970Z"
   },
   {
    "duration": 8,
    "start_time": "2021-11-15T22:45:47.980Z"
   },
   {
    "duration": 8,
    "start_time": "2021-11-15T22:45:47.990Z"
   },
   {
    "duration": 10,
    "start_time": "2021-11-15T22:45:48.001Z"
   },
   {
    "duration": 7,
    "start_time": "2021-11-15T22:45:48.060Z"
   },
   {
    "duration": 14,
    "start_time": "2021-11-15T22:45:48.069Z"
   },
   {
    "duration": 15,
    "start_time": "2021-11-15T22:45:48.086Z"
   },
   {
    "duration": 7,
    "start_time": "2021-11-15T22:45:48.103Z"
   },
   {
    "duration": 52,
    "start_time": "2021-11-15T22:45:48.113Z"
   },
   {
    "duration": 515,
    "start_time": "2021-11-15T22:45:48.168Z"
   },
   {
    "duration": 273,
    "start_time": "2021-11-15T22:45:48.686Z"
   },
   {
    "duration": 18,
    "start_time": "2021-11-15T22:45:48.962Z"
   },
   {
    "duration": 6,
    "start_time": "2021-11-15T22:45:48.983Z"
   },
   {
    "duration": 619,
    "start_time": "2021-11-15T22:45:48.991Z"
   },
   {
    "duration": 11,
    "start_time": "2021-11-15T22:45:49.613Z"
   },
   {
    "duration": 34,
    "start_time": "2021-11-15T22:45:49.626Z"
   },
   {
    "duration": 20,
    "start_time": "2021-11-15T22:45:49.663Z"
   },
   {
    "duration": 468,
    "start_time": "2021-11-15T22:45:49.685Z"
   },
   {
    "duration": 12,
    "start_time": "2021-11-15T22:45:50.160Z"
   },
   {
    "duration": 31,
    "start_time": "2021-11-15T22:45:50.175Z"
   },
   {
    "duration": 52,
    "start_time": "2021-11-15T22:45:50.209Z"
   },
   {
    "duration": 28,
    "start_time": "2021-11-15T22:45:50.264Z"
   },
   {
    "duration": 427,
    "start_time": "2021-11-15T22:46:36.742Z"
   },
   {
    "duration": 9,
    "start_time": "2021-11-15T22:48:17.505Z"
   },
   {
    "duration": 9,
    "start_time": "2021-11-15T22:48:55.349Z"
   },
   {
    "duration": 13,
    "start_time": "2021-11-16T09:21:14.601Z"
   },
   {
    "duration": 10,
    "start_time": "2021-11-16T09:32:25.975Z"
   },
   {
    "duration": 88,
    "start_time": "2021-11-17T10:12:07.297Z"
   },
   {
    "duration": -365,
    "start_time": "2021-11-17T10:12:07.754Z"
   },
   {
    "duration": -369,
    "start_time": "2021-11-17T10:12:07.759Z"
   },
   {
    "duration": -375,
    "start_time": "2021-11-17T10:12:07.766Z"
   },
   {
    "duration": -379,
    "start_time": "2021-11-17T10:12:07.772Z"
   },
   {
    "duration": -385,
    "start_time": "2021-11-17T10:12:07.779Z"
   },
   {
    "duration": -389,
    "start_time": "2021-11-17T10:12:07.784Z"
   },
   {
    "duration": -392,
    "start_time": "2021-11-17T10:12:07.790Z"
   },
   {
    "duration": -400,
    "start_time": "2021-11-17T10:12:07.799Z"
   },
   {
    "duration": -405,
    "start_time": "2021-11-17T10:12:07.805Z"
   },
   {
    "duration": -411,
    "start_time": "2021-11-17T10:12:07.812Z"
   },
   {
    "duration": -414,
    "start_time": "2021-11-17T10:12:07.816Z"
   },
   {
    "duration": -418,
    "start_time": "2021-11-17T10:12:07.821Z"
   },
   {
    "duration": -422,
    "start_time": "2021-11-17T10:12:07.827Z"
   },
   {
    "duration": -425,
    "start_time": "2021-11-17T10:12:07.832Z"
   },
   {
    "duration": -502,
    "start_time": "2021-11-17T10:12:07.910Z"
   },
   {
    "duration": -505,
    "start_time": "2021-11-17T10:12:07.915Z"
   },
   {
    "duration": -508,
    "start_time": "2021-11-17T10:12:07.919Z"
   },
   {
    "duration": -512,
    "start_time": "2021-11-17T10:12:07.925Z"
   },
   {
    "duration": -517,
    "start_time": "2021-11-17T10:12:07.931Z"
   },
   {
    "duration": -520,
    "start_time": "2021-11-17T10:12:07.936Z"
   },
   {
    "duration": -525,
    "start_time": "2021-11-17T10:12:07.942Z"
   },
   {
    "duration": -529,
    "start_time": "2021-11-17T10:12:07.948Z"
   },
   {
    "duration": -532,
    "start_time": "2021-11-17T10:12:07.952Z"
   },
   {
    "duration": -534,
    "start_time": "2021-11-17T10:12:07.956Z"
   },
   {
    "duration": -537,
    "start_time": "2021-11-17T10:12:07.960Z"
   },
   {
    "duration": -540,
    "start_time": "2021-11-17T10:12:07.965Z"
   },
   {
    "duration": -543,
    "start_time": "2021-11-17T10:12:07.969Z"
   },
   {
    "duration": 358,
    "start_time": "2021-11-17T10:12:07.429Z"
   },
   {
    "duration": -313,
    "start_time": "2021-11-17T10:12:08.106Z"
   },
   {
    "duration": -320,
    "start_time": "2021-11-17T10:12:08.115Z"
   },
   {
    "duration": -338,
    "start_time": "2021-11-17T10:12:08.134Z"
   },
   {
    "duration": -495,
    "start_time": "2021-11-17T10:12:08.293Z"
   },
   {
    "duration": -523,
    "start_time": "2021-11-17T10:12:08.322Z"
   },
   {
    "duration": -527,
    "start_time": "2021-11-17T10:12:08.327Z"
   },
   {
    "duration": -531,
    "start_time": "2021-11-17T10:12:08.332Z"
   },
   {
    "duration": -533,
    "start_time": "2021-11-17T10:12:08.336Z"
   },
   {
    "duration": -537,
    "start_time": "2021-11-17T10:12:08.341Z"
   },
   {
    "duration": -540,
    "start_time": "2021-11-17T10:12:08.345Z"
   },
   {
    "duration": -554,
    "start_time": "2021-11-17T10:12:08.360Z"
   },
   {
    "duration": -558,
    "start_time": "2021-11-17T10:12:08.366Z"
   },
   {
    "duration": -563,
    "start_time": "2021-11-17T10:12:08.372Z"
   },
   {
    "duration": -567,
    "start_time": "2021-11-17T10:12:08.377Z"
   },
   {
    "duration": -593,
    "start_time": "2021-11-17T10:12:08.405Z"
   },
   {
    "duration": -623,
    "start_time": "2021-11-17T10:12:08.436Z"
   },
   {
    "duration": -627,
    "start_time": "2021-11-17T10:12:08.441Z"
   },
   {
    "duration": -630,
    "start_time": "2021-11-17T10:12:08.446Z"
   },
   {
    "duration": -635,
    "start_time": "2021-11-17T10:12:08.452Z"
   },
   {
    "duration": -662,
    "start_time": "2021-11-17T10:12:08.481Z"
   },
   {
    "duration": -668,
    "start_time": "2021-11-17T10:12:08.489Z"
   },
   {
    "duration": -674,
    "start_time": "2021-11-17T10:12:08.496Z"
   },
   {
    "duration": -679,
    "start_time": "2021-11-17T10:12:08.502Z"
   },
   {
    "duration": -683,
    "start_time": "2021-11-17T10:12:08.508Z"
   },
   {
    "duration": -811,
    "start_time": "2021-11-17T10:12:08.638Z"
   },
   {
    "duration": -859,
    "start_time": "2021-11-17T10:12:08.687Z"
   },
   {
    "duration": -862,
    "start_time": "2021-11-17T10:12:08.692Z"
   },
   {
    "duration": -866,
    "start_time": "2021-11-17T10:12:08.698Z"
   },
   {
    "duration": -883,
    "start_time": "2021-11-17T10:12:08.716Z"
   },
   {
    "duration": -888,
    "start_time": "2021-11-17T10:12:08.722Z"
   },
   {
    "duration": -893,
    "start_time": "2021-11-17T10:12:08.728Z"
   },
   {
    "duration": -897,
    "start_time": "2021-11-17T10:12:08.734Z"
   },
   {
    "duration": -900,
    "start_time": "2021-11-17T10:12:08.738Z"
   },
   {
    "duration": -905,
    "start_time": "2021-11-17T10:12:08.744Z"
   },
   {
    "duration": -848,
    "start_time": "2021-11-17T10:12:08.748Z"
   },
   {
    "duration": -851,
    "start_time": "2021-11-17T10:12:08.753Z"
   },
   {
    "duration": -855,
    "start_time": "2021-11-17T10:12:08.758Z"
   },
   {
    "duration": -859,
    "start_time": "2021-11-17T10:12:08.763Z"
   },
   {
    "duration": -862,
    "start_time": "2021-11-17T10:12:08.768Z"
   },
   {
    "duration": -867,
    "start_time": "2021-11-17T10:12:08.774Z"
   },
   {
    "duration": -871,
    "start_time": "2021-11-17T10:12:08.779Z"
   },
   {
    "duration": -874,
    "start_time": "2021-11-17T10:12:08.783Z"
   },
   {
    "duration": -877,
    "start_time": "2021-11-17T10:12:08.788Z"
   },
   {
    "duration": -881,
    "start_time": "2021-11-17T10:12:08.793Z"
   },
   {
    "duration": -884,
    "start_time": "2021-11-17T10:12:08.798Z"
   },
   {
    "duration": -888,
    "start_time": "2021-11-17T10:12:08.803Z"
   },
   {
    "duration": -891,
    "start_time": "2021-11-17T10:12:08.808Z"
   },
   {
    "duration": -895,
    "start_time": "2021-11-17T10:12:08.814Z"
   },
   {
    "duration": -913,
    "start_time": "2021-11-17T10:12:08.833Z"
   },
   {
    "duration": -917,
    "start_time": "2021-11-17T10:12:08.839Z"
   },
   {
    "duration": -922,
    "start_time": "2021-11-17T10:12:08.845Z"
   },
   {
    "duration": -926,
    "start_time": "2021-11-17T10:12:08.851Z"
   },
   {
    "duration": -929,
    "start_time": "2021-11-17T10:12:08.855Z"
   },
   {
    "duration": -933,
    "start_time": "2021-11-17T10:12:08.861Z"
   },
   {
    "duration": -936,
    "start_time": "2021-11-17T10:12:08.865Z"
   },
   {
    "duration": -940,
    "start_time": "2021-11-17T10:12:08.871Z"
   },
   {
    "duration": -944,
    "start_time": "2021-11-17T10:12:08.876Z"
   },
   {
    "duration": -948,
    "start_time": "2021-11-17T10:12:08.882Z"
   },
   {
    "duration": -956,
    "start_time": "2021-11-17T10:12:08.891Z"
   },
   {
    "duration": -960,
    "start_time": "2021-11-17T10:12:08.896Z"
   },
   {
    "duration": -901,
    "start_time": "2021-11-17T10:12:08.901Z"
   },
   {
    "duration": -904,
    "start_time": "2021-11-17T10:12:08.906Z"
   },
   {
    "duration": -908,
    "start_time": "2021-11-17T10:12:08.911Z"
   },
   {
    "duration": -911,
    "start_time": "2021-11-17T10:12:08.916Z"
   },
   {
    "duration": -914,
    "start_time": "2021-11-17T10:12:08.920Z"
   },
   {
    "duration": -918,
    "start_time": "2021-11-17T10:12:08.926Z"
   },
   {
    "duration": -921,
    "start_time": "2021-11-17T10:12:08.930Z"
   },
   {
    "duration": -937,
    "start_time": "2021-11-17T10:12:08.948Z"
   },
   {
    "duration": -942,
    "start_time": "2021-11-17T10:12:08.954Z"
   },
   {
    "duration": -957,
    "start_time": "2021-11-17T10:12:08.971Z"
   },
   {
    "duration": -990,
    "start_time": "2021-11-17T10:12:09.005Z"
   },
   {
    "duration": -995,
    "start_time": "2021-11-17T10:12:09.011Z"
   },
   {
    "duration": -997,
    "start_time": "2021-11-17T10:12:09.015Z"
   },
   {
    "duration": -1023,
    "start_time": "2021-11-17T10:12:09.042Z"
   },
   {
    "duration": -1049,
    "start_time": "2021-11-17T10:12:09.069Z"
   },
   {
    "duration": -1071,
    "start_time": "2021-11-17T10:12:09.093Z"
   },
   {
    "duration": -1075,
    "start_time": "2021-11-17T10:12:09.098Z"
   },
   {
    "duration": -1104,
    "start_time": "2021-11-17T10:12:09.128Z"
   },
   {
    "duration": 4,
    "start_time": "2021-11-17T10:17:28.883Z"
   },
   {
    "duration": 1569,
    "start_time": "2021-11-17T10:17:28.890Z"
   },
   {
    "duration": 403,
    "start_time": "2021-11-17T10:17:30.462Z"
   },
   {
    "duration": 18,
    "start_time": "2021-11-17T10:17:30.868Z"
   },
   {
    "duration": 19,
    "start_time": "2021-11-17T10:17:30.889Z"
   },
   {
    "duration": 25,
    "start_time": "2021-11-17T10:17:30.910Z"
   },
   {
    "duration": 29,
    "start_time": "2021-11-17T10:17:30.939Z"
   },
   {
    "duration": 7,
    "start_time": "2021-11-17T10:17:30.971Z"
   },
   {
    "duration": 23,
    "start_time": "2021-11-17T10:17:30.980Z"
   },
   {
    "duration": 19,
    "start_time": "2021-11-17T10:17:31.006Z"
   },
   {
    "duration": 19,
    "start_time": "2021-11-17T10:17:31.028Z"
   },
   {
    "duration": 20,
    "start_time": "2021-11-17T10:17:31.049Z"
   },
   {
    "duration": 33,
    "start_time": "2021-11-17T10:17:31.071Z"
   },
   {
    "duration": 31,
    "start_time": "2021-11-17T10:17:31.106Z"
   },
   {
    "duration": 33,
    "start_time": "2021-11-17T10:17:31.140Z"
   },
   {
    "duration": 27,
    "start_time": "2021-11-17T10:17:31.175Z"
   },
   {
    "duration": 6,
    "start_time": "2021-11-17T10:17:31.204Z"
   },
   {
    "duration": 18,
    "start_time": "2021-11-17T10:17:31.212Z"
   },
   {
    "duration": 13,
    "start_time": "2021-11-17T10:17:31.236Z"
   },
   {
    "duration": 69,
    "start_time": "2021-11-17T10:17:31.252Z"
   },
   {
    "duration": 5,
    "start_time": "2021-11-17T10:17:31.324Z"
   },
   {
    "duration": 18,
    "start_time": "2021-11-17T10:17:31.332Z"
   },
   {
    "duration": 25,
    "start_time": "2021-11-17T10:17:31.353Z"
   },
   {
    "duration": 30,
    "start_time": "2021-11-17T10:17:31.380Z"
   },
   {
    "duration": 24,
    "start_time": "2021-11-17T10:17:31.413Z"
   },
   {
    "duration": 19,
    "start_time": "2021-11-17T10:17:31.440Z"
   },
   {
    "duration": 47,
    "start_time": "2021-11-17T10:17:31.462Z"
   },
   {
    "duration": 25,
    "start_time": "2021-11-17T10:17:31.511Z"
   },
   {
    "duration": 23,
    "start_time": "2021-11-17T10:17:31.539Z"
   },
   {
    "duration": 11,
    "start_time": "2021-11-17T10:17:31.564Z"
   },
   {
    "duration": 10,
    "start_time": "2021-11-17T10:17:31.600Z"
   },
   {
    "duration": 6,
    "start_time": "2021-11-17T10:17:31.613Z"
   },
   {
    "duration": 15,
    "start_time": "2021-11-17T10:17:31.622Z"
   },
   {
    "duration": 25,
    "start_time": "2021-11-17T10:17:31.640Z"
   },
   {
    "duration": 38,
    "start_time": "2021-11-17T10:17:31.668Z"
   },
   {
    "duration": 15,
    "start_time": "2021-11-17T10:17:31.708Z"
   },
   {
    "duration": 12,
    "start_time": "2021-11-17T10:17:31.726Z"
   },
   {
    "duration": 23,
    "start_time": "2021-11-17T10:17:31.740Z"
   },
   {
    "duration": 37,
    "start_time": "2021-11-17T10:17:31.766Z"
   },
   {
    "duration": 27,
    "start_time": "2021-11-17T10:17:31.806Z"
   },
   {
    "duration": 20,
    "start_time": "2021-11-17T10:17:31.835Z"
   },
   {
    "duration": 18,
    "start_time": "2021-11-17T10:17:31.857Z"
   },
   {
    "duration": 26,
    "start_time": "2021-11-17T10:17:31.877Z"
   },
   {
    "duration": 14,
    "start_time": "2021-11-17T10:17:31.905Z"
   },
   {
    "duration": 12,
    "start_time": "2021-11-17T10:17:31.922Z"
   },
   {
    "duration": 26,
    "start_time": "2021-11-17T10:17:31.937Z"
   },
   {
    "duration": 11,
    "start_time": "2021-11-17T10:17:31.966Z"
   },
   {
    "duration": 41,
    "start_time": "2021-11-17T10:17:31.980Z"
   },
   {
    "duration": 14,
    "start_time": "2021-11-17T10:17:32.023Z"
   },
   {
    "duration": 168,
    "start_time": "2021-11-17T10:17:32.039Z"
   },
   {
    "duration": 25,
    "start_time": "2021-11-17T10:17:32.209Z"
   },
   {
    "duration": 14,
    "start_time": "2021-11-17T10:17:32.237Z"
   },
   {
    "duration": 53,
    "start_time": "2021-11-17T10:17:32.254Z"
   },
   {
    "duration": 345,
    "start_time": "2021-11-17T10:17:32.310Z"
   },
   {
    "duration": 620,
    "start_time": "2021-11-17T10:17:32.664Z"
   },
   {
    "duration": 304,
    "start_time": "2021-11-17T10:17:33.288Z"
   },
   {
    "duration": 406,
    "start_time": "2021-11-17T10:17:33.595Z"
   },
   {
    "duration": -52,
    "start_time": "2021-11-17T10:17:34.056Z"
   },
   {
    "duration": -58,
    "start_time": "2021-11-17T10:17:34.063Z"
   },
   {
    "duration": -125,
    "start_time": "2021-11-17T10:17:34.131Z"
   },
   {
    "duration": -130,
    "start_time": "2021-11-17T10:17:34.138Z"
   },
   {
    "duration": -135,
    "start_time": "2021-11-17T10:17:34.145Z"
   },
   {
    "duration": -139,
    "start_time": "2021-11-17T10:17:34.150Z"
   },
   {
    "duration": -144,
    "start_time": "2021-11-17T10:17:34.156Z"
   },
   {
    "duration": -147,
    "start_time": "2021-11-17T10:17:34.161Z"
   },
   {
    "duration": -150,
    "start_time": "2021-11-17T10:17:34.166Z"
   },
   {
    "duration": -154,
    "start_time": "2021-11-17T10:17:34.171Z"
   },
   {
    "duration": -159,
    "start_time": "2021-11-17T10:17:34.177Z"
   },
   {
    "duration": -164,
    "start_time": "2021-11-17T10:17:34.184Z"
   },
   {
    "duration": -168,
    "start_time": "2021-11-17T10:17:34.189Z"
   },
   {
    "duration": -170,
    "start_time": "2021-11-17T10:17:34.193Z"
   },
   {
    "duration": -175,
    "start_time": "2021-11-17T10:17:34.199Z"
   },
   {
    "duration": -178,
    "start_time": "2021-11-17T10:17:34.203Z"
   },
   {
    "duration": -183,
    "start_time": "2021-11-17T10:17:34.209Z"
   },
   {
    "duration": -226,
    "start_time": "2021-11-17T10:17:34.253Z"
   },
   {
    "duration": -230,
    "start_time": "2021-11-17T10:17:34.259Z"
   },
   {
    "duration": -234,
    "start_time": "2021-11-17T10:17:34.264Z"
   },
   {
    "duration": -238,
    "start_time": "2021-11-17T10:17:34.269Z"
   },
   {
    "duration": -241,
    "start_time": "2021-11-17T10:17:34.274Z"
   },
   {
    "duration": -246,
    "start_time": "2021-11-17T10:17:34.280Z"
   },
   {
    "duration": -250,
    "start_time": "2021-11-17T10:17:34.285Z"
   },
   {
    "duration": -254,
    "start_time": "2021-11-17T10:17:34.290Z"
   },
   {
    "duration": -257,
    "start_time": "2021-11-17T10:17:34.295Z"
   },
   {
    "duration": -261,
    "start_time": "2021-11-17T10:17:34.300Z"
   },
   {
    "duration": -263,
    "start_time": "2021-11-17T10:17:34.304Z"
   },
   {
    "duration": -269,
    "start_time": "2021-11-17T10:17:34.311Z"
   },
   {
    "duration": -273,
    "start_time": "2021-11-17T10:17:34.316Z"
   },
   {
    "duration": -303,
    "start_time": "2021-11-17T10:17:34.404Z"
   },
   {
    "duration": -307,
    "start_time": "2021-11-17T10:17:34.409Z"
   },
   {
    "duration": -309,
    "start_time": "2021-11-17T10:17:34.413Z"
   },
   {
    "duration": -312,
    "start_time": "2021-11-17T10:17:34.417Z"
   },
   {
    "duration": -317,
    "start_time": "2021-11-17T10:17:34.423Z"
   },
   {
    "duration": -320,
    "start_time": "2021-11-17T10:17:34.428Z"
   },
   {
    "duration": -333,
    "start_time": "2021-11-17T10:17:34.442Z"
   },
   {
    "duration": -338,
    "start_time": "2021-11-17T10:17:34.448Z"
   },
   {
    "duration": -341,
    "start_time": "2021-11-17T10:17:34.453Z"
   },
   {
    "duration": -345,
    "start_time": "2021-11-17T10:17:34.458Z"
   },
   {
    "duration": -348,
    "start_time": "2021-11-17T10:17:34.463Z"
   },
   {
    "duration": -355,
    "start_time": "2021-11-17T10:17:34.471Z"
   },
   {
    "duration": -368,
    "start_time": "2021-11-17T10:17:34.486Z"
   },
   {
    "duration": -380,
    "start_time": "2021-11-17T10:17:34.499Z"
   },
   {
    "duration": -385,
    "start_time": "2021-11-17T10:17:34.505Z"
   },
   {
    "duration": -389,
    "start_time": "2021-11-17T10:17:34.511Z"
   },
   {
    "duration": -393,
    "start_time": "2021-11-17T10:17:34.516Z"
   },
   {
    "duration": -397,
    "start_time": "2021-11-17T10:17:34.522Z"
   },
   {
    "duration": -405,
    "start_time": "2021-11-17T10:17:34.531Z"
   },
   {
    "duration": -409,
    "start_time": "2021-11-17T10:17:34.536Z"
   },
   {
    "duration": 83,
    "start_time": "2021-11-17T10:18:18.229Z"
   },
   {
    "duration": -438,
    "start_time": "2021-11-17T10:18:18.753Z"
   },
   {
    "duration": -443,
    "start_time": "2021-11-17T10:18:18.760Z"
   },
   {
    "duration": -447,
    "start_time": "2021-11-17T10:18:18.765Z"
   },
   {
    "duration": -452,
    "start_time": "2021-11-17T10:18:18.771Z"
   },
   {
    "duration": -457,
    "start_time": "2021-11-17T10:18:18.778Z"
   },
   {
    "duration": -461,
    "start_time": "2021-11-17T10:18:18.783Z"
   },
   {
    "duration": -466,
    "start_time": "2021-11-17T10:18:18.789Z"
   },
   {
    "duration": -469,
    "start_time": "2021-11-17T10:18:18.794Z"
   },
   {
    "duration": -473,
    "start_time": "2021-11-17T10:18:18.799Z"
   },
   {
    "duration": -478,
    "start_time": "2021-11-17T10:18:18.805Z"
   },
   {
    "duration": -552,
    "start_time": "2021-11-17T10:18:18.881Z"
   },
   {
    "duration": -557,
    "start_time": "2021-11-17T10:18:18.887Z"
   },
   {
    "duration": -562,
    "start_time": "2021-11-17T10:18:18.894Z"
   },
   {
    "duration": -567,
    "start_time": "2021-11-17T10:18:18.900Z"
   },
   {
    "duration": -569,
    "start_time": "2021-11-17T10:18:18.904Z"
   },
   {
    "duration": -574,
    "start_time": "2021-11-17T10:18:18.910Z"
   },
   {
    "duration": -577,
    "start_time": "2021-11-17T10:18:18.915Z"
   },
   {
    "duration": -580,
    "start_time": "2021-11-17T10:18:18.919Z"
   },
   {
    "duration": -585,
    "start_time": "2021-11-17T10:18:18.925Z"
   },
   {
    "duration": -588,
    "start_time": "2021-11-17T10:18:18.930Z"
   },
   {
    "duration": -591,
    "start_time": "2021-11-17T10:18:18.934Z"
   },
   {
    "duration": -595,
    "start_time": "2021-11-17T10:18:18.939Z"
   },
   {
    "duration": -598,
    "start_time": "2021-11-17T10:18:18.944Z"
   },
   {
    "duration": -601,
    "start_time": "2021-11-17T10:18:18.948Z"
   },
   {
    "duration": 346,
    "start_time": "2021-11-17T10:18:18.350Z"
   },
   {
    "duration": -367,
    "start_time": "2021-11-17T10:18:19.069Z"
   },
   {
    "duration": -371,
    "start_time": "2021-11-17T10:18:19.074Z"
   },
   {
    "duration": -375,
    "start_time": "2021-11-17T10:18:19.080Z"
   },
   {
    "duration": -379,
    "start_time": "2021-11-17T10:18:19.086Z"
   },
   {
    "duration": -383,
    "start_time": "2021-11-17T10:18:19.091Z"
   },
   {
    "duration": -388,
    "start_time": "2021-11-17T10:18:19.097Z"
   },
   {
    "duration": -391,
    "start_time": "2021-11-17T10:18:19.102Z"
   },
   {
    "duration": -395,
    "start_time": "2021-11-17T10:18:19.107Z"
   },
   {
    "duration": -399,
    "start_time": "2021-11-17T10:18:19.113Z"
   },
   {
    "duration": -403,
    "start_time": "2021-11-17T10:18:19.118Z"
   },
   {
    "duration": -408,
    "start_time": "2021-11-17T10:18:19.124Z"
   },
   {
    "duration": -412,
    "start_time": "2021-11-17T10:18:19.130Z"
   },
   {
    "duration": -416,
    "start_time": "2021-11-17T10:18:19.135Z"
   },
   {
    "duration": -420,
    "start_time": "2021-11-17T10:18:19.140Z"
   },
   {
    "duration": -424,
    "start_time": "2021-11-17T10:18:19.145Z"
   },
   {
    "duration": -427,
    "start_time": "2021-11-17T10:18:19.150Z"
   },
   {
    "duration": -492,
    "start_time": "2021-11-17T10:18:19.216Z"
   },
   {
    "duration": -496,
    "start_time": "2021-11-17T10:18:19.221Z"
   },
   {
    "duration": -525,
    "start_time": "2021-11-17T10:18:19.251Z"
   },
   {
    "duration": -569,
    "start_time": "2021-11-17T10:18:19.297Z"
   },
   {
    "duration": -572,
    "start_time": "2021-11-17T10:18:19.301Z"
   },
   {
    "duration": -577,
    "start_time": "2021-11-17T10:18:19.307Z"
   },
   {
    "duration": -580,
    "start_time": "2021-11-17T10:18:19.312Z"
   },
   {
    "duration": -594,
    "start_time": "2021-11-17T10:18:19.327Z"
   },
   {
    "duration": -597,
    "start_time": "2021-11-17T10:18:19.332Z"
   },
   {
    "duration": -602,
    "start_time": "2021-11-17T10:18:19.338Z"
   },
   {
    "duration": -607,
    "start_time": "2021-11-17T10:18:19.344Z"
   },
   {
    "duration": -611,
    "start_time": "2021-11-17T10:18:19.349Z"
   },
   {
    "duration": -614,
    "start_time": "2021-11-17T10:18:19.354Z"
   },
   {
    "duration": -618,
    "start_time": "2021-11-17T10:18:19.359Z"
   },
   {
    "duration": -622,
    "start_time": "2021-11-17T10:18:19.364Z"
   },
   {
    "duration": -626,
    "start_time": "2021-11-17T10:18:19.369Z"
   },
   {
    "duration": -628,
    "start_time": "2021-11-17T10:18:19.373Z"
   },
   {
    "duration": -633,
    "start_time": "2021-11-17T10:18:19.379Z"
   },
   {
    "duration": -583,
    "start_time": "2021-11-17T10:18:19.383Z"
   },
   {
    "duration": -623,
    "start_time": "2021-11-17T10:18:19.425Z"
   },
   {
    "duration": -649,
    "start_time": "2021-11-17T10:18:19.453Z"
   },
   {
    "duration": -654,
    "start_time": "2021-11-17T10:18:19.459Z"
   },
   {
    "duration": -657,
    "start_time": "2021-11-17T10:18:19.464Z"
   },
   {
    "duration": -662,
    "start_time": "2021-11-17T10:18:19.470Z"
   },
   {
    "duration": -666,
    "start_time": "2021-11-17T10:18:19.475Z"
   },
   {
    "duration": -669,
    "start_time": "2021-11-17T10:18:19.480Z"
   },
   {
    "duration": -672,
    "start_time": "2021-11-17T10:18:19.485Z"
   },
   {
    "duration": -676,
    "start_time": "2021-11-17T10:18:19.490Z"
   },
   {
    "duration": -829,
    "start_time": "2021-11-17T10:18:19.644Z"
   },
   {
    "duration": -847,
    "start_time": "2021-11-17T10:18:19.664Z"
   },
   {
    "duration": -851,
    "start_time": "2021-11-17T10:18:19.669Z"
   },
   {
    "duration": -854,
    "start_time": "2021-11-17T10:18:19.674Z"
   },
   {
    "duration": -858,
    "start_time": "2021-11-17T10:18:19.679Z"
   },
   {
    "duration": -860,
    "start_time": "2021-11-17T10:18:19.683Z"
   },
   {
    "duration": -865,
    "start_time": "2021-11-17T10:18:19.689Z"
   },
   {
    "duration": -868,
    "start_time": "2021-11-17T10:18:19.694Z"
   },
   {
    "duration": -869,
    "start_time": "2021-11-17T10:18:19.698Z"
   },
   {
    "duration": -873,
    "start_time": "2021-11-17T10:18:19.703Z"
   },
   {
    "duration": -878,
    "start_time": "2021-11-17T10:18:19.709Z"
   },
   {
    "duration": -880,
    "start_time": "2021-11-17T10:18:19.713Z"
   },
   {
    "duration": -884,
    "start_time": "2021-11-17T10:18:19.718Z"
   },
   {
    "duration": -886,
    "start_time": "2021-11-17T10:18:19.722Z"
   },
   {
    "duration": -890,
    "start_time": "2021-11-17T10:18:19.727Z"
   },
   {
    "duration": -894,
    "start_time": "2021-11-17T10:18:19.732Z"
   },
   {
    "duration": -903,
    "start_time": "2021-11-17T10:18:19.742Z"
   },
   {
    "duration": -845,
    "start_time": "2021-11-17T10:18:19.746Z"
   },
   {
    "duration": -849,
    "start_time": "2021-11-17T10:18:19.751Z"
   },
   {
    "duration": -852,
    "start_time": "2021-11-17T10:18:19.756Z"
   },
   {
    "duration": -856,
    "start_time": "2021-11-17T10:18:19.761Z"
   },
   {
    "duration": -871,
    "start_time": "2021-11-17T10:18:19.778Z"
   },
   {
    "duration": -875,
    "start_time": "2021-11-17T10:18:19.783Z"
   },
   {
    "duration": -879,
    "start_time": "2021-11-17T10:18:19.788Z"
   },
   {
    "duration": -882,
    "start_time": "2021-11-17T10:18:19.793Z"
   },
   {
    "duration": -885,
    "start_time": "2021-11-17T10:18:19.798Z"
   },
   {
    "duration": -889,
    "start_time": "2021-11-17T10:18:19.803Z"
   },
   {
    "duration": -893,
    "start_time": "2021-11-17T10:18:19.808Z"
   },
   {
    "duration": -898,
    "start_time": "2021-11-17T10:18:19.815Z"
   },
   {
    "duration": -901,
    "start_time": "2021-11-17T10:18:19.820Z"
   },
   {
    "duration": -905,
    "start_time": "2021-11-17T10:18:19.825Z"
   },
   {
    "duration": -908,
    "start_time": "2021-11-17T10:18:19.830Z"
   },
   {
    "duration": -911,
    "start_time": "2021-11-17T10:18:19.834Z"
   },
   {
    "duration": -914,
    "start_time": "2021-11-17T10:18:19.839Z"
   },
   {
    "duration": -919,
    "start_time": "2021-11-17T10:18:19.845Z"
   },
   {
    "duration": -921,
    "start_time": "2021-11-17T10:18:19.849Z"
   },
   {
    "duration": -925,
    "start_time": "2021-11-17T10:18:19.854Z"
   },
   {
    "duration": 4933,
    "start_time": "2021-11-17T10:18:49.210Z"
   },
   {
    "duration": 3675,
    "start_time": "2021-11-17T10:19:00.960Z"
   },
   {
    "duration": 1512,
    "start_time": "2021-11-17T10:19:04.638Z"
   },
   {
    "duration": 382,
    "start_time": "2021-11-17T10:19:06.153Z"
   },
   {
    "duration": 16,
    "start_time": "2021-11-17T10:19:06.538Z"
   },
   {
    "duration": 21,
    "start_time": "2021-11-17T10:19:06.557Z"
   },
   {
    "duration": 63,
    "start_time": "2021-11-17T10:19:06.580Z"
   },
   {
    "duration": 21,
    "start_time": "2021-11-17T10:19:06.646Z"
   },
   {
    "duration": 13,
    "start_time": "2021-11-17T10:19:06.671Z"
   },
   {
    "duration": 15,
    "start_time": "2021-11-17T10:19:06.688Z"
   },
   {
    "duration": 21,
    "start_time": "2021-11-17T10:19:06.705Z"
   },
   {
    "duration": 21,
    "start_time": "2021-11-17T10:19:06.728Z"
   },
   {
    "duration": 40,
    "start_time": "2021-11-17T10:19:06.753Z"
   },
   {
    "duration": 40,
    "start_time": "2021-11-17T10:19:06.796Z"
   },
   {
    "duration": 34,
    "start_time": "2021-11-17T10:19:06.839Z"
   },
   {
    "duration": 26,
    "start_time": "2021-11-17T10:19:06.876Z"
   },
   {
    "duration": 13,
    "start_time": "2021-11-17T10:19:06.904Z"
   },
   {
    "duration": 13,
    "start_time": "2021-11-17T10:19:06.920Z"
   },
   {
    "duration": 17,
    "start_time": "2021-11-17T10:19:06.936Z"
   },
   {
    "duration": 14,
    "start_time": "2021-11-17T10:19:06.955Z"
   },
   {
    "duration": 56,
    "start_time": "2021-11-17T10:19:06.971Z"
   },
   {
    "duration": 6,
    "start_time": "2021-11-17T10:19:07.030Z"
   },
   {
    "duration": 27,
    "start_time": "2021-11-17T10:19:07.038Z"
   },
   {
    "duration": 31,
    "start_time": "2021-11-17T10:19:07.071Z"
   },
   {
    "duration": 20,
    "start_time": "2021-11-17T10:19:07.105Z"
   },
   {
    "duration": 30,
    "start_time": "2021-11-17T10:19:07.127Z"
   },
   {
    "duration": 43,
    "start_time": "2021-11-17T10:19:07.160Z"
   },
   {
    "duration": 12,
    "start_time": "2021-11-17T10:19:07.207Z"
   },
   {
    "duration": 28,
    "start_time": "2021-11-17T10:19:07.221Z"
   },
   {
    "duration": 22,
    "start_time": "2021-11-17T10:19:07.251Z"
   },
   {
    "duration": 31,
    "start_time": "2021-11-17T10:19:07.276Z"
   },
   {
    "duration": 14,
    "start_time": "2021-11-17T10:19:07.309Z"
   },
   {
    "duration": 5,
    "start_time": "2021-11-17T10:19:07.326Z"
   },
   {
    "duration": 21,
    "start_time": "2021-11-17T10:19:07.333Z"
   },
   {
    "duration": 15,
    "start_time": "2021-11-17T10:19:07.356Z"
   },
   {
    "duration": 40,
    "start_time": "2021-11-17T10:19:07.373Z"
   },
   {
    "duration": 16,
    "start_time": "2021-11-17T10:19:07.415Z"
   },
   {
    "duration": 12,
    "start_time": "2021-11-17T10:19:07.433Z"
   },
   {
    "duration": 54,
    "start_time": "2021-11-17T10:19:07.447Z"
   },
   {
    "duration": 6,
    "start_time": "2021-11-17T10:19:07.503Z"
   },
   {
    "duration": 18,
    "start_time": "2021-11-17T10:19:07.511Z"
   },
   {
    "duration": 26,
    "start_time": "2021-11-17T10:19:07.532Z"
   },
   {
    "duration": 7,
    "start_time": "2021-11-17T10:19:07.560Z"
   },
   {
    "duration": 24,
    "start_time": "2021-11-17T10:19:07.569Z"
   },
   {
    "duration": 15,
    "start_time": "2021-11-17T10:19:07.595Z"
   },
   {
    "duration": 13,
    "start_time": "2021-11-17T10:19:07.612Z"
   },
   {
    "duration": 32,
    "start_time": "2021-11-17T10:19:07.628Z"
   },
   {
    "duration": 10,
    "start_time": "2021-11-17T10:19:07.663Z"
   },
   {
    "duration": 41,
    "start_time": "2021-11-17T10:19:07.676Z"
   },
   {
    "duration": 18,
    "start_time": "2021-11-17T10:19:07.720Z"
   },
   {
    "duration": 164,
    "start_time": "2021-11-17T10:19:07.740Z"
   },
   {
    "duration": 26,
    "start_time": "2021-11-17T10:19:07.906Z"
   },
   {
    "duration": 15,
    "start_time": "2021-11-17T10:19:07.935Z"
   },
   {
    "duration": 61,
    "start_time": "2021-11-17T10:19:07.953Z"
   },
   {
    "duration": 337,
    "start_time": "2021-11-17T10:19:08.017Z"
   },
   {
    "duration": 527,
    "start_time": "2021-11-17T10:19:08.358Z"
   },
   {
    "duration": 298,
    "start_time": "2021-11-17T10:19:08.888Z"
   },
   {
    "duration": 630,
    "start_time": "2021-11-17T10:19:09.188Z"
   },
   {
    "duration": 10,
    "start_time": "2021-11-17T10:19:09.821Z"
   },
   {
    "duration": 39,
    "start_time": "2021-11-17T10:19:09.834Z"
   },
   {
    "duration": 332,
    "start_time": "2021-11-17T10:19:09.875Z"
   },
   {
    "duration": 602,
    "start_time": "2021-11-17T10:19:10.210Z"
   },
   {
    "duration": 297,
    "start_time": "2021-11-17T10:19:10.815Z"
   },
   {
    "duration": 749,
    "start_time": "2021-11-17T10:19:11.115Z"
   },
   {
    "duration": 11,
    "start_time": "2021-11-17T10:19:11.866Z"
   },
   {
    "duration": 43,
    "start_time": "2021-11-17T10:19:11.879Z"
   },
   {
    "duration": 327,
    "start_time": "2021-11-17T10:19:11.924Z"
   },
   {
    "duration": 547,
    "start_time": "2021-11-17T10:19:12.253Z"
   },
   {
    "duration": 290,
    "start_time": "2021-11-17T10:19:12.810Z"
   },
   {
    "duration": 618,
    "start_time": "2021-11-17T10:19:13.103Z"
   },
   {
    "duration": 11,
    "start_time": "2021-11-17T10:19:13.724Z"
   },
   {
    "duration": 33,
    "start_time": "2021-11-17T10:19:13.737Z"
   },
   {
    "duration": 348,
    "start_time": "2021-11-17T10:19:13.772Z"
   },
   {
    "duration": 627,
    "start_time": "2021-11-17T10:19:14.123Z"
   },
   {
    "duration": 297,
    "start_time": "2021-11-17T10:19:14.753Z"
   },
   {
    "duration": 946,
    "start_time": "2021-11-17T10:19:15.053Z"
   },
   {
    "duration": 11,
    "start_time": "2021-11-17T10:19:16.002Z"
   },
   {
    "duration": 13,
    "start_time": "2021-11-17T10:19:16.016Z"
   },
   {
    "duration": 7,
    "start_time": "2021-11-17T10:19:16.031Z"
   },
   {
    "duration": 649,
    "start_time": "2021-11-17T10:19:16.041Z"
   },
   {
    "duration": 721,
    "start_time": "2021-11-17T10:19:16.700Z"
   },
   {
    "duration": 608,
    "start_time": "2021-11-17T10:19:17.423Z"
   },
   {
    "duration": 921,
    "start_time": "2021-11-17T10:19:18.034Z"
   },
   {
    "duration": 11,
    "start_time": "2021-11-17T10:19:18.957Z"
   },
   {
    "duration": 66,
    "start_time": "2021-11-17T10:19:18.971Z"
   },
   {
    "duration": 105,
    "start_time": "2021-11-17T10:19:19.040Z"
   },
   {
    "duration": 39,
    "start_time": "2021-11-17T10:19:19.148Z"
   },
   {
    "duration": 19,
    "start_time": "2021-11-17T10:19:19.201Z"
   },
   {
    "duration": 7,
    "start_time": "2021-11-17T10:19:19.223Z"
   },
   {
    "duration": 15,
    "start_time": "2021-11-17T10:19:19.232Z"
   },
   {
    "duration": 17,
    "start_time": "2021-11-17T10:19:19.249Z"
   },
   {
    "duration": 31,
    "start_time": "2021-11-17T10:19:19.269Z"
   },
   {
    "duration": 8,
    "start_time": "2021-11-17T10:19:19.303Z"
   },
   {
    "duration": 24,
    "start_time": "2021-11-17T10:19:19.313Z"
   },
   {
    "duration": 13,
    "start_time": "2021-11-17T10:19:19.339Z"
   },
   {
    "duration": 20,
    "start_time": "2021-11-17T10:19:19.355Z"
   },
   {
    "duration": 39,
    "start_time": "2021-11-17T10:19:19.377Z"
   },
   {
    "duration": 559,
    "start_time": "2021-11-17T10:19:19.418Z"
   },
   {
    "duration": 291,
    "start_time": "2021-11-17T10:19:19.979Z"
   },
   {
    "duration": 31,
    "start_time": "2021-11-17T10:19:20.272Z"
   },
   {
    "duration": 6,
    "start_time": "2021-11-17T10:19:20.306Z"
   },
   {
    "duration": 641,
    "start_time": "2021-11-17T10:19:20.315Z"
   },
   {
    "duration": 11,
    "start_time": "2021-11-17T10:19:20.959Z"
   },
   {
    "duration": 32,
    "start_time": "2021-11-17T10:19:20.973Z"
   },
   {
    "duration": 23,
    "start_time": "2021-11-17T10:19:21.007Z"
   },
   {
    "duration": 13,
    "start_time": "2021-11-17T10:19:21.032Z"
   },
   {
    "duration": 14,
    "start_time": "2021-11-17T10:19:21.048Z"
   },
   {
    "duration": 485,
    "start_time": "2021-11-17T10:19:21.065Z"
   },
   {
    "duration": 5000,
    "start_time": "2021-11-17T21:27:34.478Z"
   },
   {
    "duration": 1427,
    "start_time": "2021-11-17T21:27:39.481Z"
   },
   {
    "duration": 381,
    "start_time": "2021-11-17T21:27:40.911Z"
   },
   {
    "duration": 17,
    "start_time": "2021-11-17T21:27:41.295Z"
   },
   {
    "duration": 15,
    "start_time": "2021-11-17T21:27:41.314Z"
   },
   {
    "duration": 35,
    "start_time": "2021-11-17T21:27:41.332Z"
   },
   {
    "duration": 9,
    "start_time": "2021-11-17T21:27:41.369Z"
   },
   {
    "duration": 8,
    "start_time": "2021-11-17T21:27:41.382Z"
   },
   {
    "duration": 7,
    "start_time": "2021-11-17T21:27:41.393Z"
   },
   {
    "duration": 9,
    "start_time": "2021-11-17T21:27:41.403Z"
   },
   {
    "duration": 13,
    "start_time": "2021-11-17T21:27:41.414Z"
   },
   {
    "duration": 47,
    "start_time": "2021-11-17T21:27:41.429Z"
   },
   {
    "duration": 21,
    "start_time": "2021-11-17T21:27:41.478Z"
   },
   {
    "duration": 31,
    "start_time": "2021-11-17T21:27:41.502Z"
   },
   {
    "duration": 52,
    "start_time": "2021-11-17T21:27:41.535Z"
   },
   {
    "duration": 13,
    "start_time": "2021-11-17T21:27:41.589Z"
   },
   {
    "duration": 6,
    "start_time": "2021-11-17T21:27:41.605Z"
   },
   {
    "duration": 14,
    "start_time": "2021-11-17T21:27:41.614Z"
   },
   {
    "duration": 46,
    "start_time": "2021-11-17T21:27:41.631Z"
   },
   {
    "duration": 36,
    "start_time": "2021-11-17T21:27:41.679Z"
   },
   {
    "duration": 5,
    "start_time": "2021-11-17T21:27:41.718Z"
   },
   {
    "duration": 44,
    "start_time": "2021-11-17T21:27:41.725Z"
   },
   {
    "duration": 11,
    "start_time": "2021-11-17T21:27:41.775Z"
   },
   {
    "duration": 19,
    "start_time": "2021-11-17T21:27:41.789Z"
   },
   {
    "duration": 23,
    "start_time": "2021-11-17T21:27:41.810Z"
   },
   {
    "duration": 47,
    "start_time": "2021-11-17T21:27:41.835Z"
   },
   {
    "duration": 12,
    "start_time": "2021-11-17T21:27:41.885Z"
   },
   {
    "duration": 22,
    "start_time": "2021-11-17T21:27:41.899Z"
   },
   {
    "duration": 56,
    "start_time": "2021-11-17T21:27:41.923Z"
   },
   {
    "duration": 11,
    "start_time": "2021-11-17T21:27:41.981Z"
   },
   {
    "duration": 13,
    "start_time": "2021-11-17T21:27:41.994Z"
   },
   {
    "duration": 6,
    "start_time": "2021-11-17T21:27:42.010Z"
   },
   {
    "duration": 12,
    "start_time": "2021-11-17T21:27:42.018Z"
   },
   {
    "duration": 40,
    "start_time": "2021-11-17T21:27:42.033Z"
   },
   {
    "duration": 21,
    "start_time": "2021-11-17T21:27:42.075Z"
   },
   {
    "duration": 15,
    "start_time": "2021-11-17T21:27:42.098Z"
   },
   {
    "duration": 10,
    "start_time": "2021-11-17T21:27:42.116Z"
   },
   {
    "duration": 56,
    "start_time": "2021-11-17T21:27:42.128Z"
   },
   {
    "duration": 6,
    "start_time": "2021-11-17T21:27:42.186Z"
   },
   {
    "duration": 9,
    "start_time": "2021-11-17T21:27:42.194Z"
   },
   {
    "duration": 15,
    "start_time": "2021-11-17T21:27:42.205Z"
   },
   {
    "duration": 10,
    "start_time": "2021-11-17T21:27:42.223Z"
   },
   {
    "duration": 45,
    "start_time": "2021-11-17T21:27:42.236Z"
   },
   {
    "duration": 14,
    "start_time": "2021-11-17T21:27:42.284Z"
   },
   {
    "duration": 16,
    "start_time": "2021-11-17T21:27:42.300Z"
   },
   {
    "duration": 18,
    "start_time": "2021-11-17T21:27:42.318Z"
   },
   {
    "duration": 36,
    "start_time": "2021-11-17T21:27:42.338Z"
   },
   {
    "duration": 25,
    "start_time": "2021-11-17T21:27:42.377Z"
   },
   {
    "duration": 14,
    "start_time": "2021-11-17T21:27:42.404Z"
   },
   {
    "duration": 169,
    "start_time": "2021-11-17T21:27:42.420Z"
   },
   {
    "duration": 23,
    "start_time": "2021-11-17T21:27:42.591Z"
   },
   {
    "duration": 12,
    "start_time": "2021-11-17T21:27:42.616Z"
   },
   {
    "duration": 51,
    "start_time": "2021-11-17T21:27:42.631Z"
   },
   {
    "duration": 355,
    "start_time": "2021-11-17T21:27:42.684Z"
   },
   {
    "duration": 545,
    "start_time": "2021-11-17T21:27:43.041Z"
   },
   {
    "duration": 296,
    "start_time": "2021-11-17T21:27:43.589Z"
   },
   {
    "duration": 633,
    "start_time": "2021-11-17T21:27:43.888Z"
   },
   {
    "duration": 13,
    "start_time": "2021-11-17T21:27:44.524Z"
   },
   {
    "duration": 50,
    "start_time": "2021-11-17T21:27:44.540Z"
   },
   {
    "duration": 344,
    "start_time": "2021-11-17T21:27:44.593Z"
   },
   {
    "duration": 606,
    "start_time": "2021-11-17T21:27:44.940Z"
   },
   {
    "duration": 295,
    "start_time": "2021-11-17T21:27:45.550Z"
   },
   {
    "duration": 751,
    "start_time": "2021-11-17T21:27:45.849Z"
   },
   {
    "duration": 13,
    "start_time": "2021-11-17T21:27:46.603Z"
   },
   {
    "duration": 50,
    "start_time": "2021-11-17T21:27:46.619Z"
   },
   {
    "duration": 314,
    "start_time": "2021-11-17T21:27:46.672Z"
   },
   {
    "duration": 550,
    "start_time": "2021-11-17T21:27:46.988Z"
   },
   {
    "duration": 283,
    "start_time": "2021-11-17T21:27:47.547Z"
   },
   {
    "duration": 635,
    "start_time": "2021-11-17T21:27:47.834Z"
   },
   {
    "duration": 12,
    "start_time": "2021-11-17T21:27:48.476Z"
   },
   {
    "duration": 31,
    "start_time": "2021-11-17T21:27:48.490Z"
   },
   {
    "duration": 354,
    "start_time": "2021-11-17T21:27:48.523Z"
   },
   {
    "duration": 632,
    "start_time": "2021-11-17T21:27:48.880Z"
   },
   {
    "duration": 302,
    "start_time": "2021-11-17T21:27:49.514Z"
   },
   {
    "duration": 934,
    "start_time": "2021-11-17T21:27:49.818Z"
   },
   {
    "duration": 20,
    "start_time": "2021-11-17T21:27:50.755Z"
   },
   {
    "duration": 13,
    "start_time": "2021-11-17T21:27:50.777Z"
   },
   {
    "duration": 6,
    "start_time": "2021-11-17T21:27:50.793Z"
   },
   {
    "duration": 543,
    "start_time": "2021-11-17T21:27:50.802Z"
   },
   {
    "duration": 575,
    "start_time": "2021-11-17T21:27:51.348Z"
   },
   {
    "duration": 520,
    "start_time": "2021-11-17T21:27:51.926Z"
   },
   {
    "duration": 659,
    "start_time": "2021-11-17T21:27:52.448Z"
   },
   {
    "duration": 11,
    "start_time": "2021-11-17T21:27:53.109Z"
   },
   {
    "duration": 6,
    "start_time": "2021-11-17T21:27:53.123Z"
   },
   {
    "duration": 125,
    "start_time": "2021-11-17T21:27:53.131Z"
   },
   {
    "duration": 33,
    "start_time": "2021-11-17T21:27:53.258Z"
   },
   {
    "duration": 19,
    "start_time": "2021-11-17T21:27:53.294Z"
   },
   {
    "duration": 8,
    "start_time": "2021-11-17T21:27:53.315Z"
   },
   {
    "duration": 45,
    "start_time": "2021-11-17T21:27:53.325Z"
   },
   {
    "duration": 9,
    "start_time": "2021-11-17T21:27:53.372Z"
   },
   {
    "duration": 8,
    "start_time": "2021-11-17T21:27:53.383Z"
   },
   {
    "duration": 8,
    "start_time": "2021-11-17T21:27:53.393Z"
   },
   {
    "duration": 9,
    "start_time": "2021-11-17T21:27:53.402Z"
   },
   {
    "duration": 10,
    "start_time": "2021-11-17T21:27:53.413Z"
   },
   {
    "duration": 41,
    "start_time": "2021-11-17T21:27:53.426Z"
   },
   {
    "duration": 29,
    "start_time": "2021-11-17T21:27:53.470Z"
   },
   {
    "duration": 573,
    "start_time": "2021-11-17T21:27:53.501Z"
   },
   {
    "duration": 307,
    "start_time": "2021-11-17T21:27:54.077Z"
   },
   {
    "duration": 18,
    "start_time": "2021-11-17T21:27:54.387Z"
   },
   {
    "duration": 6,
    "start_time": "2021-11-17T21:27:54.408Z"
   },
   {
    "duration": 665,
    "start_time": "2021-11-17T21:27:54.416Z"
   },
   {
    "duration": 11,
    "start_time": "2021-11-17T21:27:55.083Z"
   },
   {
    "duration": 14,
    "start_time": "2021-11-17T21:27:55.096Z"
   },
   {
    "duration": 24,
    "start_time": "2021-11-17T21:27:55.113Z"
   },
   {
    "duration": 7,
    "start_time": "2021-11-17T21:27:55.168Z"
   },
   {
    "duration": 15,
    "start_time": "2021-11-17T21:27:55.178Z"
   },
   {
    "duration": 466,
    "start_time": "2021-11-17T21:27:55.195Z"
   },
   {
    "duration": 30,
    "start_time": "2021-11-17T21:33:25.938Z"
   },
   {
    "duration": 504,
    "start_time": "2021-11-18T01:39:26.399Z"
   },
   {
    "duration": 3546,
    "start_time": "2021-11-18T01:40:06.081Z"
   },
   {
    "duration": 1129,
    "start_time": "2021-11-18T01:40:09.629Z"
   },
   {
    "duration": 274,
    "start_time": "2021-11-18T01:40:10.760Z"
   },
   {
    "duration": 11,
    "start_time": "2021-11-18T01:40:11.036Z"
   },
   {
    "duration": 8,
    "start_time": "2021-11-18T01:40:11.049Z"
   },
   {
    "duration": 17,
    "start_time": "2021-11-18T01:40:11.058Z"
   },
   {
    "duration": 8,
    "start_time": "2021-11-18T01:40:11.077Z"
   },
   {
    "duration": 8,
    "start_time": "2021-11-18T01:40:11.086Z"
   },
   {
    "duration": 9,
    "start_time": "2021-11-18T01:40:11.096Z"
   },
   {
    "duration": 10,
    "start_time": "2021-11-18T01:40:11.107Z"
   },
   {
    "duration": 14,
    "start_time": "2021-11-18T01:40:11.118Z"
   },
   {
    "duration": 11,
    "start_time": "2021-11-18T01:40:11.134Z"
   },
   {
    "duration": 22,
    "start_time": "2021-11-18T01:40:11.147Z"
   },
   {
    "duration": 20,
    "start_time": "2021-11-18T01:40:11.171Z"
   },
   {
    "duration": 18,
    "start_time": "2021-11-18T01:40:11.193Z"
   },
   {
    "duration": 9,
    "start_time": "2021-11-18T01:40:11.212Z"
   },
   {
    "duration": 24,
    "start_time": "2021-11-18T01:40:11.223Z"
   },
   {
    "duration": 6,
    "start_time": "2021-11-18T01:40:11.249Z"
   },
   {
    "duration": 14,
    "start_time": "2021-11-18T01:40:11.257Z"
   },
   {
    "duration": 39,
    "start_time": "2021-11-18T01:40:11.273Z"
   },
   {
    "duration": 4,
    "start_time": "2021-11-18T01:40:11.314Z"
   },
   {
    "duration": 22,
    "start_time": "2021-11-18T01:40:11.319Z"
   },
   {
    "duration": 21,
    "start_time": "2021-11-18T01:40:11.342Z"
   },
   {
    "duration": 21,
    "start_time": "2021-11-18T01:40:11.365Z"
   },
   {
    "duration": 19,
    "start_time": "2021-11-18T01:40:11.389Z"
   },
   {
    "duration": 13,
    "start_time": "2021-11-18T01:40:11.410Z"
   },
   {
    "duration": 9,
    "start_time": "2021-11-18T01:40:11.427Z"
   },
   {
    "duration": 13,
    "start_time": "2021-11-18T01:40:11.445Z"
   },
   {
    "duration": 16,
    "start_time": "2021-11-18T01:40:11.459Z"
   },
   {
    "duration": 7,
    "start_time": "2021-11-18T01:40:11.476Z"
   },
   {
    "duration": 14,
    "start_time": "2021-11-18T01:40:11.484Z"
   },
   {
    "duration": 4,
    "start_time": "2021-11-18T01:40:11.499Z"
   },
   {
    "duration": 7,
    "start_time": "2021-11-18T01:40:11.504Z"
   },
   {
    "duration": 31,
    "start_time": "2021-11-18T01:40:11.513Z"
   },
   {
    "duration": 14,
    "start_time": "2021-11-18T01:40:11.546Z"
   },
   {
    "duration": 10,
    "start_time": "2021-11-18T01:40:11.562Z"
   },
   {
    "duration": 8,
    "start_time": "2021-11-18T01:40:11.574Z"
   },
   {
    "duration": 19,
    "start_time": "2021-11-18T01:40:11.584Z"
   },
   {
    "duration": 4,
    "start_time": "2021-11-18T01:40:11.604Z"
   },
   {
    "duration": 5,
    "start_time": "2021-11-18T01:40:11.609Z"
   },
   {
    "duration": 30,
    "start_time": "2021-11-18T01:40:11.615Z"
   },
   {
    "duration": 4,
    "start_time": "2021-11-18T01:40:11.647Z"
   },
   {
    "duration": 22,
    "start_time": "2021-11-18T01:40:11.653Z"
   },
   {
    "duration": 9,
    "start_time": "2021-11-18T01:40:11.676Z"
   },
   {
    "duration": 7,
    "start_time": "2021-11-18T01:40:11.686Z"
   },
   {
    "duration": 10,
    "start_time": "2021-11-18T01:40:11.694Z"
   },
   {
    "duration": 7,
    "start_time": "2021-11-18T01:40:11.705Z"
   },
   {
    "duration": 37,
    "start_time": "2021-11-18T01:40:11.714Z"
   },
   {
    "duration": 8,
    "start_time": "2021-11-18T01:40:11.753Z"
   },
   {
    "duration": 91,
    "start_time": "2021-11-18T01:40:11.762Z"
   },
   {
    "duration": 14,
    "start_time": "2021-11-18T01:40:11.855Z"
   },
   {
    "duration": 14,
    "start_time": "2021-11-18T01:40:11.870Z"
   },
   {
    "duration": 18,
    "start_time": "2021-11-18T01:40:11.885Z"
   },
   {
    "duration": 201,
    "start_time": "2021-11-18T01:40:11.905Z"
   },
   {
    "duration": 309,
    "start_time": "2021-11-18T01:40:12.108Z"
   },
   {
    "duration": 165,
    "start_time": "2021-11-18T01:40:12.418Z"
   },
   {
    "duration": 349,
    "start_time": "2021-11-18T01:40:12.585Z"
   },
   {
    "duration": 13,
    "start_time": "2021-11-18T01:40:12.936Z"
   },
   {
    "duration": 17,
    "start_time": "2021-11-18T01:40:12.951Z"
   },
   {
    "duration": 292,
    "start_time": "2021-11-18T01:40:12.970Z"
   },
   {
    "duration": 350,
    "start_time": "2021-11-18T01:40:13.264Z"
   },
   {
    "duration": 171,
    "start_time": "2021-11-18T01:40:13.616Z"
   },
   {
    "duration": 422,
    "start_time": "2021-11-18T01:40:13.788Z"
   },
   {
    "duration": 8,
    "start_time": "2021-11-18T01:40:14.212Z"
   },
   {
    "duration": 33,
    "start_time": "2021-11-18T01:40:14.222Z"
   },
   {
    "duration": 190,
    "start_time": "2021-11-18T01:40:14.256Z"
   },
   {
    "duration": 300,
    "start_time": "2021-11-18T01:40:14.448Z"
   },
   {
    "duration": 158,
    "start_time": "2021-11-18T01:40:14.750Z"
   },
   {
    "duration": 345,
    "start_time": "2021-11-18T01:40:14.909Z"
   },
   {
    "duration": 7,
    "start_time": "2021-11-18T01:40:15.255Z"
   },
   {
    "duration": 15,
    "start_time": "2021-11-18T01:40:15.264Z"
   },
   {
    "duration": 198,
    "start_time": "2021-11-18T01:40:15.280Z"
   },
   {
    "duration": 387,
    "start_time": "2021-11-18T01:40:15.480Z"
   },
   {
    "duration": 173,
    "start_time": "2021-11-18T01:40:15.869Z"
   },
   {
    "duration": 506,
    "start_time": "2021-11-18T01:40:16.044Z"
   },
   {
    "duration": 8,
    "start_time": "2021-11-18T01:40:16.552Z"
   },
   {
    "duration": 12,
    "start_time": "2021-11-18T01:40:16.561Z"
   },
   {
    "duration": 18,
    "start_time": "2021-11-18T01:40:16.575Z"
   },
   {
    "duration": 292,
    "start_time": "2021-11-18T01:40:16.594Z"
   },
   {
    "duration": 349,
    "start_time": "2021-11-18T01:40:16.887Z"
   },
   {
    "duration": 292,
    "start_time": "2021-11-18T01:40:17.246Z"
   },
   {
    "duration": 354,
    "start_time": "2021-11-18T01:40:17.545Z"
   },
   {
    "duration": 9,
    "start_time": "2021-11-18T01:40:17.900Z"
   },
   {
    "duration": 12,
    "start_time": "2021-11-18T01:40:17.910Z"
   },
   {
    "duration": 7,
    "start_time": "2021-11-18T01:40:17.924Z"
   },
   {
    "duration": 115,
    "start_time": "2021-11-18T01:40:17.932Z"
   },
   {
    "duration": 13,
    "start_time": "2021-11-18T01:40:18.048Z"
   },
   {
    "duration": 5,
    "start_time": "2021-11-18T01:40:18.063Z"
   },
   {
    "duration": 12,
    "start_time": "2021-11-18T01:40:18.070Z"
   },
   {
    "duration": 30,
    "start_time": "2021-11-18T01:40:18.083Z"
   },
   {
    "duration": 12,
    "start_time": "2021-11-18T01:40:18.115Z"
   },
   {
    "duration": 15,
    "start_time": "2021-11-18T01:40:18.128Z"
   },
   {
    "duration": 13,
    "start_time": "2021-11-18T01:40:18.145Z"
   },
   {
    "duration": 7,
    "start_time": "2021-11-18T01:40:18.160Z"
   },
   {
    "duration": 16,
    "start_time": "2021-11-18T01:40:18.169Z"
   },
   {
    "duration": 25,
    "start_time": "2021-11-18T01:40:18.187Z"
   },
   {
    "duration": 307,
    "start_time": "2021-11-18T01:40:18.214Z"
   },
   {
    "duration": 160,
    "start_time": "2021-11-18T01:40:18.523Z"
   },
   {
    "duration": 12,
    "start_time": "2021-11-18T01:40:18.684Z"
   },
   {
    "duration": 14,
    "start_time": "2021-11-18T01:40:18.698Z"
   },
   {
    "duration": 366,
    "start_time": "2021-11-18T01:40:18.713Z"
   },
   {
    "duration": 7,
    "start_time": "2021-11-18T01:40:19.081Z"
   },
   {
    "duration": 19,
    "start_time": "2021-11-18T01:40:19.089Z"
   },
   {
    "duration": 26,
    "start_time": "2021-11-18T01:40:19.110Z"
   },
   {
    "duration": 5,
    "start_time": "2021-11-18T01:40:19.138Z"
   },
   {
    "duration": 7,
    "start_time": "2021-11-18T01:40:19.145Z"
   },
   {
    "duration": 262,
    "start_time": "2021-11-18T01:40:19.153Z"
   },
   {
    "duration": 184,
    "start_time": "2021-11-18T01:42:56.923Z"
   },
   {
    "duration": 291,
    "start_time": "2021-11-18T01:43:25.128Z"
   },
   {
    "duration": 193,
    "start_time": "2021-11-18T01:54:14.727Z"
   },
   {
    "duration": 348,
    "start_time": "2021-11-18T02:46:04.091Z"
   },
   {
    "duration": 6,
    "start_time": "2021-11-18T05:57:02.869Z"
   },
   {
    "duration": 14,
    "start_time": "2021-11-18T05:59:21.049Z"
   },
   {
    "duration": 8,
    "start_time": "2021-11-18T05:59:28.390Z"
   },
   {
    "duration": 5,
    "start_time": "2021-11-18T06:01:25.519Z"
   },
   {
    "duration": 91,
    "start_time": "2021-11-18T06:04:54.179Z"
   },
   {
    "duration": 4,
    "start_time": "2021-11-18T06:05:16.184Z"
   },
   {
    "duration": 32,
    "start_time": "2021-11-18T06:08:56.679Z"
   },
   {
    "duration": 5,
    "start_time": "2021-11-18T06:12:48.784Z"
   },
   {
    "duration": 6,
    "start_time": "2021-11-18T06:13:16.377Z"
   },
   {
    "duration": 6,
    "start_time": "2021-11-18T06:16:27.641Z"
   },
   {
    "duration": 228,
    "start_time": "2021-11-18T06:28:33.062Z"
   },
   {
    "duration": 6,
    "start_time": "2021-11-18T06:29:00.196Z"
   },
   {
    "duration": 6,
    "start_time": "2021-11-18T06:29:03.595Z"
   },
   {
    "duration": 426,
    "start_time": "2021-11-18T06:39:34.848Z"
   },
   {
    "duration": 260,
    "start_time": "2021-11-18T06:44:04.961Z"
   },
   {
    "duration": 4,
    "start_time": "2021-11-18T06:44:24.912Z"
   },
   {
    "duration": 2629,
    "start_time": "2021-11-18T06:51:06.646Z"
   },
   {
    "duration": 1092,
    "start_time": "2021-11-18T06:51:09.278Z"
   },
   {
    "duration": 287,
    "start_time": "2021-11-18T06:51:10.372Z"
   },
   {
    "duration": 11,
    "start_time": "2021-11-18T06:51:10.661Z"
   },
   {
    "duration": 8,
    "start_time": "2021-11-18T06:51:10.673Z"
   },
   {
    "duration": 15,
    "start_time": "2021-11-18T06:51:10.682Z"
   },
   {
    "duration": 21,
    "start_time": "2021-11-18T06:51:10.698Z"
   },
   {
    "duration": 7,
    "start_time": "2021-11-18T06:51:10.721Z"
   },
   {
    "duration": 12,
    "start_time": "2021-11-18T06:51:10.730Z"
   },
   {
    "duration": 8,
    "start_time": "2021-11-18T06:51:10.743Z"
   },
   {
    "duration": 5,
    "start_time": "2021-11-18T06:51:10.753Z"
   },
   {
    "duration": 11,
    "start_time": "2021-11-18T06:51:10.759Z"
   },
   {
    "duration": 17,
    "start_time": "2021-11-18T06:51:10.772Z"
   },
   {
    "duration": 22,
    "start_time": "2021-11-18T06:51:10.791Z"
   },
   {
    "duration": 34,
    "start_time": "2021-11-18T06:51:10.814Z"
   },
   {
    "duration": 9,
    "start_time": "2021-11-18T06:51:10.849Z"
   },
   {
    "duration": 4,
    "start_time": "2021-11-18T06:51:10.860Z"
   },
   {
    "duration": 356,
    "start_time": "2021-11-18T06:51:10.866Z"
   },
   {
    "duration": -1816,
    "start_time": "2021-11-18T06:51:13.043Z"
   },
   {
    "duration": -1835,
    "start_time": "2021-11-18T06:51:13.063Z"
   },
   {
    "duration": -1845,
    "start_time": "2021-11-18T06:51:13.074Z"
   },
   {
    "duration": -1920,
    "start_time": "2021-11-18T06:51:13.150Z"
   },
   {
    "duration": -1926,
    "start_time": "2021-11-18T06:51:13.157Z"
   },
   {
    "duration": -1940,
    "start_time": "2021-11-18T06:51:13.172Z"
   },
   {
    "duration": -1950,
    "start_time": "2021-11-18T06:51:13.183Z"
   },
   {
    "duration": -1956,
    "start_time": "2021-11-18T06:51:13.190Z"
   },
   {
    "duration": -1967,
    "start_time": "2021-11-18T06:51:13.201Z"
   },
   {
    "duration": -1976,
    "start_time": "2021-11-18T06:51:13.211Z"
   },
   {
    "duration": -1988,
    "start_time": "2021-11-18T06:51:13.224Z"
   },
   {
    "duration": -2001,
    "start_time": "2021-11-18T06:51:13.238Z"
   },
   {
    "duration": -2020,
    "start_time": "2021-11-18T06:51:13.258Z"
   },
   {
    "duration": -2037,
    "start_time": "2021-11-18T06:51:13.276Z"
   },
   {
    "duration": -2042,
    "start_time": "2021-11-18T06:51:13.282Z"
   },
   {
    "duration": -2082,
    "start_time": "2021-11-18T06:51:13.323Z"
   },
   {
    "duration": -2091,
    "start_time": "2021-11-18T06:51:13.333Z"
   },
   {
    "duration": -2100,
    "start_time": "2021-11-18T06:51:13.343Z"
   },
   {
    "duration": -2114,
    "start_time": "2021-11-18T06:51:13.358Z"
   },
   {
    "duration": -2128,
    "start_time": "2021-11-18T06:51:13.372Z"
   },
   {
    "duration": -2144,
    "start_time": "2021-11-18T06:51:13.389Z"
   },
   {
    "duration": -2150,
    "start_time": "2021-11-18T06:51:13.396Z"
   },
   {
    "duration": -2158,
    "start_time": "2021-11-18T06:51:13.405Z"
   },
   {
    "duration": -2169,
    "start_time": "2021-11-18T06:51:13.417Z"
   },
   {
    "duration": -2178,
    "start_time": "2021-11-18T06:51:13.427Z"
   },
   {
    "duration": -2193,
    "start_time": "2021-11-18T06:51:13.442Z"
   },
   {
    "duration": -2203,
    "start_time": "2021-11-18T06:51:13.453Z"
   },
   {
    "duration": -2215,
    "start_time": "2021-11-18T06:51:13.466Z"
   },
   {
    "duration": -2224,
    "start_time": "2021-11-18T06:51:13.476Z"
   },
   {
    "duration": -2238,
    "start_time": "2021-11-18T06:51:13.491Z"
   },
   {
    "duration": -2247,
    "start_time": "2021-11-18T06:51:13.501Z"
   },
   {
    "duration": -2256,
    "start_time": "2021-11-18T06:51:13.511Z"
   },
   {
    "duration": -2271,
    "start_time": "2021-11-18T06:51:13.527Z"
   },
   {
    "duration": -2286,
    "start_time": "2021-11-18T06:51:13.542Z"
   },
   {
    "duration": -2295,
    "start_time": "2021-11-18T06:51:13.552Z"
   },
   {
    "duration": -2332,
    "start_time": "2021-11-18T06:51:13.590Z"
   },
   {
    "duration": -2343,
    "start_time": "2021-11-18T06:51:13.602Z"
   },
   {
    "duration": -2357,
    "start_time": "2021-11-18T06:51:13.617Z"
   },
   {
    "duration": -2370,
    "start_time": "2021-11-18T06:51:13.631Z"
   },
   {
    "duration": -2376,
    "start_time": "2021-11-18T06:51:13.638Z"
   },
   {
    "duration": -2381,
    "start_time": "2021-11-18T06:51:13.644Z"
   },
   {
    "duration": -2394,
    "start_time": "2021-11-18T06:51:13.657Z"
   },
   {
    "duration": -2404,
    "start_time": "2021-11-18T06:51:13.670Z"
   },
   {
    "duration": -2420,
    "start_time": "2021-11-18T06:51:13.686Z"
   },
   {
    "duration": -2430,
    "start_time": "2021-11-18T06:51:13.697Z"
   },
   {
    "duration": -2448,
    "start_time": "2021-11-18T06:51:13.716Z"
   },
   {
    "duration": -2458,
    "start_time": "2021-11-18T06:51:13.727Z"
   },
   {
    "duration": -2471,
    "start_time": "2021-11-18T06:51:13.741Z"
   },
   {
    "duration": -2485,
    "start_time": "2021-11-18T06:51:13.756Z"
   },
   {
    "duration": -2497,
    "start_time": "2021-11-18T06:51:13.769Z"
   },
   {
    "duration": -2512,
    "start_time": "2021-11-18T06:51:13.785Z"
   },
   {
    "duration": -2522,
    "start_time": "2021-11-18T06:51:13.796Z"
   },
   {
    "duration": -2536,
    "start_time": "2021-11-18T06:51:13.811Z"
   },
   {
    "duration": -2551,
    "start_time": "2021-11-18T06:51:13.826Z"
   },
   {
    "duration": -2562,
    "start_time": "2021-11-18T06:51:13.838Z"
   },
   {
    "duration": -2576,
    "start_time": "2021-11-18T06:51:13.853Z"
   },
   {
    "duration": -2587,
    "start_time": "2021-11-18T06:51:13.865Z"
   },
   {
    "duration": -2595,
    "start_time": "2021-11-18T06:51:13.874Z"
   },
   {
    "duration": -2608,
    "start_time": "2021-11-18T06:51:13.888Z"
   },
   {
    "duration": -2623,
    "start_time": "2021-11-18T06:51:13.904Z"
   },
   {
    "duration": -2637,
    "start_time": "2021-11-18T06:51:13.919Z"
   },
   {
    "duration": -2644,
    "start_time": "2021-11-18T06:51:13.926Z"
   },
   {
    "duration": -2590,
    "start_time": "2021-11-18T06:51:13.933Z"
   },
   {
    "duration": -2599,
    "start_time": "2021-11-18T06:51:13.944Z"
   },
   {
    "duration": -2606,
    "start_time": "2021-11-18T06:51:13.952Z"
   },
   {
    "duration": -2624,
    "start_time": "2021-11-18T06:51:13.970Z"
   },
   {
    "duration": -2639,
    "start_time": "2021-11-18T06:51:13.987Z"
   },
   {
    "duration": -2651,
    "start_time": "2021-11-18T06:51:14.000Z"
   },
   {
    "duration": -2658,
    "start_time": "2021-11-18T06:51:14.008Z"
   },
   {
    "duration": -2669,
    "start_time": "2021-11-18T06:51:14.020Z"
   },
   {
    "duration": -2675,
    "start_time": "2021-11-18T06:51:14.027Z"
   },
   {
    "duration": -2687,
    "start_time": "2021-11-18T06:51:14.040Z"
   },
   {
    "duration": -2699,
    "start_time": "2021-11-18T06:51:14.052Z"
   },
   {
    "duration": -2706,
    "start_time": "2021-11-18T06:51:14.060Z"
   },
   {
    "duration": -2716,
    "start_time": "2021-11-18T06:51:14.071Z"
   },
   {
    "duration": -2748,
    "start_time": "2021-11-18T06:51:14.104Z"
   },
   {
    "duration": -2756,
    "start_time": "2021-11-18T06:51:14.113Z"
   },
   {
    "duration": -2770,
    "start_time": "2021-11-18T06:51:14.128Z"
   },
   {
    "duration": -2787,
    "start_time": "2021-11-18T06:51:14.146Z"
   },
   {
    "duration": -2802,
    "start_time": "2021-11-18T06:51:14.162Z"
   },
   {
    "duration": -2815,
    "start_time": "2021-11-18T06:51:14.176Z"
   },
   {
    "duration": -2829,
    "start_time": "2021-11-18T06:51:14.191Z"
   },
   {
    "duration": -2839,
    "start_time": "2021-11-18T06:51:14.202Z"
   },
   {
    "duration": -2847,
    "start_time": "2021-11-18T06:51:14.211Z"
   },
   {
    "duration": -2861,
    "start_time": "2021-11-18T06:51:14.226Z"
   },
   {
    "duration": -2871,
    "start_time": "2021-11-18T06:51:14.237Z"
   },
   {
    "duration": -2876,
    "start_time": "2021-11-18T06:51:14.243Z"
   },
   {
    "duration": -2883,
    "start_time": "2021-11-18T06:51:14.251Z"
   },
   {
    "duration": -2892,
    "start_time": "2021-11-18T06:51:14.261Z"
   },
   {
    "duration": -2906,
    "start_time": "2021-11-18T06:51:14.276Z"
   },
   {
    "duration": -2916,
    "start_time": "2021-11-18T06:51:14.287Z"
   },
   {
    "duration": -2931,
    "start_time": "2021-11-18T06:51:14.303Z"
   },
   {
    "duration": -2940,
    "start_time": "2021-11-18T06:51:14.312Z"
   },
   {
    "duration": -2953,
    "start_time": "2021-11-18T06:51:14.326Z"
   },
   {
    "duration": -2963,
    "start_time": "2021-11-18T06:51:14.337Z"
   },
   {
    "duration": -2979,
    "start_time": "2021-11-18T06:51:14.354Z"
   },
   {
    "duration": -2992,
    "start_time": "2021-11-18T06:51:14.368Z"
   },
   {
    "duration": -3003,
    "start_time": "2021-11-18T06:51:14.380Z"
   },
   {
    "duration": 2672,
    "start_time": "2021-11-18T06:53:10.374Z"
   },
   {
    "duration": 1113,
    "start_time": "2021-11-18T06:53:13.048Z"
   },
   {
    "duration": 273,
    "start_time": "2021-11-18T06:53:14.163Z"
   },
   {
    "duration": 11,
    "start_time": "2021-11-18T06:53:14.439Z"
   },
   {
    "duration": 10,
    "start_time": "2021-11-18T06:53:14.451Z"
   },
   {
    "duration": 12,
    "start_time": "2021-11-18T06:53:14.463Z"
   },
   {
    "duration": 9,
    "start_time": "2021-11-18T06:53:14.477Z"
   },
   {
    "duration": 6,
    "start_time": "2021-11-18T06:53:14.488Z"
   },
   {
    "duration": 7,
    "start_time": "2021-11-18T06:53:14.496Z"
   },
   {
    "duration": 9,
    "start_time": "2021-11-18T06:53:14.505Z"
   },
   {
    "duration": 6,
    "start_time": "2021-11-18T06:53:14.515Z"
   },
   {
    "duration": 24,
    "start_time": "2021-11-18T06:53:14.523Z"
   },
   {
    "duration": 19,
    "start_time": "2021-11-18T06:53:14.549Z"
   },
   {
    "duration": 21,
    "start_time": "2021-11-18T06:53:14.570Z"
   },
   {
    "duration": 17,
    "start_time": "2021-11-18T06:53:14.593Z"
   },
   {
    "duration": 9,
    "start_time": "2021-11-18T06:53:14.612Z"
   },
   {
    "duration": 23,
    "start_time": "2021-11-18T06:53:14.622Z"
   },
   {
    "duration": 11,
    "start_time": "2021-11-18T06:53:14.647Z"
   },
   {
    "duration": 8,
    "start_time": "2021-11-18T06:53:14.660Z"
   },
   {
    "duration": 8,
    "start_time": "2021-11-18T06:53:14.670Z"
   },
   {
    "duration": 24,
    "start_time": "2021-11-18T06:53:14.680Z"
   },
   {
    "duration": 4,
    "start_time": "2021-11-18T06:53:14.706Z"
   },
   {
    "duration": 33,
    "start_time": "2021-11-18T06:53:14.713Z"
   },
   {
    "duration": 8,
    "start_time": "2021-11-18T06:53:14.748Z"
   },
   {
    "duration": 14,
    "start_time": "2021-11-18T06:53:14.758Z"
   },
   {
    "duration": 15,
    "start_time": "2021-11-18T06:53:14.773Z"
   },
   {
    "duration": 12,
    "start_time": "2021-11-18T06:53:14.790Z"
   },
   {
    "duration": 8,
    "start_time": "2021-11-18T06:53:14.804Z"
   },
   {
    "duration": 40,
    "start_time": "2021-11-18T06:53:14.814Z"
   },
   {
    "duration": 15,
    "start_time": "2021-11-18T06:53:14.856Z"
   },
   {
    "duration": 6,
    "start_time": "2021-11-18T06:53:14.873Z"
   },
   {
    "duration": 4,
    "start_time": "2021-11-18T06:53:14.881Z"
   },
   {
    "duration": 10,
    "start_time": "2021-11-18T06:53:14.887Z"
   },
   {
    "duration": 15,
    "start_time": "2021-11-18T06:53:14.898Z"
   },
   {
    "duration": 16,
    "start_time": "2021-11-18T06:53:14.915Z"
   },
   {
    "duration": 7,
    "start_time": "2021-11-18T06:53:14.944Z"
   },
   {
    "duration": 18,
    "start_time": "2021-11-18T06:53:14.953Z"
   },
   {
    "duration": 10,
    "start_time": "2021-11-18T06:53:14.973Z"
   },
   {
    "duration": 10,
    "start_time": "2021-11-18T06:53:14.985Z"
   },
   {
    "duration": 18,
    "start_time": "2021-11-18T06:53:14.996Z"
   },
   {
    "duration": 4,
    "start_time": "2021-11-18T06:53:15.015Z"
   },
   {
    "duration": 28,
    "start_time": "2021-11-18T06:53:15.021Z"
   },
   {
    "duration": 16,
    "start_time": "2021-11-18T06:53:15.051Z"
   },
   {
    "duration": 28,
    "start_time": "2021-11-18T06:53:15.069Z"
   },
   {
    "duration": 24,
    "start_time": "2021-11-18T06:53:15.098Z"
   },
   {
    "duration": 9,
    "start_time": "2021-11-18T06:53:15.124Z"
   },
   {
    "duration": 17,
    "start_time": "2021-11-18T06:53:15.134Z"
   },
   {
    "duration": 16,
    "start_time": "2021-11-18T06:53:15.153Z"
   },
   {
    "duration": 13,
    "start_time": "2021-11-18T06:53:15.170Z"
   },
   {
    "duration": 14,
    "start_time": "2021-11-18T06:53:15.185Z"
   },
   {
    "duration": 10,
    "start_time": "2021-11-18T06:53:15.201Z"
   },
   {
    "duration": 82,
    "start_time": "2021-11-18T06:53:15.212Z"
   },
   {
    "duration": 14,
    "start_time": "2021-11-18T06:53:15.295Z"
   },
   {
    "duration": 10,
    "start_time": "2021-11-18T06:53:15.310Z"
   },
   {
    "duration": 29,
    "start_time": "2021-11-18T06:53:15.321Z"
   },
   {
    "duration": 297,
    "start_time": "2021-11-18T06:53:15.352Z"
   },
   {
    "duration": 310,
    "start_time": "2021-11-18T06:53:15.650Z"
   },
   {
    "duration": 178,
    "start_time": "2021-11-18T06:53:15.962Z"
   },
   {
    "duration": 345,
    "start_time": "2021-11-18T06:53:16.144Z"
   },
   {
    "duration": 8,
    "start_time": "2021-11-18T06:53:16.490Z"
   },
   {
    "duration": 22,
    "start_time": "2021-11-18T06:53:16.499Z"
   },
   {
    "duration": 200,
    "start_time": "2021-11-18T06:53:16.522Z"
   },
   {
    "duration": 364,
    "start_time": "2021-11-18T06:53:16.724Z"
   },
   {
    "duration": 180,
    "start_time": "2021-11-18T06:53:17.089Z"
   },
   {
    "duration": 439,
    "start_time": "2021-11-18T06:53:17.271Z"
   },
   {
    "duration": 8,
    "start_time": "2021-11-18T06:53:17.711Z"
   },
   {
    "duration": 28,
    "start_time": "2021-11-18T06:53:17.720Z"
   },
   {
    "duration": 189,
    "start_time": "2021-11-18T06:53:17.753Z"
   },
   {
    "duration": 317,
    "start_time": "2021-11-18T06:53:17.945Z"
   },
   {
    "duration": 168,
    "start_time": "2021-11-18T06:53:18.264Z"
   },
   {
    "duration": 349,
    "start_time": "2021-11-18T06:53:18.433Z"
   },
   {
    "duration": 7,
    "start_time": "2021-11-18T06:53:18.784Z"
   },
   {
    "duration": 38,
    "start_time": "2021-11-18T06:53:18.792Z"
   },
   {
    "duration": 204,
    "start_time": "2021-11-18T06:53:18.832Z"
   },
   {
    "duration": 382,
    "start_time": "2021-11-18T06:53:19.037Z"
   },
   {
    "duration": 176,
    "start_time": "2021-11-18T06:53:19.421Z"
   },
   {
    "duration": 440,
    "start_time": "2021-11-18T06:53:19.599Z"
   },
   {
    "duration": 8,
    "start_time": "2021-11-18T06:53:20.045Z"
   },
   {
    "duration": 36,
    "start_time": "2021-11-18T06:53:20.055Z"
   },
   {
    "duration": 14,
    "start_time": "2021-11-18T06:53:20.093Z"
   },
   {
    "duration": 353,
    "start_time": "2021-11-18T06:53:20.109Z"
   },
   {
    "duration": 347,
    "start_time": "2021-11-18T06:53:20.463Z"
   },
   {
    "duration": 302,
    "start_time": "2021-11-18T06:53:20.812Z"
   },
   {
    "duration": 338,
    "start_time": "2021-11-18T06:53:21.116Z"
   },
   {
    "duration": 7,
    "start_time": "2021-11-18T06:53:21.455Z"
   },
   {
    "duration": 25,
    "start_time": "2021-11-18T06:53:21.464Z"
   },
   {
    "duration": 36,
    "start_time": "2021-11-18T06:53:21.491Z"
   },
   {
    "duration": 45,
    "start_time": "2021-11-18T06:53:21.529Z"
   },
   {
    "duration": 61,
    "start_time": "2021-11-18T06:53:21.576Z"
   },
   {
    "duration": 22,
    "start_time": "2021-11-18T06:53:21.639Z"
   },
   {
    "duration": 25,
    "start_time": "2021-11-18T06:53:21.663Z"
   },
   {
    "duration": 15,
    "start_time": "2021-11-18T06:53:21.690Z"
   },
   {
    "duration": 12,
    "start_time": "2021-11-18T06:53:21.707Z"
   },
   {
    "duration": 16,
    "start_time": "2021-11-18T06:53:21.721Z"
   },
   {
    "duration": 21,
    "start_time": "2021-11-18T06:53:21.738Z"
   },
   {
    "duration": 17,
    "start_time": "2021-11-18T06:53:21.761Z"
   },
   {
    "duration": 35,
    "start_time": "2021-11-18T06:53:21.780Z"
   },
   {
    "duration": 4,
    "start_time": "2021-11-18T06:53:21.817Z"
   },
   {
    "duration": 6,
    "start_time": "2021-11-18T06:53:21.822Z"
   },
   {
    "duration": 7,
    "start_time": "2021-11-18T06:53:21.830Z"
   },
   {
    "duration": 9,
    "start_time": "2021-11-18T06:53:21.838Z"
   },
   {
    "duration": 13,
    "start_time": "2021-11-18T06:53:21.849Z"
   },
   {
    "duration": 11,
    "start_time": "2021-11-18T06:53:21.863Z"
   },
   {
    "duration": 9,
    "start_time": "2021-11-18T06:53:21.875Z"
   },
   {
    "duration": 20,
    "start_time": "2021-11-18T06:53:21.886Z"
   },
   {
    "duration": 312,
    "start_time": "2021-11-18T06:53:21.908Z"
   },
   {
    "duration": 257,
    "start_time": "2021-11-18T06:53:22.222Z"
   },
   {
    "duration": 13,
    "start_time": "2021-11-18T06:53:22.481Z"
   },
   {
    "duration": 4,
    "start_time": "2021-11-18T06:53:22.496Z"
   },
   {
    "duration": 353,
    "start_time": "2021-11-18T06:53:22.503Z"
   },
   {
    "duration": 8,
    "start_time": "2021-11-18T06:53:22.857Z"
   },
   {
    "duration": 20,
    "start_time": "2021-11-18T06:53:22.866Z"
   },
   {
    "duration": 24,
    "start_time": "2021-11-18T06:53:22.887Z"
   },
   {
    "duration": 5,
    "start_time": "2021-11-18T06:53:22.913Z"
   },
   {
    "duration": 13,
    "start_time": "2021-11-18T06:53:22.920Z"
   },
   {
    "duration": 278,
    "start_time": "2021-11-18T06:53:22.935Z"
   },
   {
    "duration": 5,
    "start_time": "2021-11-18T06:59:38.886Z"
   },
   {
    "duration": 120,
    "start_time": "2021-11-18T07:02:09.830Z"
   },
   {
    "duration": 13,
    "start_time": "2021-11-18T07:02:18.905Z"
   },
   {
    "duration": 13,
    "start_time": "2021-11-18T07:02:49.711Z"
   },
   {
    "duration": 8,
    "start_time": "2021-11-18T07:05:02.014Z"
   },
   {
    "duration": 7,
    "start_time": "2021-11-18T07:07:02.191Z"
   },
   {
    "duration": 8,
    "start_time": "2021-11-18T07:07:05.504Z"
   },
   {
    "duration": 352,
    "start_time": "2021-11-18T07:08:27.254Z"
   },
   {
    "duration": 6,
    "start_time": "2021-11-18T07:21:26.622Z"
   },
   {
    "duration": 9,
    "start_time": "2021-11-18T07:21:35.710Z"
   },
   {
    "duration": 6,
    "start_time": "2021-11-18T07:21:42.450Z"
   },
   {
    "duration": 9,
    "start_time": "2021-11-18T07:21:45.003Z"
   },
   {
    "duration": 2514,
    "start_time": "2021-11-18T07:26:03.923Z"
   },
   {
    "duration": 1140,
    "start_time": "2021-11-18T07:26:06.439Z"
   },
   {
    "duration": 297,
    "start_time": "2021-11-18T07:26:07.581Z"
   },
   {
    "duration": 12,
    "start_time": "2021-11-18T07:26:07.880Z"
   },
   {
    "duration": 8,
    "start_time": "2021-11-18T07:26:07.894Z"
   },
   {
    "duration": 12,
    "start_time": "2021-11-18T07:26:07.904Z"
   },
   {
    "duration": 30,
    "start_time": "2021-11-18T07:26:07.918Z"
   },
   {
    "duration": 4,
    "start_time": "2021-11-18T07:26:07.950Z"
   },
   {
    "duration": 4,
    "start_time": "2021-11-18T07:26:07.957Z"
   },
   {
    "duration": 5,
    "start_time": "2021-11-18T07:26:07.963Z"
   },
   {
    "duration": 9,
    "start_time": "2021-11-18T07:26:07.969Z"
   },
   {
    "duration": 13,
    "start_time": "2021-11-18T07:26:07.980Z"
   },
   {
    "duration": 18,
    "start_time": "2021-11-18T07:26:07.995Z"
   },
   {
    "duration": 48,
    "start_time": "2021-11-18T07:26:08.015Z"
   },
   {
    "duration": 18,
    "start_time": "2021-11-18T07:26:08.065Z"
   },
   {
    "duration": 10,
    "start_time": "2021-11-18T07:26:08.084Z"
   },
   {
    "duration": 3,
    "start_time": "2021-11-18T07:26:08.096Z"
   },
   {
    "duration": 20,
    "start_time": "2021-11-18T07:26:08.101Z"
   },
   {
    "duration": 29,
    "start_time": "2021-11-18T07:26:08.123Z"
   },
   {
    "duration": 18,
    "start_time": "2021-11-18T07:26:08.154Z"
   },
   {
    "duration": 33,
    "start_time": "2021-11-18T07:26:08.173Z"
   },
   {
    "duration": 4,
    "start_time": "2021-11-18T07:26:08.207Z"
   },
   {
    "duration": 18,
    "start_time": "2021-11-18T07:26:08.213Z"
   },
   {
    "duration": 24,
    "start_time": "2021-11-18T07:26:08.232Z"
   },
   {
    "duration": 30,
    "start_time": "2021-11-18T07:26:08.258Z"
   },
   {
    "duration": 20,
    "start_time": "2021-11-18T07:26:08.290Z"
   },
   {
    "duration": 14,
    "start_time": "2021-11-18T07:26:08.314Z"
   },
   {
    "duration": 9,
    "start_time": "2021-11-18T07:26:08.330Z"
   },
   {
    "duration": 20,
    "start_time": "2021-11-18T07:26:08.340Z"
   },
   {
    "duration": 16,
    "start_time": "2021-11-18T07:26:08.362Z"
   },
   {
    "duration": 7,
    "start_time": "2021-11-18T07:26:08.380Z"
   },
   {
    "duration": 13,
    "start_time": "2021-11-18T07:26:08.389Z"
   },
   {
    "duration": 24,
    "start_time": "2021-11-18T07:26:08.404Z"
   },
   {
    "duration": 12,
    "start_time": "2021-11-18T07:26:08.429Z"
   },
   {
    "duration": 24,
    "start_time": "2021-11-18T07:26:08.442Z"
   },
   {
    "duration": 12,
    "start_time": "2021-11-18T07:26:08.468Z"
   },
   {
    "duration": 20,
    "start_time": "2021-11-18T07:26:08.482Z"
   },
   {
    "duration": 10,
    "start_time": "2021-11-18T07:26:08.504Z"
   },
   {
    "duration": 11,
    "start_time": "2021-11-18T07:26:08.516Z"
   },
   {
    "duration": 35,
    "start_time": "2021-11-18T07:26:08.529Z"
   },
   {
    "duration": 4,
    "start_time": "2021-11-18T07:26:08.565Z"
   },
   {
    "duration": 10,
    "start_time": "2021-11-18T07:26:08.571Z"
   },
   {
    "duration": 23,
    "start_time": "2021-11-18T07:26:08.582Z"
   },
   {
    "duration": 25,
    "start_time": "2021-11-18T07:26:08.607Z"
   },
   {
    "duration": 23,
    "start_time": "2021-11-18T07:26:08.634Z"
   },
   {
    "duration": 21,
    "start_time": "2021-11-18T07:26:08.658Z"
   },
   {
    "duration": 17,
    "start_time": "2021-11-18T07:26:08.681Z"
   },
   {
    "duration": 23,
    "start_time": "2021-11-18T07:26:08.700Z"
   },
   {
    "duration": 14,
    "start_time": "2021-11-18T07:26:08.725Z"
   },
   {
    "duration": 22,
    "start_time": "2021-11-18T07:26:08.740Z"
   },
   {
    "duration": 9,
    "start_time": "2021-11-18T07:26:08.764Z"
   },
   {
    "duration": 110,
    "start_time": "2021-11-18T07:26:08.775Z"
   },
   {
    "duration": 14,
    "start_time": "2021-11-18T07:26:08.886Z"
   },
   {
    "duration": 20,
    "start_time": "2021-11-18T07:26:08.901Z"
   },
   {
    "duration": 29,
    "start_time": "2021-11-18T07:26:08.923Z"
   },
   {
    "duration": 199,
    "start_time": "2021-11-18T07:26:08.953Z"
   },
   {
    "duration": 303,
    "start_time": "2021-11-18T07:26:09.154Z"
   },
   {
    "duration": 183,
    "start_time": "2021-11-18T07:26:09.459Z"
   },
   {
    "duration": 366,
    "start_time": "2021-11-18T07:26:09.645Z"
   },
   {
    "duration": 9,
    "start_time": "2021-11-18T07:26:10.013Z"
   },
   {
    "duration": 41,
    "start_time": "2021-11-18T07:26:10.024Z"
   },
   {
    "duration": 196,
    "start_time": "2021-11-18T07:26:10.067Z"
   },
   {
    "duration": 365,
    "start_time": "2021-11-18T07:26:10.265Z"
   },
   {
    "duration": 170,
    "start_time": "2021-11-18T07:26:10.632Z"
   },
   {
    "duration": 435,
    "start_time": "2021-11-18T07:26:10.804Z"
   },
   {
    "duration": 9,
    "start_time": "2021-11-18T07:26:11.244Z"
   },
   {
    "duration": 41,
    "start_time": "2021-11-18T07:26:11.254Z"
   },
   {
    "duration": 201,
    "start_time": "2021-11-18T07:26:11.297Z"
   },
   {
    "duration": 314,
    "start_time": "2021-11-18T07:26:11.501Z"
   },
   {
    "duration": 174,
    "start_time": "2021-11-18T07:26:11.816Z"
   },
   {
    "duration": 359,
    "start_time": "2021-11-18T07:26:11.992Z"
   },
   {
    "duration": 7,
    "start_time": "2021-11-18T07:26:12.353Z"
   },
   {
    "duration": 23,
    "start_time": "2021-11-18T07:26:12.362Z"
   },
   {
    "duration": 197,
    "start_time": "2021-11-18T07:26:12.387Z"
   },
   {
    "duration": 392,
    "start_time": "2021-11-18T07:26:12.586Z"
   },
   {
    "duration": 181,
    "start_time": "2021-11-18T07:26:12.980Z"
   },
   {
    "duration": 522,
    "start_time": "2021-11-18T07:26:13.163Z"
   },
   {
    "duration": 9,
    "start_time": "2021-11-18T07:26:13.687Z"
   },
   {
    "duration": 11,
    "start_time": "2021-11-18T07:26:13.702Z"
   },
   {
    "duration": 6,
    "start_time": "2021-11-18T07:26:13.715Z"
   },
   {
    "duration": 296,
    "start_time": "2021-11-18T07:26:13.743Z"
   },
   {
    "duration": 337,
    "start_time": "2021-11-18T07:26:14.045Z"
   },
   {
    "duration": 304,
    "start_time": "2021-11-18T07:26:14.384Z"
   },
   {
    "duration": 376,
    "start_time": "2021-11-18T07:26:14.689Z"
   },
   {
    "duration": 8,
    "start_time": "2021-11-18T07:26:15.066Z"
   },
   {
    "duration": 13,
    "start_time": "2021-11-18T07:26:15.075Z"
   },
   {
    "duration": 15,
    "start_time": "2021-11-18T07:26:15.090Z"
   },
   {
    "duration": 22,
    "start_time": "2021-11-18T07:26:15.106Z"
   },
   {
    "duration": 17,
    "start_time": "2021-11-18T07:26:15.130Z"
   },
   {
    "duration": 5,
    "start_time": "2021-11-18T07:26:15.149Z"
   },
   {
    "duration": 8,
    "start_time": "2021-11-18T07:26:15.156Z"
   },
   {
    "duration": 11,
    "start_time": "2021-11-18T07:26:15.166Z"
   },
   {
    "duration": 11,
    "start_time": "2021-11-18T07:26:15.178Z"
   },
   {
    "duration": 10,
    "start_time": "2021-11-18T07:26:15.191Z"
   },
   {
    "duration": 9,
    "start_time": "2021-11-18T07:26:15.203Z"
   },
   {
    "duration": 12,
    "start_time": "2021-11-18T07:26:15.213Z"
   },
   {
    "duration": 32,
    "start_time": "2021-11-18T07:26:15.244Z"
   },
   {
    "duration": 5,
    "start_time": "2021-11-18T07:26:15.278Z"
   },
   {
    "duration": 9,
    "start_time": "2021-11-18T07:26:15.285Z"
   },
   {
    "duration": 7,
    "start_time": "2021-11-18T07:26:15.296Z"
   },
   {
    "duration": 7,
    "start_time": "2021-11-18T07:26:15.305Z"
   },
   {
    "duration": 9,
    "start_time": "2021-11-18T07:26:15.314Z"
   },
   {
    "duration": 26,
    "start_time": "2021-11-18T07:26:15.324Z"
   },
   {
    "duration": 10,
    "start_time": "2021-11-18T07:26:15.351Z"
   },
   {
    "duration": 20,
    "start_time": "2021-11-18T07:26:15.362Z"
   },
   {
    "duration": 422,
    "start_time": "2021-11-18T07:26:15.384Z"
   },
   {
    "duration": 172,
    "start_time": "2021-11-18T07:26:15.807Z"
   },
   {
    "duration": 12,
    "start_time": "2021-11-18T07:26:15.981Z"
   },
   {
    "duration": 4,
    "start_time": "2021-11-18T07:26:15.995Z"
   },
   {
    "duration": 396,
    "start_time": "2021-11-18T07:26:16.001Z"
   },
   {
    "duration": 7,
    "start_time": "2021-11-18T07:26:16.399Z"
   },
   {
    "duration": 11,
    "start_time": "2021-11-18T07:26:16.408Z"
   },
   {
    "duration": 24,
    "start_time": "2021-11-18T07:26:16.421Z"
   },
   {
    "duration": 6,
    "start_time": "2021-11-18T07:26:16.447Z"
   },
   {
    "duration": 12,
    "start_time": "2021-11-18T07:26:16.454Z"
   },
   {
    "duration": 270,
    "start_time": "2021-11-18T07:26:16.468Z"
   },
   {
    "duration": 398,
    "start_time": "2021-11-18T07:33:18.172Z"
   },
   {
    "duration": 5,
    "start_time": "2021-11-18T07:33:39.507Z"
   },
   {
    "duration": 5,
    "start_time": "2021-11-18T07:34:41.865Z"
   },
   {
    "duration": 6,
    "start_time": "2021-11-18T07:35:55.175Z"
   },
   {
    "duration": 8,
    "start_time": "2021-11-18T07:36:44.211Z"
   },
   {
    "duration": 7,
    "start_time": "2021-11-18T07:38:21.519Z"
   },
   {
    "duration": 6,
    "start_time": "2021-11-18T07:38:26.881Z"
   },
   {
    "duration": 8,
    "start_time": "2021-11-18T07:39:15.947Z"
   },
   {
    "duration": 7,
    "start_time": "2021-11-18T07:39:26.202Z"
   },
   {
    "duration": 7,
    "start_time": "2021-11-18T07:39:58.065Z"
   },
   {
    "duration": 7,
    "start_time": "2021-11-18T07:40:15.023Z"
   },
   {
    "duration": 7,
    "start_time": "2021-11-18T07:40:20.311Z"
   },
   {
    "duration": 29,
    "start_time": "2021-11-18T07:42:30.707Z"
   },
   {
    "duration": 55,
    "start_time": "2021-11-18T08:25:28.507Z"
   },
   {
    "duration": 4,
    "start_time": "2021-11-18T08:26:32.955Z"
   },
   {
    "duration": 5,
    "start_time": "2021-11-18T09:34:56.811Z"
   },
   {
    "duration": 98,
    "start_time": "2021-11-18T09:38:56.184Z"
   },
   {
    "duration": 90,
    "start_time": "2021-11-18T09:39:14.531Z"
   },
   {
    "duration": 119,
    "start_time": "2021-11-18T09:39:26.496Z"
   },
   {
    "duration": 89,
    "start_time": "2021-11-18T09:39:41.926Z"
   },
   {
    "duration": 94,
    "start_time": "2021-11-18T09:42:04.819Z"
   },
   {
    "duration": 90,
    "start_time": "2021-11-18T09:45:14.311Z"
   },
   {
    "duration": 90,
    "start_time": "2021-11-18T09:47:32.971Z"
   },
   {
    "duration": 267,
    "start_time": "2021-11-18T10:04:18.469Z"
   },
   {
    "duration": 4,
    "start_time": "2021-11-18T10:04:33.811Z"
   },
   {
    "duration": 4,
    "start_time": "2021-11-18T10:05:39.351Z"
   },
   {
    "duration": 4,
    "start_time": "2021-11-18T10:07:52.686Z"
   },
   {
    "duration": 4,
    "start_time": "2021-11-18T10:13:26.019Z"
   },
   {
    "duration": 4,
    "start_time": "2021-11-18T10:14:23.210Z"
   },
   {
    "duration": 107,
    "start_time": "2021-11-18T10:25:35.681Z"
   },
   {
    "duration": 111,
    "start_time": "2021-11-18T10:26:02.447Z"
   },
   {
    "duration": 2623,
    "start_time": "2021-11-18T11:13:00.886Z"
   },
   {
    "duration": 1409,
    "start_time": "2021-11-18T11:13:03.512Z"
   },
   {
    "duration": 282,
    "start_time": "2021-11-18T11:13:04.924Z"
   },
   {
    "duration": 11,
    "start_time": "2021-11-18T11:13:05.208Z"
   },
   {
    "duration": 11,
    "start_time": "2021-11-18T11:13:05.221Z"
   },
   {
    "duration": 14,
    "start_time": "2021-11-18T11:13:05.233Z"
   },
   {
    "duration": 8,
    "start_time": "2021-11-18T11:13:05.249Z"
   },
   {
    "duration": 4,
    "start_time": "2021-11-18T11:13:05.260Z"
   },
   {
    "duration": 10,
    "start_time": "2021-11-18T11:13:05.266Z"
   },
   {
    "duration": 6,
    "start_time": "2021-11-18T11:13:05.277Z"
   },
   {
    "duration": 5,
    "start_time": "2021-11-18T11:13:05.285Z"
   },
   {
    "duration": 11,
    "start_time": "2021-11-18T11:13:05.292Z"
   },
   {
    "duration": 39,
    "start_time": "2021-11-18T11:13:05.305Z"
   },
   {
    "duration": 22,
    "start_time": "2021-11-18T11:13:05.347Z"
   },
   {
    "duration": 17,
    "start_time": "2021-11-18T11:13:05.371Z"
   },
   {
    "duration": 9,
    "start_time": "2021-11-18T11:13:05.390Z"
   },
   {
    "duration": 6,
    "start_time": "2021-11-18T11:13:05.401Z"
   },
   {
    "duration": 41,
    "start_time": "2021-11-18T11:13:05.409Z"
   },
   {
    "duration": 9,
    "start_time": "2021-11-18T11:13:05.452Z"
   },
   {
    "duration": 10,
    "start_time": "2021-11-18T11:13:05.462Z"
   },
   {
    "duration": 25,
    "start_time": "2021-11-18T11:13:05.474Z"
   },
   {
    "duration": 5,
    "start_time": "2021-11-18T11:13:05.500Z"
   },
   {
    "duration": 11,
    "start_time": "2021-11-18T11:13:05.510Z"
   },
   {
    "duration": 10,
    "start_time": "2021-11-18T11:13:05.546Z"
   },
   {
    "duration": 22,
    "start_time": "2021-11-18T11:13:05.558Z"
   },
   {
    "duration": 23,
    "start_time": "2021-11-18T11:13:05.585Z"
   },
   {
    "duration": 41,
    "start_time": "2021-11-18T11:13:05.610Z"
   },
   {
    "duration": 11,
    "start_time": "2021-11-18T11:13:05.653Z"
   },
   {
    "duration": 22,
    "start_time": "2021-11-18T11:13:05.666Z"
   },
   {
    "duration": 17,
    "start_time": "2021-11-18T11:13:05.689Z"
   },
   {
    "duration": 7,
    "start_time": "2021-11-18T11:13:05.708Z"
   },
   {
    "duration": 28,
    "start_time": "2021-11-18T11:13:05.717Z"
   },
   {
    "duration": 16,
    "start_time": "2021-11-18T11:13:05.747Z"
   },
   {
    "duration": 5,
    "start_time": "2021-11-18T11:13:05.765Z"
   },
   {
    "duration": 11,
    "start_time": "2021-11-18T11:13:05.772Z"
   },
   {
    "duration": 13,
    "start_time": "2021-11-18T11:13:05.785Z"
   },
   {
    "duration": 20,
    "start_time": "2021-11-18T11:13:05.800Z"
   },
   {
    "duration": 29,
    "start_time": "2021-11-18T11:13:05.822Z"
   },
   {
    "duration": 10,
    "start_time": "2021-11-18T11:13:05.853Z"
   },
   {
    "duration": 21,
    "start_time": "2021-11-18T11:13:05.865Z"
   },
   {
    "duration": 4,
    "start_time": "2021-11-18T11:13:05.888Z"
   },
   {
    "duration": 6,
    "start_time": "2021-11-18T11:13:05.893Z"
   },
   {
    "duration": 8,
    "start_time": "2021-11-18T11:13:05.901Z"
   },
   {
    "duration": 6,
    "start_time": "2021-11-18T11:13:05.910Z"
   },
   {
    "duration": 39,
    "start_time": "2021-11-18T11:13:05.917Z"
   },
   {
    "duration": 10,
    "start_time": "2021-11-18T11:13:05.958Z"
   },
   {
    "duration": 10,
    "start_time": "2021-11-18T11:13:05.969Z"
   },
   {
    "duration": 9,
    "start_time": "2021-11-18T11:13:05.981Z"
   },
   {
    "duration": 11,
    "start_time": "2021-11-18T11:13:05.992Z"
   },
   {
    "duration": 40,
    "start_time": "2021-11-18T11:13:06.005Z"
   },
   {
    "duration": 10,
    "start_time": "2021-11-18T11:13:06.048Z"
   },
   {
    "duration": 88,
    "start_time": "2021-11-18T11:13:06.060Z"
   },
   {
    "duration": 15,
    "start_time": "2021-11-18T11:13:06.150Z"
   },
   {
    "duration": 10,
    "start_time": "2021-11-18T11:13:06.166Z"
   },
   {
    "duration": 22,
    "start_time": "2021-11-18T11:13:06.178Z"
   },
   {
    "duration": 206,
    "start_time": "2021-11-18T11:13:06.201Z"
   },
   {
    "duration": 321,
    "start_time": "2021-11-18T11:13:06.409Z"
   },
   {
    "duration": 187,
    "start_time": "2021-11-18T11:13:06.732Z"
   },
   {
    "duration": 373,
    "start_time": "2021-11-18T11:13:06.921Z"
   },
   {
    "duration": 7,
    "start_time": "2021-11-18T11:13:07.297Z"
   },
   {
    "duration": 17,
    "start_time": "2021-11-18T11:13:07.306Z"
   },
   {
    "duration": 198,
    "start_time": "2021-11-18T11:13:07.324Z"
   },
   {
    "duration": 371,
    "start_time": "2021-11-18T11:13:07.524Z"
   },
   {
    "duration": 183,
    "start_time": "2021-11-18T11:13:07.897Z"
   },
   {
    "duration": 427,
    "start_time": "2021-11-18T11:13:08.083Z"
   },
   {
    "duration": 9,
    "start_time": "2021-11-18T11:13:08.512Z"
   },
   {
    "duration": 33,
    "start_time": "2021-11-18T11:13:08.523Z"
   },
   {
    "duration": 199,
    "start_time": "2021-11-18T11:13:08.562Z"
   },
   {
    "duration": 313,
    "start_time": "2021-11-18T11:13:08.764Z"
   },
   {
    "duration": 169,
    "start_time": "2021-11-18T11:13:09.079Z"
   },
   {
    "duration": 368,
    "start_time": "2021-11-18T11:13:09.250Z"
   },
   {
    "duration": 8,
    "start_time": "2021-11-18T11:13:09.619Z"
   },
   {
    "duration": 29,
    "start_time": "2021-11-18T11:13:09.629Z"
   },
   {
    "duration": 211,
    "start_time": "2021-11-18T11:13:09.659Z"
   },
   {
    "duration": 404,
    "start_time": "2021-11-18T11:13:09.872Z"
   },
   {
    "duration": 188,
    "start_time": "2021-11-18T11:13:10.278Z"
   },
   {
    "duration": 543,
    "start_time": "2021-11-18T11:13:10.469Z"
   },
   {
    "duration": 11,
    "start_time": "2021-11-18T11:13:11.014Z"
   },
   {
    "duration": 26,
    "start_time": "2021-11-18T11:13:11.026Z"
   },
   {
    "duration": 6,
    "start_time": "2021-11-18T11:13:11.054Z"
   },
   {
    "duration": 305,
    "start_time": "2021-11-18T11:13:11.061Z"
   },
   {
    "duration": 334,
    "start_time": "2021-11-18T11:13:11.368Z"
   },
   {
    "duration": 291,
    "start_time": "2021-11-18T11:13:11.704Z"
   },
   {
    "duration": 375,
    "start_time": "2021-11-18T11:13:11.997Z"
   },
   {
    "duration": 8,
    "start_time": "2021-11-18T11:13:12.373Z"
   },
   {
    "duration": 5,
    "start_time": "2021-11-18T11:13:12.383Z"
   },
   {
    "duration": 97,
    "start_time": "2021-11-18T11:13:12.390Z"
   },
   {
    "duration": 38,
    "start_time": "2021-11-18T11:13:12.489Z"
   },
   {
    "duration": 15,
    "start_time": "2021-11-18T11:13:12.530Z"
   },
   {
    "duration": 4,
    "start_time": "2021-11-18T11:13:12.547Z"
   },
   {
    "duration": 14,
    "start_time": "2021-11-18T11:13:12.553Z"
   },
   {
    "duration": 10,
    "start_time": "2021-11-18T11:13:12.569Z"
   },
   {
    "duration": 13,
    "start_time": "2021-11-18T11:13:12.581Z"
   },
   {
    "duration": 11,
    "start_time": "2021-11-18T11:13:12.595Z"
   },
   {
    "duration": 14,
    "start_time": "2021-11-18T11:13:12.608Z"
   },
   {
    "duration": 15,
    "start_time": "2021-11-18T11:13:12.624Z"
   },
   {
    "duration": 10,
    "start_time": "2021-11-18T11:13:12.641Z"
   },
   {
    "duration": 15,
    "start_time": "2021-11-18T11:13:12.653Z"
   },
   {
    "duration": 10,
    "start_time": "2021-11-18T11:13:12.670Z"
   },
   {
    "duration": 15,
    "start_time": "2021-11-18T11:13:12.682Z"
   },
   {
    "duration": 16,
    "start_time": "2021-11-18T11:13:12.699Z"
   },
   {
    "duration": 19,
    "start_time": "2021-11-18T11:13:12.716Z"
   },
   {
    "duration": 19,
    "start_time": "2021-11-18T11:13:12.736Z"
   },
   {
    "duration": 20,
    "start_time": "2021-11-18T11:13:12.757Z"
   },
   {
    "duration": 8,
    "start_time": "2021-11-18T11:13:12.779Z"
   },
   {
    "duration": 21,
    "start_time": "2021-11-18T11:13:12.789Z"
   },
   {
    "duration": 420,
    "start_time": "2021-11-18T11:13:12.812Z"
   },
   {
    "duration": 169,
    "start_time": "2021-11-18T11:13:13.234Z"
   },
   {
    "duration": 13,
    "start_time": "2021-11-18T11:13:13.405Z"
   },
   {
    "duration": 19,
    "start_time": "2021-11-18T11:13:13.419Z"
   },
   {
    "duration": 399,
    "start_time": "2021-11-18T11:13:13.440Z"
   },
   {
    "duration": 7,
    "start_time": "2021-11-18T11:13:13.844Z"
   },
   {
    "duration": 23,
    "start_time": "2021-11-18T11:13:13.852Z"
   },
   {
    "duration": 49,
    "start_time": "2021-11-18T11:13:13.876Z"
   },
   {
    "duration": 5,
    "start_time": "2021-11-18T11:13:13.927Z"
   },
   {
    "duration": 13,
    "start_time": "2021-11-18T11:13:13.934Z"
   },
   {
    "duration": 262,
    "start_time": "2021-11-18T11:13:13.949Z"
   },
   {
    "duration": 369,
    "start_time": "2021-11-18T11:13:14.213Z"
   },
   {
    "duration": -2171,
    "start_time": "2021-11-18T11:13:16.755Z"
   },
   {
    "duration": 2525,
    "start_time": "2021-11-18T11:14:28.860Z"
   },
   {
    "duration": 1102,
    "start_time": "2021-11-18T11:14:31.387Z"
   },
   {
    "duration": 281,
    "start_time": "2021-11-18T11:14:32.492Z"
   },
   {
    "duration": 12,
    "start_time": "2021-11-18T11:14:32.775Z"
   },
   {
    "duration": 9,
    "start_time": "2021-11-18T11:14:32.789Z"
   },
   {
    "duration": 13,
    "start_time": "2021-11-18T11:14:32.800Z"
   },
   {
    "duration": 9,
    "start_time": "2021-11-18T11:14:32.815Z"
   },
   {
    "duration": 19,
    "start_time": "2021-11-18T11:14:32.826Z"
   },
   {
    "duration": 11,
    "start_time": "2021-11-18T11:14:32.848Z"
   },
   {
    "duration": 7,
    "start_time": "2021-11-18T11:14:32.861Z"
   },
   {
    "duration": 8,
    "start_time": "2021-11-18T11:14:32.870Z"
   },
   {
    "duration": 15,
    "start_time": "2021-11-18T11:14:32.879Z"
   },
   {
    "duration": 25,
    "start_time": "2021-11-18T11:14:32.896Z"
   },
   {
    "duration": 21,
    "start_time": "2021-11-18T11:14:32.922Z"
   },
   {
    "duration": 16,
    "start_time": "2021-11-18T11:14:32.945Z"
   },
   {
    "duration": 9,
    "start_time": "2021-11-18T11:14:32.963Z"
   },
   {
    "duration": 12,
    "start_time": "2021-11-18T11:14:32.974Z"
   },
   {
    "duration": 19,
    "start_time": "2021-11-18T11:14:32.988Z"
   },
   {
    "duration": 12,
    "start_time": "2021-11-18T11:14:33.009Z"
   },
   {
    "duration": 10,
    "start_time": "2021-11-18T11:14:33.023Z"
   },
   {
    "duration": 28,
    "start_time": "2021-11-18T11:14:33.035Z"
   },
   {
    "duration": 4,
    "start_time": "2021-11-18T11:14:33.065Z"
   },
   {
    "duration": 16,
    "start_time": "2021-11-18T11:14:33.071Z"
   },
   {
    "duration": 18,
    "start_time": "2021-11-18T11:14:33.089Z"
   },
   {
    "duration": 22,
    "start_time": "2021-11-18T11:14:33.108Z"
   },
   {
    "duration": 25,
    "start_time": "2021-11-18T11:14:33.132Z"
   },
   {
    "duration": 13,
    "start_time": "2021-11-18T11:14:33.161Z"
   },
   {
    "duration": 9,
    "start_time": "2021-11-18T11:14:33.176Z"
   },
   {
    "duration": 31,
    "start_time": "2021-11-18T11:14:33.187Z"
   },
   {
    "duration": 27,
    "start_time": "2021-11-18T11:14:33.220Z"
   },
   {
    "duration": 8,
    "start_time": "2021-11-18T11:14:33.249Z"
   },
   {
    "duration": 6,
    "start_time": "2021-11-18T11:14:33.258Z"
   },
   {
    "duration": 7,
    "start_time": "2021-11-18T11:14:33.266Z"
   },
   {
    "duration": 10,
    "start_time": "2021-11-18T11:14:33.275Z"
   },
   {
    "duration": 9,
    "start_time": "2021-11-18T11:14:33.286Z"
   },
   {
    "duration": 14,
    "start_time": "2021-11-18T11:14:33.297Z"
   },
   {
    "duration": 15,
    "start_time": "2021-11-18T11:14:33.312Z"
   },
   {
    "duration": 22,
    "start_time": "2021-11-18T11:14:33.329Z"
   },
   {
    "duration": 11,
    "start_time": "2021-11-18T11:14:33.352Z"
   },
   {
    "duration": 20,
    "start_time": "2021-11-18T11:14:33.365Z"
   },
   {
    "duration": 4,
    "start_time": "2021-11-18T11:14:33.387Z"
   },
   {
    "duration": 12,
    "start_time": "2021-11-18T11:14:33.393Z"
   },
   {
    "duration": 12,
    "start_time": "2021-11-18T11:14:33.407Z"
   },
   {
    "duration": 23,
    "start_time": "2021-11-18T11:14:33.421Z"
   },
   {
    "duration": 26,
    "start_time": "2021-11-18T11:14:33.447Z"
   },
   {
    "duration": 11,
    "start_time": "2021-11-18T11:14:33.475Z"
   },
   {
    "duration": 10,
    "start_time": "2021-11-18T11:14:33.487Z"
   },
   {
    "duration": 19,
    "start_time": "2021-11-18T11:14:33.499Z"
   },
   {
    "duration": 11,
    "start_time": "2021-11-18T11:14:33.520Z"
   },
   {
    "duration": 19,
    "start_time": "2021-11-18T11:14:33.533Z"
   },
   {
    "duration": 8,
    "start_time": "2021-11-18T11:14:33.554Z"
   },
   {
    "duration": 102,
    "start_time": "2021-11-18T11:14:33.563Z"
   },
   {
    "duration": 15,
    "start_time": "2021-11-18T11:14:33.667Z"
   },
   {
    "duration": 10,
    "start_time": "2021-11-18T11:14:33.684Z"
   },
   {
    "duration": 20,
    "start_time": "2021-11-18T11:14:33.696Z"
   },
   {
    "duration": 229,
    "start_time": "2021-11-18T11:14:33.717Z"
   },
   {
    "duration": 321,
    "start_time": "2021-11-18T11:14:33.948Z"
   },
   {
    "duration": 185,
    "start_time": "2021-11-18T11:14:34.271Z"
   },
   {
    "duration": 391,
    "start_time": "2021-11-18T11:14:34.458Z"
   },
   {
    "duration": 10,
    "start_time": "2021-11-18T11:14:34.851Z"
   },
   {
    "duration": 22,
    "start_time": "2021-11-18T11:14:34.863Z"
   },
   {
    "duration": 209,
    "start_time": "2021-11-18T11:14:34.887Z"
   },
   {
    "duration": 375,
    "start_time": "2021-11-18T11:14:35.098Z"
   },
   {
    "duration": 186,
    "start_time": "2021-11-18T11:14:35.476Z"
   },
   {
    "duration": 447,
    "start_time": "2021-11-18T11:14:35.664Z"
   },
   {
    "duration": 8,
    "start_time": "2021-11-18T11:14:36.113Z"
   },
   {
    "duration": 37,
    "start_time": "2021-11-18T11:14:36.123Z"
   },
   {
    "duration": 296,
    "start_time": "2021-11-18T11:14:36.162Z"
   },
   {
    "duration": 315,
    "start_time": "2021-11-18T11:14:36.460Z"
   },
   {
    "duration": 180,
    "start_time": "2021-11-18T11:14:36.777Z"
   },
   {
    "duration": 373,
    "start_time": "2021-11-18T11:14:36.959Z"
   },
   {
    "duration": 15,
    "start_time": "2021-11-18T11:14:37.333Z"
   },
   {
    "duration": 21,
    "start_time": "2021-11-18T11:14:37.350Z"
   },
   {
    "duration": 212,
    "start_time": "2021-11-18T11:14:37.373Z"
   },
   {
    "duration": 401,
    "start_time": "2021-11-18T11:14:37.587Z"
   },
   {
    "duration": 180,
    "start_time": "2021-11-18T11:14:37.990Z"
   },
   {
    "duration": 529,
    "start_time": "2021-11-18T11:14:38.172Z"
   },
   {
    "duration": 9,
    "start_time": "2021-11-18T11:14:38.703Z"
   },
   {
    "duration": 10,
    "start_time": "2021-11-18T11:14:38.714Z"
   },
   {
    "duration": 21,
    "start_time": "2021-11-18T11:14:38.726Z"
   },
   {
    "duration": 310,
    "start_time": "2021-11-18T11:14:38.754Z"
   },
   {
    "duration": 336,
    "start_time": "2021-11-18T11:14:39.067Z"
   },
   {
    "duration": 315,
    "start_time": "2021-11-18T11:14:39.405Z"
   },
   {
    "duration": 398,
    "start_time": "2021-11-18T11:14:39.721Z"
   },
   {
    "duration": 7,
    "start_time": "2021-11-18T11:14:40.121Z"
   },
   {
    "duration": 31,
    "start_time": "2021-11-18T11:14:40.130Z"
   },
   {
    "duration": 21,
    "start_time": "2021-11-18T11:14:40.163Z"
   },
   {
    "duration": 33,
    "start_time": "2021-11-18T11:14:40.186Z"
   },
   {
    "duration": 25,
    "start_time": "2021-11-18T11:14:40.221Z"
   },
   {
    "duration": 22,
    "start_time": "2021-11-18T11:14:40.247Z"
   },
   {
    "duration": 22,
    "start_time": "2021-11-18T11:14:40.271Z"
   },
   {
    "duration": 36,
    "start_time": "2021-11-18T11:14:40.295Z"
   },
   {
    "duration": 14,
    "start_time": "2021-11-18T11:14:40.333Z"
   },
   {
    "duration": 30,
    "start_time": "2021-11-18T11:14:40.349Z"
   },
   {
    "duration": 33,
    "start_time": "2021-11-18T11:14:40.380Z"
   },
   {
    "duration": 32,
    "start_time": "2021-11-18T11:14:40.415Z"
   },
   {
    "duration": 36,
    "start_time": "2021-11-18T11:14:40.448Z"
   },
   {
    "duration": 25,
    "start_time": "2021-11-18T11:14:40.486Z"
   },
   {
    "duration": 41,
    "start_time": "2021-11-18T11:14:40.512Z"
   },
   {
    "duration": 29,
    "start_time": "2021-11-18T11:14:40.554Z"
   },
   {
    "duration": 27,
    "start_time": "2021-11-18T11:14:40.584Z"
   },
   {
    "duration": 14,
    "start_time": "2021-11-18T11:14:40.613Z"
   },
   {
    "duration": 21,
    "start_time": "2021-11-18T11:14:40.629Z"
   },
   {
    "duration": 25,
    "start_time": "2021-11-18T11:14:40.652Z"
   },
   {
    "duration": 16,
    "start_time": "2021-11-18T11:14:40.679Z"
   },
   {
    "duration": 29,
    "start_time": "2021-11-18T11:14:40.697Z"
   },
   {
    "duration": 411,
    "start_time": "2021-11-18T11:14:40.728Z"
   },
   {
    "duration": 169,
    "start_time": "2021-11-18T11:14:41.141Z"
   },
   {
    "duration": 13,
    "start_time": "2021-11-18T11:14:41.312Z"
   },
   {
    "duration": 18,
    "start_time": "2021-11-18T11:14:41.327Z"
   },
   {
    "duration": 372,
    "start_time": "2021-11-18T11:14:41.347Z"
   },
   {
    "duration": 8,
    "start_time": "2021-11-18T11:14:41.721Z"
   },
   {
    "duration": 7,
    "start_time": "2021-11-18T11:14:41.744Z"
   },
   {
    "duration": 26,
    "start_time": "2021-11-18T11:14:41.752Z"
   },
   {
    "duration": 5,
    "start_time": "2021-11-18T11:14:41.780Z"
   },
   {
    "duration": 30,
    "start_time": "2021-11-18T11:14:41.787Z"
   },
   {
    "duration": 276,
    "start_time": "2021-11-18T11:14:41.819Z"
   },
   {
    "duration": 113,
    "start_time": "2021-11-18T11:14:42.096Z"
   },
   {
    "duration": 103,
    "start_time": "2021-11-18T11:41:30.356Z"
   },
   {
    "duration": 101,
    "start_time": "2021-11-18T11:42:04.505Z"
   },
   {
    "duration": 110,
    "start_time": "2021-11-18T11:42:39.734Z"
   },
   {
    "duration": 600,
    "start_time": "2021-11-18T11:44:28.124Z"
   },
   {
    "duration": 105,
    "start_time": "2021-11-18T11:45:04.144Z"
   },
   {
    "duration": 229,
    "start_time": "2021-11-18T11:46:34.345Z"
   },
   {
    "duration": 4443,
    "start_time": "2021-11-18T13:44:33.498Z"
   },
   {
    "duration": 1120,
    "start_time": "2021-11-18T13:44:37.943Z"
   },
   {
    "duration": 274,
    "start_time": "2021-11-18T13:44:39.065Z"
   },
   {
    "duration": 15,
    "start_time": "2021-11-18T13:44:39.341Z"
   },
   {
    "duration": 16,
    "start_time": "2021-11-18T13:44:39.357Z"
   },
   {
    "duration": 13,
    "start_time": "2021-11-18T13:44:39.375Z"
   },
   {
    "duration": 7,
    "start_time": "2021-11-18T13:44:39.390Z"
   },
   {
    "duration": 5,
    "start_time": "2021-11-18T13:44:39.400Z"
   },
   {
    "duration": 6,
    "start_time": "2021-11-18T13:44:39.407Z"
   },
   {
    "duration": 8,
    "start_time": "2021-11-18T13:44:39.414Z"
   },
   {
    "duration": 6,
    "start_time": "2021-11-18T13:44:39.424Z"
   },
   {
    "duration": 17,
    "start_time": "2021-11-18T13:44:39.445Z"
   },
   {
    "duration": 21,
    "start_time": "2021-11-18T13:44:39.464Z"
   },
   {
    "duration": 31,
    "start_time": "2021-11-18T13:44:39.487Z"
   },
   {
    "duration": 32,
    "start_time": "2021-11-18T13:44:39.520Z"
   },
   {
    "duration": 12,
    "start_time": "2021-11-18T13:44:39.554Z"
   },
   {
    "duration": 5,
    "start_time": "2021-11-18T13:44:39.567Z"
   },
   {
    "duration": 7,
    "start_time": "2021-11-18T13:44:39.574Z"
   },
   {
    "duration": 11,
    "start_time": "2021-11-18T13:44:39.583Z"
   },
   {
    "duration": 11,
    "start_time": "2021-11-18T13:44:39.596Z"
   },
   {
    "duration": 58,
    "start_time": "2021-11-18T13:44:39.609Z"
   },
   {
    "duration": 5,
    "start_time": "2021-11-18T13:44:39.669Z"
   },
   {
    "duration": 9,
    "start_time": "2021-11-18T13:44:39.679Z"
   },
   {
    "duration": 13,
    "start_time": "2021-11-18T13:44:39.691Z"
   },
   {
    "duration": 44,
    "start_time": "2021-11-18T13:44:39.706Z"
   },
   {
    "duration": 16,
    "start_time": "2021-11-18T13:44:39.752Z"
   },
   {
    "duration": 13,
    "start_time": "2021-11-18T13:44:39.770Z"
   },
   {
    "duration": 9,
    "start_time": "2021-11-18T13:44:39.785Z"
   },
   {
    "duration": 19,
    "start_time": "2021-11-18T13:44:39.797Z"
   },
   {
    "duration": 22,
    "start_time": "2021-11-18T13:44:39.845Z"
   },
   {
    "duration": 10,
    "start_time": "2021-11-18T13:44:39.870Z"
   },
   {
    "duration": 8,
    "start_time": "2021-11-18T13:44:39.882Z"
   },
   {
    "duration": 19,
    "start_time": "2021-11-18T13:44:39.892Z"
   },
   {
    "duration": 5,
    "start_time": "2021-11-18T13:44:39.914Z"
   },
   {
    "duration": 25,
    "start_time": "2021-11-18T13:44:39.921Z"
   },
   {
    "duration": 10,
    "start_time": "2021-11-18T13:44:39.947Z"
   },
   {
    "duration": 14,
    "start_time": "2021-11-18T13:44:39.958Z"
   },
   {
    "duration": 13,
    "start_time": "2021-11-18T13:44:39.974Z"
   },
   {
    "duration": 11,
    "start_time": "2021-11-18T13:44:39.989Z"
   },
   {
    "duration": 50,
    "start_time": "2021-11-18T13:44:40.002Z"
   },
   {
    "duration": 5,
    "start_time": "2021-11-18T13:44:40.054Z"
   },
   {
    "duration": 7,
    "start_time": "2021-11-18T13:44:40.061Z"
   },
   {
    "duration": 11,
    "start_time": "2021-11-18T13:44:40.070Z"
   },
   {
    "duration": 4,
    "start_time": "2021-11-18T13:44:40.083Z"
   },
   {
    "duration": 20,
    "start_time": "2021-11-18T13:44:40.089Z"
   },
   {
    "duration": 38,
    "start_time": "2021-11-18T13:44:40.112Z"
   },
   {
    "duration": 6,
    "start_time": "2021-11-18T13:44:40.152Z"
   },
   {
    "duration": 11,
    "start_time": "2021-11-18T13:44:40.160Z"
   },
   {
    "duration": 8,
    "start_time": "2021-11-18T13:44:40.172Z"
   },
   {
    "duration": 14,
    "start_time": "2021-11-18T13:44:40.182Z"
   },
   {
    "duration": 10,
    "start_time": "2021-11-18T13:44:40.198Z"
   },
   {
    "duration": 121,
    "start_time": "2021-11-18T13:44:40.210Z"
   },
   {
    "duration": 24,
    "start_time": "2021-11-18T13:44:40.332Z"
   },
   {
    "duration": 10,
    "start_time": "2021-11-18T13:44:40.358Z"
   },
   {
    "duration": 19,
    "start_time": "2021-11-18T13:44:40.370Z"
   },
   {
    "duration": 215,
    "start_time": "2021-11-18T13:44:40.391Z"
   },
   {
    "duration": 322,
    "start_time": "2021-11-18T13:44:40.608Z"
   },
   {
    "duration": 181,
    "start_time": "2021-11-18T13:44:40.932Z"
   },
   {
    "duration": 360,
    "start_time": "2021-11-18T13:44:41.115Z"
   },
   {
    "duration": 8,
    "start_time": "2021-11-18T13:44:41.477Z"
   },
   {
    "duration": 18,
    "start_time": "2021-11-18T13:44:41.486Z"
   },
   {
    "duration": 212,
    "start_time": "2021-11-18T13:44:41.505Z"
   },
   {
    "duration": 376,
    "start_time": "2021-11-18T13:44:41.718Z"
   },
   {
    "duration": 175,
    "start_time": "2021-11-18T13:44:42.095Z"
   },
   {
    "duration": 439,
    "start_time": "2021-11-18T13:44:42.272Z"
   },
   {
    "duration": 9,
    "start_time": "2021-11-18T13:44:42.713Z"
   },
   {
    "duration": 35,
    "start_time": "2021-11-18T13:44:42.724Z"
   },
   {
    "duration": 216,
    "start_time": "2021-11-18T13:44:42.766Z"
   },
   {
    "duration": 333,
    "start_time": "2021-11-18T13:44:42.985Z"
   },
   {
    "duration": 172,
    "start_time": "2021-11-18T13:44:43.320Z"
   },
   {
    "duration": 356,
    "start_time": "2021-11-18T13:44:43.494Z"
   },
   {
    "duration": 7,
    "start_time": "2021-11-18T13:44:43.851Z"
   },
   {
    "duration": 19,
    "start_time": "2021-11-18T13:44:43.860Z"
   },
   {
    "duration": 221,
    "start_time": "2021-11-18T13:44:43.881Z"
   },
   {
    "duration": 412,
    "start_time": "2021-11-18T13:44:44.104Z"
   },
   {
    "duration": 187,
    "start_time": "2021-11-18T13:44:44.518Z"
   },
   {
    "duration": 573,
    "start_time": "2021-11-18T13:44:44.707Z"
   },
   {
    "duration": 8,
    "start_time": "2021-11-18T13:44:45.282Z"
   },
   {
    "duration": 16,
    "start_time": "2021-11-18T13:44:45.292Z"
   },
   {
    "duration": 13,
    "start_time": "2021-11-18T13:44:45.309Z"
   },
   {
    "duration": 315,
    "start_time": "2021-11-18T13:44:45.324Z"
   },
   {
    "duration": 354,
    "start_time": "2021-11-18T13:44:45.645Z"
   },
   {
    "duration": 310,
    "start_time": "2021-11-18T13:44:46.001Z"
   },
   {
    "duration": 389,
    "start_time": "2021-11-18T13:44:46.313Z"
   },
   {
    "duration": 7,
    "start_time": "2021-11-18T13:44:46.704Z"
   },
   {
    "duration": 9,
    "start_time": "2021-11-18T13:44:46.713Z"
   },
   {
    "duration": 93,
    "start_time": "2021-11-18T13:44:46.724Z"
   },
   {
    "duration": 31,
    "start_time": "2021-11-18T13:44:46.819Z"
   },
   {
    "duration": 11,
    "start_time": "2021-11-18T13:44:46.852Z"
   },
   {
    "duration": 6,
    "start_time": "2021-11-18T13:44:46.865Z"
   },
   {
    "duration": 11,
    "start_time": "2021-11-18T13:44:46.872Z"
   },
   {
    "duration": 15,
    "start_time": "2021-11-18T13:44:46.884Z"
   },
   {
    "duration": 12,
    "start_time": "2021-11-18T13:44:46.901Z"
   },
   {
    "duration": 11,
    "start_time": "2021-11-18T13:44:46.915Z"
   },
   {
    "duration": 17,
    "start_time": "2021-11-18T13:44:46.928Z"
   },
   {
    "duration": 9,
    "start_time": "2021-11-18T13:44:46.946Z"
   },
   {
    "duration": 11,
    "start_time": "2021-11-18T13:44:46.957Z"
   },
   {
    "duration": 6,
    "start_time": "2021-11-18T13:44:46.970Z"
   },
   {
    "duration": 8,
    "start_time": "2021-11-18T13:44:46.978Z"
   },
   {
    "duration": 10,
    "start_time": "2021-11-18T13:44:46.988Z"
   },
   {
    "duration": 12,
    "start_time": "2021-11-18T13:44:47.000Z"
   },
   {
    "duration": 15,
    "start_time": "2021-11-18T13:44:47.014Z"
   },
   {
    "duration": 15,
    "start_time": "2021-11-18T13:44:47.031Z"
   },
   {
    "duration": 17,
    "start_time": "2021-11-18T13:44:47.048Z"
   },
   {
    "duration": 17,
    "start_time": "2021-11-18T13:44:47.067Z"
   },
   {
    "duration": 22,
    "start_time": "2021-11-18T13:44:47.086Z"
   },
   {
    "duration": 346,
    "start_time": "2021-11-18T13:44:47.110Z"
   },
   {
    "duration": 186,
    "start_time": "2021-11-18T13:44:47.458Z"
   },
   {
    "duration": 12,
    "start_time": "2021-11-18T13:44:47.647Z"
   },
   {
    "duration": 11,
    "start_time": "2021-11-18T13:44:47.661Z"
   },
   {
    "duration": 381,
    "start_time": "2021-11-18T13:44:47.673Z"
   },
   {
    "duration": 8,
    "start_time": "2021-11-18T13:44:48.057Z"
   },
   {
    "duration": 12,
    "start_time": "2021-11-18T13:44:48.067Z"
   },
   {
    "duration": 23,
    "start_time": "2021-11-18T13:44:48.081Z"
   },
   {
    "duration": 7,
    "start_time": "2021-11-18T13:44:48.106Z"
   },
   {
    "duration": 34,
    "start_time": "2021-11-18T13:44:48.116Z"
   },
   {
    "duration": 415,
    "start_time": "2021-11-18T13:44:48.152Z"
   },
   {
    "duration": 163,
    "start_time": "2021-11-18T13:44:48.570Z"
   }
  ],
  "kernelspec": {
   "display_name": "Python 3",
   "language": "python",
   "name": "python3"
  },
  "language_info": {
   "codemirror_mode": {
    "name": "ipython",
    "version": 3
   },
   "file_extension": ".py",
   "mimetype": "text/x-python",
   "name": "python",
   "nbconvert_exporter": "python",
   "pygments_lexer": "ipython3",
   "version": "3.7.8"
  },
  "toc": {
   "base_numbering": 1,
   "nav_menu": {},
   "number_sections": true,
   "sideBar": true,
   "skip_h1_title": true,
   "title_cell": "Table of Contents",
   "title_sidebar": "Contents",
   "toc_cell": false,
   "toc_position": {},
   "toc_section_display": true,
   "toc_window_display": false
  }
 },
 "nbformat": 4,
 "nbformat_minor": 2
}
